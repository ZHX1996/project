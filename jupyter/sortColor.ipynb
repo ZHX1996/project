{
 "cells": [
  {
   "cell_type": "code",
   "execution_count": 6,
   "metadata": {},
   "outputs": [
    {
     "name": "stdout",
     "output_type": "stream",
     "text": [
      "[0, 1, 1, 0, 2, 2]\n"
     ]
    }
   ],
   "source": [
    "# 不懂\n",
    "def sortColors(nums):\n",
    "    i = j = 0\n",
    "    for k in range(len(nums)-1):\n",
    "        v = nums[k]\n",
    "        nums[k] = 2\n",
    "        if v < 2:\n",
    "            nums[j] = 1\n",
    "            j += 1\n",
    "        if v == 0:\n",
    "            nums[i] = 0\n",
    "            i += 1\n",
    "            \n",
    "def sort1(nums):\n",
    "    i = j = k = -1\n",
    "    for l in range(len(nums)):\n",
    "        if nums[l] == 0:\n",
    "            i+=1\n",
    "            j+=1\n",
    "            k+=1\n",
    "            nums[k]=2\n",
    "            nums[j]=1\n",
    "            nums[i]=0\n",
    "        elif nums[l] == 1:\n",
    "            j+=1\n",
    "            k+=1\n",
    "            nums[k]=2\n",
    "            nums[j]=1\n",
    "        else:\n",
    "            k+=1\n",
    "            nums[k]=2\n",
    "            \n",
    "    \n",
    "if __name__ == '__main__':\n",
    "    nums = [0,1,2,0,1,2]\n",
    "    #sortColors(nums)\n",
    "    sort1(nums)\n",
    "    print(nums)"
   ]
  },
  {
   "cell_type": "code",
   "execution_count": null,
   "metadata": {},
   "outputs": [],
   "source": []
  }
 ],
 "metadata": {
  "kernelspec": {
   "display_name": "Python 3",
   "language": "python",
   "name": "python3"
  },
  "language_info": {
   "codemirror_mode": {
    "name": "ipython",
    "version": 3
   },
   "file_extension": ".py",
   "mimetype": "text/x-python",
   "name": "python",
   "nbconvert_exporter": "python",
   "pygments_lexer": "ipython3",
   "version": "3.5.2"
  }
 },
 "nbformat": 4,
 "nbformat_minor": 2
}
