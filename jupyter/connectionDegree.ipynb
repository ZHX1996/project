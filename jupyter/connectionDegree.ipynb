{
 "cells": [
  {
   "cell_type": "code",
   "execution_count": 2,
   "metadata": {},
   "outputs": [
    {
     "name": "stdout",
     "output_type": "stream",
     "text": [
      "[23.7, 23.2, 24.5, 25.1, 26.3, 27.7, 29.1, 29.0, 29.4, 29.8]\n"
     ]
    }
   ],
   "source": [
    "import numpy as np\n",
    "from matplotlib import pyplot as plt\n",
    "import pandas as pd\n",
    "\n",
    "origindata = pd.Series([29,28.6,26.5,24.8,24.9,25.5,26,25.8,25.6,24.9,25,24.8,24.8,24.3,24,23.9,24.2,\n",
    "                        24.9,26.7,28.3,29.1,29.1,29.7,30.3,30.7,30.7,     29.8,29.3,28.9,27.8,27.1,27.1,\n",
    "                        26.7,26.1,26,25.9,25.8,25.6,24.9,24.6,24.6,25.6,26.8,27.6,28.6,28.6,29.9,30.4,\n",
    "                        30.6,30.4   \n",
    "                    ])\n",
    "origindata = origindata[:24]\n",
    "np.random.seed(1231)\n",
    "noise1 = np.random.randn(24)\n",
    "data1 = origindata+noise1\n",
    "np.random.seed(1232)\n",
    "noise2 = np.random.randn(24)\n",
    "data2 = origindata+noise2\n",
    "np.random.seed(1233)\n",
    "noise3 = np.random.randn(24)\n",
    "data3 = origindata+noise3\n",
    "np.random.seed(1234)\n",
    "noise4 = np.random.randn(24)\n",
    "data4 = origindata+noise4\n",
    "\n",
    "var1,var2,var3,var4 = data1,data2,data3,data4\n",
    "res = []\n",
    "for i in range(10):\n",
    "    var = round((var1[i+14]+var2[i+14]+var3[i+14]+var4[i+14])/4,1)\n",
    "    res.append(var)\n",
    "print(res)\n",
    "    "
   ]
  },
  {
   "cell_type": "code",
   "execution_count": null,
   "metadata": {},
   "outputs": [],
   "source": []
  }
 ],
 "metadata": {
  "kernelspec": {
   "display_name": "Python 3",
   "language": "python",
   "name": "python3"
  },
  "language_info": {
   "codemirror_mode": {
    "name": "ipython",
    "version": 3
   },
   "file_extension": ".py",
   "mimetype": "text/x-python",
   "name": "python",
   "nbconvert_exporter": "python",
   "pygments_lexer": "ipython3",
   "version": "3.5.0"
  }
 },
 "nbformat": 4,
 "nbformat_minor": 2
}
