{
 "cells": [
  {
   "cell_type": "code",
   "execution_count": 38,
   "metadata": {},
   "outputs": [
    {
     "name": "stdout",
     "output_type": "stream",
     "text": [
      "[1, 2, 3, 4, 5]\n"
     ]
    }
   ],
   "source": [
    "class ListNode:\n",
    "    def __init__(self, x):\n",
    "        self.val = x\n",
    "        self.next = None\n",
    "        \n",
    "    def __repr__(self):\n",
    "        return '%d' % self.val\n",
    "\n",
    "            \n",
    "        \n",
    "class Solution:\n",
    "    def remove(self, head):\n",
    "        dummy = pre = ListNode(0)\n",
    "        dummy.next = head\n",
    "        while head and head.next:\n",
    "            if head.val == head.next.val:\n",
    "                while head and head.next and head.val == head.next.val:\n",
    "                    head = head.next\n",
    "                head = head.next\n",
    "                pre.next = head\n",
    "            else:\n",
    "                pre = pre.next\n",
    "                head = head.next\n",
    "           \n",
    "        ret = []\n",
    "        while dummy.next:\n",
    "#             print(dummy.next)\n",
    "#             dummy.next = dummy.next.next    \n",
    "            ret.append(dummy.next)\n",
    "            dummy.next = dummy.next.next\n",
    "        return ret\n",
    "    \n",
    "if __name__ == '__main__':\n",
    "    idx = ListNode(1)\n",
    "    n = idx\n",
    "    n.next = ListNode(2)\n",
    "    n = n.next\n",
    "    n.next = ListNode(3)\n",
    "    n = n.next\n",
    "    n.next = ListNode(3)\n",
    "    n = n.next\n",
    "    n.next = ListNode(4)\n",
    "    n = n.next\n",
    "    n.next = ListNode(5)\n",
    "    a = Solution()\n",
    "    print(a.remove(idx))"
   ]
  },
  {
   "cell_type": "code",
   "execution_count": null,
   "metadata": {},
   "outputs": [],
   "source": []
  }
 ],
 "metadata": {
  "kernelspec": {
   "display_name": "Python 3",
   "language": "python",
   "name": "python3"
  },
  "language_info": {
   "codemirror_mode": {
    "name": "ipython",
    "version": 3
   },
   "file_extension": ".py",
   "mimetype": "text/x-python",
   "name": "python",
   "nbconvert_exporter": "python",
   "pygments_lexer": "ipython3",
   "version": "3.5.2"
  }
 },
 "nbformat": 4,
 "nbformat_minor": 2
}
