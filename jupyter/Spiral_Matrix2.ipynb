{
 "cells": [
  {
   "cell_type": "code",
   "execution_count": 8,
   "metadata": {},
   "outputs": [
    {
     "name": "stdout",
     "output_type": "stream",
     "text": [
      "[[1, 2, 3], [8, 9, 4], [7, 6, 5]]\n"
     ]
    }
   ],
   "source": [
    "def spiral(n):\n",
    "    A = [[0]*n for _ in range(n)]\n",
    "    i, j, di, dj = 0,0,0,1\n",
    "    for k in range(n*n):\n",
    "        A[i][j] = k + 1\n",
    "        if A[(i+di)%n][(j+dj)%n]:\n",
    "            di, dj = dj, -di\n",
    "        i += di\n",
    "        j += dj\n",
    "    return A\n",
    "\n",
    "if __name__ == '__main__':\n",
    "    print(spiral(3))"
   ]
  },
  {
   "cell_type": "code",
   "execution_count": null,
   "metadata": {},
   "outputs": [],
   "source": []
  }
 ],
 "metadata": {
  "kernelspec": {
   "display_name": "Python 3",
   "language": "python",
   "name": "python3"
  },
  "language_info": {
   "codemirror_mode": {
    "name": "ipython",
    "version": 3
   },
   "file_extension": ".py",
   "mimetype": "text/x-python",
   "name": "python",
   "nbconvert_exporter": "python",
   "pygments_lexer": "ipython3",
   "version": "3.5.2"
  }
 },
 "nbformat": 4,
 "nbformat_minor": 2
}
