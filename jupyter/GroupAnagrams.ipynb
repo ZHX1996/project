{
 "cells": [
  {
   "cell_type": "code",
   "execution_count": 9,
   "metadata": {},
   "outputs": [
    {
     "name": "stdout",
     "output_type": "stream",
     "text": [
      "dict_values([['are', 'ear', 'era'], ['code'], ['bat', 'tab']])\n",
      "dict_values([['are', 'ear', 'era'], ['bat', 'tab'], ['code']])\n"
     ]
    }
   ],
   "source": [
    "import collections\n",
    "\n",
    "def Anagrams(l):\n",
    "    ret = collections.defaultdict(list)\n",
    "    for i in l:\n",
    "        ret[tuple(sorted(i))].append(i)\n",
    "    return ret.values()\n",
    "\n",
    "def Anagrams02(l):\n",
    "    ans = collections.defaultdict(list)\n",
    "    for s in l:\n",
    "        count = [0]*26\n",
    "        for c in s:\n",
    "            count[ord(c)-ord('a')] += 1\n",
    "        ans[tuple(count)].append(s)\n",
    "    return ans.values()\n",
    "\n",
    "if __name__ == '__main__':\n",
    "    l = ['are', 'bat', 'ear', 'code', 'tab', 'era']\n",
    "    print(Anagrams(l))\n",
    "    print(Anagrams02(l))"
   ]
  },
  {
   "cell_type": "code",
   "execution_count": null,
   "metadata": {},
   "outputs": [],
   "source": []
  }
 ],
 "metadata": {
  "kernelspec": {
   "display_name": "Python 3",
   "language": "python",
   "name": "python3"
  },
  "language_info": {
   "codemirror_mode": {
    "name": "ipython",
    "version": 3
   },
   "file_extension": ".py",
   "mimetype": "text/x-python",
   "name": "python",
   "nbconvert_exporter": "python",
   "pygments_lexer": "ipython3",
   "version": "3.5.2"
  }
 },
 "nbformat": 4,
 "nbformat_minor": 2
}
