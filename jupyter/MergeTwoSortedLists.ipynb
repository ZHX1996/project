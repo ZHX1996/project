{
 "cells": [
  {
   "cell_type": "code",
   "execution_count": 16,
   "metadata": {},
   "outputs": [
    {
     "name": "stdout",
     "output_type": "stream",
     "text": [
      "[1, 2, 3, 6, 7, 9, 9, 10]\n"
     ]
    }
   ],
   "source": [
    "def merge(l1, l2):\n",
    "#         dummy = cur = ListNode(0)\n",
    "#         while l1 and l2:\n",
    "#             if l1.val < l2.val:\n",
    "#                 cur.next = l1\n",
    "#                 l1 = l1.next\n",
    "#             else:\n",
    "#                 cur.next = l2\n",
    "#                 l2 = l2.next\n",
    "#             cur = cur.next\n",
    "#         cur.next = l1 or l2\n",
    "#         return dummy.next\n",
    "    l1.extend(l2)\n",
    "    l1.sort()\n",
    "    return (l1)\n",
    "        \n",
    "if __name__ == '__main__':\n",
    "    l1 = [1, 3, 7, 9]\n",
    "    l2 = [2, 6, 9, 10]\n",
    "    print(merge(l1, l2))"
   ]
  },
  {
   "cell_type": "code",
   "execution_count": null,
   "metadata": {},
   "outputs": [],
   "source": []
  }
 ],
 "metadata": {
  "kernelspec": {
   "display_name": "Python 3",
   "language": "python",
   "name": "python3"
  },
  "language_info": {
   "codemirror_mode": {
    "name": "ipython",
    "version": 3
   },
   "file_extension": ".py",
   "mimetype": "text/x-python",
   "name": "python",
   "nbconvert_exporter": "python",
   "pygments_lexer": "ipython3",
   "version": "3.5.2"
  }
 },
 "nbformat": 4,
 "nbformat_minor": 2
}
