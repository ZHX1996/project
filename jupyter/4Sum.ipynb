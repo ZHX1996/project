{
 "cells": [
  {
   "cell_type": "code",
   "execution_count": 3,
   "metadata": {},
   "outputs": [
    {
     "name": "stdout",
     "output_type": "stream",
     "text": [
      "[[-2, 0, 1, 2], [-1, 0, 0, 2]]\n"
     ]
    }
   ],
   "source": [
    "def FourSum(nums, target):\n",
    "    def findNsum(nums, target, N, result, results):\n",
    "        if len(nums)<N or N<2 or target<nums[0]*N or target>nums[-1]*N:\n",
    "            return\n",
    "        if N==2:\n",
    "            l, r = 0, len(nums)-1\n",
    "            while l < r:\n",
    "                s = nums[l] + nums[r]\n",
    "                if s == target:\n",
    "                    results.append(result + [nums[l], nums[r]])\n",
    "                    l+=1\n",
    "                    while l < r and nums[l]==nums[l-1]:\n",
    "                        l+=1\n",
    "                elif s < target:\n",
    "                    l+=1\n",
    "                else:\n",
    "                    r-=1\n",
    "        else:\n",
    "            for i in range(len(nums)-N+1):\n",
    "                if i==0 or (i>0 and nums[i-1] != nums[i]):\n",
    "                    findNsum(nums[i+1:], target-nums[i], N-1, result+[nums[i]], results)\n",
    "    \n",
    "    results=[]\n",
    "    findNsum(sorted(nums), target, 4, [], results)\n",
    "    return results\n",
    "\n",
    "if __name__ == '__main__':\n",
    "    nums = [1, 0, -1, 0, -2, 2]\n",
    "    target = 1\n",
    "    print(FourSum(nums, target))"
   ]
  },
  {
   "cell_type": "code",
   "execution_count": null,
   "metadata": {},
   "outputs": [],
   "source": []
  }
 ],
 "metadata": {
  "kernelspec": {
   "display_name": "Python 3",
   "language": "python",
   "name": "python3"
  },
  "language_info": {
   "codemirror_mode": {
    "name": "ipython",
    "version": 3
   },
   "file_extension": ".py",
   "mimetype": "text/x-python",
   "name": "python",
   "nbconvert_exporter": "python",
   "pygments_lexer": "ipython3",
   "version": "3.5.2"
  }
 },
 "nbformat": 4,
 "nbformat_minor": 2
}
