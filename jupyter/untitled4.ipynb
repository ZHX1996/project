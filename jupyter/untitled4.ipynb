{
 "cells": [
  {
   "cell_type": "code",
   "execution_count": 2,
   "metadata": {},
   "outputs": [
    {
     "name": "stdout",
     "output_type": "stream",
     "text": [
      "3\n"
     ]
    }
   ],
   "source": [
    "S = 'ababcb'\n",
    "T = 'xyx'\n",
    "n = len(T)\n",
    "count = 0\n",
    "\n",
    "def isequal(s, t):\n",
    "    dic = {}\n",
    "    flag = True\n",
    "    for i in range(len(t)):\n",
    "        if s[i] in dic.keys():\n",
    "            if dic[s[i]] == t[i]:\n",
    "                continue\n",
    "            else:\n",
    "                flag = False\n",
    "                break\n",
    "        elif t[i] in dic.values():\n",
    "            flag = False\n",
    "            break\n",
    "        else:\n",
    "            dic[s[i]] = t[i]\n",
    "    return flag\n",
    "\n",
    "for i in range(len(S)-n+1):\n",
    "    if isequal(S[i:i+n], T):\n",
    "        count += 1\n",
    "print(count)"
   ]
  },
  {
   "cell_type": "code",
   "execution_count": 12,
   "metadata": {},
   "outputs": [
    {
     "name": "stdout",
     "output_type": "stream",
     "text": [
      "1\n",
      "2\n",
      "3\n",
      "8\n",
      "7\n",
      "10\n",
      "11\n",
      "16\n",
      "15\n"
     ]
    }
   ],
   "source": [
    "s = [[1,2,3,4],\n",
    "    [5,6,7,8],\n",
    "    [9,10,11,12],\n",
    "    [13,14,15,16]]\n",
    "j = 0\n",
    "i = 0\n",
    "while i<len(s):\n",
    "    while j<len(s[1]):\n",
    "        print(s[i][j])\n",
    "        j += 1\n",
    "    i += 1\n",
    "    while j>1:\n",
    "        print(s[i][j])\n",
    "        j -= 1\n",
    "    i += 1\n",
    "\n",
    "        \n",
    "    "
   ]
  },
  {
   "cell_type": "code",
   "execution_count": null,
   "metadata": {},
   "outputs": [],
   "source": []
  }
 ],
 "metadata": {
  "kernelspec": {
   "display_name": "Python 3",
   "language": "python",
   "name": "python3"
  },
  "language_info": {
   "codemirror_mode": {
    "name": "ipython",
    "version": 3
   },
   "file_extension": ".py",
   "mimetype": "text/x-python",
   "name": "python",
   "nbconvert_exporter": "python",
   "pygments_lexer": "ipython3",
   "version": "3.5.2"
  }
 },
 "nbformat": 4,
 "nbformat_minor": 2
}
