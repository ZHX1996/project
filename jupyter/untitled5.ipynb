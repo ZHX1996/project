{
 "cells": [
  {
   "cell_type": "code",
   "execution_count": null,
   "metadata": {},
   "outputs": [],
   "source": [
    "def jump(nums):\n",
    "    start,end,step=0,0,0\n",
    "    while end<len(nums)-1:\n",
    "        step+=1\n",
    "        maxend = end+1\n",
    "        for i in range(start, end+1):\n",
    "            if i+nums[i] > len(nums)-1:\n",
    "                return step\n",
    "            maxend = max(maxend, i+nums[i])\n",
    "        start,end = end+1, maxend\n",
    "    return step"
   ]
  },
  {
   "cell_type": "code",
   "execution_count": null,
   "metadata": {},
   "outputs": [],
   "source": [
    "import sys\n",
    "str_in = sys.stdin.readline()\n",
    "str_in = list(str_in.strip(\"\\n\"))\n",
    "uni = set(str_in)\n",
    "count_dict = {}\n",
    "for i in nui:\n",
    "    count_dict[i] = str_in.count(i)\n",
    "sort_key = sorted(count_dict.keys())\n",
    "str_out = []\n",
    "while len(str_out) < len(str_in):\n",
    "    for key in sort_key:\n",
    "        if count_dict[key] > 0:\n",
    "            str_out.append(key)\n",
    "            count_dict[key] -= 1\n",
    "out = \"\".join(str_out)\n",
    "print(out)"
   ]
  },
  {
   "cell_type": "code",
   "execution_count": 4,
   "metadata": {},
   "outputs": [
    {
     "name": "stdout",
     "output_type": "stream",
     "text": [
      "[[1, 2, 3], [1, 3, 2], [2, 1, 3], [2, 3, 1], [3, 1, 2], [3, 2, 1]]\n"
     ]
    }
   ],
   "source": [
    "def permute(nums):\n",
    "    return [[n]+p for i,n in enumerate(nums) for p in permute(nums[:i]+nums[i+1:])] or [[]]\n",
    "\n",
    "if __name__=='__main__':\n",
    "    print(permute([1,2,3]))"
   ]
  },
  {
   "cell_type": "code",
   "execution_count": 2,
   "metadata": {},
   "outputs": [
    {
     "name": "stdout",
     "output_type": "stream",
     "text": [
      "3\n"
     ]
    }
   ],
   "source": [
    "def changecoin(nums, count):\n",
    "    dp = [0] + [float('INF')]*count\n",
    "    for i in range(count+1):\n",
    "        for num in nums:\n",
    "            if i+num <= count:\n",
    "                dp[i+num] = min(dp[i+num], dp[i]+1)\n",
    "    return dp[count] if dp[count] !=float('INF') else -1\n",
    "\n",
    "if __name__ == '__main__':\n",
    "    nums = [1,2,5]\n",
    "    count = 11\n",
    "    print(changecoin(nums,11))"
   ]
  },
  {
   "cell_type": "code",
   "execution_count": 8,
   "metadata": {},
   "outputs": [
    {
     "name": "stdout",
     "output_type": "stream",
     "text": [
      "2\n"
     ]
    }
   ],
   "source": [
    "nums = [1,2,2,3,2,2,4,2,2,5,2,2,5,2,2,3,6,7,8]\n",
    "cur, flag = nums[0],1\n",
    "for i in nums[1:]:\n",
    "    if i == cur:\n",
    "        flag += 1\n",
    "    else:\n",
    "        flag -= 1\n",
    "    if flag == 0:\n",
    "        cur, flag = i, 1\n",
    "num = 0\n",
    "if flag >= 1:\n",
    "    for i in nums:\n",
    "        if i == cur:\n",
    "            num += 1\n",
    "    if num >= len(nums)//2:\n",
    "        print(cur)\n",
    "    else:\n",
    "        print(0)"
   ]
  },
  {
   "cell_type": "code",
   "execution_count": 13,
   "metadata": {},
   "outputs": [
    {
     "name": "stdout",
     "output_type": "stream",
     "text": [
      "3\n",
      "6\n"
     ]
    }
   ],
   "source": [
    "def findmin(nums):\n",
    "    lo = 0\n",
    "    hi = len(nums)-1\n",
    "    while lo<hi:\n",
    "        mid = (lo+hi)//2\n",
    "        if nums[mid]>nums[hi]:\n",
    "            lo = mid + 1\n",
    "        else:\n",
    "            hi = mid\n",
    "    return lo\n",
    "\n",
    "def findKmin(nums, k):\n",
    "    index = findmin(nums)\n",
    "    return nums[(k+index)%len(nums)]\n",
    "\n",
    "if __name__ == '__main__':\n",
    "    nums = [5,6,7,1,2,3]\n",
    "    print(findmin(nums))\n",
    "    print(findKmin(nums, 4))"
   ]
  },
  {
   "cell_type": "code",
   "execution_count": 22,
   "metadata": {},
   "outputs": [
    {
     "name": "stdout",
     "output_type": "stream",
     "text": [
      "7\n"
     ]
    }
   ],
   "source": [
    "def find(s1,m,s2,n,k):\n",
    "    i = int(m/(m+n)*(k-1))\n",
    "    j = k-1-i\n",
    "    if (j<=0 or s2[j-1]<s1[i]) and (j>=n or s2[j]>s1[i]):\n",
    "        return s1[i]\n",
    "    if (i<=0 or s1[i-1]<s2[j]) and (i>=m or s1[i]>s2[j]):\n",
    "        return s2[j]\n",
    "    if (j>0 and s1[i] < s2[j-1]):\n",
    "        return find(s1[i+1:], m-i-1, s2, n, k-i-1)\n",
    "    else:\n",
    "        return find(s1,m,s2[j+1:], n-j-1, k-j-1)\n",
    "\n",
    "if __name__ == \"__main__\":\n",
    "    s1 = [1,3,5,7,9]\n",
    "    s2 = [2,4,6,8,10,12,13]\n",
    "    k = 7\n",
    "    print(find(s1,5,s2,7,k))"
   ]
  },
  {
   "cell_type": "code",
   "execution_count": 27,
   "metadata": {},
   "outputs": [
    {
     "name": "stdout",
     "output_type": "stream",
     "text": [
      "[(1, 2), (1, 3), (1, 4), (1, 5), (2, 3), (2, 4), (2, 5), (3, 4), (3, 5), (4, 5)]\n",
      "[[1, 2], [1, 3], [2, 3], [1, 4], [2, 4], [3, 4], [1, 5], [2, 5], [3, 5], [4, 5]]\n",
      "[[1, 2], [1, 3], [1, 4], [2, 3], [2, 4], [3, 4]]\n"
     ]
    }
   ],
   "source": [
    "import itertools\n",
    "def combine(n, k):\n",
    "    return list(itertools.combinations(range(1,n+1), k))\n",
    "\n",
    "# accepted\n",
    "def combine1(n, k):\n",
    "    if k == 0:\n",
    "        return [[]]\n",
    "    return [pre + [i] for i in range(k, n+1) for pre in combine1(i-1, k-1)]\n",
    "    \n",
    "def combine2(n, k):\n",
    "    ans = []\n",
    "    stack = []\n",
    "    x = 1\n",
    "    while True:\n",
    "        l = len(stack)\n",
    "        if l == k:\n",
    "            ans.append(stack[:])\n",
    "        if l == k or x > n - k  + 1:\n",
    "            if not stack:\n",
    "                return ans\n",
    "            x = stack.pop() + 1\n",
    "        else:\n",
    "            stack.append(x)\n",
    "            x += 1\n",
    "    \n",
    "if __name__ == '__main__':\n",
    "    n = 5\n",
    "    k = 2\n",
    "    print(combine(n, k))\n",
    "    print(combine1(n, k))\n",
    "    print(combine2(n, k))"
   ]
  },
  {
   "cell_type": "code",
   "execution_count": 34,
   "metadata": {},
   "outputs": [
    {
     "name": "stdout",
     "output_type": "stream",
     "text": [
      "4\n",
      "3\n",
      "2\n",
      "1\n",
      "True\n",
      "2\n"
     ]
    }
   ],
   "source": [
    "def jump(nums):\n",
    "    n, index = len(nums), len(nums)-1\n",
    "    for i in range(index-1, -1, -1):\n",
    "        if i + nums[i] >= index:\n",
    "            print(index)\n",
    "            index = i\n",
    "    return index<=0\n",
    "\n",
    "# 需要几步\n",
    "def jump2(nums):\n",
    "    ret = 0\n",
    "    last = 0\n",
    "    curr = 0\n",
    "    for i in range(len(nums)):\n",
    "        if i > last:\n",
    "            last = curr\n",
    "            ret += 1\n",
    "        curr = max(curr, i+nums[i])\n",
    "    return ret\n",
    "\n",
    "if __name__ == '__main__':\n",
    "    s1 = [2,3,1,1,4]\n",
    "    s = [3,2,1,0,4]\n",
    "    print(jump(s1))\n",
    "    print(jump2(s1))"
   ]
  },
  {
   "cell_type": "code",
   "execution_count": null,
   "metadata": {},
   "outputs": [],
   "source": [
    "def jump(nums):\n",
    "    index,n = len(nums)-1, len(nums)\n",
    "    for i in range(index-1, -1, -1):\n",
    "        if nums[i]+i>=index:\n",
    "            index = i\n",
    "    return index<=0\n",
    "\n",
    "def jumpto(nums):\n",
    "    ret,cur,last = 0,0,0\n",
    "    for i in range(len(nums)):\n",
    "        if i>last:\n",
    "            last = cur\n",
    "            ret+=1\n",
    "        cur = max(cur, i+nums[i])"
   ]
  },
  {
   "cell_type": "code",
   "execution_count": null,
   "metadata": {},
   "outputs": [],
   "source": []
  }
 ],
 "metadata": {
  "kernelspec": {
   "display_name": "Python 3",
   "language": "python",
   "name": "python3"
  },
  "language_info": {
   "codemirror_mode": {
    "name": "ipython",
    "version": 3
   },
   "file_extension": ".py",
   "mimetype": "text/x-python",
   "name": "python",
   "nbconvert_exporter": "python",
   "pygments_lexer": "ipython3",
   "version": "3.5.2"
  }
 },
 "nbformat": 4,
 "nbformat_minor": 2
}
