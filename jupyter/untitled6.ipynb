{
 "cells": [
  {
   "cell_type": "code",
   "execution_count": 47,
   "metadata": {},
   "outputs": [
    {
     "name": "stdout",
     "output_type": "stream",
     "text": [
      "[('a', 2), ('b', 2), ('c', 1), ('d', 1), ('f', 1)]\n"
     ]
    }
   ],
   "source": [
    "s = 'abcfdab'\n",
    "dic = {}\n",
    "for i in s:\n",
    "    if i not in dic:\n",
    "        dic[i] = 1\n",
    "    else:\n",
    "        dic[i] += 1\n",
    "l = []\n",
    "for k,v in dic.items():\n",
    "    l.append((k, v))\n",
    "l.sort()\n",
    "print(l)"
   ]
  },
  {
   "cell_type": "code",
   "execution_count": 23,
   "metadata": {},
   "outputs": [
    {
     "name": "stdout",
     "output_type": "stream",
     "text": [
      "1230\n"
     ]
    }
   ],
   "source": [
    "s = '1230'\n",
    "num = 0\n",
    "k = len(s)\n",
    "for i in s:\n",
    "    if 48<=ord(i)<=57:\n",
    "        num += (ord(i)-ord('0'))*(10**(k-1))\n",
    "        k -= 1\n",
    "print(num)"
   ]
  },
  {
   "cell_type": "code",
   "execution_count": 40,
   "metadata": {},
   "outputs": [
    {
     "name": "stdout",
     "output_type": "stream",
     "text": [
      "6\n"
     ]
    }
   ],
   "source": [
    "s = [1,2,6,1,2]\n",
    "k = s[0]\n",
    "for i in s[1:]:\n",
    "    k ^= i\n",
    "print(k)"
   ]
  },
  {
   "cell_type": "code",
   "execution_count": 60,
   "metadata": {},
   "outputs": [
    {
     "name": "stdout",
     "output_type": "stream",
     "text": [
      "8\n",
      "8\n"
     ]
    }
   ],
   "source": [
    "# https://blog.csdn.net/ojshilu/article/details/14762791\n",
    "def solution1(s):\n",
    "    result = 0\n",
    "    for i in range(32):\n",
    "        sum = 0\n",
    "        for j in range(len(s)):\n",
    "            sum += ((s[j]>>i)&1)\n",
    "        if (sum%3==1):\n",
    "            result = result|(1<<i)\n",
    "    print(result)\n",
    "    \n",
    "def solution2(s):\n",
    "    ones = 0\n",
    "    twos = 0\n",
    "    for i in s:\n",
    "        ones = (~twos)&(ones^i)\n",
    "        twos = (~ones)&(twos^i)\n",
    "    print(ones)\n",
    "    \n",
    "if __name__ == '__main__':\n",
    "    s = [1,2,8,1,2,1,2]\n",
    "    solution1(s)\n",
    "    solution2(s)"
   ]
  },
  {
   "cell_type": "code",
   "execution_count": 64,
   "metadata": {},
   "outputs": [
    {
     "name": "stdout",
     "output_type": "stream",
     "text": [
      "1\n"
     ]
    }
   ],
   "source": [
    "class Singleton():\n",
    "    _instance = None\n",
    "    def __new__(cls, *args, **kwargs):\n",
    "        if not cls._instance:\n",
    "            cls._instance = super(Singleton, cls).__new__(cls, *args, **kwargs)\n",
    "        return cls._instance\n",
    "    \n",
    "de singleton(cls):\n",
    "    _instance = {}\n",
    "    def getinstance():\n",
    "        if cls not in _instance:\n",
    "            _instance[cls] = cls(*args, **kwargs)\n",
    "        return _instance[cls]\n",
    "    return getinstance"
   ]
  },
  {
   "cell_type": "code",
   "execution_count": 6,
   "metadata": {},
   "outputs": [
    {
     "name": "stdout",
     "output_type": "stream",
     "text": [
      "[15, 17, 20, 26, 31]\n"
     ]
    }
   ],
   "source": [
    "def quicksort(alist):\n",
    "    index = alist[0]\n",
    "    lo = [i for i in alist[1:] if i<index]\n",
    "    hi = [i for i in alist[1:] if i>=index]\n",
    "    return lo, index, hi\n",
    "\n",
    "def min_max(alist, k):\n",
    "    lo, index, hi = quicksort(alist)\n",
    "    m = len(lo)\n",
    "    if m == k:\n",
    "        return lo\n",
    "    elif m<k:\n",
    "        lo.append(index)\n",
    "        return lo + min_max(hi, k-m-1)\n",
    "    else:\n",
    "        return min_max(lo, k)\n",
    "\n",
    "if __name__ == '__main__':\n",
    "    alist = [15,54, 26, 93, 17, 77, 31, 44, 55, 20]\n",
    "    ret = min_max(alist,  5)\n",
    "    print(ret)"
   ]
  },
  {
   "cell_type": "code",
   "execution_count": 5,
   "metadata": {},
   "outputs": [
    {
     "name": "stdout",
     "output_type": "stream",
     "text": [
      "[1, 0, 0, 1, 0, 0, 0, 0, 1, 0, 0, 0, 0, 0, 0, 1, 0, 0, 0, 0, 0, 0, 0, 0, 1, 0, 0, 0, 0, 0, 0, 0, 0, 0, 0, 1, 0, 0, 0, 0, 0, 0, 0, 0, 0, 0, 0, 0, 1, 0, 0, 0, 0, 0, 0, 0, 0, 0, 0, 0, 0, 0, 0, 1, 0, 0, 0, 0, 0, 0, 0, 0, 0, 0, 0, 0, 0, 0, 0, 0, 1, 0, 0, 0, 0, 0, 0, 0, 0, 0, 0, 0, 0, 0, 0, 0, 0, 0, 0, 1]\n"
     ]
    }
   ],
   "source": [
    "s = [0 for i in range(100)]\n",
    "def reverse(i):\n",
    "    if i == 0:\n",
    "        return 1\n",
    "    elif i == 1:\n",
    "        return 0\n",
    "    \n",
    "for i in range(1,101):\n",
    "    for j in range(1,101):\n",
    "        if j%i == 0:\n",
    "            s[j-1] = reverse(s[j-1])\n",
    "        \n",
    "print(s)"
   ]
  },
  {
   "cell_type": "code",
   "execution_count": 17,
   "metadata": {},
   "outputs": [
    {
     "name": "stdout",
     "output_type": "stream",
     "text": [
      "13\n"
     ]
    }
   ],
   "source": [
    "# https://blog.csdn.net/fcqwin/article/details/21222427\n",
    "# 含输入的起点和终点，换乘站点只计算一次\n",
    "size_a = 21\n",
    "size_b = 17\n",
    "n = 35\n",
    "inf = float('inf')\n",
    "a = ['A1','A2','A3','A4','A5','A6','A7','A8','A9','T1','A10','A11','A12','A13','T2','A14','A15','A16','A17','A18','A1']\n",
    "b = ['B1','B2','B3','B4','B5','T1','B6','B7','B8','B9','B10','T2','B11','B12','B13','B14','B15']\n",
    "node = ['A1','A2','A3','A4','A5','A6','A7','A8','A9','T1','A10','A11','A12','A13','T2','A14','A15','A16','A17','A18','B1','B2','B3','B4','B5','B6','B7','B8','B9','B10','B11','B12','B13','B14','B15']\n",
    "matrix = [[0 for i in range(n)] for j in range(n)]\n",
    "dist = [[_ for i in range(n)] for j in range(n)] # 最短距离\n",
    "path = [[_ for i in range(n)] for j in range(n)] # 上一个节点\n",
    "\n",
    "def getPos(s, k):\n",
    "    n = 0\n",
    "    if k[0] == 'B':\n",
    "        n += 20\n",
    "        s = s[20:]\n",
    "    if k == \"T1\":\n",
    "        return 9\n",
    "    if k == \"T2\":\n",
    "        return 14\n",
    "    \n",
    "    while s[0] != k:\n",
    "        s = s[1:]\n",
    "        n += 1\n",
    "    return n\n",
    "\n",
    "def floyd(begin, end):\n",
    "    for i in range(n):\n",
    "        for j in range(n):\n",
    "            if i!=j and matrix[i][j]>0:\n",
    "                dist[i][j] = matrix[i][j]\n",
    "                path[i][j] = i\n",
    "            else:\n",
    "                dist[i][j] = inf\n",
    "                path[i][j] = -1\n",
    "                \n",
    "    for k in range(n):\n",
    "        for i in range(n):\n",
    "            for j in range(n):\n",
    "                if dist[i][j]> dist[i][k]+ dist[k][j]:\n",
    "                    dist[i][j] = dist[i][k]+ dist[k][j]\n",
    "                    path[i][j] = path[k][j]\n",
    "                    \n",
    "    u = getPos(node, begin)\n",
    "    v = getPos(node, end)\n",
    "    ret = 0\n",
    "    while(u!=v):\n",
    "        v = path[u][v]\n",
    "        ret += 1\n",
    "    ret += 1\n",
    "    print(ret)\n",
    "        \n",
    "\n",
    "def buildGraph(begin, end):\n",
    "    for i in range(size_a-1):\n",
    "        u = getPos(node, a[i])\n",
    "        v = getPos(node, a[i+1])\n",
    "        matrix[u][v] = 1\n",
    "        matrix[v][u] = 1\n",
    "        \n",
    "    for i in range(size_b-1):\n",
    "        u = getPos(node, b[i])\n",
    "        v = getPos(node, b[i+1])\n",
    "        matrix[u][v] = 1\n",
    "        matrix[v][u] = 1\n",
    "        \n",
    "    floyd(begin, end)\n",
    "    \n",
    "if __name__ == '__main__':\n",
    "    begin = 'A2'\n",
    "    end = 'B2'\n",
    "    buildGraph(begin, end)"
   ]
  },
  {
   "cell_type": "code",
   "execution_count": null,
   "metadata": {},
   "outputs": [],
   "source": []
  }
 ],
 "metadata": {
  "kernelspec": {
   "display_name": "Python 3",
   "language": "python",
   "name": "python3"
  },
  "language_info": {
   "codemirror_mode": {
    "name": "ipython",
    "version": 3
   },
   "file_extension": ".py",
   "mimetype": "text/x-python",
   "name": "python",
   "nbconvert_exporter": "python",
   "pygments_lexer": "ipython3",
   "version": "3.5.2"
  }
 },
 "nbformat": 4,
 "nbformat_minor": 2
}
