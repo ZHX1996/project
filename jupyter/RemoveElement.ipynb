{
 "cells": [
  {
   "cell_type": "code",
   "execution_count": 4,
   "metadata": {},
   "outputs": [
    {
     "name": "stdout",
     "output_type": "stream",
     "text": [
      "[2, 4]\n"
     ]
    }
   ],
   "source": [
    "def RemoveElement(l, val):\n",
    "    i = 0\n",
    "    while i < len(l)-1:\n",
    "        if l[i] == val:\n",
    "            del l[i]\n",
    "        else:\n",
    "            i+=1\n",
    "    return l\n",
    "\n",
    "if __name__ == '__main__':\n",
    "    l = [3,3,2,3,4]\n",
    "    val = 3\n",
    "    print(RemoveElement(l, val))"
   ]
  },
  {
   "cell_type": "code",
   "execution_count": null,
   "metadata": {},
   "outputs": [],
   "source": []
  }
 ],
 "metadata": {
  "kernelspec": {
   "display_name": "Python 3",
   "language": "python",
   "name": "python3"
  },
  "language_info": {
   "codemirror_mode": {
    "name": "ipython",
    "version": 3
   },
   "file_extension": ".py",
   "mimetype": "text/x-python",
   "name": "python",
   "nbconvert_exporter": "python",
   "pygments_lexer": "ipython3",
   "version": "3.5.2"
  }
 },
 "nbformat": 4,
 "nbformat_minor": 2
}
