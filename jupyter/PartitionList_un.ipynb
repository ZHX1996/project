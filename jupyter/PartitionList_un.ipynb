{
 "cells": [
  {
   "cell_type": "code",
   "execution_count": 1,
   "metadata": {},
   "outputs": [
    {
     "name": "stdout",
     "output_type": "stream",
     "text": [
      "1\n",
      "2\n",
      "2\n",
      "4\n",
      "3\n",
      "5\n",
      "None\n"
     ]
    }
   ],
   "source": [
    "class ListNode:\n",
    "    def __init__(self, x):\n",
    "        self.val = x\n",
    "        self.next = None\n",
    "        \n",
    "    def __repr__(self):\n",
    "        return '%d' % self.val\n",
    "\n",
    "    \n",
    "class Solution:\n",
    "    def partition(self, head, x):\n",
    "#         while head:\n",
    "#             print(head.val)\n",
    "#             head = head.next\n",
    "        h1 = l1 = ListNode(0)\n",
    "        h2 = l2 = ListNode(0)\n",
    "        while head:\n",
    "            if head.val < x:\n",
    "                l1.next = head\n",
    "                l1 = l1.next\n",
    "            else:\n",
    "                l2.next = head\n",
    "                l2 = l2.next\n",
    "            head = head.next\n",
    "\n",
    "        l2.next = None\n",
    "        l1.next = h2.next\n",
    "#         return h1.next\n",
    "        while h1.next:\n",
    "            print(h1.next)\n",
    "            h1 = h1.next\n",
    "\n",
    "                \n",
    "if __name__ == '__main__':\n",
    "    idx = ListNode(1)\n",
    "    n = idx\n",
    "    n.next = ListNode(4)\n",
    "    n = n.next\n",
    "    n.next = ListNode(3)\n",
    "    n = n.next\n",
    "    n.next = ListNode(2)\n",
    "    n = n.next\n",
    "    n.next = ListNode(5)\n",
    "    n = n.next\n",
    "    n.next = ListNode(2)\n",
    "    a = Solution()\n",
    "    print(a.partition(idx, 3))"
   ]
  },
  {
   "cell_type": "code",
   "execution_count": null,
   "metadata": {},
   "outputs": [],
   "source": []
  }
 ],
 "metadata": {
  "kernelspec": {
   "display_name": "Python 3",
   "language": "python",
   "name": "python3"
  },
  "language_info": {
   "codemirror_mode": {
    "name": "ipython",
    "version": 3
   },
   "file_extension": ".py",
   "mimetype": "text/x-python",
   "name": "python",
   "nbconvert_exporter": "python",
   "pygments_lexer": "ipython3",
   "version": "3.5.2"
  }
 },
 "nbformat": 4,
 "nbformat_minor": 2
}
