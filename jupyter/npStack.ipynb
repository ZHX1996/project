{
 "cells": [
  {
   "cell_type": "code",
   "execution_count": 4,
   "metadata": {},
   "outputs": [
    {
     "name": "stdout",
     "output_type": "stream",
     "text": [
      "(5, 3, 4)\n",
      "(3, 5, 4)\n",
      "(3, 4, 5)\n"
     ]
    }
   ],
   "source": [
    "import numpy as np\n",
    "arrays = [np.random.randn(3,4) for _ in range(5)]\n",
    "print(np.stack(arrays, axis=0).shape)\n",
    "print(np.stack(arrays, axis=1).shape)\n",
    "print(np.stack(arrays, axis=2).shape)"
   ]
  },
  {
   "cell_type": "code",
   "execution_count": 8,
   "metadata": {},
   "outputs": [
    {
     "name": "stdout",
     "output_type": "stream",
     "text": [
      "[[1 2 3]\n",
      " [2 3 4]]\n",
      "[[1 2]\n",
      " [2 3]\n",
      " [3 4]]\n"
     ]
    }
   ],
   "source": [
    "a = np.array([1,2,3])\n",
    "b = np.array([2,3,4])\n",
    "print(np.stack((a,b)))\n",
    "print(np.stack((a,b), axis=1))"
   ]
  },
  {
   "cell_type": "code",
   "execution_count": 21,
   "metadata": {},
   "outputs": [
    {
     "name": "stdout",
     "output_type": "stream",
     "text": [
      "[[1 2 3 2 3 4]\n",
      " [4 5 6 5 6 7]]\n",
      "[[1 2 3]\n",
      " [4 5 6]\n",
      " [2 3 4]\n",
      " [5 6 7]]\n",
      "[[[1 2]\n",
      "  [2 3]\n",
      "  [3 4]]\n",
      "\n",
      " [[4 5]\n",
      "  [5 6]\n",
      "  [6 7]]]\n",
      "[[1 2]\n",
      " [3 2]\n",
      " [3 4]\n",
      " [4 5]\n",
      " [6 5]\n",
      " [6 7]]\n"
     ]
    }
   ],
   "source": [
    "a = np.array([[1,2,3],[4,5,6]])\n",
    "b = np.array([[2,3,4],[5,6,7]])\n",
    "print(np.hstack((a,b))) # equal to concatenate(tup, axis=1)\n",
    "print(np.vstack((a,b))) # equal to concatenate(tup, axis=0)\n",
    "print(np.dstack((a,b))) # euqal to concatenate(tup, axis=2)\n",
    "print(np.hstack((a,b)).reshape(-1,2)) # equal to reshape(6,2)"
   ]
  },
  {
   "cell_type": "code",
   "execution_count": 26,
   "metadata": {},
   "outputs": [
    {
     "name": "stdout",
     "output_type": "stream",
     "text": [
      "[[1 2]\n",
      " [3 4]\n",
      " [5 6]]\n",
      "[[1 2 5]\n",
      " [3 4 6]]\n"
     ]
    }
   ],
   "source": [
    "a = np.array([[1,2], [3,4]])\n",
    "b = np.array([[5,6]])\n",
    "print(np.concatenate((a,b), axis=0))\n",
    "print(np.concatenate((a,b.T), axis=1))"
   ]
  },
  {
   "cell_type": "code",
   "execution_count": 29,
   "metadata": {},
   "outputs": [
    {
     "name": "stdout",
     "output_type": "stream",
     "text": [
      "[0 -- 2]\n"
     ]
    }
   ],
   "source": [
    "a = np.ma.arange(3)\n",
    "a[1] = np.ma.masked\n",
    "print(a)"
   ]
  },
  {
   "cell_type": "code",
   "execution_count": 36,
   "metadata": {},
   "outputs": [
    {
     "name": "stdout",
     "output_type": "stream",
     "text": [
      "[[  0.   1.   2.   3.]\n",
      " [  4.   5.   6.   7.]\n",
      " [  8.   9.  10.  11.]\n",
      " [ 12.  13.  14.  15.]]\n",
      "[array([[ 0.,  1.,  2.,  3.],\n",
      "       [ 4.,  5.,  6.,  7.]]), array([[  8.,   9.,  10.,  11.],\n",
      "       [ 12.,  13.,  14.,  15.]])]\n",
      "[array([[  0.,   1.,   2.,   3.],\n",
      "       [  4.,   5.,   6.,   7.],\n",
      "       [  8.,   9.,  10.,  11.]]), array([[ 12.,  13.,  14.,  15.]]), array([], shape=(0, 4), dtype=float64)]\n"
     ]
    }
   ],
   "source": [
    "x = np.arange(16.0).reshape(4,4)\n",
    "print(x)\n",
    "print(np.vsplit(x,2))\n",
    "print(np.vsplit(x,np.array([3,6])))"
   ]
  },
  {
   "cell_type": "code",
   "execution_count": 39,
   "metadata": {},
   "outputs": [
    {
     "name": "stdout",
     "output_type": "stream",
     "text": [
      "[[[ 0.  1.]\n",
      "  [ 2.  3.]]\n",
      "\n",
      " [[ 4.  5.]\n",
      "  [ 6.  7.]]]\n",
      "[array([[[ 0.,  1.],\n",
      "        [ 2.,  3.]]]), array([[[ 4.,  5.],\n",
      "        [ 6.,  7.]]])]\n"
     ]
    }
   ],
   "source": [
    "x = np.arange(8.0).reshape(2,2,2)\n",
    "print(x)\n",
    "print(np.vsplit(x, 2))"
   ]
  },
  {
   "cell_type": "code",
   "execution_count": null,
   "metadata": {},
   "outputs": [],
   "source": []
  }
 ],
 "metadata": {
  "kernelspec": {
   "display_name": "Python 3",
   "language": "python",
   "name": "python3"
  },
  "language_info": {
   "codemirror_mode": {
    "name": "ipython",
    "version": 3
   },
   "file_extension": ".py",
   "mimetype": "text/x-python",
   "name": "python",
   "nbconvert_exporter": "python",
   "pygments_lexer": "ipython3",
   "version": "3.5.2"
  }
 },
 "nbformat": 4,
 "nbformat_minor": 2
}
