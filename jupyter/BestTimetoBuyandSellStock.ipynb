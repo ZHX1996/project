{
 "cells": [
  {
   "cell_type": "code",
   "execution_count": 8,
   "metadata": {},
   "outputs": [
    {
     "name": "stdout",
     "output_type": "stream",
     "text": [
      "5\n",
      "7\n",
      "7\n"
     ]
    }
   ],
   "source": [
    "def maxProfit(prices):\n",
    "    ret = 0\n",
    "    cur = prices[0]\n",
    "    for i in prices[1:]:\n",
    "        cur = min(cur, i)\n",
    "        profit = i - cur\n",
    "        ret = max(ret, profit)\n",
    "    return ret\n",
    "\n",
    "def maxProfit2(prices):\n",
    "    if not prices:\n",
    "        return 0\n",
    "    max = 0\n",
    "    for i in range(1, len(prices)):\n",
    "        if prices[i] > prices[i-1]:\n",
    "            max += prices[i] - prices[i-1]\n",
    "    return max\n",
    "\n",
    "def maxProfit3(k, prices):\n",
    "    lpro = [0] * (k+1)\n",
    "    gpro = [0] * (k+1)\n",
    "    for i in range(len(prices) - 1):\n",
    "        dif = prices[i+1] - prices[i]\n",
    "        j = k\n",
    "        while j >= 1:\n",
    "            lpro[j] = max(gpro[j-1] + max(0, dif), lpro[j] + dif)\n",
    "            gpro[j] = max(gpro[j], lpro[j])\n",
    "            j -= 1\n",
    "    return gpro[k]\n",
    "\n",
    "if __name__ == '__main__':\n",
    "    prices = [7,1,5,3,6,4]\n",
    "    prices1 = [7,6,5,4,3,1]\n",
    "#     print(maxProfit(prices))\n",
    "#     print(maxProfit2(prices))\n",
    "    print(maxProfit3(2, prices))"
   ]
  },
  {
   "cell_type": "code",
   "execution_count": null,
   "metadata": {},
   "outputs": [],
   "source": []
  }
 ],
 "metadata": {
  "kernelspec": {
   "display_name": "Python 3",
   "language": "python",
   "name": "python3"
  },
  "language_info": {
   "codemirror_mode": {
    "name": "ipython",
    "version": 3
   },
   "file_extension": ".py",
   "mimetype": "text/x-python",
   "name": "python",
   "nbconvert_exporter": "python",
   "pygments_lexer": "ipython3",
   "version": "3.5.2"
  }
 },
 "nbformat": 4,
 "nbformat_minor": 2
}
