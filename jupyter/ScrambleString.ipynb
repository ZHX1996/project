{
 "cells": [
  {
   "cell_type": "code",
   "execution_count": 5,
   "metadata": {},
   "outputs": [
    {
     "name": "stdout",
     "output_type": "stream",
     "text": [
      "True\n"
     ]
    }
   ],
   "source": [
    "# 只考虑了分两个\n",
    "def isScramble1(s1, s2):\n",
    "    for i in range(len(s1)):\n",
    "        if s1[:i][::-1] + s1[i:] == s2 or s1[:i] + s1[i:][::-1] == s2 or s1[:i][::-1] + s1[i:][::-1] == s2:\n",
    "            return True\n",
    "    return False\n",
    "\n",
    "def isScramble2(self, s1, s2):\n",
    "    if s1 == s2: return True\n",
    "    if sorted(s1) != sorted(s2): return False\n",
    "    length = len(s1)\n",
    "    for i in range(1, length):\n",
    "        if self.isScramble(s1[:i], s2[:i]) and self.isScramble(s1[i:], s2[i:]):\n",
    "            return True\n",
    "        if self.isScramble(s1[:i], s2[length-i:]) and self.isScramble(s1[i:], s2[:length-i]):\n",
    "            return True\n",
    "    return False\n",
    "    \n",
    "if __name__ == '__main__':\n",
    "    s1 = 'great'\n",
    "    s2 = 'rgeat'\n",
    "    print(isScramble2(s1, s2))"
   ]
  },
  {
   "cell_type": "code",
   "execution_count": null,
   "metadata": {},
   "outputs": [],
   "source": []
  }
 ],
 "metadata": {
  "kernelspec": {
   "display_name": "Python 3",
   "language": "python",
   "name": "python3"
  },
  "language_info": {
   "codemirror_mode": {
    "name": "ipython",
    "version": 3
   },
   "file_extension": ".py",
   "mimetype": "text/x-python",
   "name": "python",
   "nbconvert_exporter": "python",
   "pygments_lexer": "ipython3",
   "version": "3.5.2"
  }
 },
 "nbformat": 4,
 "nbformat_minor": 2
}
