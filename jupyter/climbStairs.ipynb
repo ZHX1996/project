{
 "cells": [
  {
   "cell_type": "code",
   "execution_count": 13,
   "metadata": {},
   "outputs": [
    {
     "name": "stdout",
     "output_type": "stream",
     "text": [
      "13\n",
      "13\n",
      "13\n",
      "13\n"
     ]
    }
   ],
   "source": [
    "def quantity1(n):\n",
    "    if n == 1:\n",
    "        return 1\n",
    "    if n == 2:\n",
    "        return 2\n",
    "    return quantity(n-1) + quantity(n-2)\n",
    "\n",
    "\n",
    "def quantity2(n):\n",
    "    if n == 1:\n",
    "        return 1\n",
    "    res = [0 for i in range(n)]\n",
    "    res[0], res[1] = 1, 2\n",
    "    for i in range(2, n):\n",
    "        res[i] = res[i-1] + res[i-2]\n",
    "    return res[-1]\n",
    "\n",
    "\n",
    "def quantity3(n):\n",
    "    if n == 1:\n",
    "        return 1\n",
    "    a, b = 1, 2\n",
    "    for i in range(2, n):\n",
    "        tmp = b\n",
    "        b = a+b\n",
    "        a = tmp\n",
    "    return b\n",
    "\n",
    "\n",
    "# duplicate subproblems are not recomputed\n",
    "class quantity4:\n",
    "    def __init__(self):\n",
    "        self.dic = {1:1, 2:2}\n",
    "        \n",
    "    def climb(self, n):\n",
    "        if n not in self.dic:\n",
    "            self.dic[n] = self.climb(n-1) + self.climb(n-2)\n",
    "        return self.dic[n]\n",
    "\n",
    "if __name__ == '__main__':\n",
    "    n = 6\n",
    "    print(quantity1(n))\n",
    "    print(quantity2(n))\n",
    "    print(quantity3(n))\n",
    "    s = quantity4()\n",
    "    print(s.climb(n))"
   ]
  },
  {
   "cell_type": "code",
   "execution_count": null,
   "metadata": {},
   "outputs": [],
   "source": []
  }
 ],
 "metadata": {
  "kernelspec": {
   "display_name": "Python 3",
   "language": "python",
   "name": "python3"
  },
  "language_info": {
   "codemirror_mode": {
    "name": "ipython",
    "version": 3
   },
   "file_extension": ".py",
   "mimetype": "text/x-python",
   "name": "python",
   "nbconvert_exporter": "python",
   "pygments_lexer": "ipython3",
   "version": "3.5.2"
  }
 },
 "nbformat": 4,
 "nbformat_minor": 2
}
