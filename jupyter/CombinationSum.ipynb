{
 "cells": [
  {
   "cell_type": "code",
   "execution_count": 17,
   "metadata": {},
   "outputs": [
    {
     "name": "stdout",
     "output_type": "stream",
     "text": [
      "[[3, 4], [7]]\n"
     ]
    }
   ],
   "source": [
    "def combination(l, target):\n",
    "    l.sort()\n",
    "    result = []\n",
    "    dfs(l, 0, [], result, target)\n",
    "    return result\n",
    "\n",
    "def dfs(nums, start, path, result, target):\n",
    "    if not target:\n",
    "        result.append(path)\n",
    "        return result\n",
    "    for i in range(start, len(nums)):\n",
    "        if nums[i]>target:\n",
    "            break\n",
    "#         i+1->i the number can be duplicate\n",
    "        dfs(nums, i+1, path+[nums[i]], result, target-nums[i])\n",
    "        \n",
    "if __name__ == '__main__':\n",
    "    l = [2,3,4,7]\n",
    "    target = 7\n",
    "    print(combination(l, target))  "
   ]
  },
  {
   "cell_type": "code",
   "execution_count": null,
   "metadata": {},
   "outputs": [],
   "source": []
  }
 ],
 "metadata": {
  "kernelspec": {
   "display_name": "Python 3",
   "language": "python",
   "name": "python3"
  },
  "language_info": {
   "codemirror_mode": {
    "name": "ipython",
    "version": 3
   },
   "file_extension": ".py",
   "mimetype": "text/x-python",
   "name": "python",
   "nbconvert_exporter": "python",
   "pygments_lexer": "ipython3",
   "version": "3.5.2"
  }
 },
 "nbformat": 4,
 "nbformat_minor": 2
}
