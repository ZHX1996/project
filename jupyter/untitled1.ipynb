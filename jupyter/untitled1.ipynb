{
 "cells": [
  {
   "cell_type": "code",
   "execution_count": 2,
   "metadata": {},
   "outputs": [
    {
     "name": "stdout",
     "output_type": "stream",
     "text": [
      "15\n"
     ]
    }
   ],
   "source": [
    "v = [6,3,5,4,6]\n",
    "w = [2,2,6,5,4]\n",
    "weight = 10\n",
    "dp = [[0 for i in range(weight+1)] for j in range(len(w))]\n",
    "for i in range(len(w)):\n",
    "    for j in range(weight+1):\n",
    "        dp[i][j] = dp[i-1][j]\n",
    "        if j>=w[i] and dp[i][j]<dp[i-1][j-w[i]] + v[i]:\n",
    "            dp[i][j] = dp[i-1][j-w[i]]+v[i]\n",
    "\n",
    "ret = [0]*len(w)\n",
    "j = weight\n",
    "for i in range(len(w)-1,-1,-1):\n",
    "    if i>0 and dp[i][j] == dp[i-1][j-w[i]]+v[i]:\n",
    "        ret[i]=1\n",
    "        j-=w[i]\n",
    "    if i==0 and dp[i][j]==v[i]:\n",
    "        ret[i]=1\n",
    "sum = 0\n",
    "for i in range(len(v)):\n",
    "    if ret[i]==1:\n",
    "        sum+=v[i]\n",
    "print(sum)"
   ]
  },
  {
   "cell_type": "code",
   "execution_count": 28,
   "metadata": {},
   "outputs": [
    {
     "name": "stdout",
     "output_type": "stream",
     "text": [
      "[['typedef', 'int', 'INT'], ['typedef', 'INT**', 'INTP'], []]\n",
      "None\n"
     ]
    }
   ],
   "source": [
    "s1 = \"typedef int INT; typedef INT** INTP;\"\n",
    "s = s1.split(';')\n",
    "li = []\n",
    "for i in s:\n",
    "    li.append(i.split())\n",
    "print(li)\n",
    "s2 = 'INTP'\n",
    "for i in li:\n",
    "    if s2 == i[2]:\n",
    "        for j in i[1]:\n",
    "            if j == '*':\n",
    "                temp.append(' ')\n",
    "                temp.append(j)\n",
    "            else:\n",
    "                temp.append(j)\n",
    "        print(''.join(temp))\n",
    "        break\n",
    "    else:\n",
    "        print(None)\n",
    "        break"
   ]
  },
  {
   "cell_type": "code",
   "execution_count": null,
   "metadata": {},
   "outputs": [],
   "source": []
  }
 ],
 "metadata": {
  "kernelspec": {
   "display_name": "Python 3",
   "language": "python",
   "name": "python3"
  },
  "language_info": {
   "codemirror_mode": {
    "name": "ipython",
    "version": 3
   },
   "file_extension": ".py",
   "mimetype": "text/x-python",
   "name": "python",
   "nbconvert_exporter": "python",
   "pygments_lexer": "ipython3",
   "version": "3.5.2"
  }
 },
 "nbformat": 4,
 "nbformat_minor": 2
}
