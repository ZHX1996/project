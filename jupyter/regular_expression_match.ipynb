{
 "cells": [
  {
   "cell_type": "code",
   "execution_count": 8,
   "metadata": {},
   "outputs": [
    {
     "name": "stdout",
     "output_type": "stream",
     "text": [
      "True\n"
     ]
    }
   ],
   "source": [
    "def ismatch(text, pattern):\n",
    "    if not pattern:\n",
    "        return not text\n",
    "    \n",
    "    first_match = bool(text) and pattern[0] in {text[0], '.'}\n",
    "    \n",
    "    if len(pattern) >= 2 and pattern[1] == '*':\n",
    "        return (ismatch(text, pattern[2:]) or first_match and ismatch(text[1:], pattern))\n",
    "    else:\n",
    "        return first_match and ismatch(text[1:], pattern[1:])\n",
    "    \n",
    "if __name__=='__main__':\n",
    "    text = 'aabb'\n",
    "    pattern = 'aab*'\n",
    "    print(ismatch(text, pattern))"
   ]
  },
  {
   "cell_type": "code",
   "execution_count": null,
   "metadata": {},
   "outputs": [],
   "source": []
  }
 ],
 "metadata": {
  "kernelspec": {
   "display_name": "Python 3",
   "language": "python",
   "name": "python3"
  },
  "language_info": {
   "codemirror_mode": {
    "name": "ipython",
    "version": 3
   },
   "file_extension": ".py",
   "mimetype": "text/x-python",
   "name": "python",
   "nbconvert_exporter": "python",
   "pygments_lexer": "ipython3",
   "version": "3.5.2"
  }
 },
 "nbformat": 4,
 "nbformat_minor": 2
}
