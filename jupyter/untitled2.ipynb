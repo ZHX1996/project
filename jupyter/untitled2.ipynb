{
 "cells": [
  {
   "cell_type": "code",
   "execution_count": null,
   "metadata": {},
   "outputs": [],
   "source": [
    "# 顺时针打印矩阵\n",
    "def printMatrix(self, matrix):\n",
    "    res = []\n",
    "    m, n = len(matrix[0]), len(matrix)\n",
    "    if n==1 and m==1:\n",
    "        res = [matrix[0][0]]\n",
    "        return res\n",
    "    for o in range((min(m, n)+1)//2):\n",
    "        [res.append(matrix[o][i]) for i in range(o, m-o)]\n",
    "        [res.append(matrix[j][m-1-o]) for j in range(o, n-o) if matrix[j][m-1-o] not in res]\n",
    "        [res.append(matrix[n-1-o][k]) for k in range(m-1-o, o-1, -1) if matrix[n-1-o][k] not in res]\n",
    "        [res.append(matrix[l][o]) for l in range(n-1-o, o-1, -1) if matrix[l][o] not in res]\n",
    "    return res"
   ]
  },
  {
   "cell_type": "code",
   "execution_count": null,
   "metadata": {},
   "outputs": [],
   "source": [
    "# 判断平衡二叉树\n",
    "class Solution:\n",
    "    def IsBalanced_Solution(self, pRoot):\n",
    "        if pRoot is None:\n",
    "            return True\n",
    "        if abs(self.TreeDepth(pRoot.left)-self.TreeDepth(pRoot.right))>1:\n",
    "            return False\n",
    "        return self.IsBalanced_Solution(pRoot.left) and self.IsBalanced_Solution(pRoot.right)\n",
    "    \n",
    "    def TreeDepth(self, pRoot):\n",
    "        if pRoot is None:\n",
    "            return 0\n",
    "        return 1+max(self.TreeDepth(pRoot.left), self.TreeDepth(pRoot.right))"
   ]
  },
  {
   "cell_type": "code",
   "execution_count": null,
   "metadata": {},
   "outputs": [],
   "source": [
    "# 反转链表\n",
    "def reverseLinkedlist(pHead):\n",
    "    if not pHead or not pHead.next:\n",
    "        return pHead\n",
    "    last = None  \n",
    "    while pHead:\n",
    "        tmp = pHead.next\n",
    "        pHead.next = last\n",
    "        last = pHead\n",
    "        pHead = tmp\n",
    "    return last"
   ]
  },
  {
   "cell_type": "code",
   "execution_count": null,
   "metadata": {},
   "outputs": [],
   "source": [
    "# 位运算实现加法，波浪号按位取反\n",
    "def Add(num1, num2):\n",
    "    while num2 != 0:\n",
    "        temp = num1&num2\n",
    "        num1 = (num1^num2)%0x100000000\n",
    "        num2 = (temp<<1)%0x100000000\n",
    "    return num1 if num1<0x7fffffff else num1 | (~0x100000000+1)"
   ]
  },
  {
   "cell_type": "code",
   "execution_count": null,
   "metadata": {},
   "outputs": [],
   "source": [
    "# 得到栈中最小元素\n",
    "class Solution:\n",
    "    def __init__(self):\n",
    "        self.stack = []\n",
    "        self.minstack = []\n",
    "        \n",
    "    def push(self, node):\n",
    "        self.stack.append(node)\n",
    "        if not self.minstack or node <= self.minstack[-1]:\n",
    "            self.minstack.append(node)\n",
    "            \n",
    "    def pop(self):\n",
    "        if self.stack[-1] == self.minstack[-1]:\n",
    "            self.minstack.pop()\n",
    "        self.stack.pop()\n",
    "        \n",
    "    def top(self):\n",
    "        return self.stack[-1]\n",
    "    \n",
    "    def min(self):\n",
    "        return self.minstack[-1]"
   ]
  },
  {
   "cell_type": "code",
   "execution_count": 2,
   "metadata": {},
   "outputs": [
    {
     "name": "stdout",
     "output_type": "stream",
     "text": [
      "[[0, 0, 0, 0, 0, 0], [0, 1, 0, 0, 0, 0], [0, 0, 2, 0, 0, 0], [0, 0, 0, 0, 0, 0], [0, 0, 0, 1, 0, 0], [0, 0, 0, 0, 2, 0], [0, 0, 0, 0, 0, 3]]\n",
      "('dfg', 3)\n"
     ]
    }
   ],
   "source": [
    "# 最长公共子串\n",
    "def find_lcssubstr(s1, s2):\n",
    "    m = [[0 for i in range(len(s2)+1)] for j in range(len(s1)+1)]\n",
    "    mmax = 0 # 最长匹配长度\n",
    "    p = 0  # 最长匹配长度在s1中的最后一位\n",
    "    for i in range(len(s1)):\n",
    "        for j in range(len(s2)):\n",
    "            if s1[i] == s2[j]:\n",
    "                m[i+1][j+1] = m[i][j]+1\n",
    "                if m[i+1][j+1]>mmax:\n",
    "                    mmax = m[i+1][j+1]\n",
    "                    p = i+1\n",
    "    print(m)\n",
    "    return s1[p-mmax:p], mmax\n",
    "    \n",
    "    \n",
    "if __name__ == '__main__':\n",
    "    print(find_lcssubstr('abcdfg', 'abdfg'))"
   ]
  },
  {
   "cell_type": "code",
   "execution_count": 11,
   "metadata": {},
   "outputs": [
    {
     "name": "stdout",
     "output_type": "stream",
     "text": [
      "[[None None None None None None None None None None]\n",
      " [None 'up' 'up' 'up' 'up' 'up' 'up' 'up' 'up' 'up']\n",
      " [None 'ok' 'left' 'left' 'left' 'left' 'left' 'left' 'left' 'left']\n",
      " [None 'up' 'up' 'up' 'ok' 'left' 'left' 'left' 'left' 'left']\n",
      " [None 'up' 'ok' 'left' 'up' 'up' 'up' 'up' 'up' 'up']\n",
      " [None 'up' 'up' 'up' 'up' 'up' 'ok' 'left' 'left' 'left']\n",
      " [None 'up' 'up' 'ok' 'left' 'left' 'up' 'ok' 'left' 'left']\n",
      " [None 'up' 'up' 'ok' 'up' 'up' 'up' 'ok' 'up' 'up']\n",
      " [None 'up' 'up' 'up' 'up' 'ok' 'left' 'up' 'ok' 'left']]\n",
      "34678\n",
      "5\n"
     ]
    }
   ],
   "source": [
    "# 最长公共子序列\n",
    "import numpy\n",
    "\n",
    "def find_lcsseque(s1, s2):\n",
    "    m = [[0 for x in range(len(s2)+1)] for y in range(len(s1)+1)]\n",
    "    d = [[None for x in range(len(s2)+1)] for y in range(len(s1)+1)]\n",
    "    \n",
    "    for p1 in range(len(s1)):\n",
    "        for p2 in range(len(s2)):\n",
    "            if s1[p1] == s2[p2]:\n",
    "                m[p1+1][p2+1] = m[p1][p2] + 1\n",
    "                d[p1+1][p2+1] = 'ok'\n",
    "            elif m[p1+1][p2] > m[p1][p2+1]:\n",
    "                m[p1+1][p2+1] = m[p1+1][p2]\n",
    "                d[p1+1][p2+1] = 'left'\n",
    "            else:\n",
    "                m[p1+1][p2+1] = m[p1][p2+1]\n",
    "                d[p1+1][p2+1] = 'up'\n",
    "    (p1, p2) = (len(s1), len(s2))\n",
    "    print(numpy.array(d))\n",
    "    \n",
    "    s = []\n",
    "    while m[p1][p2]:\n",
    "        c = d[p1][p2]\n",
    "        if c == 'ok':\n",
    "            s.append(s1[p1-1])\n",
    "            p1 -= 1\n",
    "            p2 -= 1\n",
    "        if c == 'left':\n",
    "            p2 -= 1\n",
    "        if c == 'up':\n",
    "            p1 -= 1\n",
    "    s.reverse()\n",
    "    return ''.join(s)\n",
    "\n",
    "def lengthoflcs(s1, s2):\n",
    "    m = [[0 for i in range(len(s2)+1)] for j in range(len(s1)+1)]\n",
    "    for i in range(len(s1)):\n",
    "        for j in range(len(s2)):\n",
    "            if s1[i] == s2[j]:\n",
    "                m[i+1][j+1] = m[i][j] + 1\n",
    "            else:\n",
    "                m[i+1][j+1] = max(m[i][j+1], m[i+1][j])\n",
    "                \n",
    "    return m[-1][-1]\n",
    "\n",
    "if __name__ == '__main__':\n",
    "    print(find_lcsseque('13456778', '357486782'))\n",
    "    print(lengthoflcs('13456778', '357486782'))"
   ]
  },
  {
   "cell_type": "code",
   "execution_count": 18,
   "metadata": {},
   "outputs": [
    {
     "name": "stdout",
     "output_type": "stream",
     "text": [
      "3\n"
     ]
    }
   ],
   "source": [
    "# 包含多个字符的最短子串长度\n",
    "# 保存各个字符在字符串中的位置，扫描到下一个时，直接覆盖\n",
    "# 如果是找到包含出现的所有字符的子串，则先找到所有不重复的字符\n",
    "def solution(s1, sa, sb, sc):\n",
    "    la = lb = lc = 0\n",
    "    for i in range(len(s1)):\n",
    "        if s1[i] == sa:\n",
    "            la = i\n",
    "        elif s1[i] == sb:\n",
    "            lb = i\n",
    "        elif s1[i] == sc:\n",
    "            lc = i\n",
    "        \n",
    "        minlen = max(la, lb, lc) - min(la, lb, lc)\n",
    "    return minlen+1\n",
    "\n",
    "if __name__ == '__main__':\n",
    "    print(solution('daebfacba', 'a', 'b', 'c'))"
   ]
  },
  {
   "cell_type": "code",
   "execution_count": 22,
   "metadata": {},
   "outputs": [
    {
     "name": "stdout",
     "output_type": "stream",
     "text": [
      "2\n"
     ]
    }
   ],
   "source": [
    "# 出现次数大于一半的数\n",
    "l = [1,2,2,3,2,2,4,2,2,5,2,2,5,2,2,3,6,7,8]\n",
    "s, n = l[0], 1\n",
    "for i in l:\n",
    "    if i == s:\n",
    "        n += 1\n",
    "    else:\n",
    "        n-=1\n",
    "        if n == 0:\n",
    "            s = i\n",
    "            n = 1\n",
    "print(s)"
   ]
  },
  {
   "cell_type": "code",
   "execution_count": null,
   "metadata": {},
   "outputs": [],
   "source": []
  }
 ],
 "metadata": {
  "kernelspec": {
   "display_name": "Python 3",
   "language": "python",
   "name": "python3"
  },
  "language_info": {
   "codemirror_mode": {
    "name": "ipython",
    "version": 3
   },
   "file_extension": ".py",
   "mimetype": "text/x-python",
   "name": "python",
   "nbconvert_exporter": "python",
   "pygments_lexer": "ipython3",
   "version": "3.5.2"
  }
 },
 "nbformat": 4,
 "nbformat_minor": 2
}
