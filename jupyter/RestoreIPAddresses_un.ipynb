{
 "cells": [
  {
   "cell_type": "code",
   "execution_count": 3,
   "metadata": {},
   "outputs": [
    {
     "name": "stdout",
     "output_type": "stream",
     "text": [
      "['2.55.255.111', '25.5.255.111', '25.52.55.111', '255.2.55.111', '255.25.5.111', '255.25.51.11', '255.255.1.11', '255.255.11.1']\n"
     ]
    }
   ],
   "source": [
    "def restore(s):\n",
    "    ans = []\n",
    "    dfs(ans, s, 4, [])\n",
    "    return ['.'.join(x) for x in ans]\n",
    "    \n",
    "def dfs(ans, s, k, temp):\n",
    "    if len(s) > k*3:\n",
    "        return \n",
    "    if k == 0:\n",
    "        ans.append(temp[:])\n",
    "    else:\n",
    "        for i in range(min(3, len(s)-k+1)):\n",
    "            if (i == 2 and int(s[:3]) > 255) or (i > 0 and s[0] == '0'):\n",
    "                continue\n",
    "            dfs(ans, s[i+1:], k-1, temp+[s[:i+1]])\n",
    "            \n",
    "def restoreByIterative(s):\n",
    "    res = []\n",
    "    S = [([], s)]\n",
    "    while S:\n",
    "        l, s = S.pop()\n",
    "        if len(l)==4:\n",
    "            if not s:\n",
    "                res.append('.'.join(l))\n",
    "        elif len(s) <= (4-len(l))*3:\n",
    "            for i in range(min(3, len(s)-3+len(l))):\n",
    "                if i != 2 or s[:3] <= '255':\n",
    "                    S.append(l + [s[:i+1]], s[i+1:])\n",
    "                if s[0] == '0': break\n",
    "    return res\n",
    "            \n",
    "if __name__ == '__main__':\n",
    "    s = '255255111'\n",
    "    print(restore(s))"
   ]
  },
  {
   "cell_type": "code",
   "execution_count": null,
   "metadata": {},
   "outputs": [],
   "source": []
  }
 ],
 "metadata": {
  "kernelspec": {
   "display_name": "Python 3",
   "language": "python",
   "name": "python3"
  },
  "language_info": {
   "codemirror_mode": {
    "name": "ipython",
    "version": 3
   },
   "file_extension": ".py",
   "mimetype": "text/x-python",
   "name": "python",
   "nbconvert_exporter": "python",
   "pygments_lexer": "ipython3",
   "version": "3.5.2"
  }
 },
 "nbformat": 4,
 "nbformat_minor": 2
}
