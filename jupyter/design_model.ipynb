{
 "cells": [
  {
   "cell_type": "code",
   "execution_count": 3,
   "metadata": {
    "scrolled": true
   },
   "outputs": [
    {
     "name": "stdout",
     "output_type": "stream",
     "text": [
      "dog 小狗\n",
      "parrot parrot\n",
      "cat 小猫\n",
      "bear bear\n"
     ]
    }
   ],
   "source": [
    "# factory method\n",
    "class ChinaGetter:\n",
    "    def __init__(self):\n",
    "        self.trans = dict(dog='小狗', cat='小猫')\n",
    "        \n",
    "    def get(self, msgid):\n",
    "        try:\n",
    "            return self.trans[msgid]\n",
    "        except KeyError:\n",
    "            return str(msgid)\n",
    "    \n",
    "class EnglishGetter:\n",
    "    def get(self, msgid):\n",
    "        return str(msgid)\n",
    "    \n",
    "def get_localizer(language):\n",
    "    languages = dict(English=EnglishGetter, China=ChinaGetter)\n",
    "    return languages[language]()\n",
    "\n",
    "e, g = get_localizer('English'), get_localizer('China')\n",
    "for msgid in 'dog parrot cat bear'.split():\n",
    "    print(e.get(msgid), g.get(msgid))"
   ]
  },
  {
   "cell_type": "code",
   "execution_count": null,
   "metadata": {},
   "outputs": [],
   "source": [
    "# Singleton\n",
    "# 使用模块\n",
    "class Singleton():\n",
    "    pass\n",
    "\n",
    "mySingleton = Singleton()\n",
    "\n",
    "# 重写__new__\n",
    "class Singleton(object):\n",
    "    _instance = None\n",
    "    def __new__(cls, *args, **kwargs):\n",
    "        if not cls._instance:\n",
    "            cls._instance = super(Singleton, cls).__new__(cls, *args, **kwargs)\n",
    "        return cls._instance\n",
    "\n",
    "# 使用装饰器\n",
    "def Singleton(cls):\n",
    "    instances = {}\n",
    "    def getinstance(*args, **kwargs):\n",
    "        if cls not in instances:\n",
    "            instances[cls] = cls(*args, **kwargs)\n",
    "        return instances[cls]\n",
    "    return getinstance\n",
    "    \n",
    "@Singleton\n",
    "class Solution():\n",
    "    pass\n",
    "    \n",
    "# 使用元类\n",
    "class Singleton(type):\n",
    "    _instances = {}\n",
    "    def __call__(cls, *args, **kwargs):\n",
    "        if cls not in cls._instances:\n",
    "            cls._instances[cls] = super(Singleton, self).__call__(*args, **kwargs)\n",
    "        return cls._instances[cls]\n",
    "    \n",
    "class Solution(metaclass = Singleton):\n",
    "    pass"
   ]
  },
  {
   "cell_type": "code",
   "execution_count": null,
   "metadata": {},
   "outputs": [],
   "source": []
  }
 ],
 "metadata": {
  "kernelspec": {
   "display_name": "Python 3",
   "language": "python",
   "name": "python3"
  },
  "language_info": {
   "codemirror_mode": {
    "name": "ipython",
    "version": 3
   },
   "file_extension": ".py",
   "mimetype": "text/x-python",
   "name": "python",
   "nbconvert_exporter": "python",
   "pygments_lexer": "ipython3",
   "version": "3.5.2"
  }
 },
 "nbformat": 4,
 "nbformat_minor": 2
}
