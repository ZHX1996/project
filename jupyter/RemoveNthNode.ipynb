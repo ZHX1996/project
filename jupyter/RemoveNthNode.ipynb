{
 "cells": [
  {
   "cell_type": "code",
   "execution_count": 2,
   "metadata": {},
   "outputs": [
    {
     "name": "stdout",
     "output_type": "stream",
     "text": [
      "[1, 2, 4]\n"
     ]
    }
   ],
   "source": [
    "def Remove(s, n):\n",
    "    return s[:len(s)-n]+s[len(s)-n+1:]\n",
    "\n",
    "\n",
    "def Remove01(head, n):\n",
    "    fast = slow = head\n",
    "    for _ in range(n):\n",
    "        fast = fast.next\n",
    "    if not fast:\n",
    "        return head.next\n",
    "    while fast.next:\n",
    "        fast = fast.next\n",
    "        slow = slow.next\n",
    "    slow.next = slow.next.next\n",
    "    return head\n",
    "\n",
    "if __name__ == \"__main__\":\n",
    "    s = [1, 2, 3, 4]\n",
    "    n = 2\n",
    "    print(Remove(s, n))"
   ]
  },
  {
   "cell_type": "code",
   "execution_count": null,
   "metadata": {},
   "outputs": [],
   "source": []
  }
 ],
 "metadata": {
  "kernelspec": {
   "display_name": "Python 3",
   "language": "python",
   "name": "python3"
  },
  "language_info": {
   "codemirror_mode": {
    "name": "ipython",
    "version": 3
   },
   "file_extension": ".py",
   "mimetype": "text/x-python",
   "name": "python",
   "nbconvert_exporter": "python",
   "pygments_lexer": "ipython3",
   "version": "3.5.2"
  }
 },
 "nbformat": 4,
 "nbformat_minor": 2
}
