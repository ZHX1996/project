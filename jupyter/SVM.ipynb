{
 "cells": [
  {
   "cell_type": "code",
   "execution_count": 18,
   "metadata": {},
   "outputs": [
    {
     "name": "stdout",
     "output_type": "stream",
     "text": [
      "[1]\n",
      "[ 1.22120072]\n"
     ]
    }
   ],
   "source": [
    "from sklearn import svm\n",
    "\n",
    "X = [[0, 0], [1, 1], [1, 0]]\n",
    "y = [0, 1, 1]\n",
    "clf = svm.SVC()\n",
    "clf.fit(X, y)\n",
    "result = clf.predict([[2, 2]])\n",
    "print(result)\n",
    "\n",
    "X1 = [[0, 0], [1, 1]]\n",
    "y1 = [0.5, 1.5]\n",
    "clf1 = svm.SVR()\n",
    "clf1.fit(X1, y1)\n",
    "result1 = clf1.predict([[2, 2]])\n",
    "print(result1)"
   ]
  },
  {
   "cell_type": "code",
   "execution_count": null,
   "metadata": {},
   "outputs": [],
   "source": []
  }
 ],
 "metadata": {
  "kernelspec": {
   "display_name": "Python 3",
   "language": "python",
   "name": "python3"
  },
  "language_info": {
   "codemirror_mode": {
    "name": "ipython",
    "version": 3
   },
   "file_extension": ".py",
   "mimetype": "text/x-python",
   "name": "python",
   "nbconvert_exporter": "python",
   "pygments_lexer": "ipython3",
   "version": "3.5.2"
  }
 },
 "nbformat": 4,
 "nbformat_minor": 2
}
