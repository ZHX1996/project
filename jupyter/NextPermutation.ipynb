{
 "cells": [
  {
   "cell_type": "code",
   "execution_count": 11,
   "metadata": {},
   "outputs": [
    {
     "name": "stdout",
     "output_type": "stream",
     "text": [
      "[1, 3, 2]\n"
     ]
    }
   ],
   "source": [
    "def swap(nums, i, j):\n",
    "    temp = nums[i]\n",
    "    nums[i] = nums[j]\n",
    "    nums[j] = temp\n",
    "    return nums\n",
    "    \n",
    "\n",
    "def reverse(nums, start):\n",
    "    i, j = start, len(nums)-1\n",
    "    while(i<j):\n",
    "        swap(nums, i, j)\n",
    "        i+=1\n",
    "        j-=1\n",
    "    return nums\n",
    " \n",
    "\n",
    "def permutation(nums):\n",
    "    i = len(nums) - 2\n",
    "    while(i >= 0 and nums[i+1] <= nums[i]):\n",
    "        i-=1\n",
    "    if i >= 0:\n",
    "        j = len(nums) - 1\n",
    "        while(j >= 0 and nums[j] <= nums[i]):\n",
    "            j-=1\n",
    "        swap(nums, i, j)\n",
    "#     reverse(nums, i+1)\n",
    "    return nums\n",
    "    \n",
    "if __name__ == '__main__':\n",
    "    nums = [1,2,3]\n",
    "    print(permutation(nums))\n",
    "        "
   ]
  },
  {
   "cell_type": "code",
   "execution_count": null,
   "metadata": {},
   "outputs": [],
   "source": []
  }
 ],
 "metadata": {
  "kernelspec": {
   "display_name": "Python 3",
   "language": "python",
   "name": "python3"
  },
  "language_info": {
   "codemirror_mode": {
    "name": "ipython",
    "version": 3
   },
   "file_extension": ".py",
   "mimetype": "text/x-python",
   "name": "python",
   "nbconvert_exporter": "python",
   "pygments_lexer": "ipython3",
   "version": "3.5.2"
  }
 },
 "nbformat": 4,
 "nbformat_minor": 2
}
