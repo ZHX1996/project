{
 "cells": [
  {
   "cell_type": "code",
   "execution_count": 15,
   "metadata": {},
   "outputs": [
    {
     "name": "stdout",
     "output_type": "stream",
     "text": [
      "[1, 2, 3]\n",
      "[5, 6, 7]\n",
      "[1, 2, 3, 5, 6, 7]\n"
     ]
    }
   ],
   "source": [
    "class ListNode(object):\n",
    "    def __init__(self, x):\n",
    "        self.val = x\n",
    "        self.next = None\n",
    "        \n",
    "class Solution(object):\n",
    "    def merge(self, lists):\n",
    "#         self.nodes = []\n",
    "#         head = point = ListNode(0)\n",
    "#         for l in lists:\n",
    "#             while l:\n",
    "#                 self.nodes.append(l.val)\n",
    "#                 l = l.next\n",
    "#         for x in sorted(self.nodes):\n",
    "#             point.next = ListNode(x)\n",
    "#             point = point.next\n",
    "#         return head.next\n",
    "        l = []\n",
    "        for i in lists:\n",
    "            print(i)\n",
    "            l.extend(i)\n",
    "        l.sort()\n",
    "        return l\n",
    "    \n",
    "if __name__ == '__main__':\n",
    "    s = Solution()\n",
    "    lists = [[1,2,3], [5,6,7]]\n",
    "    print(s.merge(lists))"
   ]
  },
  {
   "cell_type": "code",
   "execution_count": null,
   "metadata": {},
   "outputs": [],
   "source": []
  }
 ],
 "metadata": {
  "kernelspec": {
   "display_name": "Python 3",
   "language": "python",
   "name": "python3"
  },
  "language_info": {
   "codemirror_mode": {
    "name": "ipython",
    "version": 3
   },
   "file_extension": ".py",
   "mimetype": "text/x-python",
   "name": "python",
   "nbconvert_exporter": "python",
   "pygments_lexer": "ipython3",
   "version": "3.5.2"
  }
 },
 "nbformat": 4,
 "nbformat_minor": 2
}
