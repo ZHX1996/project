{
 "cells": [
  {
   "cell_type": "code",
   "execution_count": 17,
   "metadata": {},
   "outputs": [
    {
     "name": "stdout",
     "output_type": "stream",
     "text": [
      "3\n"
     ]
    }
   ],
   "source": [
    "def Median(nums1, nums2):\n",
    "    m, n = len(nums1), len(nums2)\n",
    "    if m > n:\n",
    "        nums1, nums2, m, n = nums2, nums1, n, m\n",
    "    if n == 0:\n",
    "        raise ValueError\n",
    "\n",
    "    imin, imax, half_len = 0, m, (m+n+1)/2\n",
    "    while imin <= imax:\n",
    "        i = int((imin + imax) / 2)\n",
    "        j = int(half_len - i)\n",
    "        if i < m and nums2[j-1] > nums1[i]:\n",
    "            imin = i + 1\n",
    "        elif i > 0 and nums1[i-1] > nums2[j]:\n",
    "            imax = i - 1\n",
    "        else:\n",
    "            if i == 0: max_of_left = nums2[j-1]\n",
    "            elif j == 0: max_of_left = nums1[i-1]\n",
    "            else: max_of_left = max(nums1[i-1], nums2[j-1])\n",
    "            \n",
    "            if (m + n) % 2 == 1:\n",
    "                return max_of_left\n",
    "            \n",
    "            if i == m: min_of_right=nums2[j]\n",
    "            elif j == n: min_of_right=nums1[i]\n",
    "            else: min_of_right=min(nums1[i], nums2[j])\n",
    "                \n",
    "            return (max_of_left + min_of_right) / 2.0\n",
    "           \n",
    "if __name__ == '__main__':\n",
    "    l1 = [1, 2, 5]\n",
    "    l2 = [3, 4]\n",
    "    print(Median(l1, l2))"
   ]
  }
 ],
 "metadata": {
  "kernelspec": {
   "display_name": "Python 3",
   "language": "python",
   "name": "python3"
  },
  "language_info": {
   "codemirror_mode": {
    "name": "ipython",
    "version": 3
   },
   "file_extension": ".py",
   "mimetype": "text/x-python",
   "name": "python",
   "nbconvert_exporter": "python",
   "pygments_lexer": "ipython3",
   "version": "3.5.2"
  }
 },
 "nbformat": 4,
 "nbformat_minor": 2
}
