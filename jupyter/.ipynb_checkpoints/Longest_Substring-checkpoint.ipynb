{
 "cells": [
  {
   "cell_type": "code",
   "execution_count": 19,
   "metadata": {},
   "outputs": [
    {
     "name": "stdout",
     "output_type": "stream",
     "text": [
      "['a', 'b', 'c'] 3\n",
      "['c', 'a', 'b']\n",
      "dict_keys(['c', 'a', 'b'])\n",
      "['a', 'b', 'c'] 3\n"
     ]
    }
   ],
   "source": [
    "class Solution(object):\n",
    "    def lengthOfLongestSubString(self, s):\n",
    "        n = 0\n",
    "        l = []\n",
    "        for i in s:\n",
    "            if i not in l:\n",
    "                l.append(i)\n",
    "                n+=1\n",
    "        print(l, n)\n",
    "    \n",
    "    def useSet(self, s):\n",
    "        l = list(set(s))\n",
    "        print(l)\n",
    "        \n",
    "    def useDict(self, s):\n",
    "        l = {}.fromkeys(s).keys()\n",
    "        print(l)\n",
    "        \n",
    "    def useDict_sort(self, s):\n",
    "        l = list(set(s))\n",
    "        l.sort(key=s.index)\n",
    "        print(l, len(l))\n",
    "    \n",
    "if __name__ == '__main__':\n",
    "    test = Solution()\n",
    "    s = ['a', 'b', 'c', 'a', 'b', 'c']\n",
    "    test.lengthOfLongestSubString(s)\n",
    "    test.useSet(s)\n",
    "    test.useDict(s)\n",
    "    test.useDict_sort(s)"
   ]
  },
  {
   "cell_type": "code",
   "execution_count": null,
   "metadata": {},
   "outputs": [],
   "source": []
  }
 ],
 "metadata": {
  "kernelspec": {
   "display_name": "Python 3",
   "language": "python",
   "name": "python3"
  },
  "language_info": {
   "codemirror_mode": {
    "name": "ipython",
    "version": 3
   },
   "file_extension": ".py",
   "mimetype": "text/x-python",
   "name": "python",
   "nbconvert_exporter": "python",
   "pygments_lexer": "ipython3",
   "version": "3.5.2"
  }
 },
 "nbformat": 4,
 "nbformat_minor": 2
}
