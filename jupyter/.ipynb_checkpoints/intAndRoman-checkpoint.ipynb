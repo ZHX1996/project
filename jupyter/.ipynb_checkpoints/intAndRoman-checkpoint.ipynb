{
 "cells": [
  {
   "cell_type": "code",
   "execution_count": 20,
   "metadata": {},
   "outputs": [
    {
     "name": "stdout",
     "output_type": "stream",
     "text": [
      "1637\n"
     ]
    }
   ],
   "source": [
    "def intToRoman(num):\n",
    "    M = [\"\", \"M\", \"MM\", \"MMM\"];\n",
    "    C = [\"\", \"C\", \"CC\", \"CCC\", \"CD\", \"D\", \"DC\", \"DCC\", \"DCCC\", \"CM\"]\n",
    "    X = [\"\", \"X\", \"XX\", \"XXX\", \"XL\", \"L\", \"LX\", \"LXX\", \"LXXX\", \"XC\"]\n",
    "    I = [\"\", \"I\", \"II\", \"III\", \"IV\", \"V\", \"VI\", \"VII\", \"VIII\", \"IX\"]\n",
    "    return M[num//1000] + C[(num%1000)//100] + X[(num%100)//10] + I[num%10]\n",
    "\n",
    "def RomanToInt(s):\n",
    "    roman = {'M':1000, 'D':500, 'C':100, 'L':50, 'X':10, 'V':5, 'I':1}\n",
    "    ret = 0\n",
    "    for i in range(0, len(s) - 1):\n",
    "        if roman[s[i]]<roman[s[i+1]]:\n",
    "            ret-=roman[s[i]]\n",
    "        else:\n",
    "            ret+=roman[s[i]]\n",
    "    return ret+roman[s[-1]]\n",
    "\n",
    "if __name__ == \"__main__\":\n",
    "    num = 1637\n",
    "    s = 'MDCXXXVII'\n",
    "    #print(intToRoman(num))\n",
    "    print(RomanToInt(s))\n",
    "    "
   ]
  },
  {
   "cell_type": "code",
   "execution_count": 16,
   "metadata": {},
   "outputs": [
    {
     "data": {
      "text/plain": [
       "1"
      ]
     },
     "execution_count": 16,
     "metadata": {},
     "output_type": "execute_result"
    }
   ],
   "source": [
    "120//100"
   ]
  }
 ],
 "metadata": {
  "kernelspec": {
   "display_name": "Python 3",
   "language": "python",
   "name": "python3"
  },
  "language_info": {
   "codemirror_mode": {
    "name": "ipython",
    "version": 3
   },
   "file_extension": ".py",
   "mimetype": "text/x-python",
   "name": "python",
   "nbconvert_exporter": "python",
   "pygments_lexer": "ipython3",
   "version": "3.5.2"
  }
 },
 "nbformat": 4,
 "nbformat_minor": 2
}
