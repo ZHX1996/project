{
 "cells": [
  {
   "cell_type": "code",
   "execution_count": null,
   "metadata": {},
   "outputs": [],
   "source": [
    "# 顺时针打印矩阵\n",
    "def printMatrix(self, matrix):\n",
    "    res = []\n",
    "    m, n = len(matrix[0]), len(matrix)\n",
    "    if n==1 and m==1:\n",
    "        res = [matrix[0][0]]\n",
    "        return res\n",
    "    for o in range((min(m, n)+1)//2):\n",
    "        [res.append(matrix[o][i]) for i in range(o, m-o)]\n",
    "        [res.append(matrix[j][m-1-o]) for j in range(o, n-o) if matrix[j][m-1-o] not in res]\n",
    "        [res.append(matrix[n-1-o][k]) for k in range(m-1-o, o-1, -1) if matrix[n-1-o][k] not in res]\n",
    "        [res.append(matrix[l][o]) for l in range(n-1-o, o-1, -1) if matrix[l][o] not in res]\n",
    "    return res"
   ]
  },
  {
   "cell_type": "code",
   "execution_count": null,
   "metadata": {},
   "outputs": [],
   "source": [
    "# 判断平衡二叉树\n",
    "class Solution:\n",
    "    def IsBalanced_Solution(self, pRoot):\n",
    "        if pRoot is None:\n",
    "            return True\n",
    "        if abs(self.TreeDepth(pRoot.left)-self.TreeDepth(pRoot.right))>1:\n",
    "            return False\n",
    "        return self.IsBalanced_Solution(pRoot.left) and self.IsBalanced_Solution(pRoot.right)\n",
    "    \n",
    "    def TreeDepth(self, pRoot):\n",
    "        if pRoot is None:\n",
    "            return 0\n",
    "        return 1+max(self.TreeDepth(pRoot.left), self.TreeDepth(pRoot.right))"
   ]
  },
  {
   "cell_type": "code",
   "execution_count": null,
   "metadata": {},
   "outputs": [],
   "source": [
    "# 反转链表\n",
    "def reverseLinkedlist(pHead):\n",
    "    if not pHead or not pHead.next:\n",
    "        return pHead\n",
    "    last = None  \n",
    "    while pHead:\n",
    "        tmp = pHead.next\n",
    "        pHead.next = last\n",
    "        last = pHead\n",
    "        pHead = tmp\n",
    "    return last"
   ]
  },
  {
   "cell_type": "code",
   "execution_count": null,
   "metadata": {},
   "outputs": [],
   "source": [
    "# 位运算实现加法，波浪号按位取反\n",
    "def Add(num1, num2):\n",
    "    while num2 != 0:\n",
    "        temp = num1&num2\n",
    "        num1 = (num1^num2)%0x100000000\n",
    "        num2 = (temp<<1)%0x100000000\n",
    "    return num1 if num1<0x7fffffff else num1 | (~0x100000000+1)"
   ]
  },
  {
   "cell_type": "code",
   "execution_count": null,
   "metadata": {},
   "outputs": [],
   "source": [
    "# 得到栈中最小元素\n",
    "class Solution:\n",
    "    def __init__(self):\n",
    "        self.stack = []\n",
    "        self.minstack = []\n",
    "        \n",
    "    def push(self, node):\n",
    "        self.stack.append(node)\n",
    "        if not self.minstack or node <= self.minstack[-1]:\n",
    "            self.minstack.append(node)\n",
    "            \n",
    "    def pop(self):\n",
    "        if self.stack[-1] == self.minstack[-1]:\n",
    "            self.minstack.pop()\n",
    "        self.stack.pop()\n",
    "        \n",
    "    def top(self):\n",
    "        return self.stack[-1]\n",
    "    \n",
    "    def min(self):\n",
    "        return self.minstack[-1]"
   ]
  }
 ],
 "metadata": {
  "kernelspec": {
   "display_name": "Python 3",
   "language": "python",
   "name": "python3"
  },
  "language_info": {
   "codemirror_mode": {
    "name": "ipython",
    "version": 3
   },
   "file_extension": ".py",
   "mimetype": "text/x-python",
   "name": "python",
   "nbconvert_exporter": "python",
   "pygments_lexer": "ipython3",
   "version": "3.5.2"
  }
 },
 "nbformat": 4,
 "nbformat_minor": 2
}
