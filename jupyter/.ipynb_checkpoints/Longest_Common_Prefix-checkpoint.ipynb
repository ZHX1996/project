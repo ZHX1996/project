{
 "cells": [
  {
   "cell_type": "code",
   "execution_count": 23,
   "metadata": {},
   "outputs": [
    {
     "name": "stdout",
     "output_type": "stream",
     "text": [
      "('l', 'l', 'l')\n",
      "('e', 'e', 'e')\n",
      "('u', 'e', 'e')\n",
      "2\n",
      "le\n"
     ]
    }
   ],
   "source": [
    "def prefix(l):\n",
    "    if not l:\n",
    "        return \"\"\n",
    "    \n",
    "    for i, letter_group in enumerate(zip(*l)):\n",
    "        print(letter_group)\n",
    "        if len(set(letter_group)) > 1:\n",
    "            print(i)\n",
    "            return l[0][:i]\n",
    "    else:\n",
    "        return min(l)\n",
    "\n",
    "if __name__==\"__main__\":\n",
    "    l=['leut', 'leetc', 'leecd']\n",
    "    print(prefix(l))\n",
    "            "
   ]
  },
  {
   "cell_type": "code",
   "execution_count": 11,
   "metadata": {},
   "outputs": [
    {
     "name": "stdout",
     "output_type": "stream",
     "text": [
      "leetc\n"
     ]
    }
   ],
   "source": [
    "l=['leet', 'leetc', 'leecd']\n",
    "print(max(l))"
   ]
  },
  {
   "cell_type": "code",
   "execution_count": null,
   "metadata": {},
   "outputs": [],
   "source": []
  }
 ],
 "metadata": {
  "kernelspec": {
   "display_name": "Python 3",
   "language": "python",
   "name": "python3"
  },
  "language_info": {
   "codemirror_mode": {
    "name": "ipython",
    "version": 3
   },
   "file_extension": ".py",
   "mimetype": "text/x-python",
   "name": "python",
   "nbconvert_exporter": "python",
   "pygments_lexer": "ipython3",
   "version": "3.5.2"
  }
 },
 "nbformat": 4,
 "nbformat_minor": 2
}
