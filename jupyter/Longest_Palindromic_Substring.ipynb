{
 "cells": [
  {
   "cell_type": "code",
   "execution_count": 12,
   "metadata": {},
   "outputs": [
    {
     "name": "stdout",
     "output_type": "stream",
     "text": [
      "aba\n"
     ]
    }
   ],
   "source": [
    "def longestPalindrome(s):\n",
    "    if len(s)==0:\n",
    "        return 0\n",
    "    maxlen = 1\n",
    "    start = 0\n",
    "    for i in range(len(s)):\n",
    "        if i-maxlen >= 1 and s[i-maxlen-1:i+1]==s[i-maxlen-1:i+1][::-1]:\n",
    "            start = i-maxlen-1\n",
    "            maxlen+=2\n",
    "            continue\n",
    "        if i-maxlen>=0 and s[i-maxlen:i+1]==s[i-maxlen:i+1][::-1]:\n",
    "            start = i-maxlen\n",
    "            maxlen+=1\n",
    "    return s[start:start+maxlen]\n",
    "\n",
    "if __name__=='__main__':\n",
    "    s = 'abac'\n",
    "    print(longestPalindrome(s))"
   ]
  },
  {
   "cell_type": "code",
   "execution_count": 8,
   "metadata": {},
   "outputs": [
    {
     "name": "stdout",
     "output_type": "stream",
     "text": [
      "fedcba\n"
     ]
    }
   ],
   "source": [
    "s='abcdef'\n",
    "print(s[::-1])"
   ]
  }
 ],
 "metadata": {
  "kernelspec": {
   "display_name": "Python 3",
   "language": "python",
   "name": "python3"
  },
  "language_info": {
   "codemirror_mode": {
    "name": "ipython",
    "version": 3
   },
   "file_extension": ".py",
   "mimetype": "text/x-python",
   "name": "python",
   "nbconvert_exporter": "python",
   "pygments_lexer": "ipython3",
   "version": "3.5.2"
  }
 },
 "nbformat": 4,
 "nbformat_minor": 2
}
