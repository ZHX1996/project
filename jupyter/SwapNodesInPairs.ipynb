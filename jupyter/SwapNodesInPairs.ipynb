{
 "cells": [
  {
   "cell_type": "code",
   "execution_count": 17,
   "metadata": {},
   "outputs": [
    {
     "name": "stdout",
     "output_type": "stream",
     "text": [
      "[2, 1, 4, 3, 6, 5, 8, 7]\n"
     ]
    }
   ],
   "source": [
    "def Swap(l):\n",
    "    i = 0\n",
    "    while i < len(l)-1:\n",
    "        k = l[i]\n",
    "        l[i] = l[i+1]\n",
    "        l[i+1] = k\n",
    "        i+=2\n",
    "    return l\n",
    "\n",
    "if __name__ == '__main__':\n",
    "    l = [1,2,3,4,5,6,7,8]\n",
    "    print(Swap(l))   "
   ]
  },
  {
   "cell_type": "code",
   "execution_count": null,
   "metadata": {},
   "outputs": [],
   "source": []
  }
 ],
 "metadata": {
  "kernelspec": {
   "display_name": "Python 3",
   "language": "python",
   "name": "python3"
  },
  "language_info": {
   "codemirror_mode": {
    "name": "ipython",
    "version": 3
   },
   "file_extension": ".py",
   "mimetype": "text/x-python",
   "name": "python",
   "nbconvert_exporter": "python",
   "pygments_lexer": "ipython3",
   "version": "3.5.2"
  }
 },
 "nbformat": 4,
 "nbformat_minor": 2
}
