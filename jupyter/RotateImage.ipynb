{
 "cells": [
  {
   "cell_type": "code",
   "execution_count": 11,
   "metadata": {},
   "outputs": [
    {
     "name": "stdout",
     "output_type": "stream",
     "text": [
      "0\n",
      "1\n",
      "0\n",
      "[[3, 1], [4, 2]]\n"
     ]
    }
   ],
   "source": [
    "def rotate(l):\n",
    "    l.reverse()\n",
    "#     print(l)\n",
    "    for i in range(len(l)):\n",
    "        print(i)\n",
    "        for j in range(i):\n",
    "            print(j)\n",
    "#             print(l[i][j])\n",
    "#             print(l[j][i])\n",
    "            l[i][j], l[j][i] = l[j][i], l[i][j]\n",
    "    return l\n",
    "\n",
    "if __name__ == '__main__':\n",
    "#     l = [[1,2,3,4], [5,6,7,8], [9,10,11,12],[13,14,15,16]]\n",
    "    l = [[1,2], [3,4]]\n",
    "    print(rotate(l))"
   ]
  },
  {
   "cell_type": "code",
   "execution_count": 16,
   "metadata": {},
   "outputs": [],
   "source": [
    "for i in range(0):\n",
    "    print(i)"
   ]
  },
  {
   "cell_type": "code",
   "execution_count": null,
   "metadata": {},
   "outputs": [],
   "source": []
  }
 ],
 "metadata": {
  "kernelspec": {
   "display_name": "Python 3",
   "language": "python",
   "name": "python3"
  },
  "language_info": {
   "codemirror_mode": {
    "name": "ipython",
    "version": 3
   },
   "file_extension": ".py",
   "mimetype": "text/x-python",
   "name": "python",
   "nbconvert_exporter": "python",
   "pygments_lexer": "ipython3",
   "version": "3.5.2"
  }
 },
 "nbformat": 4,
 "nbformat_minor": 2
}
