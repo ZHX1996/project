{
 "cells": [
  {
   "cell_type": "code",
   "execution_count": 13,
   "metadata": {},
   "outputs": [
    {
     "name": "stdout",
     "output_type": "stream",
     "text": [
      "-6231\n"
     ]
    }
   ],
   "source": [
    "def reverse_integer(i):\n",
    "    if i >= 0:\n",
    "        i = str(i)\n",
    "        j = int(i[::-1],10)\n",
    "    else:\n",
    "        i = str(abs(i))\n",
    "        j = -1*int(i[::-1],10)\n",
    "    print(j*(j<2**31))\n",
    "\n",
    "if __name__=='__main__':\n",
    "    i = -1326\n",
    "    reverse_integer(i)"
   ]
  },
  {
   "cell_type": "code",
   "execution_count": null,
   "metadata": {},
   "outputs": [],
   "source": []
  },
  {
   "cell_type": "code",
   "execution_count": null,
   "metadata": {},
   "outputs": [],
   "source": []
  }
 ],
 "metadata": {
  "kernelspec": {
   "display_name": "Python 3",
   "language": "python",
   "name": "python3"
  },
  "language_info": {
   "codemirror_mode": {
    "name": "ipython",
    "version": 3
   },
   "file_extension": ".py",
   "mimetype": "text/x-python",
   "name": "python",
   "nbconvert_exporter": "python",
   "pygments_lexer": "ipython3",
   "version": "3.5.2"
  }
 },
 "nbformat": 4,
 "nbformat_minor": 2
}
