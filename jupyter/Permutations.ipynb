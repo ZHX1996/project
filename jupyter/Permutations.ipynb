{
 "cells": [
  {
   "cell_type": "code",
   "execution_count": 6,
   "metadata": {},
   "outputs": [
    {
     "name": "stdout",
     "output_type": "stream",
     "text": [
      "[[1, 2, 1], [2, 1, 1], [2, 1, 1], [1, 1, 2], [1, 1, 2], [1, 2, 1]]\n"
     ]
    }
   ],
   "source": [
    "from functools import reduce\n",
    "\n",
    "def permutations(nums):\n",
    "    return reduce(lambda P, n: [p[:i] + [n] + p[i:]\n",
    "                               for p in P for i in range(len(p)+1)],\n",
    "                 nums, [[]])\n",
    "\n",
    "def per(nums):\n",
    "    return [[n] + p for i, n in enumerate(nums)\n",
    "           for p in per(nums[:i] + nums[i+1:])] or [[]]\n",
    "\n",
    "def per02(nums):\n",
    "    ans = [[]]\n",
    "    for n in nums:\n",
    "        new_ans = []\n",
    "        for l in ans:\n",
    "#             print(l)\n",
    "            for i in range(len(l)+1):\n",
    "                new_ans.append(l[:i] + [n] + l[i:])\n",
    "#                 print(new_ans)\n",
    "                if i<len(l) and l[i]==n:break\n",
    "        ans = new_ans\n",
    "    return ans\n",
    "\n",
    "if __name__ == '__main__':\n",
    "    nums = [1,2,1]\n",
    "#     print(permutations(nums))\n",
    "    print(per02(nums))"
   ]
  },
  {
   "cell_type": "code",
   "execution_count": 10,
   "metadata": {},
   "outputs": [
    {
     "name": "stdout",
     "output_type": "stream",
     "text": [
      "0\n",
      "1\n",
      "1\n",
      "2\n",
      "2\n",
      "3\n"
     ]
    }
   ],
   "source": [
    "nums = [1,2,3]\n",
    "for i, n in enumerate(nums):\n",
    "    print(i)\n",
    "    print(n)"
   ]
  },
  {
   "cell_type": "code",
   "execution_count": null,
   "metadata": {},
   "outputs": [],
   "source": []
  }
 ],
 "metadata": {
  "kernelspec": {
   "display_name": "Python 3",
   "language": "python",
   "name": "python3"
  },
  "language_info": {
   "codemirror_mode": {
    "name": "ipython",
    "version": 3
   },
   "file_extension": ".py",
   "mimetype": "text/x-python",
   "name": "python",
   "nbconvert_exporter": "python",
   "pygments_lexer": "ipython3",
   "version": "3.5.2"
  }
 },
 "nbformat": 4,
 "nbformat_minor": 2
}
