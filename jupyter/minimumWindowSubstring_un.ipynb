{
 "cells": [
  {
   "cell_type": "code",
   "execution_count": 6,
   "metadata": {},
   "outputs": [
    {
     "name": "stdout",
     "output_type": "stream",
     "text": [
      "Counter({'C': 1, 'B': 1, 'A': 1})\n",
      "BANC\n"
     ]
    }
   ],
   "source": [
    "import collections\n",
    "def minWindow(s, t):\n",
    "    need, missing = collections.Counter(t), len(t)\n",
    "    print(need)\n",
    "    i = I = J = 0\n",
    "    for j,c in enumerate(s, 1):\n",
    "        missing -= need[c] > 0\n",
    "        need[c] -= 1\n",
    "        if not missing:\n",
    "            while i < j and need[s[i]] < 0:\n",
    "                need[s[i]] += 1\n",
    "                i += 1\n",
    "            if not J or j-i <= J-I:\n",
    "                I, J = i, j\n",
    "    print(s[I:J])\n",
    "    \n",
    "if __name__ == '__main__':\n",
    "    s = \"ADOBECODEBANC\"\n",
    "    t = \"ABC\"\n",
    "    minWindow(s, t)"
   ]
  },
  {
   "cell_type": "code",
   "execution_count": 18,
   "metadata": {},
   "outputs": [
    {
     "name": "stdout",
     "output_type": "stream",
     "text": [
      "1\n",
      "Counter({'C': 1, 'B': 1, 'A': 0})\n",
      "0\n",
      "Counter({'C': 1, 'B': 1, 'A': 0, 'D': -1})\n",
      "0\n",
      "Counter({'C': 1, 'B': 1, 'A': 0, 'O': -1, 'D': -1})\n",
      "1\n",
      "Counter({'C': 1, 'B': 0, 'A': 0, 'O': -1, 'D': -1})\n",
      "0\n",
      "Counter({'C': 1, 'B': 0, 'A': 0, 'O': -1, 'D': -1, 'E': -1})\n",
      "1\n",
      "Counter({'B': 0, 'A': 0, 'C': 0, 'O': -1, 'D': -1, 'E': -1})\n",
      "-1\n",
      "Counter({'B': 0, 'A': 0, 'C': 0, 'D': -1, 'E': -1, 'O': -2})\n",
      "-1\n",
      "Counter({'B': 0, 'A': 0, 'C': 0, 'E': -1, 'O': -2, 'D': -2})\n",
      "-1\n",
      "Counter({'B': 0, 'A': 0, 'C': 0, 'O': -2, 'D': -2, 'E': -2})\n",
      "0\n",
      "Counter({'A': 0, 'C': 0, 'B': -1, 'O': -2, 'D': -2, 'E': -2})\n",
      "0\n",
      "Counter({'C': 0, 'B': -1, 'A': -1, 'O': -2, 'D': -2, 'E': -2})\n",
      "0\n",
      "Counter({'C': 0, 'N': -1, 'B': -1, 'A': -1, 'O': -2, 'D': -2, 'E': -2})\n",
      "0\n",
      "Counter({'N': -1, 'B': -1, 'A': -1, 'C': -1, 'O': -2, 'D': -2, 'E': -2})\n"
     ]
    }
   ],
   "source": [
    "s = \"ADOBECODEBANC\"\n",
    "t = \"ABC\"\n",
    "need, missing = collections.Counter(t), len(t)\n",
    "i = I = J = 0\n",
    "for j,c in enumerate(s, 1):\n",
    "    print(need[c])\n",
    "    missing -= need[c] > 0\n",
    "    need[c] -=1\n",
    "    print(need)\n",
    "#     if not missing:\n",
    "#         print('a')\n",
    "#     print(missing)\n",
    "#     print(j)\n",
    "#     print(c)"
   ]
  },
  {
   "cell_type": "code",
   "execution_count": null,
   "metadata": {},
   "outputs": [],
   "source": []
  }
 ],
 "metadata": {
  "kernelspec": {
   "display_name": "Python 3",
   "language": "python",
   "name": "python3"
  },
  "language_info": {
   "codemirror_mode": {
    "name": "ipython",
    "version": 3
   },
   "file_extension": ".py",
   "mimetype": "text/x-python",
   "name": "python",
   "nbconvert_exporter": "python",
   "pygments_lexer": "ipython3",
   "version": "3.5.2"
  }
 },
 "nbformat": 4,
 "nbformat_minor": 2
}
