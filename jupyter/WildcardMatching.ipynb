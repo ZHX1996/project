{
 "cells": [
  {
   "cell_type": "code",
   "execution_count": 4,
   "metadata": {},
   "outputs": [
    {
     "name": "stdout",
     "output_type": "stream",
     "text": [
      "True\n"
     ]
    }
   ],
   "source": [
    "def isMatch(s, p):\n",
    "    length = len(s)\n",
    "    if len(p) - p.count('*') > length:\n",
    "        return False\n",
    "    dp = [True] + [False]*length\n",
    "    for i in p:\n",
    "        if i != '*':\n",
    "            for n in reversed(range(length)):\n",
    "                dp[n+1] = dp[n] and (i == s[n] or i == '?')\n",
    "        else:\n",
    "            for n in range(1, length+1):\n",
    "                dp[n] = dp[n-1] or dp[n]\n",
    "        dp[0] = dp[0] and i == '*'\n",
    "    return dp[-1]\n",
    "\n",
    "if __name__ == '__main__':\n",
    "    s = 'abc'\n",
    "    p = '*c'\n",
    "    print(isMatch(s, p))"
   ]
  },
  {
   "cell_type": "code",
   "execution_count": null,
   "metadata": {},
   "outputs": [],
   "source": []
  }
 ],
 "metadata": {
  "kernelspec": {
   "display_name": "Python 3",
   "language": "python",
   "name": "python3"
  },
  "language_info": {
   "codemirror_mode": {
    "name": "ipython",
    "version": 3
   },
   "file_extension": ".py",
   "mimetype": "text/x-python",
   "name": "python",
   "nbconvert_exporter": "python",
   "pygments_lexer": "ipython3",
   "version": "3.5.2"
  }
 },
 "nbformat": 4,
 "nbformat_minor": 2
}
