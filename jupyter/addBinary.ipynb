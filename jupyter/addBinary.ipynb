{
 "cells": [
  {
   "cell_type": "code",
   "execution_count": 8,
   "metadata": {},
   "outputs": [
    {
     "name": "stdout",
     "output_type": "stream",
     "text": [
      "0\n",
      "1\n",
      "1\n",
      "0\n",
      "1\n",
      "1001001\n"
     ]
    }
   ],
   "source": [
    "def addBinary(a, b):\n",
    "    if len(a) == 0:\n",
    "        return b\n",
    "    if len(b) == 0:\n",
    "        return a\n",
    "    if len(a) < len(b):\n",
    "        a, b = b, a\n",
    "    a, b = a[::-1], b[::-1]\n",
    "        \n",
    "    m = n = 0\n",
    "    num = ''\n",
    "    for i in range(len(b)):\n",
    "        m = int(a[i])^int(b[i])^n\n",
    "        if n==1:\n",
    "            n = int((int(a[i])+int(b[i])+1)/2)\n",
    "        if n==0:\n",
    "            n = int(a[i])&int(b[i])\n",
    "        num+=str(m)\n",
    "    \n",
    "    if i+1<len(a):    \n",
    "        for j in range(len(a)-i-1):\n",
    "            m = int(a[i+j+1])^n\n",
    "            n = int(a[i+j+1])&n\n",
    "            num+=str(m)\n",
    "            \n",
    "    if n != 0:\n",
    "        num+=str(n)\n",
    "        \n",
    "    print(num[::-1])\n",
    "                   \n",
    "if __name__ == '__main__':\n",
    "    a = \"110010\"\n",
    "    b = \"10111\"\n",
    "    addBinary(a, b)"
   ]
  },
  {
   "cell_type": "code",
   "execution_count": 45,
   "metadata": {},
   "outputs": [
    {
     "name": "stdout",
     "output_type": "stream",
     "text": [
      "0\n"
     ]
    }
   ],
   "source": [
    "print(0^0^0)"
   ]
  },
  {
   "cell_type": "code",
   "execution_count": null,
   "metadata": {},
   "outputs": [],
   "source": []
  }
 ],
 "metadata": {
  "kernelspec": {
   "display_name": "Python 3",
   "language": "python",
   "name": "python3"
  },
  "language_info": {
   "codemirror_mode": {
    "name": "ipython",
    "version": 3
   },
   "file_extension": ".py",
   "mimetype": "text/x-python",
   "name": "python",
   "nbconvert_exporter": "python",
   "pygments_lexer": "ipython3",
   "version": "3.5.2"
  }
 },
 "nbformat": 4,
 "nbformat_minor": 2
}
