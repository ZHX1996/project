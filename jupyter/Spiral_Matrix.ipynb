{
 "cells": [
  {
   "cell_type": "code",
   "execution_count": 2,
   "metadata": {},
   "outputs": [
    {
     "name": "stdout",
     "output_type": "stream",
     "text": [
      "[1, 2, 3, 6, 9, 8, 7, 4, 5]\n"
     ]
    }
   ],
   "source": [
    "def spiralOrder(matrix):\n",
    "    def spiral_coords(r1, c1, r2, c2):\n",
    "        for c in range(c1, c2 + 1):\n",
    "            # top row\n",
    "            yield r1, c\n",
    "        for r in range(r1 + 1, r2 + 1):\n",
    "            # right side\n",
    "            yield r, c2\n",
    "        if r1 < r2 and c1 < c2:\n",
    "            for c in range(c2 - 1, c1, -1):\n",
    "                yield r2, c\n",
    "            for r in range(r2, r1, -1):\n",
    "                yield r, c1\n",
    "\n",
    "    if not matrix: return []\n",
    "    ans = []\n",
    "    r1, r2 = 0, len(matrix) - 1\n",
    "    c1, c2 = 0, len(matrix[0]) - 1\n",
    "    while r1 <= r2 and c1 <= c2:\n",
    "        for r, c in spiral_coords(r1, c1, r2, c2):\n",
    "            ans.append(matrix[r][c])\n",
    "        r1 += 1; r2 -= 1\n",
    "        c1 += 1; c2 -= 1\n",
    "    return ans\n",
    "\n",
    "if __name__ == '__main__':\n",
    "    s = [[1,2,3],[4,5,6],[7,8,9]]\n",
    "    print(spiralOrder(s))"
   ]
  },
  {
   "cell_type": "code",
   "execution_count": null,
   "metadata": {},
   "outputs": [],
   "source": []
  }
 ],
 "metadata": {
  "kernelspec": {
   "display_name": "Python 3",
   "language": "python",
   "name": "python3"
  },
  "language_info": {
   "codemirror_mode": {
    "name": "ipython",
    "version": 3
   },
   "file_extension": ".py",
   "mimetype": "text/x-python",
   "name": "python",
   "nbconvert_exporter": "python",
   "pygments_lexer": "ipython3",
   "version": "3.5.2"
  }
 },
 "nbformat": 4,
 "nbformat_minor": 2
}
