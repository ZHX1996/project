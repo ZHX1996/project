{
 "cells": [
  {
   "cell_type": "code",
   "execution_count": 17,
   "metadata": {},
   "outputs": [
    {
     "name": "stdout",
     "output_type": "stream",
     "text": [
      "True\n",
      "[[0, 0, 0, 0], [0, 0, 0, 0], [0, 0, 0, 0], [0, 0, 0, 0], [0, 0, 0, 0]]\n"
     ]
    }
   ],
   "source": [
    "def setZeroes(matrix):\n",
    "    # First row has zero?\n",
    "    m, n, firstRowHasZero = len(matrix), len(matrix[0]), not all(matrix[0])\n",
    "    print(firstRowHasZero)\n",
    "    # Use first row/column as marker, scan the matrix\n",
    "    for i in range(1, m):\n",
    "        for j in range(n):\n",
    "            if matrix[i][j] == 0:\n",
    "                matrix[0][j] = matrix[i][0] = 0\n",
    "    # Set the zeros\n",
    "    for i in range(1, m):\n",
    "        for j in range(n - 1, -1, -1):\n",
    "#         for j in range(n):\n",
    "            if matrix[i][0] == 0 or matrix[0][j] == 0:\n",
    "                matrix[i][j] = 0\n",
    "    # Set the zeros for the first row\n",
    "    if firstRowHasZero:\n",
    "        matrix[0] = [0] * n\n",
    "        \n",
    "    \n",
    "if __name__ == '__main__':\n",
    "    matrix = [[0,0,0,5],[4,3,1,4],[0,1,1,4],[1,2,1,3],[0,0,1,1]]\n",
    "    setZeroes(matrix)\n",
    "    print(matrix)"
   ]
  },
  {
   "cell_type": "code",
   "execution_count": null,
   "metadata": {},
   "outputs": [],
   "source": []
  }
 ],
 "metadata": {
  "kernelspec": {
   "display_name": "Python 3",
   "language": "python",
   "name": "python3"
  },
  "language_info": {
   "codemirror_mode": {
    "name": "ipython",
    "version": 3
   },
   "file_extension": ".py",
   "mimetype": "text/x-python",
   "name": "python",
   "nbconvert_exporter": "python",
   "pygments_lexer": "ipython3",
   "version": "3.5.2"
  }
 },
 "nbformat": 4,
 "nbformat_minor": 2
}
