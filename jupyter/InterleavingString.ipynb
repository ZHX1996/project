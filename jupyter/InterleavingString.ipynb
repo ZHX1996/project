{
 "cells": [
  {
   "cell_type": "code",
   "execution_count": 17,
   "metadata": {},
   "outputs": [
    {
     "name": "stdout",
     "output_type": "stream",
     "text": [
      "True\n",
      "True\n",
      "False\n",
      "False\n",
      "False\n",
      "True\n"
     ]
    }
   ],
   "source": [
    "class Solution:\n",
    "    def isInterleave(self, s1, s2, s3):\n",
    "        r, c, l = len(s1), len(s2), len(s3)\n",
    "        if r + c != l:\n",
    "            return False\n",
    "        dp = [[True for _ in range(c+1)] for _ in range(r+1)]\n",
    "        for i in range(1, r+1):\n",
    "            dp[i][0] = dp[i-1][0] and s1[i-1] == s3[i-1]\n",
    "            print(dp[i][0])\n",
    "        for j in range(1, c+1):\n",
    "            dp[0][j] = dp[0][j-1] and s2[j-1] == s3[j-1]\n",
    "        for i in range(1, r+1):\n",
    "            for j in range(1, c+1):\n",
    "                dp[i][j] = (dp[i-1][j] and s1[i-1] == s3[i-1+j]) or (dp[i][j-1] and s2[j-1] == s3[i-1+j])\n",
    "        return dp[-1][-1]\n",
    "\n",
    "    def isInterleave1(self, s1, s2, s3):\n",
    "        r, c, l = len(s1), len(s2), len(s3)\n",
    "        if r + c != l:\n",
    "            return False\n",
    "        stack, visited = [(0, 0)], set((0, 0))\n",
    "        while stack:\n",
    "            x, y = stack.pop()\n",
    "            if x+y == l:\n",
    "                return True\n",
    "            if x+1<=r and s1[x] == s3[x+y] and (x+1, y) not in visited:\n",
    "                stack.append((x+1, y))\n",
    "                visited.add((x+1, y))\n",
    "            if y+1<=c and s2[y] == s3[x+y] and (x, y+1) not in visited:\n",
    "                stack.append((x, y+1))\n",
    "                visited.add((x, y+1))\n",
    "        return False\n",
    "    \n",
    "if __name__ == '__main__':\n",
    "    s1 = 'aabcc'\n",
    "    s2 = 'dbbca'\n",
    "    s3 = 'aadbbcbcac'\n",
    "    s31 = 'aadbbbaccc'\n",
    "    print(Solution().isInterleave(s1, s2, s3))"
   ]
  },
  {
   "cell_type": "code",
   "execution_count": null,
   "metadata": {},
   "outputs": [],
   "source": []
  }
 ],
 "metadata": {
  "kernelspec": {
   "display_name": "Python 3",
   "language": "python",
   "name": "python3"
  },
  "language_info": {
   "codemirror_mode": {
    "name": "ipython",
    "version": 3
   },
   "file_extension": ".py",
   "mimetype": "text/x-python",
   "name": "python",
   "nbconvert_exporter": "python",
   "pygments_lexer": "ipython3",
   "version": "3.5.2"
  }
 },
 "nbformat": 4,
 "nbformat_minor": 2
}
