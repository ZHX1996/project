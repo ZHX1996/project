{
 "cells": [
  {
   "cell_type": "code",
   "execution_count": 25,
   "metadata": {},
   "outputs": [
    {
     "name": "stdout",
     "output_type": "stream",
     "text": [
      "[7, 0, 8]\n"
     ]
    }
   ],
   "source": [
    "class ListNode(object):\n",
    "    def __init__(self, x):\n",
    "        self.val = x\n",
    "        self.next = None\n",
    "        \n",
    "class Solution(object):\n",
    "    def addTwoNumbers(self, l1, l2):\n",
    "        l3 = []\n",
    "        mod = 0\n",
    "        for i in range(min(len(l1), len(l2))):\n",
    "            l3.append((l1[i] + l2[i] + mod) % 10)\n",
    "            mod = int((l1[i]+l2[i])/10)\n",
    "        print(l3)\n",
    "        \n",
    "if __name__ == '__main__':\n",
    "    test = Solution()\n",
    "    l1 = [2, 4, 3]\n",
    "    l2 = [5, 6, 4]\n",
    "    test.addTwoNumbers(l1, l2)\n",
    "            "
   ]
  }
 ],
 "metadata": {
  "kernelspec": {
   "display_name": "Python 3",
   "language": "python",
   "name": "python3"
  },
  "language_info": {
   "codemirror_mode": {
    "name": "ipython",
    "version": 3
   },
   "file_extension": ".py",
   "mimetype": "text/x-python",
   "name": "python",
   "nbconvert_exporter": "python",
   "pygments_lexer": "ipython3",
   "version": "3.5.2"
  }
 },
 "nbformat": 4,
 "nbformat_minor": 2
}
