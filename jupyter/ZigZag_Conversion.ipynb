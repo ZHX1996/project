{
 "cells": [
  {
   "cell_type": "code",
   "execution_count": 22,
   "metadata": {},
   "outputs": [
    {
     "name": "stdout",
     "output_type": "stream",
     "text": [
      "AEBDFC\n"
     ]
    }
   ],
   "source": [
    "def convert(s, nRows):\n",
    "    if nRows == 1 or nRows>=len(s):\n",
    "        return s\n",
    "    L=[''] * nRows\n",
    "    index, step = 0, 1\n",
    "    for x in s:\n",
    "        L[index] += x\n",
    "        if index == 0:\n",
    "            step = 1\n",
    "        elif index == nRows-1:\n",
    "            step = -1\n",
    "        index += step\n",
    "    return ''.join(L)\n",
    "        \n",
    "if __name__=='__main__':\n",
    "    s = 'ABCDEF'\n",
    "    print(convert(s, 3))\n",
    "    "
   ]
  },
  {
   "cell_type": "code",
   "execution_count": 23,
   "metadata": {},
   "outputs": [
    {
     "name": "stdout",
     "output_type": "stream",
     "text": [
      "['PQ', '', '']\n"
     ]
    }
   ],
   "source": [
    "L=['']*3\n",
    "L[0]+='P'\n",
    "L[0]+='Q'\n",
    "print(L)"
   ]
  },
  {
   "cell_type": "code",
   "execution_count": null,
   "metadata": {},
   "outputs": [],
   "source": []
  }
 ],
 "metadata": {
  "kernelspec": {
   "display_name": "Python 3",
   "language": "python",
   "name": "python3"
  },
  "language_info": {
   "codemirror_mode": {
    "name": "ipython",
    "version": 3
   },
   "file_extension": ".py",
   "mimetype": "text/x-python",
   "name": "python",
   "nbconvert_exporter": "python",
   "pygments_lexer": "ipython3",
   "version": "3.5.2"
  }
 },
 "nbformat": 4,
 "nbformat_minor": 2
}
