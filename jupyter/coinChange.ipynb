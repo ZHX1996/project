{
 "cells": [
  {
   "cell_type": "code",
   "execution_count": 3,
   "metadata": {},
   "outputs": [
    {
     "name": "stdout",
     "output_type": "stream",
     "text": [
      "1 1\n",
      "2 2\n",
      "3 3\n",
      "4 4\n",
      "5 1\n",
      "6 2\n",
      "7 3\n",
      "8 4\n",
      "9 5\n",
      "10 1\n",
      "11 2\n",
      "12 3\n",
      "13 4\n",
      "14 5\n",
      "15 2\n",
      "16 3\n",
      "17 4\n",
      "18 5\n",
      "19 6\n",
      "20 2\n",
      "21 1\n",
      "22 2\n",
      "23 3\n",
      "24 4\n",
      "25 1\n",
      "26 2\n",
      "27 3\n",
      "28 4\n",
      "29 5\n",
      "30 2\n",
      "31 2\n",
      "32 3\n",
      "33 4\n",
      "34 5\n",
      "35 2\n",
      "36 3\n",
      "37 4\n",
      "38 5\n",
      "39 6\n",
      "40 3\n",
      "41 3\n",
      "42 2\n",
      "43 3\n",
      "44 4\n",
      "45 3\n",
      "46 2\n",
      "47 3\n",
      "48 4\n",
      "49 5\n",
      "50 2\n",
      "51 3\n",
      "52 3\n",
      "53 4\n",
      "54 5\n",
      "55 3\n",
      "56 3\n",
      "57 4\n",
      "58 5\n",
      "59 6\n",
      "60 3\n",
      "61 4\n",
      "62 4\n",
      "63 3\n"
     ]
    }
   ],
   "source": [
    "def coinChange(values, money):\n",
    "    coinsUsed = {i:0 for i in range(money+1)}\n",
    "    for cents in range(1, money+1):\n",
    "        minCoins = cents\n",
    "        for value in values:\n",
    "            if value <= cents:\n",
    "                temp = coinsUsed[cents - value] + 1\n",
    "                if temp < minCoins:\n",
    "                    minCoins = temp\n",
    "        coinsUsed[cents] = minCoins\n",
    "        print(cents, coinsUsed[cents])\n",
    "        \n",
    "if __name__ == '__main__':\n",
    "    value = [25,21,10,5,1]\n",
    "    money = 63\n",
    "    coinChange(value, money)"
   ]
  },
  {
   "cell_type": "code",
   "execution_count": 6,
   "metadata": {},
   "outputs": [
    {
     "name": "stdout",
     "output_type": "stream",
     "text": [
      "[0, 1, 2, 3, 4, 1, 2, 3, 4, 5, 1, 2, 3, 4, 5, 2, 3, 4, 5, 6, 2, 1, 2, 3, 4, 1, 2, 3, 4, 5, 2, 2, 3, 4, 5, 2, 3, 4, 5, 6, 3, 3, 2, 3, 4, 3, 2, 3, 4, 5, 2, 3, 3, 4, 5, 3, 3, 4, 5, 6, 3, 4, 4, 3]\n",
      "[0, 1, 1, 1, 1, 5, 5, 5, 5, 5, 10, 10, 10, 10, 10, 10, 10, 10, 10, 10, 10, 21, 21, 21, 21, 25, 25, 25, 25, 25, 25, 21, 21, 21, 21, 25, 25, 25, 25, 25, 25, 21, 21, 21, 21, 25, 25, 25, 25, 25, 25, 25, 21, 21, 21, 25, 25, 25, 25, 25, 25, 25, 21, 21]\n",
      "63 需要 3 个货币来找零\n",
      "[21, 21, 21]\n"
     ]
    }
   ],
   "source": [
    "def giveChange(need_change, currency_list, num_list, used_list):\n",
    "    # need_change 需要找零的金额\n",
    "    # currency_list 面值列表\n",
    "    # num_list used_list 需要找零的最少货币数目\n",
    "    for change in range(need_change+1):\n",
    "        for currency in currency_list:\n",
    "            if (change-currency) >= 0 and (num_list[change-currency]+1 <= num_list[change]):\n",
    "                num_list[change] = num_list[change-currency]+1\n",
    "                used_list[change] = currency # 记录消耗的货币\n",
    "    return\n",
    "\n",
    "def showChange(need_change, used_list):\n",
    "    give_list = []\n",
    "    while need_change > 0:\n",
    "        give_list.append(used_list[need_change])\n",
    "        need_change -= used_list[need_change]\n",
    "    give_list.sort()\n",
    "    return give_list\n",
    "\n",
    "if __name__ == '__main__':\n",
    "    need_change = 63\n",
    "    currency_list = [1,5,10,21,25]\n",
    "    num_list = list(range(need_change+1))\n",
    "    used_list = list(range(need_change+1))\n",
    "    giveChange(need_change, currency_list, num_list, used_list)\n",
    "    print(num_list)\n",
    "    print(used_list)\n",
    "    print(\"{0} 需要 {1} 个货币来找零\".format(need_change, num_list[need_change]))\n",
    "    give_list = showChange(need_change, used_list)\n",
    "    print(give_list)"
   ]
  },
  {
   "cell_type": "code",
   "execution_count": null,
   "metadata": {},
   "outputs": [],
   "source": []
  }
 ],
 "metadata": {
  "kernelspec": {
   "display_name": "Python 3",
   "language": "python",
   "name": "python3"
  },
  "language_info": {
   "codemirror_mode": {
    "name": "ipython",
    "version": 3
   },
   "file_extension": ".py",
   "mimetype": "text/x-python",
   "name": "python",
   "nbconvert_exporter": "python",
   "pygments_lexer": "ipython3",
   "version": "3.5.2"
  }
 },
 "nbformat": 4,
 "nbformat_minor": 2
}
