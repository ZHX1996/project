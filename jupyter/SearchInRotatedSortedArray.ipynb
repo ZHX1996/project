{
 "cells": [
  {
   "cell_type": "code",
   "execution_count": 25,
   "metadata": {},
   "outputs": [
    {
     "name": "stdout",
     "output_type": "stream",
     "text": [
      "True\n"
     ]
    }
   ],
   "source": [
    "def search(nums, target):\n",
    "    l, r = 0, len(nums)-1\n",
    "    \n",
    "    while l <= r:\n",
    "        mid = l + (r-l) // 2\n",
    "        \n",
    "        if nums[mid] == target:\n",
    "            return True\n",
    "        while l < mid and nums[l] == nums[mid]: # trick part \n",
    "            l += 1\n",
    "            # the first half is ordered\n",
    "        if nums[l] <= nums[mid]:\n",
    "            # target is in the first half\n",
    "            if nums[l] <= target < nums[mid]:\n",
    "                r = mid - 1\n",
    "            else:\n",
    "                l = mid + 1\n",
    "            # the second half is ordered \n",
    "        else:\n",
    "            # target is in the second half\n",
    "            if nums[mid] < target <= nums[r]:\n",
    "                l = mid + 1\n",
    "            else:\n",
    "                r = mid - 1\n",
    "    return False\n",
    "\n",
    "if __name__ == '__main__':\n",
    "    nums = [1,3,1,1,1]\n",
    "    nums2 = [4,5,6,7,7,0,1,2]\n",
    "    print(search(nums2, 1))"
   ]
  },
  {
   "cell_type": "code",
   "execution_count": null,
   "metadata": {},
   "outputs": [],
   "source": []
  }
 ],
 "metadata": {
  "kernelspec": {
   "display_name": "Python 3",
   "language": "python",
   "name": "python3"
  },
  "language_info": {
   "codemirror_mode": {
    "name": "ipython",
    "version": 3
   },
   "file_extension": ".py",
   "mimetype": "text/x-python",
   "name": "python",
   "nbconvert_exporter": "python",
   "pygments_lexer": "ipython3",
   "version": "3.5.2"
  }
 },
 "nbformat": 4,
 "nbformat_minor": 2
}
