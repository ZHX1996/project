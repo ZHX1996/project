{
 "cells": [
  {
   "cell_type": "code",
   "execution_count": 11,
   "metadata": {},
   "outputs": [
    {
     "name": "stdout",
     "output_type": "stream",
     "text": [
      "6\n",
      "6.0\n"
     ]
    }
   ],
   "source": [
    "import math\n",
    "\n",
    "\n",
    "def find(m, n):\n",
    "    if m <= 0 or n<=0 or m > 100 or n > 100:\n",
    "        return 0\n",
    "    else:\n",
    "        # Fm,n = Fm,n-1 + Fm-1,n\n",
    "        aux = [[1 for x in range(n)] for x in range(m)]\n",
    "        for i in range(1, m):\n",
    "            for j in range(1, n):\n",
    "                aux[i][j] = aux[i][j-1] + aux[i-1][j]\n",
    "        print(aux[-1][-1])\n",
    "        \n",
    "        print(math.factorial(m+n-2)/math.factorial(m-1)/math.factorial(n-1))\n",
    "\n",
    "if __name__ == '__main__':\n",
    "    m = 3\n",
    "    n = 3\n",
    "    find(m, n)\n",
    "    "
   ]
  },
  {
   "cell_type": "code",
   "execution_count": 1,
   "metadata": {},
   "outputs": [
    {
     "name": "stdout",
     "output_type": "stream",
     "text": [
      "1\n"
     ]
    }
   ],
   "source": [
    "import numpy as np\n",
    "\n",
    "\n",
    "def find(l):\n",
    "    m, n = np.shape(l)\n",
    "    l[0][0] = 1-l[0][0]\n",
    "    \n",
    "    for i in range(1,n):\n",
    "        if not l[0][i]:\n",
    "            l[0][i] = l[0][i-1]\n",
    "        else:\n",
    "            l[0][i] = 0\n",
    "    \n",
    "    for i in range(1, m):\n",
    "        if not l[i][0]:\n",
    "            l[i][0] = l[i-1][0]\n",
    "        else:\n",
    "            l[i][0] = 0\n",
    "    \n",
    "    for i in range(1, m):\n",
    "        for j in range(1, n):\n",
    "            if not l[i][j]:\n",
    "                l[i][j] = l[i][j-1] + l[i-1][j]\n",
    "            else:\n",
    "                l[i][j] = 0\n",
    "    return l[-1][-1]\n",
    "        \n",
    "\n",
    "\n",
    "if __name__ == '__main__':\n",
    "#     l = [[0,0,0], [0,1,0], [0,1,0], [0,0,0]]\n",
    "    l = [[0,0], [1,0],[0,0]]\n",
    "    print(find(l))"
   ]
  },
  {
   "cell_type": "code",
   "execution_count": 2,
   "metadata": {},
   "outputs": [
    {
     "name": "stdout",
     "output_type": "stream",
     "text": [
      "4\n"
     ]
    }
   ],
   "source": [
    "def Add(a, b):\n",
    "    carry = sum = 1\n",
    "    while carry != 0:\n",
    "        sum = a^b\n",
    "        carry = (a&b)<<1\n",
    "        a = sum\n",
    "        b = carry\n",
    "    return sum\n",
    "\n",
    "if __name__ == '__main__':\n",
    "    print(Add(1,3))"
   ]
  }
 ],
 "metadata": {
  "kernelspec": {
   "display_name": "Python 3",
   "language": "python",
   "name": "python3"
  },
  "language_info": {
   "codemirror_mode": {
    "name": "ipython",
    "version": 3
   },
   "file_extension": ".py",
   "mimetype": "text/x-python",
   "name": "python",
   "nbconvert_exporter": "python",
   "pygments_lexer": "ipython3",
   "version": "3.5.2"
  }
 },
 "nbformat": 4,
 "nbformat_minor": 2
}
