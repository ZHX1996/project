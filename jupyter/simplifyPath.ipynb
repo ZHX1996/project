{
 "cells": [
  {
   "cell_type": "code",
   "execution_count": 22,
   "metadata": {},
   "outputs": [
    {
     "name": "stdout",
     "output_type": "stream",
     "text": [
      "/c\n",
      "['a']\n",
      "['a', 'b']\n",
      "['c']\n",
      "/c\n"
     ]
    }
   ],
   "source": [
    "def simplify(s):\n",
    "    endpos = s.rfind('/')\n",
    "    startpos = s.rfind('/', 0, endpos)\n",
    "    if startpos != -1 and endpos != -1:\n",
    "        return s[startpos:endpos]\n",
    "    else:\n",
    "        return s\n",
    "    \n",
    "\n",
    "def simplifyPath(path):\n",
    "    stack = []\n",
    "    for p in path.split(\"/\"):\n",
    "      if p == \"..\":\n",
    "        if stack: \n",
    "            stack.pop()\n",
    "      elif p and p != '.': \n",
    "        stack.append(p)\n",
    "        print(stack)\n",
    "    return \"/\" + \"/\".join(stack)\n",
    "    \n",
    "if __name__ == '__main__':\n",
    "    s = \"/a/./b/../../c/\"\n",
    "    s1 = '///'\n",
    "    print(simplify(s))\n",
    "    print(simplifyPath(s))"
   ]
  },
  {
   "cell_type": "code",
   "execution_count": 21,
   "metadata": {},
   "outputs": [
    {
     "name": "stdout",
     "output_type": "stream",
     "text": [
      "['', 'a', '.', 'b', '..', '..', 'c', '']\n",
      "/c\n"
     ]
    }
   ],
   "source": [
    "s = \"/a/./b/../../c/\"\n",
    "index = s.split('/')\n",
    "print(index)\n",
    "print('/'+'/'.join('c'))"
   ]
  },
  {
   "cell_type": "code",
   "execution_count": null,
   "metadata": {},
   "outputs": [],
   "source": []
  }
 ],
 "metadata": {
  "kernelspec": {
   "display_name": "Python 3",
   "language": "python",
   "name": "python3"
  },
  "language_info": {
   "codemirror_mode": {
    "name": "ipython",
    "version": 3
   },
   "file_extension": ".py",
   "mimetype": "text/x-python",
   "name": "python",
   "nbconvert_exporter": "python",
   "pygments_lexer": "ipython3",
   "version": "3.5.2"
  }
 },
 "nbformat": 4,
 "nbformat_minor": 2
}
