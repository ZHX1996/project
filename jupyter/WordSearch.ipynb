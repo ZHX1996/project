{
 "cells": [
  {
   "cell_type": "code",
   "execution_count": 21,
   "metadata": {},
   "outputs": [
    {
     "name": "stdout",
     "output_type": "stream",
     "text": [
      "False\n"
     ]
    }
   ],
   "source": [
    "def exist(board, word):\n",
    "    find = False\n",
    "    m, n = len(board), len(board[0])\n",
    "    for i in range(m):\n",
    "        for j in range(n):\n",
    "#             print(board[i][j])\n",
    "            if word[0] == board[i][j]:\n",
    "#                 print(1)\n",
    "                find = True\n",
    "                break\n",
    "        if find:\n",
    "            board[i][j] = ' '\n",
    "            break\n",
    "        else:\n",
    "            return False\n",
    "#     i,j = 1,0\n",
    "    \n",
    "    for num in word[1:]:\n",
    "        if i < m-1 and num == board[i+1][j]:\n",
    "            i += 1\n",
    "            board[i][j] = ' '\n",
    "        elif i >= 0 and num == board[i-1][j]:\n",
    "            i -= 1\n",
    "            board[i][j] = ' '\n",
    "        elif j < n-1 and num == board[i][j+1]:\n",
    "            j += 1\n",
    "            board[i][j] = ' '\n",
    "        elif j >= 0 and num == board[i][j-1]:\n",
    "            j -= 1\n",
    "            board[i][j] = ' '\n",
    "        else:\n",
    "            return False\n",
    "    return True\n",
    "        \n",
    "        \n",
    "\n",
    "if __name__ == '__main__':\n",
    "    board = [['A','B','C','E'],['S','F','C','S'],['A','D','E','E']]\n",
    "    word = \"ABCCED\"\n",
    "    board1 = [['a', 'b'], ['c', 'd']]\n",
    "    word1 = \"cdba\"\n",
    "    print(exist(board1, word1))"
   ]
  },
  {
   "cell_type": "code",
   "execution_count": 20,
   "metadata": {},
   "outputs": [
    {
     "name": "stdout",
     "output_type": "stream",
     "text": [
      "1\n"
     ]
    }
   ],
   "source": [
    "board = [['a', 'b'], ['c', 'd']]\n",
    "word = \"cdba\"\n",
    "m, n = len(board), len(board[0])\n",
    "for i in range(m):\n",
    "    for j in range(n):\n",
    "#         print(board[i][j])\n",
    "        if word[0] == board[i][j]:\n",
    "            print(i)"
   ]
  },
  {
   "cell_type": "code",
   "execution_count": null,
   "metadata": {},
   "outputs": [],
   "source": []
  }
 ],
 "metadata": {
  "kernelspec": {
   "display_name": "Python 3",
   "language": "python",
   "name": "python3"
  },
  "language_info": {
   "codemirror_mode": {
    "name": "ipython",
    "version": 3
   },
   "file_extension": ".py",
   "mimetype": "text/x-python",
   "name": "python",
   "nbconvert_exporter": "python",
   "pygments_lexer": "ipython3",
   "version": "3.5.2"
  }
 },
 "nbformat": 4,
 "nbformat_minor": 2
}
