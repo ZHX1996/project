{
 "cells": [
  {
   "cell_type": "code",
   "execution_count": 8,
   "metadata": {},
   "outputs": [
    {
     "name": "stdout",
     "output_type": "stream",
     "text": [
      "111221\n",
      "111221\n",
      "111221\n"
     ]
    }
   ],
   "source": [
    "import re\n",
    "import itertools\n",
    "\n",
    "\n",
    "def countAndSay(n):\n",
    "    s = '1'\n",
    "    for _ in range(n-1):\n",
    "        s = re.sub(r'(.)\\1*', lambda m: str(len(m.group(0))) + m.group(1), s)\n",
    "    return s\n",
    "\n",
    "def countAndSay02(n):\n",
    "    s = '1'\n",
    "    for _ in range(n-1):\n",
    "        s = ''.join(str(len(group)) + digit for group, digit in re.findall(r'((.)\\2*)', s))\n",
    "    return s\n",
    "\n",
    "def countAndSay03(n):\n",
    "    s = '1'\n",
    "    for _ in range(n-1):\n",
    "        s =''.join(str(len(list(group))) + digit for digit, group in itertools.groupby(s))\n",
    "    return s\n",
    "\n",
    "if __name__ == '__main__':\n",
    "    n = 5\n",
    "    print(countAndSay(n))\n",
    "    print(countAndSay02(n))\n",
    "    print(countAndSay03(n))\n",
    "    "
   ]
  },
  {
   "cell_type": "code",
   "execution_count": null,
   "metadata": {},
   "outputs": [],
   "source": []
  }
 ],
 "metadata": {
  "kernelspec": {
   "display_name": "Python 3",
   "language": "python",
   "name": "python3"
  },
  "language_info": {
   "codemirror_mode": {
    "name": "ipython",
    "version": 3
   },
   "file_extension": ".py",
   "mimetype": "text/x-python",
   "name": "python",
   "nbconvert_exporter": "python",
   "pygments_lexer": "ipython3",
   "version": "3.5.2"
  }
 },
 "nbformat": 4,
 "nbformat_minor": 2
}
