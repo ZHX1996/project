{
 "cells": [
  {
   "cell_type": "code",
   "execution_count": 7,
   "metadata": {},
   "outputs": [
    {
     "name": "stdout",
     "output_type": "stream",
     "text": [
      "[15, 22, 13, 4, 0]\n",
      "5535\n"
     ]
    }
   ],
   "source": [
    "def multiply(num1, num2):\n",
    "    num1 = num1[::-1]\n",
    "    num2 = num2[::-1] #从0开始，先反向\n",
    "    arr = [0 for i in range(len(num1) + len(num2))]\n",
    "    for i in range(len(num1)):\n",
    "        for j in range(len(num2)):\n",
    "            arr[i+j] += int(num1[i]) * int(num2[j])\n",
    "    print(arr)\n",
    "    ans = []\n",
    "    for i in range(len(arr)):\n",
    "        digit = int(arr[i] % 10)\n",
    "        carry = int(arr[i] / 10) #进位\n",
    "        if i < len(arr) - 1:\n",
    "            arr[i+1] += carry\n",
    "        ans.insert(0, str(digit)) # 反向插入\n",
    "    while ans[0] == '0' and len(ans) > 1:\n",
    "        del ans[0]\n",
    "    return ''.join(ans)\n",
    "\n",
    "if __name__ == '__main__':\n",
    "    num1 = '123'\n",
    "    num2 = '45'\n",
    "    print(multiply(num1, num2))"
   ]
  },
  {
   "cell_type": "code",
   "execution_count": null,
   "metadata": {},
   "outputs": [],
   "source": []
  }
 ],
 "metadata": {
  "kernelspec": {
   "display_name": "Python 3",
   "language": "python",
   "name": "python3"
  },
  "language_info": {
   "codemirror_mode": {
    "name": "ipython",
    "version": 3
   },
   "file_extension": ".py",
   "mimetype": "text/x-python",
   "name": "python",
   "nbconvert_exporter": "python",
   "pygments_lexer": "ipython3",
   "version": "3.5.2"
  }
 },
 "nbformat": 4,
 "nbformat_minor": 2
}
