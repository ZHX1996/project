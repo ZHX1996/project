{
 "cells": [
  {
   "cell_type": "code",
   "execution_count": 39,
   "metadata": {},
   "outputs": [],
   "source": [
    "import pandas as pd\n",
    "import numpy as np\n",
    "import matplotlib.pyplot as plt\n",
    "from statsmodels.graphics.tsaplots import plot_acf\n",
    "from statsmodels.graphics.tsaplots import plot_pacf\n",
    "from statsmodels.stats.diagnostic import acorr_ljungbox\n",
    "from statsmodels.tsa.arima_model import ARMA\n",
    "from statsmodels.tsa.stattools import adfuller\n",
    "import warnings\n",
    "warnings.filterwarnings(\"ignore\")\n",
    "\n",
    "file = 'E:\\消费会员.xlsx'\n",
    "data = pd.read_excel(file, index_col=u'门店')\n",
    "\n",
    "res = [[0 for i in range(6)] for j in range(len(data))]\n",
    "for x in range(len(data)):\n",
    "    s = data.iloc[x,:]\n",
    "    AR = ARMA(s, order=(1, 0)).fit(disp=-1)\n",
    "    temp = AR.predict(start=0, end=5)\n",
    "    for i in range(len(temp)):\n",
    "        k = str(temp.iloc[i]).split()\n",
    "        res[x][i] = round(float(k[0]),0)\n",
    "res = pd.DataFrame(res, index=data.index)\n",
    "res.to_excel('E:\\预测.xlsx')"
   ]
  },
  {
   "cell_type": "code",
   "execution_count": 16,
   "metadata": {
    "scrolled": true
   },
   "outputs": [
    {
     "name": "stdout",
     "output_type": "stream",
     "text": [
      "误差： 3420\n"
     ]
    }
   ],
   "source": [
    "# 用2017年的预测2018年的，并计算误差，这里每次往后预测一个月\n",
    "import pandas as pd\n",
    "import numpy as np\n",
    "import matplotlib.pyplot as plt\n",
    "from statsmodels.graphics.tsaplots import plot_acf\n",
    "from statsmodels.graphics.tsaplots import plot_pacf\n",
    "from statsmodels.stats.diagnostic import acorr_ljungbox\n",
    "from statsmodels.tsa.arima_model import ARMA\n",
    "from statsmodels.tsa.stattools import adfuller\n",
    "import warnings\n",
    "warnings.filterwarnings(\"ignore\")\n",
    "\n",
    "file = 'E:\\消费会员_new.xlsx'\n",
    "data = pd.read_excel(file, index_col=u'门店')\n",
    "data = data.iloc[:,23:]\n",
    "\n",
    "res  =[[0 for i in range(8)] for j in range(len(data))]\n",
    "for i in range(8):\n",
    "    x = data.iloc[:,i:i+13]\n",
    "    for j in range(len(x)):\n",
    "#         plot_acf(x.iloc[j]).show()  # 自相关图\n",
    "#         s = adfuller(x.iloc[j])\n",
    "#         print(s[1])    # 平稳性检验\n",
    "#         diff_x = x.diff().dropna()\n",
    "#         s = adfuller(diff_x.iloc[j])\n",
    "#         print(s[1])\n",
    "#         print(acorr_ljungbox(x.iloc[j], lags=1))\n",
    "        s = x.iloc[j]\n",
    "        AR = ARMA(s, order=(1, 0)).fit(disp=-1)\n",
    "        temp = AR.predict(start=0, end=0)\n",
    "        temp = str(temp).split()\n",
    "        res[j][i] = round(float(temp[1]),1)\n",
    "\n",
    "err = sum(abs(pd.DataFrame(res)-data.iloc[:,13:]))\n",
    "print('误差：', err//472)"
   ]
  },
  {
   "cell_type": "code",
   "execution_count": null,
   "metadata": {},
   "outputs": [],
   "source": []
  }
 ],
 "metadata": {
  "kernelspec": {
   "display_name": "Python 3",
   "language": "python",
   "name": "python3"
  },
  "language_info": {
   "codemirror_mode": {
    "name": "ipython",
    "version": 3
   },
   "file_extension": ".py",
   "mimetype": "text/x-python",
   "name": "python",
   "nbconvert_exporter": "python",
   "pygments_lexer": "ipython3",
   "version": "3.5.2"
  }
 },
 "nbformat": 4,
 "nbformat_minor": 2
}
