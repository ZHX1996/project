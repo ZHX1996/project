{
 "cells": [
  {
   "cell_type": "code",
   "execution_count": 7,
   "metadata": {},
   "outputs": [
    {
     "name": "stdout",
     "output_type": "stream",
     "text": [
      "2\n"
     ]
    }
   ],
   "source": [
    "def jump2(nums):\n",
    "    #use 'last' to keep track of the maximum distance that has been reach\n",
    "    #by using the minimum step 'ret', whereas 'curr' is the maximum distance\n",
    "    #that can be reached by using 'ret+1' steps, Thus, curr=max(i+nums[i])\n",
    "    ret = 0\n",
    "    last = 0\n",
    "    curr = 0\n",
    "    for i in range(len(nums)):\n",
    "        if i > last:\n",
    "            last = curr\n",
    "            ret += 1\n",
    "        curr = max(curr, i+nums[i])\n",
    "    return ret\n",
    "\n",
    "if __name__ == '__main__':\n",
    "    nums = [2,3,1,1,4]\n",
    "    print(jump2(nums))"
   ]
  },
  {
   "cell_type": "code",
   "execution_count": 6,
   "metadata": {},
   "outputs": [
    {
     "name": "stdout",
     "output_type": "stream",
     "text": [
      "4\n",
      "3\n",
      "2\n",
      "1\n",
      "True\n"
     ]
    }
   ],
   "source": [
    "def jump(nums):\n",
    "    n, index = len(nums), len(nums)-1\n",
    "    for i in range(index-1, -1, -1):\n",
    "        if i + nums[i] >= index:\n",
    "            print(index)\n",
    "            index = i\n",
    "    return index<=0\n",
    "\n",
    "if __name__ == '__main__':\n",
    "    s1 = [2,3,1,1,4]\n",
    "    s = [3,2,1,0,4]\n",
    "    print(jump(s1))"
   ]
  },
  {
   "cell_type": "code",
   "execution_count": null,
   "metadata": {},
   "outputs": [],
   "source": []
  }
 ],
 "metadata": {
  "kernelspec": {
   "display_name": "Python 3",
   "language": "python",
   "name": "python3"
  },
  "language_info": {
   "codemirror_mode": {
    "name": "ipython",
    "version": 3
   },
   "file_extension": ".py",
   "mimetype": "text/x-python",
   "name": "python",
   "nbconvert_exporter": "python",
   "pygments_lexer": "ipython3",
   "version": "3.5.2"
  }
 },
 "nbformat": 4,
 "nbformat_minor": 2
}
