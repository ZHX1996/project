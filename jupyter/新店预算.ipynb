{
 "cells": [
  {
   "cell_type": "code",
   "execution_count": 3,
   "metadata": {},
   "outputs": [
    {
     "name": "stdout",
     "output_type": "stream",
     "text": [
      "R^2: 0.7905818076560035\n",
      "预测值： [2418.45454545]\n"
     ]
    }
   ],
   "source": [
    "# coding:'utf-8'\n",
    "import pandas as pd\n",
    "import numpy as np\n",
    "from sklearn.tree import DecisionTreeRegressor\n",
    "from sklearn.ensemble import RandomForestRegressor\n",
    "import matplotlib.pyplot as plt\n",
    "from sklearn.preprocessing import StandardScaler, Normalizer\n",
    "\n",
    "file = 'E:\\predict.xlsx'\n",
    "data = pd.read_excel(file, index_col=u'序号')\n",
    "\n",
    "mapping1 = {'一线':6, '二线':5, '三线':4, '四线':3, '五线':2, '六线':1}\n",
    "# mapping1 = {'一线':1, '二线':2, '三线':3, '四线':4, '五线':5, '六线':6}\n",
    "mapping2 = {'万达':1, '非万达':0}\n",
    "data['城市级别'] = data['城市级别'].map(mapping1)\n",
    "data['万达'] = data['万达'].map(mapping2)\n",
    "x  = data.iloc[:,:8].values.astype(int)\n",
    "y = data.iloc[:,8].values.astype(int)\n",
    "\n",
    "scaler = Normalizer().fit(x)  \n",
    "x = scaler.transform(x)\n",
    "\n",
    "RFR = RandomForestRegressor(criterion='mae', random_state=4, n_estimators=11)  # mse值稍大\n",
    "\n",
    "RFR.fit(x,y)\n",
    "\n",
    "print('R^2:' , RFR.score(x,y))\n",
    "new_x = [[4,-1,3254,420,130,0,0,0]]\n",
    "# new_x = [[5,1,6391,45,35]]\n",
    "new_x = scaler.transform(new_x)\n",
    "print('预测值：', RFR.predict(new_x))\n",
    "\n",
    "# # 训练数据预测的误差\n",
    "# for i,j in zip(x,y):\n",
    "#     new_x = scaler.transform([i])\n",
    "#     print(RFR.predict(new_x)-j)"
   ]
  },
  {
   "cell_type": "code",
   "execution_count": 324,
   "metadata": {},
   "outputs": [
    {
     "name": "stdout",
     "output_type": "stream",
     "text": [
      "0.948579218918232\n",
      "0.7840866794026431\n",
      "644.0128205128206\n",
      "344.2097902097902\n"
     ]
    }
   ],
   "source": [
    "# 用前100个店训练模型，用后26个店测试，分别用了决策树回归和随机森林回归，随机森林误差较小，所以上面用了随机森林\n",
    "import pandas as pd\n",
    "import numpy as np\n",
    "from sklearn.tree import DecisionTreeRegressor\n",
    "from sklearn.ensemble import RandomForestRegressor\n",
    "import matplotlib.pyplot as plt\n",
    "from sklearn.preprocessing import StandardScaler, Normalizer\n",
    "\n",
    "file = 'E:\\predict.xlsx'\n",
    "data = pd.read_excel(file, index_col=u'序号')\n",
    "\n",
    "mapping1 = {'一线':6, '二线':5, '三线':4, '四线':3, '五线':2, '六线':1}\n",
    "# mapping1 = {'一线':1, '二线':2, '三线':3, '四线':4, '五线':5, '六线':6}\n",
    "mapping2 = {'万达':2, '非万达':1}\n",
    "data['城市级别'] = data['城市级别'].map(mapping1)\n",
    "data['万达'] = data['万达'].map(mapping2)\n",
    "\n",
    "x  = data.iloc[:100,:8].values.astype(int)\n",
    "y = data.iloc[:100,8].values.astype(int)\n",
    "\n",
    "x_test = data.iloc[100:,:8].values.astype(int)\n",
    "y_test = data.iloc[100:,8].values.astype(int)\n",
    "\n",
    "# scaler = StandardScaler().fit(x)  #  均值0，方差1\n",
    "scaler = Normalizer().fit(x)\n",
    "x = scaler.transform(x)\n",
    "\n",
    "DTR = DecisionTreeRegressor(criterion='mse', splitter = 'best', random_state=1, min_samples_split=4)\n",
    "RFR = RandomForestRegressor(criterion='mae', random_state=4, n_estimators=11)\n",
    "DTR.fit(x,y)\n",
    "RFR.fit(x,y)\n",
    "print(DTR.score(x,y))\n",
    "print(RFR.score(x,y))\n",
    "\n",
    "new_x_test = scaler.transform(x_test)\n",
    "DTR_y_predict = DTR.predict(new_x_test)\n",
    "RFR_y_predict = RFR.predict(new_x_test)\n",
    "print(sum(abs(DTR_y_predict-y_test))/26)\n",
    "print(sum(abs(RFR_y_predict-y_test))/26)"
   ]
  },
  {
   "cell_type": "code",
   "execution_count": null,
   "metadata": {},
   "outputs": [],
   "source": []
  }
 ],
 "metadata": {
  "kernelspec": {
   "display_name": "Python 3",
   "language": "python",
   "name": "python3"
  },
  "language_info": {
   "codemirror_mode": {
    "name": "ipython",
    "version": 3
   },
   "file_extension": ".py",
   "mimetype": "text/x-python",
   "name": "python",
   "nbconvert_exporter": "python",
   "pygments_lexer": "ipython3",
   "version": "3.5.0"
  }
 },
 "nbformat": 4,
 "nbformat_minor": 2
}
