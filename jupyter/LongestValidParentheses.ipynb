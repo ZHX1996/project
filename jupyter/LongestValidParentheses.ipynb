{
 "cells": [
  {
   "cell_type": "code",
   "execution_count": 3,
   "metadata": {},
   "outputs": [
    {
     "name": "stdout",
     "output_type": "stream",
     "text": [
      "6\n"
     ]
    }
   ],
   "source": [
    "def Longest(s):\n",
    "    left = right = maxlength = 0\n",
    "    # left to right\n",
    "    for i in range(len(s)):\n",
    "        if s[i] == '(':\n",
    "            left+=1\n",
    "        else:\n",
    "            right+=1\n",
    "        if left == right:\n",
    "            maxlength = max(maxlength, 2*right)\n",
    "        elif right >= left:\n",
    "            left = right = 0\n",
    "    # right to left        \n",
    "    left = right = 0\n",
    "    for i in range(len(s)-1):\n",
    "        if s[i] == '(':\n",
    "            left+=1\n",
    "        else:\n",
    "            right+=1\n",
    "        if left == right:\n",
    "            maxlength = max(maxlength, 2*left)\n",
    "        elif left >= right:\n",
    "            left = right = 0\n",
    "    \n",
    "    return maxlength\n",
    "\n",
    "if __name__ == '__main__':\n",
    "    s = '()()())))'\n",
    "    print(Longest(s))"
   ]
  },
  {
   "cell_type": "code",
   "execution_count": null,
   "metadata": {},
   "outputs": [],
   "source": []
  }
 ],
 "metadata": {
  "kernelspec": {
   "display_name": "Python 3",
   "language": "python",
   "name": "python3"
  },
  "language_info": {
   "codemirror_mode": {
    "name": "ipython",
    "version": 3
   },
   "file_extension": ".py",
   "mimetype": "text/x-python",
   "name": "python",
   "nbconvert_exporter": "python",
   "pygments_lexer": "ipython3",
   "version": "3.5.2"
  }
 },
 "nbformat": 4,
 "nbformat_minor": 2
}
