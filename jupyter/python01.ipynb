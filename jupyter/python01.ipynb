{
 "cells": [
  {
   "cell_type": "code",
   "execution_count": 4,
   "metadata": {},
   "outputs": [
    {
     "name": "stdout",
     "output_type": "stream",
     "text": [
      "25\n",
      "ben\n"
     ]
    },
    {
     "ename": "AttributeError",
     "evalue": "'student' object has no attribute 'nation'",
     "output_type": "error",
     "traceback": [
      "\u001b[1;31m---------------------------------------------------------------------------\u001b[0m",
      "\u001b[1;31mAttributeError\u001b[0m                            Traceback (most recent call last)",
      "\u001b[1;32m<ipython-input-4-30e40953196a>\u001b[0m in \u001b[0;36m<module>\u001b[1;34m()\u001b[0m\n\u001b[0;32m     13\u001b[0m \u001b[0mprint\u001b[0m\u001b[1;33m(\u001b[0m\u001b[0ma\u001b[0m\u001b[1;33m.\u001b[0m\u001b[0mage\u001b[0m\u001b[1;33m)\u001b[0m\u001b[1;33m\u001b[0m\u001b[0m\n\u001b[0;32m     14\u001b[0m \u001b[0mprint\u001b[0m\u001b[1;33m(\u001b[0m\u001b[0ma\u001b[0m\u001b[1;33m.\u001b[0m\u001b[0mname\u001b[0m\u001b[1;33m)\u001b[0m\u001b[1;33m\u001b[0m\u001b[0m\n\u001b[1;32m---> 15\u001b[1;33m \u001b[0ma\u001b[0m\u001b[1;33m.\u001b[0m\u001b[0mnation\u001b[0m \u001b[1;33m=\u001b[0m \u001b[1;34m'China'\u001b[0m\u001b[1;33m\u001b[0m\u001b[0m\n\u001b[0m\u001b[0;32m     16\u001b[0m \u001b[0mprint\u001b[0m\u001b[1;33m(\u001b[0m\u001b[0ma\u001b[0m\u001b[1;33m.\u001b[0m\u001b[0mnation\u001b[0m\u001b[1;33m)\u001b[0m\u001b[1;33m\u001b[0m\u001b[0m\n",
      "\u001b[1;31mAttributeError\u001b[0m: 'student' object has no attribute 'nation'"
     ]
    }
   ],
   "source": [
    "class student(object):\n",
    "    __slots__ = ('name', 'age', 'set_age')\n",
    "#     pass\n",
    "\n",
    "def set_age(self, age):\n",
    "    self.age = age\n",
    "\n",
    "from types import MethodType\n",
    "a = student()\n",
    "a.set_age = MethodType(set_age, a)\n",
    "a.set_age(25)\n",
    "a.name = 'ben'\n",
    "print(a.age)\n",
    "print(a.name)\n",
    "a.nation = 'China'\n",
    "print(a.nation)"
   ]
  },
  {
   "cell_type": "code",
   "execution_count": 15,
   "metadata": {},
   "outputs": [
    {
     "name": "stdout",
     "output_type": "stream",
     "text": [
      "resolution = 786432\n",
      "测试通过!\n"
     ]
    }
   ],
   "source": [
    "class Screen(object):\n",
    "    # width, height为可读写，resolution为只读\n",
    "    # @property把方法变成属性调用\n",
    "    # 只定义getter不定义setter就是只读属性\n",
    "    # @property可以用来进行参数检查\n",
    "    # 局部变量\n",
    "    @property\n",
    "    def width(self):\n",
    "        return self._width\n",
    "\n",
    "    @property\n",
    "    def height(self):\n",
    "        return self._height\n",
    "\n",
    "    @width.setter\n",
    "    def width(self, value):\n",
    "        self._width = value\n",
    "\n",
    "    @height.setter\n",
    "    def height(self, value):\n",
    "        self._height = value\n",
    "\n",
    "    @property\n",
    "    def resolution(self):\n",
    "        return self._width * self._height\n",
    "\n",
    "s = Screen()\n",
    "s.width = 1024\n",
    "s.height = 768\n",
    "print('resolution =', s.resolution)\n",
    "if s.resolution == 786432:\n",
    "    print('测试通过!')\n",
    "else:\n",
    "    print('测试失败!')"
   ]
  },
  {
   "cell_type": "code",
   "execution_count": 6,
   "metadata": {},
   "outputs": [
    {
     "name": "stdout",
     "output_type": "stream",
     "text": [
      "dog\n",
      "callable\n",
      "True\n"
     ]
    }
   ],
   "source": [
    "class solution:\n",
    "#     def __getattribute__(self, value):\n",
    "#         print('1')\n",
    "    # __getattr__动态返回一个属性，只有在没有找到属性时才调用\n",
    "    def __getattr__(self, value):\n",
    "        if value == 'name':\n",
    "            return 'dog'\n",
    "        else:\n",
    "            return 'no this attribute'\n",
    "    \n",
    "    # __call__调用实例本身\n",
    "    def __call__(self):\n",
    "        return 'callable'\n",
    "    \n",
    "a = solution()\n",
    "print(a.name)\n",
    "print(a())\n",
    "print(callable(a))"
   ]
  },
  {
   "cell_type": "code",
   "execution_count": 24,
   "metadata": {},
   "outputs": [
    {
     "name": "stdout",
     "output_type": "stream",
     "text": [
      "1\n",
      "1\n",
      "2\n",
      "3\n",
      "5\n",
      "8\n",
      "13\n",
      "21\n",
      "34\n",
      "55\n",
      "89\n",
      "8\n",
      "[2, 3, 5]\n"
     ]
    }
   ],
   "source": [
    "# __iter__把一个类可以被用于for循环，变成可迭代的， __next__得到下一个\n",
    "class fib():\n",
    "    def __init__(self):\n",
    "        self.a, self.b = 0, 1\n",
    "        \n",
    "    def __iter__(self):\n",
    "        return self\n",
    "    \n",
    "    def __next__(self):\n",
    "        self.a, self.b = self.b, self.a+self.b\n",
    "        if self.a > 100:\n",
    "            raise StopIteration()\n",
    "        return self.a\n",
    "\n",
    "# __getitem__得到元素\n",
    "class fib2():\n",
    "    def __getitem__(self, n):\n",
    "        if isinstance(n, int):\n",
    "            a, b = 1, 1\n",
    "            for i in range(n):\n",
    "                a, b = b, a+b\n",
    "            return a\n",
    "\n",
    "        if isinstance(n, slice):\n",
    "            start = n.start\n",
    "            stop = n.stop\n",
    "            if start is None:\n",
    "                start = 0\n",
    "            a, b = 1, 1\n",
    "            L = []\n",
    "            for x in range(stop):\n",
    "                if x >= start:\n",
    "                    L.append(a)\n",
    "                a, b = b, a+b\n",
    "            return L\n",
    "    \n",
    "for n in fib():\n",
    "    print(n)\n",
    "    \n",
    "f = fib2()\n",
    "print(f[5])\n",
    "print(f[2:5])\n"
   ]
  },
  {
   "cell_type": "code",
   "execution_count": 30,
   "metadata": {},
   "outputs": [
    {
     "name": "stdout",
     "output_type": "stream",
     "text": [
      "Weekday.Sun\n",
      "Weekday.Mon\n",
      "Sun => Weekday.Sun => 0\n",
      "Mon => Weekday.Mon => 1\n",
      "Tue => Weekday.Tue => 2\n",
      "Wed => Weekday.Wed => 3\n",
      "Thu => Weekday.Thu => 4\n",
      "Fri => Weekday.Fri => 5\n",
      "Sat => Weekday.Sat => 6\n"
     ]
    }
   ],
   "source": [
    "from enum import Enum, unique\n",
    "\n",
    "@unique\n",
    "class Weekday(Enum):\n",
    "    Sun = 0\n",
    "    Mon = 1\n",
    "    Tue = 2\n",
    "    Wed = 3\n",
    "    Thu = 4\n",
    "    Fri = 5\n",
    "    Sat = 6\n",
    "    \n",
    "day1 = Weekday.Sun\n",
    "print(day1)\n",
    "print(Weekday(1))\n",
    "\n",
    "for name, member in Weekday.__members__.items():\n",
    "    print(name, '=>', member, '=>', member.value)"
   ]
  },
  {
   "cell_type": "code",
   "execution_count": 33,
   "metadata": {},
   "outputs": [
    {
     "name": "stdout",
     "output_type": "stream",
     "text": [
      "hello, world\n",
      "<class 'type'>\n",
      "<class '__main__.Hello'>\n"
     ]
    }
   ],
   "source": [
    "def fn(self):\n",
    "    print('hello, world')\n",
    "\n",
    "# 用type创建类，参数为类名，继承的父类集合， 方法名称与函数绑定\n",
    "Hello = type('Hello', (object,), dict(hello=fn))\n",
    "h = Hello()\n",
    "h.hello()\n",
    "print(type(Hello))\n",
    "print(type(h))"
   ]
  },
  {
   "cell_type": "code",
   "execution_count": null,
   "metadata": {},
   "outputs": [],
   "source": [
    "# 用元类给list类增加add方法\n",
    "# 使用__new__来创建类，参数为准备创建的类的对象，类名，父类集合，方法集合\n",
    "class ListMetaclass(type):\n",
    "    def __new__(cls, name, bases, attrs):\n",
    "        attrs['add'] = lambda self, value: self.append(value)\n",
    "        return type.__new__(cls, name, bases, attrs)\n",
    "    \n",
    "class MyList(list, metaclass = ListMetaclass):\n",
    "    pass\n",
    "\n",
    "l = MyList()\n",
    "l.add(1)\n",
    "print(l)"
   ]
  },
  {
   "cell_type": "code",
   "execution_count": 1,
   "metadata": {},
   "outputs": [
    {
     "ename": "SyntaxError",
     "evalue": "invalid syntax (<ipython-input-1-8a295ea37db6>, line 8)",
     "output_type": "error",
     "traceback": [
      "\u001b[1;36m  File \u001b[1;32m\"<ipython-input-1-8a295ea37db6>\"\u001b[1;36m, line \u001b[1;32m8\u001b[0m\n\u001b[1;33m    if __name__ == '__main__':\u001b[0m\n\u001b[1;37m                             ^\u001b[0m\n\u001b[1;31mSyntaxError\u001b[0m\u001b[1;31m:\u001b[0m invalid syntax\n"
     ]
    }
   ],
   "source": [
    "from multiprocessing import Process\n",
    "import os\n",
    "\n",
    "\n",
    "def func(name):\n",
    "    print('%s process id: %s' % (name, os.getpid())\n",
    "    \n",
    "if __name__ == '__main__':\n",
    "    p = Process(target=func, args=('test',))\n",
    "    p.start()\n",
    "    p.join()"
   ]
  },
  {
   "cell_type": "code",
   "execution_count": null,
   "metadata": {},
   "outputs": [],
   "source": [
    "from multiprocessing import Pool\n",
    "import os\n",
    "\n",
    "def func(name):\n",
    "    print('task %s id: %s' % (name, os.getpid()))\n",
    "    \n",
    "if __name__ == '__main__':\n",
    "    p = Pool(4)\n",
    "    for i in range(5):\n",
    "        p.apply_async(func, args=(i,))\n",
    "    p.close()\n",
    "    p.join()"
   ]
  },
  {
   "cell_type": "code",
   "execution_count": null,
   "metadata": {},
   "outputs": [],
   "source": [
    "import subprocess\n",
    "\n",
    "print('$ nslookup www.python.org')\n",
    "r = subprocess.call(['nslookup', 'www.python.org'])\n",
    "print('exit code:', r)"
   ]
  },
  {
   "cell_type": "code",
   "execution_count": null,
   "metadata": {},
   "outputs": [],
   "source": []
  }
 ],
 "metadata": {
  "kernelspec": {
   "display_name": "Python 3",
   "language": "python",
   "name": "python3"
  },
  "language_info": {
   "codemirror_mode": {
    "name": "ipython",
    "version": 3
   },
   "file_extension": ".py",
   "mimetype": "text/x-python",
   "name": "python",
   "nbconvert_exporter": "python",
   "pygments_lexer": "ipython3",
   "version": "3.5.2"
  }
 },
 "nbformat": 4,
 "nbformat_minor": 2
}
