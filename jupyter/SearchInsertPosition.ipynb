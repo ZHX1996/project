{
 "cells": [
  {
   "cell_type": "code",
   "execution_count": 20,
   "metadata": {},
   "outputs": [
    {
     "name": "stdout",
     "output_type": "stream",
     "text": [
      "2\n"
     ]
    }
   ],
   "source": [
    "def search(nums, target):\n",
    "#     try:\n",
    "#         ret = nums.index(target)\n",
    "#         return ret\n",
    "#     except:\n",
    "#         if target < nums[0]:\n",
    "#             return 0\n",
    "#         elif target > nums[-1]:\n",
    "#             return len(nums)\n",
    "#         else:\n",
    "#             for i in range(len(nums)):\n",
    "#                 if nums[i] < target < nums[i+1]:\n",
    "#                     return i+1\n",
    "    return len([x for x in nums if x < target])\n",
    "\n",
    "if __name__ == '__main__':\n",
    "    nums = [1,3,5,6]\n",
    "    target = 4\n",
    "    print(search(nums, target))\n",
    "        "
   ]
  },
  {
   "cell_type": "code",
   "execution_count": null,
   "metadata": {},
   "outputs": [],
   "source": []
  }
 ],
 "metadata": {
  "kernelspec": {
   "display_name": "Python 3",
   "language": "python",
   "name": "python3"
  },
  "language_info": {
   "codemirror_mode": {
    "name": "ipython",
    "version": 3
   },
   "file_extension": ".py",
   "mimetype": "text/x-python",
   "name": "python",
   "nbconvert_exporter": "python",
   "pygments_lexer": "ipython3",
   "version": "3.5.2"
  }
 },
 "nbformat": 4,
 "nbformat_minor": 2
}
