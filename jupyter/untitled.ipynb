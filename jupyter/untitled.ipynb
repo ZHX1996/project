{
 "cells": [
  {
   "cell_type": "code",
   "execution_count": 1,
   "metadata": {},
   "outputs": [
    {
     "name": "stdout",
     "output_type": "stream",
     "text": [
      "[[0, 0, 6, 6, 6, 6, 6, 6, 6, 6, 6], [0, 0, 6, 6, 9, 9, 9, 9, 9, 9, 9], [0, 0, 6, 6, 9, 9, 9, 9, 11, 11, 14], [0, 0, 6, 6, 9, 9, 9, 10, 11, 13, 14], [0, 0, 6, 6, 9, 9, 12, 12, 15, 15, 15]]\n",
      "[1, 1, 0, 0, 1]\n"
     ]
    }
   ],
   "source": [
    "def bag01(weight, w, v):\n",
    "    dp = [[0 for i in range(weight+1)] for j in range(len(w))]\n",
    "    for i in range(len(w)):\n",
    "        for j in range(weight+1):\n",
    "            dp[i][j] = dp[i-1][j]\n",
    "            if j >= w[i] and dp[i][j] < dp[i-1][j-w[i]] + v[i]:\n",
    "                dp[i][j] = dp[i-1][j-w[i]]+v[i]\n",
    "    print(dp)\n",
    "    \n",
    "    ret = [0]*len(w)\n",
    "    j = weight\n",
    "    for i in range(len(w)-1, -1, -1):\n",
    "        if i>0 and dp[i][j] == dp[i-1][j-w[i]]+v[i]:\n",
    "            ret[i] = 1\n",
    "            j -= w[i]\n",
    "        if i==0 and dp[i][j] == v[i]:\n",
    "            ret[i]=1\n",
    "    print(ret)\n",
    "    \n",
    "def completebag(weight, w, v):\n",
    "    for i in range(len(w)):\n",
    "        good = [[x,y] for x,y in zip(w,v)]\n",
    "    good.sort(key=lambda good:good[1]/good[0], reverse=True)\n",
    "    for i in range(len(good)):\n",
    "        w[i] = good[i][0]\n",
    "        v[i] = good[i][1]\n",
    "\n",
    "    \n",
    "if __name__ == '__main__':\n",
    "    w = [2,2,6,5,4]\n",
    "    v = [6,3,5,4,6]\n",
    "    w1 = [7,4,3,2]\n",
    "    v1 = [9,5,3,1]\n",
    "    weight = 10\n",
    "    bag01(weight, w, v)"
   ]
  },
  {
   "cell_type": "code",
   "execution_count": 121,
   "metadata": {},
   "outputs": [
    {
     "name": "stdout",
     "output_type": "stream",
     "text": [
      "6\n",
      "-3\n",
      "3\n"
     ]
    }
   ],
   "source": [
    "#贪心\n",
    "def maxSumofSubarray(s):\n",
    "    s_max, s_sum = 0, 0\n",
    "    for i in range(len(s)):\n",
    "        s_sum += s[i]\n",
    "        if s_sum > s_max:\n",
    "            s_max = s_sum\n",
    "        elif s_sum < 0:\n",
    "            s_sum = 0\n",
    "    print(s_max)\n",
    "    \n",
    "def minSumofSubarray(s):\n",
    "    s_min = sum(s)\n",
    "    s_sum = 0\n",
    "    for i in range(len(s)):\n",
    "        s_sum += s[i]\n",
    "        if s_sum < s_min:\n",
    "            s_min = s_sum\n",
    "        elif s_sum > 0:\n",
    "            s_sum = 0\n",
    "    print(s_min)\n",
    "    \n",
    "def car():\n",
    "    n=100\n",
    "    k=5\n",
    "    d=[50,80,39,60,40,32]\n",
    "    num = 0\n",
    "    sums = 0\n",
    "    for i in range(len(d)-1):\n",
    "        sums += d[i]\n",
    "        if sums + d[i+1]>100:\n",
    "            sums = 0\n",
    "            num += 1\n",
    "    print(num)\n",
    "\n",
    "\n",
    "if __name__ == '__main__':\n",
    "    s=[-2,2,-3,4,-1,2,1,-5,3]\n",
    "    s1 = [1,-1,-2,3]\n",
    "    maxSumofSubarray(s)\n",
    "    minSumofSubarray(s1)\n",
    "    car()"
   ]
  },
  {
   "cell_type": "code",
   "execution_count": 2,
   "metadata": {},
   "outputs": [
    {
     "name": "stdout",
     "output_type": "stream",
     "text": [
      "31\n"
     ]
    }
   ],
   "source": [
    "n = -5\n",
    "count = 0\n",
    "n = n & 0xffffffff\n",
    "while n:\n",
    "    n = n&(n-1)\n",
    "    count+=1\n",
    "print(count)"
   ]
  },
  {
   "cell_type": "code",
   "execution_count": 9,
   "metadata": {},
   "outputs": [
    {
     "name": "stdout",
     "output_type": "stream",
     "text": [
      "False\n"
     ]
    }
   ],
   "source": [
    "# 回溯法\n",
    "def has_Path(matrix, rows, cols, path):\n",
    "    for i in range(rows):\n",
    "        for j in range(cols):\n",
    "            if matrix[i*cols+j]==path[0]:\n",
    "                if find_Path(list(matrix), rows, cols, path[1:], i, j):\n",
    "                    return True\n",
    "    return False\n",
    "    \n",
    "def find_Path(matrix, rows, cols, path, i, j):\n",
    "    if not path:\n",
    "        return True\n",
    "    # 将走过的位置标记为0\n",
    "    matrix[i*cols+j] = '0'\n",
    "    if j-1>=0 and matrix[i*cols+j-1]==path[0]:\n",
    "        return find_Path(matrix, rows, cols, path[1:], i, j-1)\n",
    "    elif i-1>=0 and matrix[(i-1)*cols+j]==path[0]:\n",
    "        return find_Path(matrix, rows, cols, path[1:], i-1, j)\n",
    "    elif j+1<cols and matrix[i*cols+j+1]==path[0]:\n",
    "        return find_Path(matrix, rows, cols, path[1:], i, j+1)\n",
    "    elif i+1<rows and matrix[(i+1)*cols+j]==path[0]:\n",
    "        return find_Path(matrix, rows, cols, path[1:], i+1, j)\n",
    "    else:\n",
    "        return False\n",
    "    \n",
    "if __name__ == '__main__':\n",
    "    matrix = 'abcesfcsadee'\n",
    "    path = 'see'\n",
    "    print(has_Path(matrix, 3, 4, path))"
   ]
  },
  {
   "cell_type": "code",
   "execution_count": 18,
   "metadata": {},
   "outputs": [
    {
     "name": "stdout",
     "output_type": "stream",
     "text": [
      "2\n",
      "1\n",
      "4\n",
      "3\n",
      "6\n",
      "5\n",
      "8\n",
      "7\n",
      "9\n"
     ]
    }
   ],
   "source": [
    "class Node(object):\n",
    "    def __init__(self, data=None, next=None):\n",
    "        self.data = data\n",
    "        self.next = next\n",
    "\n",
    "link = Node(1, Node(2, Node(3, Node(4, Node(5, Node(6, Node(7, Node(8, Node(9)))))))))\n",
    "\n",
    "def reverse(l):\n",
    "    pre = l\n",
    "    cur = l.next\n",
    "    pre.next = None\n",
    "    while cur:\n",
    "        temp = cur.next\n",
    "        cur.next = pre\n",
    "        pre = cur\n",
    "        cur = temp\n",
    "#     return pre\n",
    "    while pre:\n",
    "        print(pre.data)\n",
    "        pre = pre.next\n",
    "        \n",
    "def swap(l):\n",
    "    new = Node(0)\n",
    "    new.next = l\n",
    "    l = new\n",
    "    \n",
    "    while l.next is not None and l.next.next is not None:\n",
    "        n1 = l.next\n",
    "        n2 = l.next.next\n",
    "        l.next = n2\n",
    "        n1.next = n2.next\n",
    "        n2.next = n1\n",
    "        l = n1\n",
    "#     return new.next\n",
    "    while new.next:\n",
    "        print(new.next.data)\n",
    "        new.next = new.next.next\n",
    "\n",
    "if __name__ == '__main__':\n",
    "#     reverse(link)\n",
    "    swap(link)"
   ]
  },
  {
   "cell_type": "code",
   "execution_count": 11,
   "metadata": {},
   "outputs": [
    {
     "name": "stdout",
     "output_type": "stream",
     "text": [
      "[[1, 2], [1, 3], [2, 3]]\n",
      "[[1, 2, 3], [1, 3, 2], [2, 1, 3], [2, 3, 1], [3, 1, 2], [3, 2, 1]]\n"
     ]
    }
   ],
   "source": [
    "import itertools\n",
    "\n",
    "s = [1,2,3]\n",
    "\n",
    "list01 = list(map(list, itertools.combinations(s, 2)))\n",
    "print(list01)\n",
    "\n",
    "list02 = list(map(list, itertools.permutations(s, 3)))\n",
    "print(list02)"
   ]
  },
  {
   "cell_type": "code",
   "execution_count": 7,
   "metadata": {},
   "outputs": [
    {
     "name": "stdout",
     "output_type": "stream",
     "text": [
      "[1, 1]\n"
     ]
    }
   ],
   "source": [
    "#31\n",
    "def nextPermutation(nums):\n",
    "    right = len(nums)-1\n",
    "    while nums[right] <= nums[right-1] and right-1 >=0:\n",
    "        right -= 1\n",
    "    if right == 0:\n",
    "        return reverse(nums,0,len(nums)-1)\n",
    "    # find pivot\n",
    "    pivot = right-1\n",
    "    successor = 0\n",
    "    # find rightmost succesor\n",
    "    for i in range(len(nums)-1,pivot,-1):\n",
    "        if nums[i] > nums[pivot]:\n",
    "            successor = i\n",
    "            break\n",
    "    # swap pivot and successor\n",
    "    nums[pivot],nums[successor] = nums[successor],nums[pivot]  \n",
    "    # reverse suffix\n",
    "    reverse(nums,pivot+1,len(nums)-1)\n",
    "        \n",
    "def reverse(nums,l,r):\n",
    "    while l < r:\n",
    "        nums[l],nums[r] = nums[r],nums[l]\n",
    "        l += 1\n",
    "        r -= 1\n",
    "\n",
    "if __name__ == '__main__':\n",
    "    arr = [1,1]\n",
    "    nextPermutation(arr)\n",
    "    print(arr)"
   ]
  },
  {
   "cell_type": "code",
   "execution_count": 12,
   "metadata": {},
   "outputs": [
    {
     "name": "stdout",
     "output_type": "stream",
     "text": [
      "[[1, 2, 3], [1, 3, 2], [2, 1, 3], [2, 3, 1], [3, 1, 2], [3, 2, 1]]\n",
      "[[1, 2, 3], [1, 3, 2], [2, 1, 3], [2, 3, 1], [3, 1, 2], [3, 2, 1]]\n"
     ]
    }
   ],
   "source": [
    "# 46\n",
    "def permutations(nums):\n",
    "    res =[]\n",
    "    dfs(nums, [], res)\n",
    "    return res\n",
    "\n",
    "def dfs(nums, path, res):\n",
    "    if not nums:\n",
    "        res.append(path)\n",
    "    for i in range(len(nums)):\n",
    "        dfs(nums[:i]+nums[i+1:], path+[nums[i]], res)\n",
    "        \n",
    "def permute(nums):\n",
    "    return [[n]+p for i,n in enumerate(nums) for p in permute(nums[:i]+nums[i+1:])] or [[]]\n",
    "        \n",
    "if __name__ == '__main__':\n",
    "    print(permutations([1,2,3]))\n",
    "    print(permute([1,2,3]))"
   ]
  },
  {
   "cell_type": "code",
   "execution_count": 3,
   "metadata": {},
   "outputs": [
    {
     "name": "stdout",
     "output_type": "stream",
     "text": [
      "[[2, 1, 1], [1, 2, 1], [1, 1, 2]]\n",
      "[[1, 1, 2], [1, 2, 1], [2, 1, 1]]\n"
     ]
    }
   ],
   "source": [
    "#47\n",
    "def permutations02(nums):\n",
    "    ret = [[]]\n",
    "    for n in nums:\n",
    "        temp = []\n",
    "        for item in ret:\n",
    "            for i in range(len(item) + 1):\n",
    "                temp += item[:i] + [n] + item[i:],\n",
    "                if i < len(item) and item[i] == n:\n",
    "                    break\n",
    "        ret = temp\n",
    "#         print(ret)\n",
    "    return ret if any(ret) else []\n",
    "\n",
    "def permutations021(nums):\n",
    "    res =[]\n",
    "    dfs(nums, [], res)\n",
    "    return res\n",
    "\n",
    "def dfs(nums, path, res):\n",
    "    if not nums:\n",
    "        if path not in res:\n",
    "            res.append(path)\n",
    "    for i in range(len(nums)):\n",
    "        dfs(nums[:i]+nums[i+1:], path+[nums[i]], res)\n",
    "\n",
    "if __name__ == '__main__':\n",
    "    nums = [1,1,2]\n",
    "    print(permutations02(nums))\n",
    "    print(permutations021(nums))"
   ]
  },
  {
   "cell_type": "code",
   "execution_count": 4,
   "metadata": {},
   "outputs": [
    {
     "name": "stdout",
     "output_type": "stream",
     "text": [
      "1243\n"
     ]
    }
   ],
   "source": [
    "# 60\n",
    "def permutationSequence(n, k):\n",
    "    nums = list(map(str, range(1, 10)))\n",
    "    perm = ''\n",
    "    k, factorial = k-1, 1\n",
    "    for i in range(1, n):\n",
    "        factorial *= i\n",
    "    \n",
    "    for i in range(n):\n",
    "        index = k//factorial\n",
    "        k = k % factorial\n",
    "        factorial = factorial // (n-1-i) if n-i-1 else 1\n",
    "        perm += nums[index]\n",
    "        del nums[index]\n",
    "    return perm\n",
    "    \n",
    "if __name__ == '__main__':\n",
    "    n = 4\n",
    "    k = 2\n",
    "    print(permutationSequence(n, k))"
   ]
  },
  {
   "cell_type": "code",
   "execution_count": 8,
   "metadata": {},
   "outputs": [
    {
     "name": "stdout",
     "output_type": "stream",
     "text": [
      "[[], [1], [1, 2], [1, 2, 3], [1, 3], [2], [2, 3], [3]]\n"
     ]
    }
   ],
   "source": [
    "# 78 \n",
    "class Solution():\n",
    "    def __init__(self):\n",
    "        self.res = []\n",
    "    \n",
    "    def subset(self, nums, path=[]):\n",
    "        self.res.append(path)\n",
    "        for i in range(len(nums)):\n",
    "            self.subset(nums[i+1:], path+[nums[i]])\n",
    "        return self.res\n",
    "        \n",
    "if __name__ == '__main__':\n",
    "    nums = [1,2,3]\n",
    "    subs = Solution()\n",
    "    print(subs.subset(nums))"
   ]
  },
  {
   "cell_type": "code",
   "execution_count": 13,
   "metadata": {},
   "outputs": [
    {
     "name": "stdout",
     "output_type": "stream",
     "text": [
      "[[], [1], [1, 2], [1, 2, 2], [2], [2, 2]]\n",
      "[[], [1], [2], [1, 2], [2, 2], [1, 2, 2]]\n"
     ]
    }
   ],
   "source": [
    "# 90\n",
    "class Solution():\n",
    "    def __init__(self):\n",
    "        self.res = []\n",
    "    \n",
    "    def subset(self, nums, path=[]):\n",
    "        if path not in self.res:\n",
    "            self.res.append(path) \n",
    "        for i in range(len(nums)):\n",
    "            self.subset(nums[i+1:], path+[nums[i]])\n",
    "        return self.res\n",
    "    \n",
    "def subset(nums):\n",
    "    res = [[]]\n",
    "    nums.sort()\n",
    "    for i in range(len(nums)):\n",
    "        if i==0 or nums[i] != nums[i-1]:\n",
    "            l=len(res)\n",
    "        for j in range(len(res)-l, len(res)):\n",
    "            res.append(res[j]+[nums[i]])\n",
    "    return res\n",
    "        \n",
    "if __name__ == '__main__':\n",
    "    nums = [1,2,2]\n",
    "    subs = Solution()\n",
    "    print(subs.subset(nums))\n",
    "    print(subset(nums))"
   ]
  },
  {
   "cell_type": "code",
   "execution_count": 21,
   "metadata": {},
   "outputs": [
    {
     "name": "stdout",
     "output_type": "stream",
     "text": [
      "[[2, 2, 3], [7]]\n"
     ]
    }
   ],
   "source": [
    "# 39\n",
    "def combinationSum(nums, target):\n",
    "    res = []\n",
    "    nums.sort()\n",
    "    \n",
    "    def dfs(remain, stack, index):\n",
    "        if remain==0:\n",
    "            res.append(stack)\n",
    "            return \n",
    "        \n",
    "        for i in range(index, len(nums)):\n",
    "            if nums[i] > remain:\n",
    "                break\n",
    "            dfs(remain-nums[i], stack+[nums[i]], i)\n",
    "                \n",
    "    dfs(target, [], 0)\n",
    "    return res\n",
    "    \n",
    "if __name__ == '__main__':\n",
    "    nums = [2,3,6,7]\n",
    "    target = 7\n",
    "    print(combinationSum(nums, target))"
   ]
  },
  {
   "cell_type": "code",
   "execution_count": 22,
   "metadata": {},
   "outputs": [
    {
     "name": "stdout",
     "output_type": "stream",
     "text": [
      "[(1, 1, 6), (2, 6), (1, 2, 5), (1, 7)]\n"
     ]
    }
   ],
   "source": [
    "# 40\n",
    "def combinationSum2(nums, target):\n",
    "    nums.sort()\n",
    "    dp = [set() for i in range(target+1)]\n",
    "    dp[0].add(())\n",
    "    for num in nums:\n",
    "        for i in range(target, num-1, -1):\n",
    "            for prev in dp[i-num]:\n",
    "                dp[i].add(prev+(num,))\n",
    "    return list(dp[-1])\n",
    "\n",
    "if __name__ == '__main__':\n",
    "    nums = [10, 1, 2, 7, 6, 1, 5]\n",
    "    target = 8\n",
    "    print(combinationSum2(nums, target))"
   ]
  },
  {
   "cell_type": "code",
   "execution_count": 26,
   "metadata": {},
   "outputs": [
    {
     "name": "stdout",
     "output_type": "stream",
     "text": [
      "{(1, 2, 3, 1)}\n"
     ]
    }
   ],
   "source": [
    "l = set()\n",
    "# l.add(1)\n",
    "l.add((1,2,3)+(1,))\n",
    "print(l)"
   ]
  },
  {
   "cell_type": "code",
   "execution_count": 26,
   "metadata": {},
   "outputs": [
    {
     "name": "stdout",
     "output_type": "stream",
     "text": [
      "[['a', 'a', 'b'], ['aa', 'b']]\n"
     ]
    }
   ],
   "source": [
    "# 131\n",
    "def partition(s):\n",
    "    res = []\n",
    "    dfs(s, [], res)\n",
    "    return res\n",
    "\n",
    "def dfs(s, path, res):\n",
    "    if not s:\n",
    "        res.append(path)\n",
    "        return\n",
    "    for i in range(1, len(s)+1):\n",
    "        if s[:i]==s[:i][::-1]:\n",
    "            dfs(s[i:], path+[s[:i]], res)\n",
    "            \n",
    "if __name__ == '__main__':\n",
    "    s = 'aab'\n",
    "    print(partition(s))"
   ]
  },
  {
   "cell_type": "code",
   "execution_count": 15,
   "metadata": {},
   "outputs": [
    {
     "name": "stdout",
     "output_type": "stream",
     "text": [
      "3\n"
     ]
    }
   ],
   "source": [
    "def changecoin(coins, amount):\n",
    "#     dp = [0] + [-1]*amount\n",
    "#     for x in range(amount):\n",
    "#         if dp[x] < 0:\n",
    "#             continue\n",
    "#         for c in coins:\n",
    "#             if x+c>amount:\n",
    "#                 continue\n",
    "#             if dp[x+c]<0 or dp[x+c]>dp[x]+1:\n",
    "#                 dp[x+c] = dp[x] + 1\n",
    "#     return dp[amount]\n",
    "\n",
    "\n",
    "#     INF = 0x7ffffffe\n",
    "#     dp = [0] + [INF] * amount \n",
    "    dp = [0] + [float('INF')]*amount\n",
    "    for i in range(amount + 1):\n",
    "        for coin in coins:\n",
    "            if i + coin <= amount:\n",
    "                dp[i+coin] = min(dp[i+coin],dp[i] + 1)\n",
    "    return dp[amount] if dp[amount] != INF else -1\n",
    "\n",
    "if __name__ == '__main__':\n",
    "    coins = [1,2,5]\n",
    "    amount = 11\n",
    "    print(changecoin(coins, amount))"
   ]
  },
  {
   "cell_type": "code",
   "execution_count": 3,
   "metadata": {},
   "outputs": [
    {
     "name": "stdout",
     "output_type": "stream",
     "text": [
      "4\n",
      "0\n"
     ]
    }
   ],
   "source": [
    "# 轮转序列找第K个数\n",
    "def findmin(s):\n",
    "    low = 0\n",
    "    high = len(s)-1\n",
    "    while low < high:\n",
    "        mid = (low + high)//2\n",
    "        if s[mid] > s[high]:\n",
    "            low = mid+1\n",
    "        else:\n",
    "            high = mid\n",
    "    return low\n",
    "\n",
    "def findKth(s, m, k):\n",
    "    if k > m:\n",
    "        return False\n",
    "    index = findmin(s)\n",
    "    return (index+k-1)%m\n",
    "\n",
    "if __name__ == '__main__':\n",
    "    s = [4,5,6,7,1,2,3]\n",
    "    print(findmin(s))\n",
    "    print(findKth(s, 7, 4))"
   ]
  },
  {
   "cell_type": "code",
   "execution_count": 6,
   "metadata": {},
   "outputs": [
    {
     "name": "stdout",
     "output_type": "stream",
     "text": [
      "4\n"
     ]
    }
   ],
   "source": [
    "# 两个有序列表的第K个数\n",
    "# i+j==k-1\n",
    "# 如果B[j-1]<A[i]<B[j] 则A[i]大于A中前i个数和B中前j个数，A[i]就是要找的数\n",
    "# 如果A[i-1]<B[j]<A[i] 则B[j]就是要找的数\n",
    "# 如果A[i]和B[j]都不是，要么A[i]比B[j-1]小，要么B[j]比A[i-1]小\n",
    "# 如果是A[i]比B[j-1]小，则去除A中较小的部分\n",
    "def findK(l1, m, l2, n, k):\n",
    "    i = int(m/(m+n)*(k-1))\n",
    "    j = k-1-i\n",
    "    \n",
    "    if (j<=0 or l2[j-1]<l1[i]) and (j>=n or l1[i]<l2[j]):\n",
    "        return l1[i]\n",
    "    if (i<=0 or l1[i-1]<l2[j]) and (i>=m or l2[j]<l1[i]):\n",
    "        return l2[j]\n",
    "    if j>0 and l1[i]<l2[j-1]:\n",
    "        return findK(l1[i+1:], m-i-1, l2, j, k-i-1)\n",
    "    else:\n",
    "        return findK(l1, m, l2[j+1:], n-j-1, k-j-1)\n",
    "    \n",
    "if __name__ == '__main__':\n",
    "    l1 = [1,3,5,7,9]\n",
    "    l2 = [2,4,6,8,10,11,12]\n",
    "    print(findK(l1, 5, l2, 7, 4))"
   ]
  },
  {
   "cell_type": "code",
   "execution_count": null,
   "metadata": {},
   "outputs": [],
   "source": [
    "1"
   ]
  }
 ],
 "metadata": {
  "kernelspec": {
   "display_name": "Python 3",
   "language": "python",
   "name": "python3"
  },
  "language_info": {
   "codemirror_mode": {
    "name": "ipython",
    "version": 3
   },
   "file_extension": ".py",
   "mimetype": "text/x-python",
   "name": "python",
   "nbconvert_exporter": "python",
   "pygments_lexer": "ipython3",
   "version": "3.5.2"
  }
 },
 "nbformat": 4,
 "nbformat_minor": 2
}
