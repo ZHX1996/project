{
 "cells": [
  {
   "cell_type": "code",
   "execution_count": 27,
   "metadata": {},
   "outputs": [
    {
     "name": "stdout",
     "output_type": "stream",
     "text": [
      "['This   is   an  ', 'of     text     ']\n"
     ]
    }
   ],
   "source": [
    "import math\n",
    "\n",
    "def fullJustification(words, maxWidth):\n",
    "    s = ''\n",
    "    ret = []\n",
    "    for i in words:\n",
    "        if len(s) + len(i) + 1 < maxWidth:\n",
    "            s += i + ' '\n",
    "        else:\n",
    "            length = 0\n",
    "            cache = s.split(' ')\n",
    "            s = ''\n",
    "            for i in cache:\n",
    "                length += len(i)\n",
    "            space = maxWidth - length\n",
    "            num = len(cache)\n",
    "            k = i = 0\n",
    "            while space > 0:\n",
    "                space -= k\n",
    "                num -= 1\n",
    "                if space <= 0 & num <= 0:\n",
    "                    break\n",
    "                k = math.ceil(space/num)\n",
    "#                 num -= 1\n",
    "#                 if num <= 0:\n",
    "#                     break\n",
    "                s += cache[i]\n",
    "                i += 1\n",
    "                s += ' '*k\n",
    "            ret.append(s)\n",
    "            s = ''\n",
    "    return ret\n",
    "        \n",
    "if __name__ == '__main__':\n",
    "    words = [\"This\", \"is\", \"an\", \"example\", \"of\", \"text\", \"justification.\"]\n",
    "    maxWidth = 16\n",
    "    print(fullJustification(words, maxWidth))"
   ]
  },
  {
   "cell_type": "code",
   "execution_count": 23,
   "metadata": {},
   "outputs": [
    {
     "name": "stdout",
     "output_type": "stream",
     "text": [
      "['This    is    an', 'example  of text', 'justification.  ']\n"
     ]
    }
   ],
   "source": [
    "def fullJustification(words, maxWidth):\n",
    "    res, cur, num_of_letters = [], [], 0\n",
    "    for w in words:\n",
    "        if num_of_letters + len(w) + len(cur) > maxWidth:\n",
    "            for i in range(maxWidth - num_of_letters):\n",
    "                cur[i%(len(cur)-1 or 1)] += ' '\n",
    "            res.append(''.join(cur))\n",
    "            cur, num_of_letters = [], 0\n",
    "        cur += [w]\n",
    "        num_of_letters += len(w)\n",
    "    return res + [' '.join(cur).ljust(maxWidth)]\n",
    "\n",
    "if __name__ == '__main__':\n",
    "    words = [\"This\", \"is\", \"an\", \"example\", \"of\", \"text\", \"justification.\"]\n",
    "    maxWidth = 16\n",
    "    print(fullJustification(words, maxWidth))"
   ]
  },
  {
   "cell_type": "code",
   "execution_count": null,
   "metadata": {},
   "outputs": [],
   "source": []
  }
 ],
 "metadata": {
  "kernelspec": {
   "display_name": "Python 3",
   "language": "python",
   "name": "python3"
  },
  "language_info": {
   "codemirror_mode": {
    "name": "ipython",
    "version": 3
   },
   "file_extension": ".py",
   "mimetype": "text/x-python",
   "name": "python",
   "nbconvert_exporter": "python",
   "pygments_lexer": "ipython3",
   "version": "3.5.2"
  }
 },
 "nbformat": 4,
 "nbformat_minor": 2
}
