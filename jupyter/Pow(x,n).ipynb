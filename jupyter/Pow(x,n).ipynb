{
 "cells": [
  {
   "cell_type": "code",
   "execution_count": 7,
   "metadata": {},
   "outputs": [
    {
     "name": "stdout",
     "output_type": "stream",
     "text": [
      "1024.0\n"
     ]
    }
   ],
   "source": [
    "def Pow(x, n):\n",
    "#     ret = 1\n",
    "#     for i in range(n):\n",
    "#         ret *= x\n",
    "\n",
    "    ret = x**n\n",
    "\n",
    "    return ret\n",
    "\n",
    "#     if not n:\n",
    "#         return 1\n",
    "#     if n < 0:\n",
    "#         return 1 / Pow(x, -n)\n",
    "#     if n % 2:\n",
    "#         return x * Pow(x, n-1)\n",
    "#     return Pow(x*x, n/2)\n",
    "\n",
    "if __name__ == '__main__':\n",
    "    print(Pow(2.00000, 10))"
   ]
  },
  {
   "cell_type": "code",
   "execution_count": null,
   "metadata": {},
   "outputs": [],
   "source": []
  }
 ],
 "metadata": {
  "kernelspec": {
   "display_name": "Python 3",
   "language": "python",
   "name": "python3"
  },
  "language_info": {
   "codemirror_mode": {
    "name": "ipython",
    "version": 3
   },
   "file_extension": ".py",
   "mimetype": "text/x-python",
   "name": "python",
   "nbconvert_exporter": "python",
   "pygments_lexer": "ipython3",
   "version": "3.5.2"
  }
 },
 "nbformat": 4,
 "nbformat_minor": 2
}
