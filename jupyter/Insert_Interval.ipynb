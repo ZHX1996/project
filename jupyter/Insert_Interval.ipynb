{
 "cells": [
  {
   "cell_type": "code",
   "execution_count": 1,
   "metadata": {},
   "outputs": [
    {
     "name": "stdout",
     "output_type": "stream",
     "text": [
      "[[1, 2], [3, 10], [12, 16]]\n"
     ]
    }
   ],
   "source": [
    "from functools import reduce\n",
    "\n",
    "def insert1(intervals, newInterval):\n",
    "    s, e = newInterval[0], newInterval[1]\n",
    "    left, right = [], []\n",
    "    for i in intervals:\n",
    "        if i[1] < s:\n",
    "            left += i,\n",
    "        elif i[0] > e:\n",
    "            right += i,\n",
    "        else:\n",
    "            s = min(s, i[0])\n",
    "            e = max(e, i[1])\n",
    "    return left + [[s, e]] + right\n",
    "\n",
    "def insert(s, interval):\n",
    "    s.append(interval)\n",
    "    s.sort()\n",
    "    print(s)\n",
    "    ret = []\n",
    "    def tight(s1, s2):\n",
    "        s1_left, s1_right, s2_left, s2_right = s1[0], s1[1], s2[0], s2[1]\n",
    "        if s1_right > s2_left:\n",
    "            i, j = s1_left, max(s1_right, s2_right)\n",
    "            return [i,j]\n",
    "        else:\n",
    "            ret.append(s1)\n",
    "            ret.append(s2)\n",
    "            return s2\n",
    "    reduce(tight, s)\n",
    "    return ret\n",
    "\n",
    "if __name__ == '__main__':\n",
    "    s = [[1,2],[3,5],[6,7],[8,10],[12,16]]\n",
    "    interval = [4,9]\n",
    "    print(insert1(s, interval))"
   ]
  },
  {
   "cell_type": "code",
   "execution_count": null,
   "metadata": {},
   "outputs": [],
   "source": []
  }
 ],
 "metadata": {
  "kernelspec": {
   "display_name": "Python 3",
   "language": "python",
   "name": "python3"
  },
  "language_info": {
   "codemirror_mode": {
    "name": "ipython",
    "version": 3
   },
   "file_extension": ".py",
   "mimetype": "text/x-python",
   "name": "python",
   "nbconvert_exporter": "python",
   "pygments_lexer": "ipython3",
   "version": "3.5.2"
  }
 },
 "nbformat": 4,
 "nbformat_minor": 2
}
