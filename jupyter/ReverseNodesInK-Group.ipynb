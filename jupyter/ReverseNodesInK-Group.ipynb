{
 "cells": [
  {
   "cell_type": "code",
   "execution_count": 34,
   "metadata": {},
   "outputs": [
    {
     "name": "stdout",
     "output_type": "stream",
     "text": [
      "[3, 2, 1, 4, 5, 6, 7]\n"
     ]
    }
   ],
   "source": [
    "def ReverseNode(l, n):\n",
    "    i = 0\n",
    "    s = ret = []\n",
    "    while i < len(l)-1 and i+n < len(l)-1:\n",
    "        s = l[i:i+n]\n",
    "        s.reverse()\n",
    "        ret.extend(s)\n",
    "        i+=n\n",
    "    ret.extend(l[i:])\n",
    "    return ret\n",
    "\n",
    "if __name__ == '__main__':\n",
    "    l = [1,2,3,4,5,6,7]\n",
    "    n=3\n",
    "    print(ReverseNode(l, 3))"
   ]
  },
  {
   "cell_type": "code",
   "execution_count": null,
   "metadata": {},
   "outputs": [],
   "source": []
  }
 ],
 "metadata": {
  "kernelspec": {
   "display_name": "Python 3",
   "language": "python",
   "name": "python3"
  },
  "language_info": {
   "codemirror_mode": {
    "name": "ipython",
    "version": 3
   },
   "file_extension": ".py",
   "mimetype": "text/x-python",
   "name": "python",
   "nbconvert_exporter": "python",
   "pygments_lexer": "ipython3",
   "version": "3.5.2"
  }
 },
 "nbformat": 4,
 "nbformat_minor": 2
}
