{
 "cells": [
  {
   "cell_type": "code",
   "execution_count": 2,
   "metadata": {},
   "outputs": [
    {
     "name": "stdout",
     "output_type": "stream",
     "text": [
      "1\n"
     ]
    }
   ],
   "source": [
    "def numDecodings(s):\n",
    "    if s == '': return 0\n",
    "    dp = [0] * (len(s)+1)\n",
    "    dp[0] = 1\n",
    "    for i in range(1, len(s)+1):\n",
    "        if s[i-1] != '0':\n",
    "            dp[i] += dp[i-1]\n",
    "        if i != 1 and s[i-2:i] < '27' and s[i-2:i] > '09':\n",
    "            dp[i]+=dp[i-2]\n",
    "    return dp[len(s)]\n",
    "            \n",
    "if __name__ == '__main__':\n",
    "    s = '101'\n",
    "    print(numDecodings(s))"
   ]
  },
  {
   "cell_type": "code",
   "execution_count": 1,
   "metadata": {},
   "outputs": [
    {
     "name": "stdout",
     "output_type": "stream",
     "text": [
      "12\n"
     ]
    }
   ],
   "source": [
    "s = '123'\n",
    "print(s[0:2])"
   ]
  },
  {
   "cell_type": "code",
   "execution_count": null,
   "metadata": {},
   "outputs": [],
   "source": []
  }
 ],
 "metadata": {
  "kernelspec": {
   "display_name": "Python 3",
   "language": "python",
   "name": "python3"
  },
  "language_info": {
   "codemirror_mode": {
    "name": "ipython",
    "version": 3
   },
   "file_extension": ".py",
   "mimetype": "text/x-python",
   "name": "python",
   "nbconvert_exporter": "python",
   "pygments_lexer": "ipython3",
   "version": "3.5.2"
  }
 },
 "nbformat": 4,
 "nbformat_minor": 2
}
