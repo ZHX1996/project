{
 "cells": [
  {
   "cell_type": "code",
   "execution_count": 3,
   "metadata": {},
   "outputs": [
    {
     "name": "stdout",
     "output_type": "stream",
     "text": [
      "6\n"
     ]
    }
   ],
   "source": [
    "def maxi(matrix):\n",
    "    if not matrix or not matrix[0]:\n",
    "        return 0\n",
    "    n = len(matrix[0])\n",
    "    height = [0] * (n+1)\n",
    "    ans = 0\n",
    "    for row in matrix:\n",
    "        for i in range(n):\n",
    "            height[i] = height[i] + 1 if row[i] == 1 else 0\n",
    "        stack = [-1]\n",
    "        for i in range(n+1):\n",
    "            while height[i] < height[stack[-1]]:\n",
    "                h = height[stack.pop()]\n",
    "                w = i - stack[-1] - 1\n",
    "                ans = max(ans, h*w)\n",
    "            stack.append(i)\n",
    "    return ans\n",
    "            \n",
    "if __name__ == '__main__':\n",
    "    matrix = [[1,0,1,0,0],[1,0,1,1,1],[1,1,1,1,1],[1,0,0,1,0]]\n",
    "    print(maxi(matrix))"
   ]
  },
  {
   "cell_type": "code",
   "execution_count": null,
   "metadata": {},
   "outputs": [],
   "source": []
  }
 ],
 "metadata": {
  "kernelspec": {
   "display_name": "Python 3",
   "language": "python",
   "name": "python3"
  },
  "language_info": {
   "codemirror_mode": {
    "name": "ipython",
    "version": 3
   },
   "file_extension": ".py",
   "mimetype": "text/x-python",
   "name": "python",
   "nbconvert_exporter": "python",
   "pygments_lexer": "ipython3",
   "version": "3.5.2"
  }
 },
 "nbformat": 4,
 "nbformat_minor": 2
}
