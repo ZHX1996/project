{
 "cells": [
  {
   "cell_type": "code",
   "execution_count": 2,
   "metadata": {},
   "outputs": [
    {
     "name": "stdout",
     "output_type": "stream",
     "text": [
      "False\n"
     ]
    }
   ],
   "source": [
    "def find(l, x):\n",
    "    m = len(l)-1\n",
    "    n = len(l[0])-1\n",
    "    r = 0\n",
    "    c = n\n",
    "    while r <= m and c >= 0:\n",
    "        if x == l[r][c]:\n",
    "            return True\n",
    "        elif x<l[r][c]:\n",
    "            c -= 1\n",
    "        else:\n",
    "            r += 1\n",
    "    return False\n",
    "\n",
    "if __name__ == '__main__':\n",
    "    l = [[1,2,3],[4,5,6],[7,8,9]]\n",
    "    x = 10\n",
    "    print(find(l,x))"
   ]
  },
  {
   "cell_type": "code",
   "execution_count": 4,
   "metadata": {},
   "outputs": [
    {
     "name": "stdout",
     "output_type": "stream",
     "text": [
      "[1, 2]\n"
     ]
    }
   ],
   "source": [
    "l1 = [1,2]\n",
    "tmp = []\n",
    "tmp.extend(l1)\n",
    "print(tmp)"
   ]
  }
 ],
 "metadata": {
  "kernelspec": {
   "display_name": "Python 3",
   "language": "python",
   "name": "python3"
  },
  "language_info": {
   "codemirror_mode": {
    "name": "ipython",
    "version": 3
   },
   "file_extension": ".py",
   "mimetype": "text/x-python",
   "name": "python",
   "nbconvert_exporter": "python",
   "pygments_lexer": "ipython3",
   "version": "3.5.2"
  }
 },
 "nbformat": 4,
 "nbformat_minor": 2
}
