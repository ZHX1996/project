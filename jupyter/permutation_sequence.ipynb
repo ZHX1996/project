{
 "cells": [
  {
   "cell_type": "code",
   "execution_count": 14,
   "metadata": {},
   "outputs": [
    {
     "name": "stdout",
     "output_type": "stream",
     "text": [
      "[1, 1, 2]\n",
      "312\n"
     ]
    }
   ],
   "source": [
    "import math\n",
    "\n",
    "def permu(n, k):\n",
    "    nums = []\n",
    "    for i in map(str, range(1, 10)):\n",
    "        nums.append(i)\n",
    "    k -= 1\n",
    "    factorial = [1] * n\n",
    "    for i in range(1, n):\n",
    "        factorial[i] = factorial[i - 1] * i\n",
    "\n",
    "    res = []\n",
    "    for i in range(n):\n",
    "        index = int(k / factorial[n-1-i])\n",
    "        res.append(nums[index])\n",
    "        nums.remove(nums[index])\n",
    "        k = k % factorial[n-1-i]\n",
    "    return ''.join(res)\n",
    "\n",
    "\n",
    "if __name__ == '__main__':\n",
    "    n=3\n",
    "    k=5\n",
    "    print(permu(n, k))"
   ]
  },
  {
   "cell_type": "code",
   "execution_count": null,
   "metadata": {},
   "outputs": [],
   "source": []
  }
 ],
 "metadata": {
  "kernelspec": {
   "display_name": "Python 3",
   "language": "python",
   "name": "python3"
  },
  "language_info": {
   "codemirror_mode": {
    "name": "ipython",
    "version": 3
   },
   "file_extension": ".py",
   "mimetype": "text/x-python",
   "name": "python",
   "nbconvert_exporter": "python",
   "pygments_lexer": "ipython3",
   "version": "3.5.2"
  }
 },
 "nbformat": 4,
 "nbformat_minor": 2
}
