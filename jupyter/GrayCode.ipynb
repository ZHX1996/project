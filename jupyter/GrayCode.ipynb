{
 "cells": [
  {
   "cell_type": "code",
   "execution_count": 6,
   "metadata": {},
   "outputs": [
    {
     "name": "stdout",
     "output_type": "stream",
     "text": [
      "0 0\n",
      "1 0\n",
      "2 1\n",
      "3 1\n",
      "[0, 1, 3, 2]\n"
     ]
    }
   ],
   "source": [
    "# 0~2**n,先右移，再与自身异或\n",
    "# 初始化sourceList保存0~2**n，从小到大，判断是否满足格雷码条件(对两个数进行一次异或，然后把\n",
    "# 得到的值通过divmod进行除2求余，如果余数为1的个数只有1个，则满足)，若满\n",
    "# 足则保存进resultList，然后从sourceList删除，直至sourceList为空或不为空但找不到下一个\n",
    "def judge(n):\n",
    "    ret = []\n",
    "    for i in range(2**n):\n",
    "        print(i, (i>>1))\n",
    "        graycode = (i>>1)^i\n",
    "        ret.append(graycode)\n",
    "    return ret\n",
    "            \n",
    "if __name__ == '__main__':\n",
    "    n = 2\n",
    "    print(judge(n))"
   ]
  },
  {
   "cell_type": "code",
   "execution_count": 8,
   "metadata": {},
   "outputs": [
    {
     "name": "stdout",
     "output_type": "stream",
     "text": [
      "1\n"
     ]
    }
   ],
   "source": [
    "print(3>>1)"
   ]
  },
  {
   "cell_type": "code",
   "execution_count": null,
   "metadata": {},
   "outputs": [],
   "source": []
  }
 ],
 "metadata": {
  "kernelspec": {
   "display_name": "Python 3",
   "language": "python",
   "name": "python3"
  },
  "language_info": {
   "codemirror_mode": {
    "name": "ipython",
    "version": 3
   },
   "file_extension": ".py",
   "mimetype": "text/x-python",
   "name": "python",
   "nbconvert_exporter": "python",
   "pygments_lexer": "ipython3",
   "version": "3.5.2"
  }
 },
 "nbformat": 4,
 "nbformat_minor": 2
}
