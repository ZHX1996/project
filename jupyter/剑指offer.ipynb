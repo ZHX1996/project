{
 "cells": [
  {
   "cell_type": "code",
   "execution_count": null,
   "metadata": {},
   "outputs": [],
   "source": [
    "# 链表公共节点\n",
    "# class ListNode:\n",
    "#     def __init__(self, x):\n",
    "#         self.val = x\n",
    "#         self.next = None\n",
    "class Solution:\n",
    "    def FindFirstCommonNode(self, pHead1, pHead2):\n",
    "        # write code here\n",
    "        p1, p2 = pHead1, pHead2\n",
    "        while (p1 != p2):\n",
    "            if p1 == None:\n",
    "                p1 = pHead2\n",
    "            else:\n",
    "                p1 = p1.next\n",
    "            if p2 == None:\n",
    "                p2 = pHead1\n",
    "            else:\n",
    "                p2 = p2.next\n",
    "        return p1"
   ]
  },
  {
   "cell_type": "code",
   "execution_count": null,
   "metadata": {},
   "outputs": [],
   "source": [
    "def solution(k, n):\n",
    "    "
   ]
  },
  {
   "cell_type": "code",
   "execution_count": 6,
   "metadata": {},
   "outputs": [
    {
     "name": "stdout",
     "output_type": "stream",
     "text": [
      "[1, 2, 3, 4, 5, 6, 8, 9, 10, 12]\n"
     ]
    }
   ],
   "source": [
    "# 第N个丑数\n",
    "def GetUglyNumber(index):\n",
    "    if index<=0:\n",
    "        return 0\n",
    "    uglyList = [1]\n",
    "    indexTwo = 0\n",
    "    indexThree = 0\n",
    "    indexFive = 0\n",
    "    for i in range(index-1):\n",
    "        newUgly = min(uglyList[indexTwo]*2, uglyList[indexThree]*3, uglyList[indexFive]*5)\n",
    "        uglyList.append(newUgly)\n",
    "        if newUgly%2 == 0:\n",
    "            indexTwo += 1\n",
    "        if newUgly%3 == 0:\n",
    "            indexThree += 1\n",
    "        if newUgly%5 == 0:\n",
    "            indexFive += 1\n",
    "    print(uglyList)\n",
    "\n",
    "if __name__ == '__main__':\n",
    "    index = 10\n",
    "    GetUglyNumber(index)"
   ]
  },
  {
   "cell_type": "code",
   "execution_count": null,
   "metadata": {},
   "outputs": [],
   "source": [
    "# 找出二叉树中所有和为给定值的路径\n",
    "def FindPath(root, expectNumber):\n",
    "    if not root:\n",
    "        return []\n",
    "    if root and not root.left and not root.right and root.val == expectNumber:\n",
    "        return [[root.val]]\n",
    "    res = []\n",
    "    left = FindPath(root.left, expectNumber-root.val)\n",
    "    right = FindPath(root.right, expectNumber-root.val)\n",
    "    for i in left+right:\n",
    "        res.append([root.val]+i)\n",
    "    return res"
   ]
  },
  {
   "cell_type": "code",
   "execution_count": null,
   "metadata": {},
   "outputs": [],
   "source": [
    "# 复杂链表的复制\n",
    "class RandomListNode:\n",
    "    def __init__(self, x):\n",
    "        self.label = x\n",
    "        self.next = None\n",
    "        self.random = None\n",
    "        \n",
    "def iter_node(root):\n",
    "    while root:\n",
    "        yield root\n",
    "        root = root.next\n",
    "        \n",
    "def Clone(pHead):\n",
    "    mem = dict()\n",
    "    for i,n in enumerate(iter_node(pHead)):\n",
    "        mem[id(n)] = i\n",
    "    lst = [RandomListNode(n.label) for n in iter_node(pHead)]\n",
    "    for t, f in zip(iter_node(pHead), lst):\n",
    "        if t.next:\n",
    "            f.next = lst[mem[id(t.next)]]\n",
    "        if t.random:\n",
    "            f.random = lst[mem[id(t.random)]]\n",
    "    return lst[0] if lst else None"
   ]
  },
  {
   "cell_type": "code",
   "execution_count": null,
   "metadata": {},
   "outputs": [],
   "source": [
    "# 字符流中第一个不重复的字符\n",
    "class Solution:\n",
    "    def __init__(self):\n",
    "        self.s = ''\n",
    "        self.dic = {}\n",
    "    def FirstAppearingOnce(self):\n",
    "        for i in self.s:\n",
    "            if self.dic[i] == 1:\n",
    "                return i\n",
    "        return '#'\n",
    "    def Insert(self, char):\n",
    "        self.s = self.s + char\n",
    "        if char in self.dic:\n",
    "            self.dic[char] += 1\n",
    "        else:\n",
    "            self.dic[char] = 1"
   ]
  },
  {
   "cell_type": "code",
   "execution_count": 27,
   "metadata": {},
   "outputs": [
    {
     "name": "stdout",
     "output_type": "stream",
     "text": [
      "321323\n"
     ]
    }
   ],
   "source": [
    "# 数组排成最小的数\n",
    "def quickSort(numbers):\n",
    "    if numbers == []:\n",
    "        return []\n",
    "    else:\n",
    "        pivot = numbers[0]\n",
    "        lesser = [i for i in numbers[1:] if str(i)+str(pivot) < str(pivot)+str(i)]\n",
    "        greater = [i for i in numbers[1:] if str(i)+str(pivot) >= str(pivot)+str(i)]\n",
    "        return quickSort(lesser) + [pivot] + quickSort(greater)\n",
    "\n",
    "def minNumber(numbers):\n",
    "    if not numbers:\n",
    "        return \"\"\n",
    "\n",
    "    numbers = quickSort(numbers)\n",
    "    strs = []\n",
    "    for i in numbers:\n",
    "        strs.append(str(i))\n",
    "    return ''.join(strs)\n",
    "    \n",
    "    \n",
    "if __name__ == '__main__':\n",
    "    numbers = [3, 32, 321]\n",
    "    print(minNumber(numbers))"
   ]
  },
  {
   "cell_type": "code",
   "execution_count": null,
   "metadata": {},
   "outputs": [],
   "source": [
    "# 加法\n",
    "def Add(self, num1, num2):\n",
    "    # 与：进位  异或：和\n",
    "    while num2 != 0:\n",
    "        temp = num1&num2\n",
    "        num1 = (num1^num2)%0x100000000\n",
    "        num2 = (temp<<1)%0x100000000\n",
    "    return num1 if num1<0x7fffffff else num1 | (~0x100000000+1)"
   ]
  },
  {
   "cell_type": "code",
   "execution_count": 6,
   "metadata": {},
   "outputs": [
    {
     "name": "stdout",
     "output_type": "stream",
     "text": [
      "[1, 2, 1]\n",
      "4\n"
     ]
    }
   ],
   "source": [
    "# 分糖果\n",
    "def candy(ratings):\n",
    "    n = len(ratings)\n",
    "    li = [1 for _ in range(n)]\n",
    "    li1 = [1 for _ in range(n)]\n",
    "    li2 = [1 for _ in range(n)]\n",
    "    for i in range(1, n):\n",
    "        if ratings[i]>ratings[i-1]:\n",
    "            li1[i] = li1[i-1] + 1\n",
    "    for i in range(n-2, -1, -1):\n",
    "        if ratings[i] > ratings[i+1]:\n",
    "            li2[i] = li2[i+1] + 1\n",
    "    for i in range(n):\n",
    "        li[i] = max(li1[i], li2[i])\n",
    "    print(li)\n",
    "    \n",
    "def candy1(ratings):\n",
    "    n = len(ratings)\n",
    "    candies = [1 for _ in range(n)]\n",
    "    total = n\n",
    "    for i in range(n-1):\n",
    "        if ratings[i+1] > ratings[i] and candies[i+1] <= candies[i]:\n",
    "            total += candies[i] + 1 - candies[i+1]\n",
    "            candies[i+1] = candies[i] + 1\n",
    "        \n",
    "        if ratings[n-i-2] > ratings[n-i-1] and candies[n-i-2] <= candies[n-i-1]:\n",
    "            total += candies[n-i-1] + 1 - candies[n-i-2]\n",
    "            candies[n-i-2] = candies[n-i-1] + 1\n",
    "    print(total)\n",
    "    \n",
    "if __name__ == '__main__':\n",
    "    ratings = [1, 2, 2]\n",
    "    candy(ratings)\n",
    "    candy1(ratings)"
   ]
  },
  {
   "cell_type": "code",
   "execution_count": 7,
   "metadata": {},
   "outputs": [
    {
     "ename": "SyntaxError",
     "evalue": "invalid syntax (<ipython-input-7-a235414b4b0e>, line 9)",
     "output_type": "error",
     "traceback": [
      "\u001b[1;36m  File \u001b[1;32m\"<ipython-input-7-a235414b4b0e>\"\u001b[1;36m, line \u001b[1;32m9\u001b[0m\n\u001b[1;33m    if strs[j][p] < strs[j][index]\u001b[0m\n\u001b[1;37m                                  ^\u001b[0m\n\u001b[1;31mSyntaxError\u001b[0m\u001b[1;31m:\u001b[0m invalid syntax\n"
     ]
    }
   ],
   "source": [
    "# 字符串分类\n",
    "def classify(k, strs):\n",
    "    \n",
    "    \n",
    "if __name__ == '__main__':\n",
    "    strs = ['abcd', 'abdc', 'dabc', 'bacd']\n",
    "    classify(4, strs)"
   ]
  },
  {
   "cell_type": "code",
   "execution_count": 22,
   "metadata": {},
   "outputs": [
    {
     "name": "stdout",
     "output_type": "stream",
     "text": [
      "0\n"
     ]
    }
   ],
   "source": [
    "# 字符串转换成整数\n",
    "def strtoint(s):\n",
    "    if len(s) == 0:\n",
    "        return 0\n",
    "    num = 0\n",
    "    if s[0] == '+' or s[0] == '-':\n",
    "        m = s[0]\n",
    "        s = s[1:]\n",
    "    s = s[::-1]\n",
    "    for k, v in enumerate(s):\n",
    "        offset = ord(v)-ord('0')\n",
    "        if offset > 9 or offset < 0:\n",
    "            return 0\n",
    "        num += offset*(10**k)\n",
    "\n",
    "    if m == '-':\n",
    "        return (-1*num)\n",
    "    else:\n",
    "        return num\n",
    "    \n",
    "if __name__ == '__main__':\n",
    "    s = 'a123'\n",
    "    print(strtoint(s))"
   ]
  },
  {
   "cell_type": "code",
   "execution_count": 28,
   "metadata": {},
   "outputs": [
    {
     "name": "stdout",
     "output_type": "stream",
     "text": [
      "6\n",
      "[4, 6]\n"
     ]
    }
   ],
   "source": [
    "# 只有一个只出现一次的数\n",
    "array = [2,3,6,3,2,5,5]\n",
    "s = array[0]\n",
    "for i in array[1:]:\n",
    "    s = s^i\n",
    "print(s)\n",
    "\n",
    "# 有多个\n",
    "li = [2,4,3,6,3,2,5,5]\n",
    "ret = []\n",
    "for i in li:\n",
    "    if i in ret:\n",
    "        ret.remove(i)\n",
    "    else:\n",
    "        ret.append(i)\n",
    "print(ret)"
   ]
  },
  {
   "cell_type": "code",
   "execution_count": null,
   "metadata": {},
   "outputs": [],
   "source": [
    "# 判断是不是栈的弹出顺序\n",
    "def isPopOrder(pushV, popV):\n",
    "    li = []\n",
    "    for i in pushV:\n",
    "        if popV[0] == i:\n",
    "            popV = popV[1:]\n",
    "        else:\n",
    "            li.append(i)\n",
    "    if li[::-1] == popV:\n",
    "        return True\n",
    "    else:\n",
    "        return False"
   ]
  },
  {
   "cell_type": "code",
   "execution_count": null,
   "metadata": {},
   "outputs": [],
   "source": [
    "# 判断序列是不是二叉搜索树的后序遍历\n",
    "def VerifySequenceOfBST(sequence):\n",
    "    if not sequence:\n",
    "        return False\n",
    "    if len(sequence) == 1:\n",
    "        return True\n",
    "    length = len(sequence)\n",
    "    root = sequence[-1]\n",
    "    i = 0\n",
    "    while sequence[i] < root:\n",
    "        i += 1\n",
    "    k = i\n",
    "    for j in range(i, length-1):\n",
    "        if sequence[j] < root:\n",
    "            return False\n",
    "    left_s = sequence[:k]\n",
    "    right_s = sequence[k:length-1]\n",
    "    leftIs = True\n",
    "    rightIs = True\n",
    "    if len(left_s) > 0:\n",
    "        leftIs = VerifySequenceOfBST(sequence=left_s)\n",
    "    if len(right_s) > 0:\n",
    "        rightIs = VerifySequenceOfBST(sequence=right_s)\n",
    "    return leftIs and rightIs"
   ]
  }
 ],
 "metadata": {
  "kernelspec": {
   "display_name": "Python 3",
   "language": "python",
   "name": "python3"
  },
  "language_info": {
   "codemirror_mode": {
    "name": "ipython",
    "version": 3
   },
   "file_extension": ".py",
   "mimetype": "text/x-python",
   "name": "python",
   "nbconvert_exporter": "python",
   "pygments_lexer": "ipython3",
   "version": "3.5.2"
  }
 },
 "nbformat": 4,
 "nbformat_minor": 2
}
