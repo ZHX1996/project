{
 "cells": [
  {
   "cell_type": "code",
   "execution_count": 23,
   "metadata": {},
   "outputs": [
    {
     "name": "stdout",
     "output_type": "stream",
     "text": [
      "[[1, 6], [8, 10], [15, 18]]\n"
     ]
    }
   ],
   "source": [
    "from functools import reduce\n",
    "\n",
    "def merge(s):\n",
    "    ret = []\n",
    "    def tight(s1, s2):\n",
    "        s1_left, s1_right, s2_left, s2_right = s1[0], s1[1], s2[0], s2[1]\n",
    "        if s1_right > s2_left:\n",
    "            i, j = s1_left, s2_right\n",
    "            ret.append([i,j])\n",
    "            return [i,j]\n",
    "        else:\n",
    "            ret.append(s2)\n",
    "            return s2\n",
    "    reduce(tight, s)\n",
    "    return ret\n",
    "\n",
    "if __name__ == '__main__':\n",
    "    s = [[1,3],[2,6],[8,10],[15,18]]\n",
    "    print(merge(s))\n",
    "        "
   ]
  }
 ],
 "metadata": {
  "kernelspec": {
   "display_name": "Python 3",
   "language": "python",
   "name": "python3"
  },
  "language_info": {
   "codemirror_mode": {
    "name": "ipython",
    "version": 3
   },
   "file_extension": ".py",
   "mimetype": "text/x-python",
   "name": "python",
   "nbconvert_exporter": "python",
   "pygments_lexer": "ipython3",
   "version": "3.5.2"
  }
 },
 "nbformat": 4,
 "nbformat_minor": 2
}
