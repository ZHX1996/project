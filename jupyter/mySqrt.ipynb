{
 "cells": [
  {
   "cell_type": "code",
   "execution_count": 4,
   "metadata": {},
   "outputs": [
    {
     "name": "stdout",
     "output_type": "stream",
     "text": [
      "[0, 1]\n",
      "1\n"
     ]
    }
   ],
   "source": [
    "def mySqrt(x):\n",
    "    k = []\n",
    "    for i in range(int(x/2)+2):\n",
    "        if i**2 <= x and (i+1)**2 >= x:\n",
    "            k.append(i)\n",
    "    print(k)\n",
    "    return k[-1]\n",
    "            \n",
    "\n",
    "if __name__ == '__main__':\n",
    "    x = 1\n",
    "    print(mySqrt(x))"
   ]
  },
  {
   "cell_type": "code",
   "execution_count": null,
   "metadata": {},
   "outputs": [],
   "source": []
  }
 ],
 "metadata": {
  "kernelspec": {
   "display_name": "Python 3",
   "language": "python",
   "name": "python3"
  },
  "language_info": {
   "codemirror_mode": {
    "name": "ipython",
    "version": 3
   },
   "file_extension": ".py",
   "mimetype": "text/x-python",
   "name": "python",
   "nbconvert_exporter": "python",
   "pygments_lexer": "ipython3",
   "version": "3.5.2"
  }
 },
 "nbformat": 4,
 "nbformat_minor": 2
}
