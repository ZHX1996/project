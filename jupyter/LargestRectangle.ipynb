{
 "cells": [
  {
   "cell_type": "code",
   "execution_count": 21,
   "metadata": {},
   "outputs": [
    {
     "name": "stdout",
     "output_type": "stream",
     "text": [
      "[-1, 0]\n",
      "1 2 1 2 [-1]\n",
      "[-1, 1]\n",
      "[-1, 1, 2]\n",
      "[-1, 1, 2, 3]\n",
      "4 6 1 6 [-1, 1, 2]\n",
      "4 5 2 10 [-1, 1]\n",
      "[-1, 1, 4]\n",
      "[-1, 1, 4, 5]\n",
      "6 3 1 10 [-1, 1, 4]\n",
      "6 2 4 10 [-1, 1]\n",
      "6 1 6 10 [-1]\n",
      "[-1, 6]\n",
      "10\n"
     ]
    }
   ],
   "source": [
    "# 遍历heights数组，与栈顶元素的大小进行比较\n",
    "# 大于栈顶元素，就push进去\n",
    "# 等与栈顶元素，则忽略\n",
    "# 小于栈顶元素，持续弹栈，并记录这个高度的最大面积\n",
    "def largest(heights):\n",
    "    heights.append(0)\n",
    "    stack = [-1]\n",
    "    ans = 0\n",
    "    for i in range(len(heights)):\n",
    "        while heights[i] < heights[stack[-1]]:\n",
    "            h = heights[stack.pop()]\n",
    "            w = i - stack[-1] - 1\n",
    "            ans = max(ans, h*w)\n",
    "            \n",
    "            print(i,h,w,ans,stack)\n",
    "        stack.append(i)\n",
    "        print(stack)\n",
    "    heights.pop()\n",
    "    return ans\n",
    "    \n",
    "if __name__ == '__main__':\n",
    "    heights = [2,1,5,6,2,3]\n",
    "    print(largest(heights))"
   ]
  },
  {
   "cell_type": "code",
   "execution_count": null,
   "metadata": {},
   "outputs": [],
   "source": []
  }
 ],
 "metadata": {
  "kernelspec": {
   "display_name": "Python 3",
   "language": "python",
   "name": "python3"
  },
  "language_info": {
   "codemirror_mode": {
    "name": "ipython",
    "version": 3
   },
   "file_extension": ".py",
   "mimetype": "text/x-python",
   "name": "python",
   "nbconvert_exporter": "python",
   "pygments_lexer": "ipython3",
   "version": "3.5.2"
  }
 },
 "nbformat": 4,
 "nbformat_minor": 2
}
