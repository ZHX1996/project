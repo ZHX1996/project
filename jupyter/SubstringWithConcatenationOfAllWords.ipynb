{
 "cells": [
  {
   "cell_type": "code",
   "execution_count": 4,
   "metadata": {},
   "outputs": [
    {
     "name": "stdout",
     "output_type": "stream",
     "text": [
      "[0, 3, 9, 12]\n"
     ]
    }
   ],
   "source": [
    "def substring(s, l):\n",
    "    ret = []\n",
    "#     for i in l:\n",
    "#         ret.append(s.find(i))\n",
    "    for x in range(len(s)):\n",
    "        for i in l:\n",
    "            if s[x:x+len(i)] == i:\n",
    "                ret.append(x)\n",
    "    return ret\n",
    "\n",
    "if __name__ == '__main__':\n",
    "    s = 'barfoothefoobarman'\n",
    "    l = ['foo', 'bar']\n",
    "    print(substring(s, l))"
   ]
  },
  {
   "cell_type": "code",
   "execution_count": null,
   "metadata": {},
   "outputs": [],
   "source": []
  }
 ],
 "metadata": {
  "kernelspec": {
   "display_name": "Python 3",
   "language": "python",
   "name": "python3"
  },
  "language_info": {
   "codemirror_mode": {
    "name": "ipython",
    "version": 3
   },
   "file_extension": ".py",
   "mimetype": "text/x-python",
   "name": "python",
   "nbconvert_exporter": "python",
   "pygments_lexer": "ipython3",
   "version": "3.5.2"
  }
 },
 "nbformat": 4,
 "nbformat_minor": 2
}
