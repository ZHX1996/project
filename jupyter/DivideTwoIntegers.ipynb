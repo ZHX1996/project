{
 "cells": [
  {
   "cell_type": "code",
   "execution_count": 7,
   "metadata": {},
   "outputs": [
    {
     "name": "stdout",
     "output_type": "stream",
     "text": [
      "9\n"
     ]
    }
   ],
   "source": [
    "def Divide(dividend, divisor):\n",
    "    positive = (dividend < 0) is (divisor < 0)\n",
    "    dividend, divisor = abs(dividend), abs(divisor)\n",
    "    res = 0\n",
    "    while dividend >= divisor:\n",
    "        temp, i = divisor, 1\n",
    "        while dividend >= temp:\n",
    "            dividend -= temp\n",
    "            res += i\n",
    "            i <<= 1\n",
    "            temp<<=1\n",
    "    if not positive:\n",
    "        res = -res\n",
    "    return min(max(-2147483648, res), 2147483647)\n",
    "\n",
    "if __name__ == \"__main__\":\n",
    "    dividend = 27\n",
    "    divisor = 3\n",
    "    print(Divide(dividend, divisor))"
   ]
  },
  {
   "cell_type": "code",
   "execution_count": 11,
   "metadata": {},
   "outputs": [
    {
     "name": "stdout",
     "output_type": "stream",
     "text": [
      "24\n"
     ]
    }
   ],
   "source": [
    "i = 3\n",
    "i <<= 3\n",
    "print(i)"
   ]
  },
  {
   "cell_type": "code",
   "execution_count": null,
   "metadata": {},
   "outputs": [],
   "source": []
  }
 ],
 "metadata": {
  "kernelspec": {
   "display_name": "Python 3",
   "language": "python",
   "name": "python3"
  },
  "language_info": {
   "codemirror_mode": {
    "name": "ipython",
    "version": 3
   },
   "file_extension": ".py",
   "mimetype": "text/x-python",
   "name": "python",
   "nbconvert_exporter": "python",
   "pygments_lexer": "ipython3",
   "version": "3.5.2"
  }
 },
 "nbformat": 4,
 "nbformat_minor": 2
}
