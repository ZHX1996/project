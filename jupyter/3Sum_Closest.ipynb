{
 "cells": [
  {
   "cell_type": "code",
   "execution_count": 2,
   "metadata": {},
   "outputs": [
    {
     "name": "stdout",
     "output_type": "stream",
     "text": [
      "2\n"
     ]
    }
   ],
   "source": [
    "def threeSum(num, target):\n",
    "    num.sort()\n",
    "    result = num[0]+num[1]+num[2]\n",
    "    for i in range(len(num)-2):\n",
    "        j, k = i+1, len(num)-1\n",
    "        while j<k:\n",
    "            sum = num[i]+num[j]+num[k]\n",
    "            if sum == target:\n",
    "                return sum\n",
    "            \n",
    "            if abs(sum-target)<abs(result-target):\n",
    "                result = sum\n",
    "            \n",
    "            if sum < target:\n",
    "                j+=1\n",
    "            elif sum > target:\n",
    "                k-=1\n",
    "    return result\n",
    "\n",
    "if __name__ == '__main__':\n",
    "    num = [-1, 2, 1, -4]\n",
    "    target = 1\n",
    "    print(threeSum(num, target))"
   ]
  },
  {
   "cell_type": "code",
   "execution_count": null,
   "metadata": {},
   "outputs": [],
   "source": []
  }
 ],
 "metadata": {
  "kernelspec": {
   "display_name": "Python 3",
   "language": "python",
   "name": "python3"
  },
  "language_info": {
   "codemirror_mode": {
    "name": "ipython",
    "version": 3
   },
   "file_extension": ".py",
   "mimetype": "text/x-python",
   "name": "python",
   "nbconvert_exporter": "python",
   "pygments_lexer": "ipython3",
   "version": "3.5.2"
  }
 },
 "nbformat": 4,
 "nbformat_minor": 2
}
