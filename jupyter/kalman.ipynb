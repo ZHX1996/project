{
 "cells": [
  {
   "cell_type": "code",
   "execution_count": 4,
   "metadata": {
    "scrolled": true
   },
   "outputs": [
    {
     "name": "stdout",
     "output_type": "stream",
     "text": [
      "96\n",
      "[25.6, 25.4, 25.3, 25.3, 25.4, 25.5, 25.7, 25.9, 26.1, 26.3]\n"
     ]
    }
   ],
   "source": [
    "import numpy as np\n",
    "from matplotlib import pyplot as plt\n",
    "import pandas as pd\n",
    "\n",
    "# origindata1 = pd.Series([24,27,24,26,26,28,26,26,27,26,25,26,26,25,26,27,26,26,25,25,25,25,27,25])  # 24\n",
    "origindata = pd.Series([29,28.6,26.5,24.8,24.9,25.5,26,25.8,25.6,24.9,25,24.8,24.8,24.3,24,23.9,24.2,\n",
    "                        24.9,26.7,28.3,29.1,29.1,29.7,30.3,30.7,30.7,30.2,29.6,28.3,26.7,25.8,25.2,\n",
    "                        24.8,24,24.3,22.9,23.2,23.2,22.4,21.5,21.3,23.2,26.1,27.7,28.5,29.3,29.9,\n",
    "                        30.6,31.2,31,30.9,   29.8,29.3,28.9,27.8,27.1,27.1,26.7,26.1,26,25.9,25.8,25.6,24.9,\n",
    "                         24.6,24.6,25.6,26.8,27.6,28.6,28.6,29.9,30.4,30.6,30.4,30.6,29.5,28.8,27.7,\n",
    "                        27.1,26.4,25.9,25.4,25.1,24.7,24.1,24,23.8,23.1,23,23.9,25.5,27.2, 28.1,29.2,\n",
    "                        30.3,30.6,31.3,31.1,31\n",
    "                    ])\n",
    "print(len(origindata))\n",
    "origindata = origindata[:24]\n",
    "np.random.seed(1231)\n",
    "noise1 = np.random.randn(24)\n",
    "data1 = origindata+noise1\n",
    "np.random.seed(1232)\n",
    "noise2 = np.random.randn(24)\n",
    "data2 = origindata+noise2\n",
    "np.random.seed(1233)\n",
    "noise3 = np.random.randn(24)\n",
    "data3 = origindata+noise3\n",
    "np.random.seed(1234)\n",
    "noise4 = np.random.randn(24)\n",
    "data4 = origindata+noise4\n",
    "\n",
    "# for i in range(10):\n",
    "    \n",
    "def kalman(z):\n",
    "    n_iter = 24\n",
    "    sz  = (n_iter,)\n",
    "    # x = -0.37727\n",
    "    # z = np.random.normal(x, 0.1, size=sz)\n",
    "    Q = 1e-5\n",
    "    xhat = np.zeros(sz)\n",
    "    P = np.zeros(sz)\n",
    "    xhatminus = np.zeros(sz)\n",
    "    Pminus = np.zeros(sz)\n",
    "    K = np.zeros(sz)\n",
    "    R = 0.1**2\n",
    "    xhat[0] = 0.0\n",
    "    P[0] = 1.0\n",
    "\n",
    "    for k in range(1,n_iter):\n",
    "        xhatminus[k] = xhat[k-1]  \n",
    "        Pminus[k] = P[k-1]+Q     \n",
    "\n",
    "        K[k] = Pminus[k]/( Pminus[k]+R )\n",
    "        xhat[k] = xhatminus[k]+K[k]*(z[k]-xhatminus[k]) \n",
    "        P[k] = (1-K[k])*Pminus[k]\n",
    "    return xhat\n",
    "\n",
    "var1 = kalman(data1)\n",
    "var2 = kalman(data2)\n",
    "var3 = kalman(data3)\n",
    "var4 = kalman(data4)\n",
    "\n",
    "res = []\n",
    "for i in range(10):\n",
    "    var = round((var1[i+14]+var2[i+14]+var3[i+14]+var4[i+14])/4,1)\n",
    "    res.append(var)\n",
    "print(res)\n",
    "        \n",
    "\n",
    "# print(z)\n",
    "# print(xhat)\n",
    "# print(x)\n",
    " \n",
    "# plt.figure()\n",
    "# plt.plot(z,'k+',label='noisy measurements')     #测量值\n",
    "# plt.plot(xhat,'b-',label='a posteri estimate')  #过滤后的值\n",
    "# plt.axhline(x,color='g',label='truth value')    #系统值\n",
    "# plt.legend()\n",
    "# plt.xlabel('Iteration')\n",
    "# plt.ylabel('Voltage')\n",
    " \n",
    "# plt.figure()\n",
    "# valid_iter = range(1,n_iter) # Pminus not valid at step 0\n",
    "# plt.plot(valid_iter,Pminus[valid_iter],label='a priori error estimate')\n",
    "# plt.xlabel('Iteration')\n",
    "# plt.ylabel('$(Voltage)^2$')\n",
    "# plt.setp(plt.gca(),'ylim',[0,.01])\n",
    "# plt.show()"
   ]
  },
  {
   "cell_type": "markdown",
   "metadata": {},
   "source": []
  }
 ],
 "metadata": {
  "kernelspec": {
   "display_name": "Python 3",
   "language": "python",
   "name": "python3"
  },
  "language_info": {
   "codemirror_mode": {
    "name": "ipython",
    "version": 3
   },
   "file_extension": ".py",
   "mimetype": "text/x-python",
   "name": "python",
   "nbconvert_exporter": "python",
   "pygments_lexer": "ipython3",
   "version": "3.5.0"
  }
 },
 "nbformat": 4,
 "nbformat_minor": 2
}
