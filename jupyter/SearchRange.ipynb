{
 "cells": [
  {
   "cell_type": "code",
   "execution_count": 3,
   "metadata": {},
   "outputs": [
    {
     "name": "stdout",
     "output_type": "stream",
     "text": [
      "[1, 1]\n"
     ]
    }
   ],
   "source": [
    "def searchRange(nums, target):\n",
    "    def search(n):\n",
    "        lo, hi = 0, len(nums)\n",
    "        while lo < hi:\n",
    "            mid = int((lo+hi)/2)\n",
    "            if nums[mid] >= n:\n",
    "                hi = mid\n",
    "            else:\n",
    "                lo = mid+1\n",
    "        return lo\n",
    "    lo = search(target)\n",
    "    return [lo, search(target+1)-1] if target in nums[lo:lo+1] else [-1, -1]\n",
    "\n",
    "if __name__ == '__main__':\n",
    "    nums = [2,3,7,9]\n",
    "    target = 3\n",
    "    print(searchRange(nums, target))  "
   ]
  },
  {
   "cell_type": "code",
   "execution_count": null,
   "metadata": {},
   "outputs": [],
   "source": []
  }
 ],
 "metadata": {
  "kernelspec": {
   "display_name": "Python 3",
   "language": "python",
   "name": "python3"
  },
  "language_info": {
   "codemirror_mode": {
    "name": "ipython",
    "version": 3
   },
   "file_extension": ".py",
   "mimetype": "text/x-python",
   "name": "python",
   "nbconvert_exporter": "python",
   "pygments_lexer": "ipython3",
   "version": "3.5.2"
  }
 },
 "nbformat": 4,
 "nbformat_minor": 2
}
