{
 "cells": [
  {
   "cell_type": "code",
   "execution_count": null,
   "metadata": {},
   "outputs": [],
   "source": [
    "# the count of tree\n",
    "def generateTrees(self, n):\n",
    "    if n == 1 or n == 0:\n",
    "        return 1\n",
    "    elif n == 2:\n",
    "        return 2\n",
    "    else:\n",
    "        ans = 0\n",
    "        for i in range(n):\n",
    "            ans += self.generateTrees(i) * self.generateTrees(n-i-1)\n",
    "        return ans\n",
    "    \n",
    "# the result of tree\n",
    "def generateTrees(self, n):\n",
    "    if n==0:\n",
    "        return []\n",
    "    return self.dfs(1, n)\n",
    "\n",
    "def dfs(self, start, end):\n",
    "    result = []\n",
    "    if start > end:\n",
    "        result.append(None)\n",
    "        return result\n",
    "    \n",
    "    for i in range(start, end+1):\n",
    "        # generate left and right sub tree\n",
    "        leftTree = self.dfs(start, i-1)\n",
    "        rightTree = self.dfs(i+1, end)\n",
    "        # link left and right sub tree to root(i)\n",
    "        for j in range(len(leftTree)):\n",
    "            for k in range(len(rightTree)):\n",
    "                root = TreeNode(i)\n",
    "                root.left = leftTree[j]\n",
    "                root.right = rightTree[k]\n",
    "                result.append(root)\n",
    "    return result"
   ]
  },
  {
   "cell_type": "code",
   "execution_count": 23,
   "metadata": {},
   "outputs": [
    {
     "name": "stdout",
     "output_type": "stream",
     "text": [
      "31\n"
     ]
    }
   ],
   "source": [
    "# 对于负数，最高为为1，负数在计算机中以补码存在，往右移，符号位不变，\n",
    "#符号位1往右移，可能会出现全1，导致死循环，与0xffffffff相与，可以消除负数的影响\n",
    "#相当于对负数的补码再求一次补码，变成不带符号的补码形式\n",
    "\n",
    "# n与n-1按位与，除了靠右的1置0后，其它高位的1没有发生变化，每运行一次就知道有一个1\n",
    "def numberof1(n):\n",
    "    count = 0\n",
    "    if n<0:\n",
    "        n=n&0xffffffff\n",
    "    while n:\n",
    "        count+=1\n",
    "        n = (n-1)&n\n",
    "    return count\n",
    "\n",
    "if __name__ == '__main__':\n",
    "    n = -5\n",
    "    print(numberof1(n))"
   ]
  },
  {
   "cell_type": "code",
   "execution_count": 26,
   "metadata": {},
   "outputs": [
    {
     "data": {
      "text/plain": [
       "31"
      ]
     },
     "execution_count": 26,
     "metadata": {},
     "output_type": "execute_result"
    }
   ],
   "source": [
    "bin(2**32-5).count('1')"
   ]
  },
  {
   "cell_type": "code",
   "execution_count": null,
   "metadata": {},
   "outputs": [],
   "source": []
  }
 ],
 "metadata": {
  "kernelspec": {
   "display_name": "Python 3",
   "language": "python",
   "name": "python3"
  },
  "language_info": {
   "codemirror_mode": {
    "name": "ipython",
    "version": 3
   },
   "file_extension": ".py",
   "mimetype": "text/x-python",
   "name": "python",
   "nbconvert_exporter": "python",
   "pygments_lexer": "ipython3",
   "version": "3.5.2"
  }
 },
 "nbformat": 4,
 "nbformat_minor": 2
}
