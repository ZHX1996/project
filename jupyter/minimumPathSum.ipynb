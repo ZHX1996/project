{
 "cells": [
  {
   "cell_type": "code",
   "execution_count": 2,
   "metadata": {},
   "outputs": [
    {
     "name": "stdout",
     "output_type": "stream",
     "text": [
      "[[1, 4, 5], [2, 7, 6], [6, 8, 7]]\n"
     ]
    }
   ],
   "source": [
    "import numpy as np\n",
    "\n",
    "\n",
    "def find(l):\n",
    "    m, n = np.shape(l)\n",
    "    for i in range(1, n):\n",
    "        l[0][i] += l[0][i-1]\n",
    "    for i in range(1, m):\n",
    "        l[i][0] += l[i-1][0]\n",
    "    for i in range(1, m):\n",
    "        for j in range(1, n):\n",
    "            l[i][j] += min(l[i-1][j], l[i][j-1])\n",
    "    return l\n",
    "\n",
    "if __name__ == '__main__':\n",
    "    l = [[1,3,1], [1,5,1], [4,2,1]]\n",
    "    print(find(l))"
   ]
  },
  {
   "cell_type": "code",
   "execution_count": null,
   "metadata": {},
   "outputs": [],
   "source": []
  }
 ],
 "metadata": {
  "kernelspec": {
   "display_name": "Python 3",
   "language": "python",
   "name": "python3"
  },
  "language_info": {
   "codemirror_mode": {
    "name": "ipython",
    "version": 3
   },
   "file_extension": ".py",
   "mimetype": "text/x-python",
   "name": "python",
   "nbconvert_exporter": "python",
   "pygments_lexer": "ipython3",
   "version": "3.5.2"
  }
 },
 "nbformat": 4,
 "nbformat_minor": 2
}
