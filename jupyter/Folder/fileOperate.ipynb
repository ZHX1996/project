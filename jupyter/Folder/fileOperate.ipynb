{
 "cells": [
  {
   "cell_type": "code",
   "execution_count": 39,
   "metadata": {},
   "outputs": [
    {
     "name": "stdout",
     "output_type": "stream",
     "text": [
      "d:/test\\2.txt\n",
      "d:/test\\subdir\\1.txt\n",
      "d:/test\\subdir\n",
      "d:/test\\testFile\\dir\n"
     ]
    }
   ],
   "source": [
    "import os\n",
    "import os.path\n",
    "rootdir = 'd:/test'\n",
    "\n",
    "for parent, dirnames, filenames in os.walk(rootdir):\n",
    "    if not os.listdir(parent):\n",
    "        print(parent)\n",
    "\n",
    "    for lists in os.listdir(parent):\n",
    "        temp = os.path.join(parent, lists)\n",
    "        k = 0\n",
    "        if os.path.isfile(temp):\n",
    "            print(temp)\n",
    "        if os.path.isdir(temp):\n",
    "            k+=1\n",
    "    if k == 0:\n",
    "        print(parent)"
   ]
  },
  {
   "cell_type": "code",
   "execution_count": null,
   "metadata": {},
   "outputs": [],
   "source": []
  }
 ],
 "metadata": {
  "kernelspec": {
   "display_name": "Python 3",
   "language": "python",
   "name": "python3"
  },
  "language_info": {
   "codemirror_mode": {
    "name": "ipython",
    "version": 3
   },
   "file_extension": ".py",
   "mimetype": "text/x-python",
   "name": "python",
   "nbconvert_exporter": "python",
   "pygments_lexer": "ipython3",
   "version": "3.5.2"
  }
 },
 "nbformat": 4,
 "nbformat_minor": 2
}
