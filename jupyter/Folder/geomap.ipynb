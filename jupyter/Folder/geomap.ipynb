{
 "cells": [
  {
   "cell_type": "code",
   "execution_count": 50,
   "metadata": {},
   "outputs": [
    {
     "data": {
      "text/plain": [
       "<folium.features.GeoJson at 0x28cb6634710>"
      ]
     },
     "execution_count": 50,
     "metadata": {},
     "output_type": "execute_result"
    }
   ],
   "source": [
    "import folium\n",
    "import os\n",
    "import pandas as pd\n",
    "\n",
    "df = pd.read_excel(\"C:/Users/Administrator.SC-201905252025/Desktop/1.xlsx\")\n",
    "df.head()\n",
    "\n",
    "# location 格式为维度，经度\n",
    "m = folium.Map(location=[29.57,106.55],\n",
    "              zoom_start=9.5,\n",
    "              control_scale=True)\n",
    "# print(m.__class__)\n",
    "# 点击显示经纬度\n",
    "# m.add_child(folium.LatLngPopup())  \n",
    "for i in range(0,len(df),40):\n",
    "#     folium.Marker([df.iloc[i]['latitude'],df.iloc[i]['longitude']], \n",
    "#                   popup=df.iloc[i]['address']).add_to(m)\n",
    "\n",
    "    folium.Circle(\n",
    "        radius=120,\n",
    "        location=[df.iloc[i]['latitude'],df.iloc[i]['longitude']],\n",
    "        popup=df.iloc[i]['address'],\n",
    "        color='crimson',\n",
    "        fill=True,\n",
    "    ).add_to(m)\n",
    "    \n",
    "gj = folium.GeoJson(data={ \"type\": \"LineString\",\n",
    "                          \"coordinates\": [[106.17,29.36], [106.34,29.30]]                            \n",
    "                          })\n",
    "\n",
    "gj.add_to(m)\n",
    "m"
   ]
  },
  {
   "cell_type": "code",
   "execution_count": 52,
   "metadata": {},
   "outputs": [],
   "source": [
    "from pyecharts import Geo, Style\n",
    "import pandas as pd\n",
    "\n",
    "df = pd.read_excel(\"C:/Users/Administrator.SC-201905252025/Desktop/1.xlsx\")\n",
    "df.head()\n",
    "\n",
    "geo_cities_coords={df.iloc[i]['address']:[df.iloc[i]['longitude'],df.iloc[i]['latitude']] for i in range(len(df))}\n",
    "attr = list(df['address'])\n",
    "value = list(df['time'])\n",
    "\n",
    "geo = Geo('',title_color=\"#fff\",title_pos=\"center\",\n",
    "             width=1200,height=600,background_color='#404a58')\n",
    "geo.add(\"永川区\",attr,value,visual_range=[0,100],symbol_size= 2,\n",
    "        visual_text_color= \"#fff\",is_piecewise = False, \n",
    "        is_visualmap= True,maptype = '永川区', visual_split_number= 10,\n",
    "        geo_cities_coords=geo_cities_coords)\n",
    "geo"
   ]
  },
  {
   "cell_type": "code",
   "execution_count": 49,
   "metadata": {},
   "outputs": [
    {
     "data": {
      "text/plain": [
       "<folium.features.GeoJson at 0x28cb66552e8>"
      ]
     },
     "execution_count": 49,
     "metadata": {},
     "output_type": "execute_result"
    }
   ],
   "source": [
    "import folium\n",
    "geoJsonData = {\n",
    "    \"features\": [\n",
    "        {\n",
    "            \"geometry\": {\n",
    "                \"coordinates\": [\n",
    "                    [\n",
    "                        12.98583984375,\n",
    "                        56.70450561416937\n",
    "                    ],\n",
    "                    [\n",
    "                        14.589843749999998,\n",
    "                        57.604221411628735\n",
    "                    ],\n",
    "                    [\n",
    "                        13.590087890625,\n",
    "                        58.15331598640629\n",
    "                    ],\n",
    "                    [\n",
    "                        11.953125,\n",
    "                        57.955674494979526\n",
    "                    ],\n",
    "                    [\n",
    "                        11.810302734375,\n",
    "                        58.76250326278713\n",
    "                    ]\n",
    "                ],\n",
    "                \"type\": \"LineString\"\n",
    "            },\n",
    "            \"properties\": {\n",
    "                \"stroke\": \"#fc1717\",\n",
    "                \"stroke-opacity\": 1,\n",
    "                \"stroke-width\": 2\n",
    "            },\n",
    "            \"type\": \"Feature\"\n",
    "        },\n",
    "        {\n",
    "            \"geometry\": {\n",
    "                \"coordinates\": [\n",
    "                    [\n",
    "                        14.9468994140625,\n",
    "                        57.7569377956732\n",
    "                    ],\n",
    "                    [\n",
    "                        15.078735351562498,\n",
    "                        58.06916140721414\n",
    "                    ],\n",
    "                    [\n",
    "                        15.4302978515625,\n",
    "                        58.09820267068277\n",
    "                    ],\n",
    "                    [\n",
    "                        15.281982421875002,\n",
    "                        58.318144965188246\n",
    "                    ],\n",
    "                    [\n",
    "                        15.4852294921875,\n",
    "                        58.36427519285588\n",
    "                    ]\n",
    "                ],\n",
    "                \"type\": \"LineString\"\n",
    "            },\n",
    "            \"properties\": {\n",
    "                \"stroke\": \"#1f1a95\",\n",
    "                \"stroke-opacity\": 1,\n",
    "                \"stroke-width\": 1\n",
    "            },\n",
    "            \"type\": \"Feature\"\n",
    "        }\n",
    "    ],\n",
    "    \"type\": \"FeatureCollection\"\n",
    "}\n",
    "m = folium.Map(location=[ 56.7, 12.9], zoom_start=6)\n",
    "folium.GeoJson(geoJsonData,\n",
    "    style_function=lambda x: {\n",
    "        'color' : x['properties']['stroke'],\n",
    "        'weight' : x['properties']['stroke-width'],\n",
    "        'opacity': 0.6,\n",
    "#         'fillColor' : x['properties']['fill'],\n",
    "        }).add_to(m)\n",
    "m"
   ]
  },
  {
   "cell_type": "code",
   "execution_count": 4,
   "metadata": {},
   "outputs": [
    {
     "name": "stdout",
     "output_type": "stream",
     "text": [
      "[106.551556, 29.563009]\n",
      "{'重庆市': [106.55, 29.57], '重庆': [106.551556, 29.563009]}\n"
     ]
    }
   ],
   "source": [
    "from pyecharts.datasets.coordinates import get_coordinate, search_coordinates_by_keyword\n",
    "\n",
    "coordinate1 = get_coordinate(\"重庆\")\n",
    "print(coordinate1)\n",
    "coordinate2 = search_coordinates_by_keyword(\"重庆\")\n",
    "print(coordinate2)"
   ]
  },
  {
   "cell_type": "code",
   "execution_count": null,
   "metadata": {},
   "outputs": [],
   "source": []
  }
 ],
 "metadata": {
  "kernelspec": {
   "display_name": "Python 3",
   "language": "python",
   "name": "python3"
  },
  "language_info": {
   "codemirror_mode": {
    "name": "ipython",
    "version": 3
   },
   "file_extension": ".py",
   "mimetype": "text/x-python",
   "name": "python",
   "nbconvert_exporter": "python",
   "pygments_lexer": "ipython3",
   "version": "3.5.4"
  },
  "toc": {
   "base_numbering": 1,
   "nav_menu": {},
   "number_sections": true,
   "sideBar": true,
   "skip_h1_title": false,
   "title_cell": "Table of Contents",
   "title_sidebar": "Contents",
   "toc_cell": false,
   "toc_position": {},
   "toc_section_display": true,
   "toc_window_display": false
  }
 },
 "nbformat": 4,
 "nbformat_minor": 2
}
