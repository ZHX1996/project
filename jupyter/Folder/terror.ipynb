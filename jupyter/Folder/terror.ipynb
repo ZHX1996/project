{
 "cells": [
  {
   "cell_type": "code",
   "execution_count": 2,
   "metadata": {},
   "outputs": [],
   "source": [
    "import pandas as pd\n",
    "\n",
    "data = pd.read_excel(\"C:/Users/Administrator/Desktop/批量手机号码.xlsx\", sheet_name='Sheet1', names=['手机号码'])\n",
    "data.to_csv(\"C:/Users/Administrator/Desktop/zhx_phone.csv\", encoding='utf-8', index=False)"
   ]
  },
  {
   "cell_type": "code",
   "execution_count": 6,
   "metadata": {},
   "outputs": [
    {
     "name": "stderr",
     "output_type": "stream",
     "text": [
      "d:\\python35\\lib\\site-packages\\ipykernel_launcher.py:4: ParserWarning: Falling back to the 'python' engine because the 'c' engine does not support regex separators (separators > 1 char and different from '\\s+' are interpreted as regex); you can avoid this warning by specifying engine='python'.\n",
      "  after removing the cwd from sys.path.\n"
     ]
    },
    {
     "name": "stdout",
     "output_type": "stream",
     "text": [
      "1\n"
     ]
    }
   ],
   "source": [
    "import pandas as pd\n",
    "\n",
    "file = pd.read_csv(\"C:/Users/Administrator/Desktop/imsi.csv\", sep='\\\\001', header=None, encoding='utf-8', names=['mobile',\n",
    "                    'equipment', 'imsi'])\n",
    "df = pd.DataFrame(file)\n",
    "\n",
    "\n",
    "writer = pd.ExcelWriter(\"C:/Users/Administrator/Desktop/terrorimsi.xlsx\", engine='xlsxwriter',options={'strings_to_urls':False})\n",
    "writer.book.strings_to_urls = False\n",
    "df.to_excel(writer, 'Sheet1')\n",
    "writer.save()\n",
    "print(1)"
   ]
  },
  {
   "cell_type": "code",
   "execution_count": 6,
   "metadata": {},
   "outputs": [
    {
     "name": "stdout",
     "output_type": "stream",
     "text": [
      "1\n"
     ]
    }
   ],
   "source": [
    "import pandas as pd\n",
    "import time\n",
    "import datetime as dt\n",
    "import numpy as np\n",
    "\n",
    "# file = pd.read_excel('C://Users/Administrator/Desktop/terrorsoftwarevpn.xlsx',sheet_name='Sheet1', names=['application',\n",
    "#                             'src_ip','dst_ip','src_port','dst_port','auth_account','action','time','tmp'])\n",
    "# df = pd.DataFrame(file)\n",
    "\n",
    "# def ipconvert(x):\n",
    "#     x = int(x)\n",
    "#     s = []\n",
    "#     for i in range(4):\n",
    "#         s.append(str(x%256))\n",
    "#         x = int(x / 256)\n",
    "#     return '.'.join(s[::-1])\n",
    "\n",
    "# df['src'] = df['src_ip'].apply(ipconvert)\n",
    "# df['dst'] = df['dst_ip'].apply(ipconvert)\n",
    "\n",
    "# writer = pd.ExcelWriter(\"C:/Users/Administrator/Desktop/usevpn.xlsx\", engine='xlsxwriter',options={'strings_to_urls':False})\n",
    "# writer.book.strings_to_urls = False\n",
    "# df.to_excel(writer, 'Sheet1')\n",
    "# writer.save()\n",
    "# print(1)\n",
    "\n",
    "# file = pd.read_excel('C://Users/Administrator/Desktop/terrorsoftwareim1.xlsx',sheet_name='Sheet1', names=['application',\n",
    "#                             'auth_account','from_id','to_id','capture_time','行为','软件名'])\n",
    "# df = pd.DataFrame(file)\n",
    "\n",
    "# def switchtime(x):\n",
    "#     try:\n",
    "#         timeArray = time.localtime(int(x))\n",
    "#         return time.strftime(\"%Y-%m-%d %H:%M:%S\", timeArray)\n",
    "#     except:\n",
    "#         return 0\n",
    "\n",
    "# df['time'] = df['capture_time'].apply(switchtime)\n",
    "# df.drop(['capture_time'],axis=1,inplace=True)\n",
    "\n",
    "# writer = pd.ExcelWriter(\"C:/Users/Administrator/Desktop/useim.xlsx\", engine='xlsxwriter',options={'strings_to_urls':False})\n",
    "# writer.book.strings_to_urls = False\n",
    "# df.to_excel(writer, 'Sheet1')\n",
    "# writer.save()\n",
    "# print(1)\n",
    "\n",
    "file = pd.read_excel('C://Users/Administrator/Desktop/terrorim_v10.xlsx',sheet_name='Sheet1', names=['application',\n",
    "                            'auth_account','from_id','to_id','content','username','groupnum','action','time'])\n",
    "df = pd.DataFrame(file)\n",
    "\n",
    "def id15_18(id_card):\n",
    "    \"\"\"\n",
    "    将老版15位身份证号码转化为新版的18位身份证号码\n",
    "    逻辑：1-6位是地区号码——》保持不变\n",
    "          7-12位是生日yymmdd——》转为yyyymmdd格式——》转化为17位\n",
    "          添加最后一位校验码——》加权求和后关于11取余数为i——》根据校验码list，取校验码为list[i]\n",
    "          前17位+校验码——》获得18位身份证号码      \n",
    "    \"\"\"\n",
    "#     自己写的15转18， 反   18位转15位\n",
    "#     t = str(id_card)\n",
    "#     id_card = t[:6] + t[8:17]\n",
    "    id_card = str(id_card)\n",
    "    year =int(id_card[6:8])\n",
    "    year_now = int(dt.datetime.now().strftime('%Y'))-2000\n",
    "    if year > year_now:\n",
    "        id_card_temp = id_card[0:6]+'19'+id_card[6:]   #补齐日期码\n",
    "    else:\n",
    "        id_card_temp = id_card[0:6]+'20'+id_card[6:]   #补齐日期码 \n",
    "    a =np.array(list(map(int, id_card_temp)))\n",
    "    b = np.array((7,9,10,5,8,4,2,1,6,3,7,9,10,5,8,4,2))\n",
    "    last_number_temp = np.dot(a,b)%11\n",
    "    check_code_list = (\"1\", \"0\", \"X\", \"9\", \"8\", \"7\", \"6\", \"5\", \"4\", \"3\", \"2\")\n",
    "    check_code = check_code_list[last_number_temp]\n",
    "    id_number =id_card_temp+ str(check_code)\n",
    "    return id_number\n",
    "\n",
    "df['sfz'] = df['auth_account'].apply(id15_18)\n",
    "# df.drop(['capture_time'],axis=1,inplace=True)\n",
    "\n",
    "writer = pd.ExcelWriter(\"C:/Users/Administrator/Desktop/terrorim_tmp.xlsx\", engine='xlsxwriter',options={'strings_to_urls':False})\n",
    "writer.book.strings_to_urls = False\n",
    "df.to_excel(writer, 'Sheet1')\n",
    "writer.save()\n",
    "print(1)"
   ]
  },
  {
   "cell_type": "code",
   "execution_count": 4,
   "metadata": {},
   "outputs": [
    {
     "name": "stderr",
     "output_type": "stream",
     "text": [
      "d:\\python35\\lib\\site-packages\\ipykernel_launcher.py:4: ParserWarning: Falling back to the 'python' engine because the 'c' engine does not support regex separators (separators > 1 char and different from '\\s+' are interpreted as regex); you can avoid this warning by specifying engine='python'.\n",
      "  after removing the cwd from sys.path.\n"
     ]
    },
    {
     "name": "stdout",
     "output_type": "stream",
     "text": [
      "1\n"
     ]
    }
   ],
   "source": [
    "import pandas as pd\n",
    "\n",
    "file = pd.read_csv(\"C:/Users/Administrator/Desktop/zhx_tmp.csv\", sep='\\\\001', header=None, encoding='utf-8', names=['authid',\n",
    "                    'username'])\n",
    "df = pd.DataFrame(file)\n",
    "\n",
    "file1 = pd.read_excel('C://Users/Administrator/Desktop/terrorim_tmp.xlsx',sheet_name='Sheet1', names=['application',\n",
    "                            'auth_account','from_id','to_id','content','username','groupnum','action','time','sfz'])\n",
    "df1 = pd.DataFrame(file)\n",
    "\n",
    "# df2 = pd.merge(df1, df, how='left')\n",
    "df2 = df1.merge(df, on='username',how='left')\n",
    "\n",
    "writer = pd.ExcelWriter(\"C:/Users/Administrator/Desktop/terrorim_tmp1.xlsx\", engine='xlsxwriter',options={'strings_to_urls':False})\n",
    "writer.book.strings_to_urls = False\n",
    "df2.to_excel(writer, 'Sheet1')\n",
    "writer.save()\n",
    "print(1)"
   ]
  },
  {
   "cell_type": "code",
   "execution_count": 1,
   "metadata": {},
   "outputs": [
    {
     "name": "stdout",
     "output_type": "stream",
     "text": [
      "1\n"
     ]
    }
   ],
   "source": [
    "#utf-8\n",
    "import pandas as pd   \n",
    "\n",
    "df = pd.read_csv(\"C:/Users/Administrator/Desktop/terrorim.csv\", engine='python', delimiter='\\\\t', encoding='utf-8')\n",
    "\n",
    "cut = []\n",
    "cut.append(0)\n",
    "df_li = []\n",
    "\n",
    "for i in range(1,3):\n",
    "    cut.append(int(round(0.3*i*df.shape[0])))\n",
    "\n",
    "tmp = 0\n",
    "for i in range(0,2):\n",
    "    df_li.append(df.iloc[cut[i]:cut[i+1]])\n",
    "    tmp = i+1\n",
    "\n",
    "df_li.append(df.iloc[cut[tmp]:])\n",
    "\n",
    "for i in range(len(df_li)):\n",
    "    name = \"C:/Users/Administrator/Desktop/terrorim_v1\" + str(i) +  \".csv\"\n",
    "    df_li[i].to_csv(name,encoding='utf_8_sig',index=False)\n",
    "print(1)"
   ]
  },
  {
   "cell_type": "code",
   "execution_count": 2,
   "metadata": {},
   "outputs": [
    {
     "name": "stderr",
     "output_type": "stream",
     "text": [
      "d:\\python35\\lib\\site-packages\\ipykernel_launcher.py:92: ParserWarning: Falling back to the 'python' engine because the 'c' engine does not support regex separators (separators > 1 char and different from '\\s+' are interpreted as regex); you can avoid this warning by specifying engine='python'.\n"
     ]
    },
    {
     "name": "stdout",
     "output_type": "stream",
     "text": [
      "1\n"
     ]
    }
   ],
   "source": [
    "import pandas as pd\n",
    "import numpy as np\n",
    "import datetime as dt\n",
    "import time\n",
    "\n",
    "word_dic={\"Jihad\":\"圣战\",\"Hijrad\":\"依吉拉特\",\"Quralliq\":\"武装\",\"Mujahid\":\"圣战战士\",\n",
    "          \"Hijret\":\"迁徙\",\"Hezbut\":\"伊扎布特\",\"Qirghinchiliq\":\"屠杀\",\"Jundullah\":\"君都拉\",\n",
    "          \"Shehid\":\"殉道者\",\"xehid，xehit\":\"牺牲\",\"partiltish\":\"爆炸\",\"bomba\":\"炸弹\",\"inkilap\":\"革命\",\n",
    "          \"kurax\":\"战斗\",\"olturush\":\"杀人\",\"islam yoldiki jang\":\"伊斯兰战争\",\"bomba\":\"爆炸物\",\n",
    "          \"bayaat\":\"宣誓\",\"partlax\":\"炸死\",\"tutux\":\"抓捕\",\"جىھاد \":\"圣战\",\"ھىجىرەت \":\"依吉拉特\",\n",
    "          \"قوراللىق \":\"武装\",\"مۇجاھىد  \":\"圣战战士\",\"ھىجىرەت \":\"迁徙\",\"ئىزبوت \":\"伊扎布特\",\n",
    "          \"قىرغىنچىلىق \":\"屠杀\",\"جۇندۇللاھ \":\"君都拉\",\"شەھىد \":\"殉道者\",\"جىھاد\":\"圣战\",\"مۇجاھىد\":\"圣战战士\",\n",
    "          \"شېھىت\":\"牺牲\",\"پارتىلتىش\":\"爆炸\",\"قانلىق\":\"血腥\",\"بومبا\":\"炸弹\",\"ئىنقىلاب\":\"革命\",\"كۈرەش\":\"战斗\",\n",
    "          \"ئۆلتۈرۈش\":\"杀人\",\"ئسلام يولىدىكى جەڭ \":\"伊斯兰战争\",\"بومبا\":\"爆炸物\",\"بەيئەت\":\"宣誓\",\n",
    "          \"پارتلاش\":\"炸死\",\"تۇتۇش\":\"抓捕\",\"Haram \":\"非清真\",\"Emir\":\"艾米尔\",\"Tebliq\":\"台比力克\",\n",
    "          \"tablik \":\"讲经\",\"ھارام \":\"非清真\",\"ئەمىر \":\"艾米尔\",\"تەبلىق \":\"台比力克\",\"تەبلىق\":\"讲经\",\n",
    "          \"Mustakillik\":\"解放\",\"Azatliq，azatlik\":\"解放\",\"Musteqil，mustakil\":\"独立\",\n",
    "          \"sharki turkistan，xarkiy turkistan\":\"东突\",\"islam partiyisi\":\"伊斯兰党\",\n",
    "          \"Islam harkiti \":\"伊斯兰运动\",\"turkistan\":\"突厥斯坦\",\"Uyhur kurultay\":\"维吾尔代表大会\",\n",
    "          \"Basturush，basturux\":\"镇压\",\"Azat kilix\":\"独立\",\"térrorchi\":\"恐怖分子\",\n",
    "          \"térrorluq teshkilati\":\"恐怖组织\",\"talip\":\"伊斯兰学徒\",\"dinimiz\":\"我的宗教\",\n",
    "          \"5-iyol wakasi\":\"75事件\",\"uyghurstan\":\"东突\",\"basturux\":\"镇压\",\n",
    "          \"azatlik\":\"解放\",\"zulum\":\"压迫\",\"mustekil\":\"独立\",\"rabiye kadeer\":\"热比娅.卡迪尔\",\n",
    "          \"Uyhur kurltiyi\":\"维吾尔大会\",\"Kixlik hokok\":\"人权\",\"demkuratiye\":\"民主\",\"Xitay Siyaset，hitay siyasiti\":\"中国政策\",\n",
    "          \"Gulja Weqesi\":\"伊犁事件\",\"Xitay kommuniet hakimiyiti\":\"中共委员会\",\"Xitay kompartiyisi\":\"中国共产党\",\n",
    "          \"yuquri bésim siyasiti\":\"高压政策\",\"Uyhurlarning ishsizliq\":\"维吾尔无业者\",\n",
    "          \"ishsiz qalghan Uyghur yashliri\":\"维吾尔无业青年\",\"kommunist Xitay hakimiyiti\":\"中国政府\",\n",
    "          \"milliy zulum siyasiti\":\"民族压迫政策\",\"Uyghurlargha qaratqan basturush\":\"针对对维吾尔的压迫政策\",\n",
    "          \"uyghur xelqining awazni\":\"维吾尔人民之声\",\"zulum we bésim siyasti\":\"残酷压迫政策\",\n",
    "          \"Ana wetinimiz sherqiy türkistanning\":\"祖国东土耳其斯坦\",\"qarshiliq herkitini\":\"反抗行为\",\n",
    "          \"qoralliq basturush\":\"武装压迫\",\"yuqutush\":\"消灭\",\"Shaoguan Weqesi\":\"韶关事件\",\n",
    "          \"75 Weqesi\":\"75事件\",\"Millibolgunqi\":\"民族分裂\",\"kuturatkulukkilix\":\"煽动\",\n",
    "          \"Asmilatsiye\":\"同化\",\"Narazilik bildurmak\":\"反抗\",\"ETIC\":\"东突信息中心\",\n",
    "          \"dogu turkistan\":\"东土耳其斯坦\",\"Rabiye qadir\":\"热比娅·卡德尔\",\"uyghurmaarip\":\"维吾尔教育\",\n",
    "          \"مۇستەقىللىق \":\"解放\",\"ئازاتلىق \":\"解放\",\"مۇستەقىل \":\"独立\",\n",
    "          \"شەرقى تۇركىستان\":\"东突\",\"ئىسلام پارتىيىسى\":\"伊斯兰党\",\n",
    "          \"ئىسلام ھەرىكىتى\":\"伊斯兰运动\",\"تۈركىستان \":\"突厥斯坦\",\n",
    "          \"ئۇيغۇر  قۇرۇلتاي \":\"维吾尔代表大会\",\"باستۇرۇش \":\"镇压\",\"ئازات قىلىش\":\"独立\",\"تېررورچى\":\"恐怖分子\",\n",
    "          \"تېررورلۇق تەشكىلاتى\":\"恐怖组织\",\"تالىپ\":\"伊斯兰学徒\",\"دىنىمىز\":\"我的宗教\",\"بەشىنچى ئىيۇل ۋەقەسى\":\"75事件\",\n",
    "          \"ئۇيغۇرسىتان\":\"东突\",\"باشتۇرۇش\":\"镇压\",\"ئازاتلىق\":\"解放\",\"زۇلۇم\":\"压迫\",\"مۇستەقىل\":\"独立\",\n",
    "          \"رابىيە قادىر\":\"热比娅.卡迪尔\",\"ئۇيغۇر قۇرۇلتىيى\":\"维吾尔大会\",\"كىشلىك ھوقۇق\":\"人权\",\n",
    "          \"دېموكراتىيە\":\"民主\",\"خىتاي سىياسەت\":\"中国政策\",\"غۇلجا ۋەقەسى\":\"伊犁事件\",\"خىتاي كوممۇنىست ھۆكۈمىتى\":\"中共委员会\",\n",
    "          \"خىتاي كومپارتىيىسى\":\"中国共产党\",\"يوقىرى بىسىم سىياسىتى\":\"高压政策\",\"ئۇيغۇرلارنىڭ ئىشسىزلىق\":\"维吾尔无业者\",\n",
    "          \"ئىشسىز چارغان ئۇيغۇر\":\"维吾尔无业青年\",\"كوممۇنىست خىتاي ھۆكۈمىتى\":\"中国政府\",\"مىللىي زۇلۇم سىياسىتى \":\"民族压迫政策\",\n",
    "          \"ئۇيغۇرلارغا \":\"针对对维吾尔的压迫政策\",\"ئۇيغۇر \":\"维吾尔人民之声\",\"زۇلۇم ۋە بىسىم سىياسىتى\":\"残酷压迫政策\",\n",
    "          \"ۋەتەنىمىز شەرقىي تۇركىستاننىڭ\":\"祖国东土耳其斯坦\",\"قارشىلىق ھەرىكىتىنى\":\"反抗行为\",\"قۇراللىق باستۇرۇش\":\"武装压迫\",\"يوقۇتۇش\":\"消灭\",\n",
    "          \"شاۋگۈن ۋەقەسى\":\"韶关事件\",\"75 ۋەقەسى\":\"75事件\",\"مىللى بۆلۈمچى\":\"民族分裂\",\"قۇتراتقۇلۇق قىلىش\":\"煽动\",\"ئاسىمىلاتسىيە\":\"同化\",\"نارازلىق بۆلدۈرمەك\":\"反抗\",\"تۇركىستان\":\"东土耳其斯坦\",\"Kapir\":\"异教徒\",\"Xuar，shuar\":\"口号\",\"Yihilix\":\"聚会，集会\",\"Harket，harkat\":\"行动\",\n",
    "          \"Watendaxlar\":\"同胞\",\"Watinimiz\":\"我们的祖国\",\"Namayix，namayish\":\"游行\",\"Uyghur kurultay\":\"维吾尔代表大会\",\"Taxvik，taxvih\":\"宣传\",\"Pilan\":\"计划\",\"Tashkilat，taxkilat\":\"组织\",\"Oyhunayli\":\"觉醒\",\"Topilang\":\"闹事\",\"Xitay，hitay\":\"黑塔依\",\"Ezaliri，azalar\":\"成员\",\"Weten，watan\":\"祖国\",\"Meqset，mahsat\":\"目的\",\"Alaqe，alaka\":\"联络\",\"Kuzutush，kozutux\":\"观察\",\"Meslihet\":\"商量\",\"Munapiq，munapih\":\"败类\",\"Hokumet\":\"政府\",\"Qerindash，kerindax\":\"兄弟\",\"Awangart\":\"先锋\",\"Pexes，pahas\":\"警惕\",\"Muhajir\":\"侨民\",\n",
    "          \"Ahbarat\":\"情报\",\"Chaqiriq，qakirih\":\"号召\",\"Saqchi，sahqi\":\"警察\",\"Paaliyet\":\"活动\",\"Nishan\":\"目标\",\"Burader\":\"兄弟\",\"Hakimiyet\":\"政权\",\"Teyyarliq，tayyarlik\":\"准备\",\"Uqturush，uhturux\":\"公告\",\"Qarshiliq，karxilik\":\"抗议\",\"Yashisun，yaxisun\":\"万岁\",\"Dushmen，duxman\":\"敌人\",\"Tijaret\":\"生意\",\"Ishenchilik，ixanqilik\":\"可靠\",\"Weziyet\":\"形势\",\"Xeterlik，hatarlik\":\"危险\",\"Namayish\":\"游行\",\"Qehriman，kahriman\":\"英雄\",\"Qurultay，kurultay\":\"会议\",\"Nizamname\":\"简章\",\"Ustaz\":\"师傅\",\"xinjianglik ogri\":\"新疆籍小偷\",\"uyghur\":\"维吾尔\",\n",
    "          \"arizkilix\":\"上访\",\"hurluk\":\"自由\",\"hittay\":\"汉族\",\"millitimiz\":\"我民族\",\"ouygan\":\"觉醒\",\"xinjiang tor\":\"新疆互联网\",\"qakirik\":\"号召\",\"dilxat（dilshat）\":\"迪力夏提\",\"karxlik \":\"反抗\",\"Gunasiz\":\"无辜\",\"Jusus(jasus)\":\"间谍\",\"murajat\":\"呼吁\",\"pasport\":\"护照\",\"كاپىر \":\"异教徒\",\"شوئار \":\"口号\",\"يىغىلىش \":\"聚会，集会\",\"ھەركەت \":\"行动\",\"ۋەتەنداشلار \":\"同胞\",\"ۋەتىنىمىز \":\"我们的祖国\",\"نامايىش \":\"游行\",\"كىشلىك  ھوقۇق \":\"人权\",\"تەشۋىق \":\"宣传\",\"پىلان \":\"计划\",\"تەشكىلات \":\"组织\",\"ئويغىنايلى \":\"觉醒\",\"توپىلاڭ \":\"闹事\",\"خىتاي \":\"黑塔依\",\"ئەزالار \":\"成员\",\"ۋەتەن \":\"祖国\",\"مەخسەت \":\"目的\",\"ئالاقە \":\"联络\",\"كۈزۈتۈش \":\"观察\",\"مەسلىھەت \":\"商量\",\"مۇناپىق \":\"败类\",\"ھۆكۈمەت \":\"政府\",\"قېرنداش \":\"兄弟\",\"ئاۋانگارت \":\"先锋\",\"پەخەس \":\"警惕\",\"مۇھاجىر \":\"侨民\",\"ئاخبارات \":\"情报\",\"چاقىرىق \":\"号召\",\"ساقچى \":\"警察\",\"پائالىيەت\":\"活动\",\"نىشان \":\"目标\",\"بۇرادەر \":\"兄弟\",\"ھاكىمىيەت \":\"政权\",\"تەييارلىق \":\"准备\",\"ئۇقتۇرۇش \":\"公告\",\"قارشىلىق \":\"抗议\",\"ياشىسۇن \":\"万岁\",\"دۇشمەن \":\"敌人\",\"تىجارەت \":\"生意\",\"ئىشەنچىلىك \":\"可靠\",\"ۋەزىيەت \":\"形势\",\"خەتەرلىك \":\"危险\",\"قەھىرمان \":\"英雄\",\"قۇرۇلتاي \":\"会议\",\"نىزامنامە \":\"简章\",\"ئۇستاز \":\"师傅\",\"شىنجاڭلىك ئوغرى\":\"新疆籍小偷\",\"ئۇيغۇر\":\"维吾尔\",\"يۇقىرى ئورگانلارغا شىكايەت قىلىش\":\"上访\",\"ئەركىنلىك\":\"自由\",\"خىتاي\":\"汉族\",\"قېرىنداش\":\"同胞\",\"مىللىتىمىز\":\"我民族\",\"ئويغان\":\"觉醒\",\"شىنجاڭ تور\":\"新疆互联网\",\"يىغىلىش\":\"集会\",\"چاقىرىق\":\"号召\",\"دىلىشات\":\"迪力夏提\",\"قارشىلىق\":\"反抗\",\"گۇناھسىز\":\"无辜\",\"جاسۇس\":\"间谍\",\"مۇراجىئەت\":\"呼吁\",\"پاسپورت\":\"护照\",\"ئاخبارات\":\"情报\",\"ئالاقە\":\"公文，公函\",\"ئاۋانگارت\":\"先锋\",\"ئازات\":\"解放\",\"ئازات قىلىش\":\"解放\",\"باستۇرۇش\":\"镇压\",\"بەيەت\":\"皈依\",\"بۇرادەر\":\"兄弟\",\"دۈشمەن\":\"敌人\",\"ئېھتىيات\":\"储备\",\"ئەل\":\"国家\",\"ئەمىر\":\"国王\",\"ئەركىن ئاسىيا رادىوسى\":\"自由亚洲广播\",\"ئەزالىرى\":\"成员\",\"غازات\":\"圣战\",\"خاىن\":\"叛徒\",\"ھاكىمىيەت\":\"政权\",\"ھارام\":\"不义的\",\"ھازىدار\":\"孝顺\",\"خەتەر\":\"危险\",\"خەتەرلىك\":\"危险\",\"ھىجرەت\":\"迁徙\",\"خىتاي\":\"汉人\",\"خىتاي كوممۇنىست ھۆكۈمىتى\":\"共产党政府\",\"خىتاي كومپارتىيىسى\":\"汉族共产党\",\"خىتاي سىياسەت\":\"汉人政权\",\"ھۆكۈمەت\":\"政府\",\"ئىسلام پارتىيىسى\":\"伊斯兰政党\",\"ئىشەنچىلىك\":\"可信任的\",\"جاسۇس\":\"奸细\",\"كاپىر\":\"异教徒\",\"قارشىلىق\":\"暴力\",\"قارشىلىق ھەرىكىتىنى\":\"暴力活动\",\"قەھرىمان\":\"英勇\",\"قىرغىنچىلىق\":\"屠杀\",\"كوممۇنىست\":\"共产党人\",\"كوممۇنىست خىتاي ھۆكۈمىتى\":\"共产党政府\",\"قۇرال\":\"枪\",\"قۇراللىق باستۇرۇش\":\"持械镇压\",\"قۇرۇلتاي\":\"代表大会\",\"مەقسەت\":\"目的\",\"مەسلىھەت\":\"策论\",\"مىللىتىمىز\":\"本民族\",\"مىللىي زۇلۇم سىياسىتى\":\"民主压迫政策\",\"مۇھاجىر\":\"侨民\",\"مۇناپىق\":\"败类\",\"مۇراجىەت\":\"告示\",\"نامايىش\":\"游行\",\"نىشان\":\"理想\",\"نىزامنامە\":\"章程\",\"ئۆلتۈرۈش\":\"杀害\",\"پاالىيەت\":\"活动\",\"پارتلاش\":\"爆炸\",\"پارتلىتىش\":\"爆炸\",\"پەخەس\":\"防御\",\"پىلان\":\"计划\",\"رابىيە قادىر\":\"热比娅·卡德尔\",\"ساقچى\":\"警察\",\"تاجاۋۇز\":\"侵略\",\"تالىپ\":\"塔利班\",\"تەشكىلات\":\"组织\",\"تەييارلىق\":\"准备\",\"تىبەت\":\"西藏\",\"تىجارەت\":\"生意\",\"تىپ ئىسلام\":\"典型伊斯兰\",\"تۇتۇش\":\"逮捕\",\"تۈركىستان\":\"土耳其斯坦\",\"ئۇقتۇرۇش\":\"通知\",\"ئۇستاز\":\"师傅\",\"ئۇيغۇر قۇرۇلتىيى\":\"维吾尔代表大会\",\"ئۇيغۇر ماارىپ\":\"维吾尔教育\",\"ئۇيغۇر رادىوسى\":\"维吾尔广播\",\"ئۇيغۇرلارغا\":\"维吾尔人\",\"ئۇيغۇرلارنىڭ ئىشسىزلىق\":\"维吾尔失业人群\",\"ئۈرۈمچى\":\"乌鲁木齐\",\"ئۈرۈمچى ۋەقەسى\":\"乌鲁木齐事件\",\"ۋەتەن\":\"国家\",\"ۋەتەنداشلار\":\"爱国人士\",\"ۋەزىيەت\":\"形式\",\"شەھىد\":\"殉教者\",\"شېھىت\":\"圣战者\",\"شەرقى تۈركىستان\":\"东突\",\"شىنجاڭ تور\":\"新疆网\",\"ياشىسۇن\":\"万岁\",\"يىغىلىش\":\"聚会\",\"alaKE\":\"公文，公函\",\"azat\":\"解放\",\"azat#Kilix\":\"解放\",\"bExinqi#iyul#wEKEsi\":\"75事件\",\"bEyEt\":\"皈依\",\"demokratiyE\":\"民主\",\"dvxmEn\":\"敌人\",\"eHtiyat\":\"储备\",\"Emir\":\"国王\",\"Erkin#asiya#radiosi\":\"自由亚洲广播\",\"Erkinlik\":\"自由\",\"Ezaliri\":\"成员\",\"Gazat\":\"圣战\",\"Gulja#wEKEsi\":\"伊犁事件\",\"gunaHsiz\":\"无辜\",\"hain\":\"叛徒\",\"Haram\":\"不义的\",\"Hazidar\":\"孝顺\",\"hEtEr\":\"危险\",\"hEtErlik\":\"危险\",\"hitay\":\"汉人\",\"hitay#kommunist#HOkvmiti\":\"共产党政府\",\"hitay#kompartiyisi\":\"汉族共产党\",\"hitay#siyasEt\":\"汉人政权\",\"HOkvmEt\":\"政府\",\"inKilab\":\"革命\",\"islam#HErikiti\":\"伊斯兰运动\",\"islam#partiyisi\":\"伊斯兰政党\",\"ixEnqilik\":\"可信任的\",\"jasus\":\"奸细\",\"KanliK\":\"血腥\",\"KarxiliK\":\"暴力\",\"KarxiliK#HErikitini\":\"暴力活动\",\"KEHriman\":\"英勇\",\"Kerindax\":\"同胞\",\"KirGinqiliK\":\"屠杀\",\"kixlik#HoKuK\":\"人权\",\"kommunist\":\"共产党人\",\"kommunist#hitay#HOkvmiti\":\"共产党政府\",\"Kural\":\"枪\",\"KuralliK#basturux\":\"持械镇压\",\"Kurultay\":\"代表大会\",\"kvrEx\":\"战斗\",\"mEKsEt\":\"目的\",\"mEsliHEt\":\"策论\",\"millitimiz\":\"本民族\",\"milliy#zulum#siyasiti\":\"民主压迫政策\",\"munapiK\":\"败类\",\"murajiEt\":\"告示\",\"namayix\":\"游行\",\"nixan\":\"理想\",\"nizamnamE\":\"章程\",\"Oltvrvx\":\"杀害\",\"oyGan\":\"觉醒\",\"partiltix\":\"爆炸\",\"partlax\":\"爆炸\",\"partlitix\":\"爆炸\",\"pEhEs\":\"防御\",\"rabiyE#Kadir\":\"热比娅·卡德尔\",\"saKqi\":\"警察\",\"tajawuz\":\"侵略\",\"talip\":\"塔利班\",\"terrorluK#tExkilati\":\"恐怖组织\",\"terrorqi\":\"恐怖分子\",\"tExkilat\":\"组织\",\"tEyyarliK\":\"准备\",\"tibEt\":\"西藏\",\"tip#islam\":\"典型伊斯兰\",\"tutux\":\"逮捕\",\"tvrkistan\":\"土耳其斯坦\",\"uKturux\":\"通知\",\"uyGur\":\"维吾尔\",\"uyGur#Kurultiyi\":\"维吾尔代表大会\",\"uyGur#maarip\":\"维吾尔教育\",\"uyGur#radiosi\":\"维吾尔广播\",\"uyGurlarGa\":\"维吾尔人\",\"uyGurlarniN#ixsizliK\":\"维吾尔失业人群\",\"vrvmqi\":\"乌鲁木齐\",\"vrvmqi#wEKEsi\":\"乌鲁木齐事件\",\"wEtEn\":\"国家\",\"wEtEndaxlar\":\"爱国人士\",\"wEziyEt\":\"形式\",\"xEHid\":\"殉教者\",\"xeHit\":\"圣战者\",\"xErKi#tvrkistan\":\"东突\",\"xinjaN#tor\":\"新疆网\",\"yaxisun\":\"万岁\",\"yiGilix\":\"聚会\",\"islam\":\"由于境外网站经常变更，但是网站里的一些关键词不会变\",\"ئىسلام جۇمھۇرىيىتى\":\"ئىسلام جۇمھۇرىيىتى\"}\n",
    "li = [\"kanlik\",\"qanlik\",\"血腥\",\"yegilix\",\"yegilesh\",\"集会\",\"kerindash\",\"kerindax\",\"同胞\"]\n",
    "li += list(word_dic.keys())\n",
    "li += list(word_dic.values())\n",
    "\n",
    "def key_filter(x):\n",
    "    k = 0\n",
    "    try:\n",
    "        for keyword in li:\n",
    "            if keyword in x:\n",
    "                k+=1\n",
    "        return k\n",
    "    except:\n",
    "        return 0\n",
    "    \n",
    "def id15_18(id_card):\n",
    "    id_card = str(id_card)\n",
    "    if len(id_card) != 15:\n",
    "        return id_card\n",
    "    else:\n",
    "        year =int(id_card[6:8])\n",
    "        year_now = int(dt.datetime.now().strftime('%Y'))-2000\n",
    "        if year > year_now:\n",
    "            id_card_temp = id_card[0:6]+'19'+id_card[6:]   #补齐日期码\n",
    "        else:\n",
    "            id_card_temp = id_card[0:6]+'20'+id_card[6:]   #补齐日期码 \n",
    "        a =np.array(list(map(int, id_card_temp)))\n",
    "        b = np.array((7,9,10,5,8,4,2,1,6,3,7,9,10,5,8,4,2))\n",
    "        last_number_temp = np.dot(a,b)%11\n",
    "        check_code_list = (\"1\", \"0\", \"X\", \"9\", \"8\", \"7\", \"6\", \"5\", \"4\", \"3\", \"2\")\n",
    "        check_code = check_code_list[last_number_temp]\n",
    "        id_number =id_card_temp+ str(check_code)\n",
    "        return id_number\n",
    "\n",
    "def switchtime(x):\n",
    "    try:\n",
    "        timeArray = time.localtime(int(x))\n",
    "        return time.strftime(\"%Y-%m-%d %H:%M:%S\", timeArray)\n",
    "    except:\n",
    "        return 0\n",
    "\n",
    "file = pd.read_csv(\"C:/Users/Administrator/Desktop/engine.csv\", sep='\\\\001', header=None, encoding='utf-8', names=['authaccount','auth_account',\n",
    "                    'keyword','capture_time','toolname','tooltype','engine_type'])\n",
    "df = pd.DataFrame(file)\n",
    "        \n",
    "df['tmp'] = df['keyword'].apply(key_filter)\n",
    "df = df.loc[df.tmp>0,]\n",
    "df['time'] = df['capture_time'].apply(switchtime)\n",
    "df['sfz'] = df['authaccount'].apply(id15_18)\n",
    "df.drop(['tmp',\"toolname\",\"tooltype\",\"capture_time\",'authaccount'], axis=1, inplace=True)\n",
    "\n",
    "writer = pd.ExcelWriter(\"C:/Users/Administrator/Desktop/engine.xlsx\", engine='xlsxwriter',options={'strings_to_urls':False})\n",
    "writer.book.strings_to_urls = False\n",
    "df.to_excel(writer, 'Sheet1')\n",
    "writer.save()\n",
    "print(1)"
   ]
  },
  {
   "cell_type": "code",
   "execution_count": 5,
   "metadata": {},
   "outputs": [
    {
     "name": "stderr",
     "output_type": "stream",
     "text": [
      "d:\\python35\\lib\\site-packages\\ipykernel_launcher.py:7: ParserWarning: Falling back to the 'python' engine because the 'c' engine does not support regex separators (separators > 1 char and different from '\\s+' are interpreted as regex); you can avoid this warning by specifying engine='python'.\n",
      "  import sys\n"
     ]
    },
    {
     "name": "stdout",
     "output_type": "stream",
     "text": [
      "1\n"
     ]
    }
   ],
   "source": [
    "import pandas as pd\n",
    "import numpy as np\n",
    "import datetime as dt\n",
    "import time\n",
    "\n",
    "file = pd.read_csv(\"C:/Users/Administrator/Desktop/webbbs.csv\", sep='\\\\001', header=None, encoding='utf-8', names=['auth_account','content',\n",
    "                    'capture_time'])\n",
    "df = pd.DataFrame(file)\n",
    "\n",
    "writer = pd.ExcelWriter(\"C:/Users/Administrator/Desktop/webbbs.xlsx\", engine='xlsxwriter',options={'strings_to_urls':False})\n",
    "writer.book.strings_to_urls = False\n",
    "df.to_excel(writer, 'Sheet1')\n",
    "writer.save()\n",
    "print(1)"
   ]
  },
  {
   "cell_type": "code",
   "execution_count": 2,
   "metadata": {},
   "outputs": [
    {
     "name": "stdout",
     "output_type": "stream",
     "text": [
      "1\n"
     ]
    },
    {
     "name": "stderr",
     "output_type": "stream",
     "text": [
      "d:\\python35\\lib\\site-packages\\ipykernel_launcher.py:7: ParserWarning: Falling back to the 'python' engine because the 'c' engine does not support regex separators (separators > 1 char and different from '\\s+' are interpreted as regex); you can avoid this warning by specifying engine='python'.\n",
      "  import sys\n"
     ]
    }
   ],
   "source": [
    "import pandas as pd\n",
    "import numpy as np\n",
    "import datetime as dt\n",
    "import time\n",
    "\n",
    "file = pd.read_csv(\"C:/Users/Administrator/Desktop/terroremail.csv\", sep='\\\\001', header=None, encoding='utf-8', names=['mail_from','rcpt_to',\n",
    "                    'mail_subject','c2','file_md5','auth_account','data_source','action','username','password','capture_time'])\n",
    "df = pd.DataFrame(file)\n",
    "\n",
    "writer = pd.ExcelWriter(\"C:/Users/Administrator/Desktop/terroremail.xlsx\", engine='xlsxwriter',options={'strings_to_urls':False})\n",
    "writer.book.strings_to_urls = False\n",
    "df.to_excel(writer, 'Sheet1')\n",
    "writer.save()\n",
    "print(1)"
   ]
  },
  {
   "cell_type": "code",
   "execution_count": 5,
   "metadata": {},
   "outputs": [
    {
     "name": "stderr",
     "output_type": "stream",
     "text": [
      "d:\\python35\\lib\\site-packages\\ipykernel_launcher.py:7: ParserWarning: Falling back to the 'python' engine because the 'c' engine does not support regex separators (separators > 1 char and different from '\\s+' are interpreted as regex); you can avoid this warning by specifying engine='python'.\n",
      "  import sys\n"
     ]
    },
    {
     "name": "stdout",
     "output_type": "stream",
     "text": [
      "1\n"
     ]
    }
   ],
   "source": [
    "# utf-8\n",
    "import pandas as pd\n",
    "import numpy as np\n",
    "import datetime as dt\n",
    "import time\n",
    "\n",
    "file = pd.read_csv(\"C:/Users/Administrator/Desktop/terrorappstore.csv\", sep='\\\\001', header=None, encoding='utf-8', names=['auth_account','appname'])\n",
    "df = pd.DataFrame(file)\n",
    "\n",
    "def drop_nan(x):\n",
    "    if x == \"\\\\N\":\n",
    "        return 0\n",
    "    return 1\n",
    "\n",
    "df['tmp'] = df['appname'].apply(drop_nan)\n",
    "df = df.loc[df.tmp>0,]\n",
    "df.drop(['tmp'], axis = 1, inplace=True)\n",
    "df1 = df.groupby(by='auth_account').apply(lambda x: ';'.join(x['appname']))\n",
    "df1 = pd.DataFrame({'df1':df1})\n",
    "\n",
    "writer = pd.ExcelWriter(\"C:/Users/Administrator/Desktop/appstore.xlsx\", engine='xlsxwriter',options={'strings_to_urls':False})\n",
    "writer.book.strings_to_urls = False\n",
    "df1.to_excel(writer, 'Sheet1')\n",
    "writer.save()\n",
    "print(1)"
   ]
  },
  {
   "cell_type": "code",
   "execution_count": 15,
   "metadata": {},
   "outputs": [
    {
     "name": "stderr",
     "output_type": "stream",
     "text": [
      "d:\\python35\\lib\\site-packages\\ipykernel_launcher.py:7: ParserWarning: Falling back to the 'python' engine because the 'c' engine does not support regex separators (separators > 1 char and different from '\\s+' are interpreted as regex); you can avoid this warning by specifying engine='python'.\n",
      "  import sys\n"
     ]
    },
    {
     "name": "stdout",
     "output_type": "stream",
     "text": [
      "1\n"
     ]
    }
   ],
   "source": [
    "import pandas as pd\n",
    "import numpy as np\n",
    "import datetime as dt\n",
    "import time\n",
    "\n",
    "file = pd.read_csv(\"C:/Users/Administrator/Desktop/terrorwebshare.csv\", sep='\\\\001', header=None, encoding='utf-8', names=['application','auth_account',\n",
    "                    'clue_id','mainfile','share_file','capture_time','hash','action'])\n",
    "df = pd.DataFrame(file)\n",
    "\n",
    "lines = open(\"C:/Users/Administrator/Desktop/terrorism_MD5.txt\", 'r',encoding='utf-8').readlines()\n",
    "MD5 = []\n",
    "for line in lines:\n",
    "    MD5.append(line.strip(\"\\n\").lower())\n",
    "    \n",
    "def MD5_filter(x):\n",
    "    if x == \"\\\\N\":\n",
    "        return 0\n",
    "    x = x.lower()\n",
    "    if x in MD5:\n",
    "        return 1\n",
    "    else:\n",
    "        return 0\n",
    "\n",
    "df['tmp'] = df['hash'].apply(MD5_filter)\n",
    "df = df.loc[df.tmp>0,]\n",
    "df.drop(['tmp'], axis =1, inplace=True)\n",
    "\n",
    "writer = pd.ExcelWriter(\"C:/Users/Administrator/Desktop/terrorwebshare.xlsx\", engine='xlsxwriter',options={'strings_to_urls':False})\n",
    "writer.book.strings_to_urls = False\n",
    "df.to_excel(writer, 'Sheet1')\n",
    "writer.save()\n",
    "print(1)"
   ]
  },
  {
   "cell_type": "code",
   "execution_count": 7,
   "metadata": {},
   "outputs": [
    {
     "name": "stderr",
     "output_type": "stream",
     "text": [
      "d:\\python35\\lib\\site-packages\\ipykernel_launcher.py:12: ParserWarning: Falling back to the 'python' engine because the 'c' engine does not support regex separators (separators > 1 char and different from '\\s+' are interpreted as regex); you can avoid this warning by specifying engine='python'.\n",
      "  if sys.path[0] == '':\n"
     ]
    },
    {
     "name": "stdout",
     "output_type": "stream",
     "text": [
      "1\n"
     ]
    }
   ],
   "source": [
    "import pandas as pd\n",
    "import numpy as np\n",
    "import datetime as dt\n",
    "import time\n",
    "\n",
    "lines = open(\"C:/Users/Administrator/Desktop/terrorism_MD5.txt\", 'r',encoding='utf-8').readlines()\n",
    "MD5 = []\n",
    "for line in lines:\n",
    "    MD5.append(line.strip(\"\\n\").lower())\n",
    "\n",
    "file = pd.read_csv(\"C:/Users/Administrator/Desktop/terrorim_v12.csv\", sep='\\\\001', header=None, encoding='utf-8', names=['application','auth_account',\n",
    "                    'from_id','to_id','content','mainfile','file_md5','capture_time','username','groupnum','action'])\n",
    "df = pd.DataFrame(file)\n",
    "    \n",
    "def MD5_filter(x):\n",
    "    if x == \"\\\\N\":\n",
    "        return 0\n",
    "    x = str(x)\n",
    "    x = x.lower()\n",
    "    if x in MD5:\n",
    "        return 1\n",
    "    else:\n",
    "        return 0\n",
    "    \n",
    "def switchtime(x):\n",
    "    if x == '\\\\N':\n",
    "        return 0\n",
    "    else:\n",
    "        timeArray = time.localtime(int(x))\n",
    "        return time.strftime(\"%Y-%m-%d %H:%M:%S\", timeArray)\n",
    "\n",
    "df['tmp'] = df['file_md5'].apply(MD5_filter)\n",
    "df = df.loc[df.tmp>0,]\n",
    "df['time'] = df['capture_time'].apply(switchtime)\n",
    "df.drop(['capture_time','tmp'], axis =1, inplace=True)\n",
    "\n",
    "writer = pd.ExcelWriter(\"C:/Users/Administrator/Desktop/terrorfile_v12.xlsx\", engine='xlsxwriter',options={'strings_to_urls':False})\n",
    "writer.book.strings_to_urls = False\n",
    "df.to_excel(writer, 'Sheet1')\n",
    "writer.save()\n",
    "print(1)"
   ]
  },
  {
   "cell_type": "code",
   "execution_count": 20,
   "metadata": {},
   "outputs": [
    {
     "name": "stdout",
     "output_type": "stream",
     "text": [
      "{'W031039881': 'twister', 'W031039956': 'DIDI', 'W031039942': 'ZELLO', 'W031039957': 'voxer', 'W031039952': 'line', 'W031039922': 'DROPBOX', 'W031039923': 'BBM', 'W031039943': 'OOVOO', 'W031039950': 'telegram', 'W031039898': 'hi', 'W031039966': 'talkbox', 'W031039971': 'COCO', 'W031039867': '快牙', 'W031030038': 'whatsapp'}\n",
      "{'W031219974': 'Asseco VPN', 'W031219959': 'Faceless VPN', 'W031219997': 'vpn unlimited', 'W031219966': 'VPN Blitz', 'W031219995': 'super vpn', 'W031219969': 'ItsHidden', 'W031219949': '极路由', 'W031219992': 'VPN Free', 'W031219952': 'Fqrouter', 'W031219984': 'GreenVPN', 'W031219951': 'vpnmaster', 'W031219981': '50VPN', 'W031219967': 'VPN Fire', 'W031219999': '其他VPN', 'W031219965': 'GoBrowse Pro', 'W031219953': '轻云', 'W031219961': 'VpnOneClick', 'W031219991': 'Enterprise VPN Services', 'W031219988': 'freevpn', 'W031219985': 'eyeVPN', 'W031219993': 'Hideninja VPN Free', 'W031219963': 'Budget VPN', 'W031210002': 'L2TP', 'W031219979': 'VPN Gate', 'W031219987': 'ark vpn', 'W031219986': '非凡VPN', 'W031219978': 'OpenVPN', 'W031219996': 'vpn dialogs', 'W031219989': 'VPN的主', 'W031219971': 'StrongVPN', 'W031219994': 'GroxNetwork', 'W031219964': 'ibVPN', 'W031219948': '天行VPN', 'W031219975': 'VPN Watcher', 'W031219960': 'Hotspot VPN', 'W031219972': 'VPN Shield', 'W031219977': 'VPN for Phone', 'W031219980': '易联', 'W031219983': 'Astrill VPN', 'W031219998': 'easyVPN', 'W031219982': 'Global VPN', 'W031219955': 'youproxy', 'W031219956': '红杏', 'W031219970': 'GoVPN', 'W031219954': 'pandafan', 'W031219958': 'Onavo Protect', 'W031219976': 'Smarter DNS', 'W031219950': 'Le VPN', 'W031210001': 'PPTP', 'W031219962': 'Seed4Me VPN', 'W031219947': 'Avast secureLine', 'W031219973': 'ASEE Token', 'W031219968': 'VPN in Touch', 'W031219990': 'IPSec'}\n"
     ]
    }
   ],
   "source": [
    "dic = {\"telegram\":\"W031039950\",\"whatsapp\":\"W031030038\",\"voxer\":\"W031039957\",'line':\"W031039952\",\"BBM\":\"W031039923\",'快牙':\"W031039867\",\n",
    "      \"OOVOO\":\"W031039943\",\"ZELLO\":\"W031039942\",\"DROPBOX\":\"W031039922\",'COCO':\"W031039971\",'twister':\"W031039881\",\"DIDI\":\"W031039956\",\n",
    "      \"talkbox\":\"W031039966\",\"hi\":\"W031039898\"}\n",
    "\n",
    "dic = {value:key for key, value in dic.items()}\n",
    "print(dic)\n",
    "\n",
    "file = pd.read_excel('C://Users/Administrator/Desktop/tmp.xlsx',sheet_name='Sheet1', names=['name','code'])\n",
    "df = pd.DataFrame(file)\n",
    "\n",
    "dic_vpn = df.set_index('code').T.to_dict('list')\n",
    "dic_vpn = {key: \"W03\"+str(value[0]) for key,value in dic_vpn.items()}\n",
    "dic_vpn = {value:key for key, value in dic_vpn.items()}\n",
    "print(dic_vpn)"
   ]
  },
  {
   "cell_type": "code",
   "execution_count": 4,
   "metadata": {},
   "outputs": [
    {
     "name": "stderr",
     "output_type": "stream",
     "text": [
      "d:\\python35\\lib\\site-packages\\ipykernel_launcher.py:11: ParserWarning: Falling back to the 'python' engine because the 'c' engine does not support regex separators (separators > 1 char and different from '\\s+' are interpreted as regex); you can avoid this warning by specifying engine='python'.\n",
      "  # This is added back by InteractiveShellApp.init_path()\n"
     ]
    },
    {
     "name": "stdout",
     "output_type": "stream",
     "text": [
      "1\n"
     ]
    }
   ],
   "source": [
    "import pandas as pd\n",
    "import numpy as np\n",
    "import datetime as dt\n",
    "import time\n",
    "\n",
    "\"\"\"\n",
    "网络发言情况\n",
    "\"\"\"\n",
    "\n",
    "file = pd.read_csv(\"C:/Users/Administrator/Desktop/terrorim_v10.csv\", sep='\\\\001', header=None, encoding='utf-8', names=['application','auth_account',\n",
    "                    'from_id','to_id','content','mainfile','file_md5','capture_time','username','groupnum','action'])\n",
    "df = pd.DataFrame(file)\n",
    "    \n",
    "word_dic={\"Jihad\":\"圣战\",\"Hijrad\":\"依吉拉特\",\"Quralliq\":\"武装\",\"Mujahid\":\"圣战战士\",\n",
    "          \"Hijret\":\"迁徙\",\"Hezbut\":\"伊扎布特\",\"Qirghinchiliq\":\"屠杀\",\"Jundullah\":\"君都拉\",\n",
    "          \"Shehid\":\"殉道者\",\"xehid，xehit\":\"牺牲\",\"partiltish\":\"爆炸\",\"bomba\":\"炸弹\",\"inkilap\":\"革命\",\n",
    "          \"kurax\":\"战斗\",\"olturush\":\"杀人\",\"islam yoldiki jang\":\"伊斯兰战争\",\"bomba\":\"爆炸物\",\n",
    "          \"bayaat\":\"宣誓\",\"partlax\":\"炸死\",\"tutux\":\"抓捕\",\"جىھاد \":\"圣战\",\"ھىجىرەت \":\"依吉拉特\",\n",
    "          \"قوراللىق \":\"武装\",\"مۇجاھىد  \":\"圣战战士\",\"ھىجىرەت \":\"迁徙\",\"ئىزبوت \":\"伊扎布特\",\n",
    "          \"قىرغىنچىلىق \":\"屠杀\",\"جۇندۇللاھ \":\"君都拉\",\"شەھىد \":\"殉道者\",\"جىھاد\":\"圣战\",\"مۇجاھىد\":\"圣战战士\",\n",
    "          \"شېھىت\":\"牺牲\",\"پارتىلتىش\":\"爆炸\",\"قانلىق\":\"血腥\",\"بومبا\":\"炸弹\",\"ئىنقىلاب\":\"革命\",\"كۈرەش\":\"战斗\",\n",
    "          \"ئۆلتۈرۈش\":\"杀人\",\"ئسلام يولىدىكى جەڭ \":\"伊斯兰战争\",\"بومبا\":\"爆炸物\",\"بەيئەت\":\"宣誓\",\n",
    "          \"پارتلاش\":\"炸死\",\"تۇتۇش\":\"抓捕\",\"Haram \":\"非清真\",\"Emir\":\"艾米尔\",\"Tebliq\":\"台比力克\",\n",
    "          \"tablik \":\"讲经\",\"ھارام \":\"非清真\",\"ئەمىر \":\"艾米尔\",\"تەبلىق \":\"台比力克\",\"تەبلىق\":\"讲经\",\n",
    "          \"Mustakillik\":\"解放\",\"Azatliq，azatlik\":\"解放\",\"Musteqil，mustakil\":\"独立\",\n",
    "          \"sharki turkistan，xarkiy turkistan\":\"东突\",\"islam partiyisi\":\"伊斯兰党\",\n",
    "          \"Islam harkiti \":\"伊斯兰运动\",\"turkistan\":\"突厥斯坦\",\"Uyhur kurultay\":\"维吾尔代表大会\",\n",
    "          \"Basturush，basturux\":\"镇压\",\"Azat kilix\":\"独立\",\"térrorchi\":\"恐怖分子\",\n",
    "          \"térrorluq teshkilati\":\"恐怖组织\",\"talip\":\"伊斯兰学徒\",\"dinimiz\":\"我的宗教\",\n",
    "          \"5-iyol wakasi\":\"75事件\",\"uyghurstan\":\"东突\",\"basturux\":\"镇压\",\n",
    "          \"azatlik\":\"解放\",\"zulum\":\"压迫\",\"mustekil\":\"独立\",\"rabiye kadeer\":\"热比娅.卡迪尔\",\n",
    "          \"Uyhur kurltiyi\":\"维吾尔大会\",\"Kixlik hokok\":\"人权\",\"demkuratiye\":\"民主\",\"Xitay Siyaset，hitay siyasiti\":\"中国政策\",\n",
    "          \"Gulja Weqesi\":\"伊犁事件\",\"Xitay kommuniet hakimiyiti\":\"中共委员会\",\"Xitay kompartiyisi\":\"中国共产党\",\n",
    "          \"yuquri bésim siyasiti\":\"高压政策\",\"Uyhurlarning ishsizliq\":\"维吾尔无业者\",\n",
    "          \"ishsiz qalghan Uyghur yashliri\":\"维吾尔无业青年\",\"kommunist Xitay hakimiyiti\":\"中国政府\",\n",
    "          \"milliy zulum siyasiti\":\"民族压迫政策\",\"Uyghurlargha qaratqan basturush\":\"针对对维吾尔的压迫政策\",\n",
    "          \"uyghur xelqining awazni\":\"维吾尔人民之声\",\"zulum we bésim siyasti\":\"残酷压迫政策\",\n",
    "          \"Ana wetinimiz sherqiy türkistanning\":\"祖国东土耳其斯坦\",\"qarshiliq herkitini\":\"反抗行为\",\n",
    "          \"qoralliq basturush\":\"武装压迫\",\"yuqutush\":\"消灭\",\"Shaoguan Weqesi\":\"韶关事件\",\n",
    "          \"75 Weqesi\":\"75事件\",\"Millibolgunqi\":\"民族分裂\",\"kuturatkulukkilix\":\"煽动\",\n",
    "          \"Asmilatsiye\":\"同化\",\"Narazilik bildurmak\":\"反抗\",\"ETIC\":\"东突信息中心\",\n",
    "          \"dogu turkistan\":\"东土耳其斯坦\",\"Rabiye qadir\":\"热比娅·卡德尔\",\"uyghurmaarip\":\"维吾尔教育\",\n",
    "          \"مۇستەقىللىق \":\"解放\",\"ئازاتلىق \":\"解放\",\"مۇستەقىل \":\"独立\",\n",
    "          \"شەرقى تۇركىستان\":\"东突\",\"ئىسلام پارتىيىسى\":\"伊斯兰党\",\n",
    "          \"ئىسلام ھەرىكىتى\":\"伊斯兰运动\",\"تۈركىستان \":\"突厥斯坦\",\n",
    "          \"ئۇيغۇر  قۇرۇلتاي \":\"维吾尔代表大会\",\"باستۇرۇش \":\"镇压\",\"ئازات قىلىش\":\"独立\",\"تېررورچى\":\"恐怖分子\",\n",
    "          \"تېررورلۇق تەشكىلاتى\":\"恐怖组织\",\"تالىپ\":\"伊斯兰学徒\",\"دىنىمىز\":\"我的宗教\",\"بەشىنچى ئىيۇل ۋەقەسى\":\"75事件\",\n",
    "          \"ئۇيغۇرسىتان\":\"东突\",\"باشتۇرۇش\":\"镇压\",\"ئازاتلىق\":\"解放\",\"زۇلۇم\":\"压迫\",\"مۇستەقىل\":\"独立\",\n",
    "          \"رابىيە قادىر\":\"热比娅.卡迪尔\",\"ئۇيغۇر قۇرۇلتىيى\":\"维吾尔大会\",\"كىشلىك ھوقۇق\":\"人权\",\n",
    "          \"دېموكراتىيە\":\"民主\",\"خىتاي سىياسەت\":\"中国政策\",\"غۇلجا ۋەقەسى\":\"伊犁事件\",\"خىتاي كوممۇنىست ھۆكۈمىتى\":\"中共委员会\",\n",
    "          \"خىتاي كومپارتىيىسى\":\"中国共产党\",\"يوقىرى بىسىم سىياسىتى\":\"高压政策\",\"ئۇيغۇرلارنىڭ ئىشسىزلىق\":\"维吾尔无业者\",\n",
    "          \"ئىشسىز چارغان ئۇيغۇر\":\"维吾尔无业青年\",\"كوممۇنىست خىتاي ھۆكۈمىتى\":\"中国政府\",\"مىللىي زۇلۇم سىياسىتى \":\"民族压迫政策\",\n",
    "          \"ئۇيغۇرلارغا \":\"针对对维吾尔的压迫政策\",\"ئۇيغۇر \":\"维吾尔人民之声\",\"زۇلۇم ۋە بىسىم سىياسىتى\":\"残酷压迫政策\",\n",
    "          \"ۋەتەنىمىز شەرقىي تۇركىستاننىڭ\":\"祖国东土耳其斯坦\",\"قارشىلىق ھەرىكىتىنى\":\"反抗行为\",\"قۇراللىق باستۇرۇش\":\"武装压迫\",\"يوقۇتۇش\":\"消灭\",\n",
    "          \"شاۋگۈن ۋەقەسى\":\"韶关事件\",\"75 ۋەقەسى\":\"75事件\",\"مىللى بۆلۈمچى\":\"民族分裂\",\"قۇتراتقۇلۇق قىلىش\":\"煽动\",\"ئاسىمىلاتسىيە\":\"同化\",\"نارازلىق بۆلدۈرمەك\":\"反抗\",\"تۇركىستان\":\"东土耳其斯坦\",\"Kapir\":\"异教徒\",\"Xuar，shuar\":\"口号\",\"Yihilix\":\"聚会，集会\",\"Harket，harkat\":\"行动\",\n",
    "          \"Watendaxlar\":\"同胞\",\"Watinimiz\":\"我们的祖国\",\"Namayix，namayish\":\"游行\",\"Uyghur kurultay\":\"维吾尔代表大会\",\"Taxvik，taxvih\":\"宣传\",\"Pilan\":\"计划\",\"Tashkilat，taxkilat\":\"组织\",\"Oyhunayli\":\"觉醒\",\"Topilang\":\"闹事\",\"Xitay，hitay\":\"黑塔依\",\"Ezaliri，azalar\":\"成员\",\"Weten，watan\":\"祖国\",\"Meqset，mahsat\":\"目的\",\"Alaqe，alaka\":\"联络\",\"Kuzutush，kozutux\":\"观察\",\"Meslihet\":\"商量\",\"Munapiq，munapih\":\"败类\",\"Hokumet\":\"政府\",\"Qerindash，kerindax\":\"兄弟\",\"Awangart\":\"先锋\",\"Pexes，pahas\":\"警惕\",\"Muhajir\":\"侨民\",\n",
    "          \"Ahbarat\":\"情报\",\"Chaqiriq，qakirih\":\"号召\",\"Saqchi，sahqi\":\"警察\",\"Paaliyet\":\"活动\",\"Nishan\":\"目标\",\"Burader\":\"兄弟\",\"Hakimiyet\":\"政权\",\"Teyyarliq，tayyarlik\":\"准备\",\"Uqturush，uhturux\":\"公告\",\"Qarshiliq，karxilik\":\"抗议\",\"Yashisun，yaxisun\":\"万岁\",\"Dushmen，duxman\":\"敌人\",\"Tijaret\":\"生意\",\"Ishenchilik，ixanqilik\":\"可靠\",\"Weziyet\":\"形势\",\"Xeterlik，hatarlik\":\"危险\",\"Namayish\":\"游行\",\"Qehriman，kahriman\":\"英雄\",\"Qurultay，kurultay\":\"会议\",\"Nizamname\":\"简章\",\"Ustaz\":\"师傅\",\"xinjianglik ogri\":\"新疆籍小偷\",\"uyghur\":\"维吾尔\",\n",
    "          \"arizkilix\":\"上访\",\"hurluk\":\"自由\",\"hittay\":\"汉族\",\"millitimiz\":\"我民族\",\"ouygan\":\"觉醒\",\"xinjiang tor\":\"新疆互联网\",\"qakirik\":\"号召\",\"dilxat（dilshat）\":\"迪力夏提\",\"karxlik \":\"反抗\",\"Gunasiz\":\"无辜\",\"Jusus(jasus)\":\"间谍\",\"murajat\":\"呼吁\",\"pasport\":\"护照\",\"كاپىر \":\"异教徒\",\"شوئار \":\"口号\",\"يىغىلىش \":\"聚会，集会\",\"ھەركەت \":\"行动\",\"ۋەتەنداشلار \":\"同胞\",\"ۋەتىنىمىز \":\"我们的祖国\",\"نامايىش \":\"游行\",\"كىشلىك  ھوقۇق \":\"人权\",\"تەشۋىق \":\"宣传\",\"پىلان \":\"计划\",\"تەشكىلات \":\"组织\",\"ئويغىنايلى \":\"觉醒\",\"توپىلاڭ \":\"闹事\",\"خىتاي \":\"黑塔依\",\"ئەزالار \":\"成员\",\"ۋەتەن \":\"祖国\",\"مەخسەت \":\"目的\",\"ئالاقە \":\"联络\",\"كۈزۈتۈش \":\"观察\",\"مەسلىھەت \":\"商量\",\"مۇناپىق \":\"败类\",\"ھۆكۈمەت \":\"政府\",\"قېرنداش \":\"兄弟\",\"ئاۋانگارت \":\"先锋\",\"پەخەس \":\"警惕\",\"مۇھاجىر \":\"侨民\",\"ئاخبارات \":\"情报\",\"چاقىرىق \":\"号召\",\"ساقچى \":\"警察\",\"پائالىيەت\":\"活动\",\"نىشان \":\"目标\",\"بۇرادەر \":\"兄弟\",\"ھاكىمىيەت \":\"政权\",\"تەييارلىق \":\"准备\",\"ئۇقتۇرۇش \":\"公告\",\"قارشىلىق \":\"抗议\",\"ياشىسۇن \":\"万岁\",\"دۇشمەن \":\"敌人\",\"تىجارەت \":\"生意\",\"ئىشەنچىلىك \":\"可靠\",\"ۋەزىيەت \":\"形势\",\"خەتەرلىك \":\"危险\",\"قەھىرمان \":\"英雄\",\"قۇرۇلتاي \":\"会议\",\"نىزامنامە \":\"简章\",\"ئۇستاز \":\"师傅\",\"شىنجاڭلىك ئوغرى\":\"新疆籍小偷\",\"ئۇيغۇر\":\"维吾尔\",\"يۇقىرى ئورگانلارغا شىكايەت قىلىش\":\"上访\",\"ئەركىنلىك\":\"自由\",\"خىتاي\":\"汉族\",\"قېرىنداش\":\"同胞\",\"مىللىتىمىز\":\"我民族\",\"ئويغان\":\"觉醒\",\"شىنجاڭ تور\":\"新疆互联网\",\"يىغىلىش\":\"集会\",\"چاقىرىق\":\"号召\",\"دىلىشات\":\"迪力夏提\",\"قارشىلىق\":\"反抗\",\"گۇناھسىز\":\"无辜\",\"جاسۇس\":\"间谍\",\"مۇراجىئەت\":\"呼吁\",\"پاسپورت\":\"护照\",\"ئاخبارات\":\"情报\",\"ئالاقە\":\"公文，公函\",\"ئاۋانگارت\":\"先锋\",\"ئازات\":\"解放\",\"ئازات قىلىش\":\"解放\",\"باستۇرۇش\":\"镇压\",\"بەيەت\":\"皈依\",\"بۇرادەر\":\"兄弟\",\"دۈشمەن\":\"敌人\",\"ئېھتىيات\":\"储备\",\"ئەل\":\"国家\",\"ئەمىر\":\"国王\",\"ئەركىن ئاسىيا رادىوسى\":\"自由亚洲广播\",\"ئەزالىرى\":\"成员\",\"غازات\":\"圣战\",\"خاىن\":\"叛徒\",\"ھاكىمىيەت\":\"政权\",\"ھارام\":\"不义的\",\"ھازىدار\":\"孝顺\",\"خەتەر\":\"危险\",\"خەتەرلىك\":\"危险\",\"ھىجرەت\":\"迁徙\",\"خىتاي\":\"汉人\",\"خىتاي كوممۇنىست ھۆكۈمىتى\":\"共产党政府\",\"خىتاي كومپارتىيىسى\":\"汉族共产党\",\"خىتاي سىياسەت\":\"汉人政权\",\"ھۆكۈمەت\":\"政府\",\"ئىسلام پارتىيىسى\":\"伊斯兰政党\",\"ئىشەنچىلىك\":\"可信任的\",\"جاسۇس\":\"奸细\",\"كاپىر\":\"异教徒\",\"قارشىلىق\":\"暴力\",\"قارشىلىق ھەرىكىتىنى\":\"暴力活动\",\"قەھرىمان\":\"英勇\",\"قىرغىنچىلىق\":\"屠杀\",\"كوممۇنىست\":\"共产党人\",\"كوممۇنىست خىتاي ھۆكۈمىتى\":\"共产党政府\",\"قۇرال\":\"枪\",\"قۇراللىق باستۇرۇش\":\"持械镇压\",\"قۇرۇلتاي\":\"代表大会\",\"مەقسەت\":\"目的\",\"مەسلىھەت\":\"策论\",\"مىللىتىمىز\":\"本民族\",\"مىللىي زۇلۇم سىياسىتى\":\"民主压迫政策\",\"مۇھاجىر\":\"侨民\",\"مۇناپىق\":\"败类\",\"مۇراجىەت\":\"告示\",\"نامايىش\":\"游行\",\"نىشان\":\"理想\",\"نىزامنامە\":\"章程\",\"ئۆلتۈرۈش\":\"杀害\",\"پاالىيەت\":\"活动\",\"پارتلاش\":\"爆炸\",\"پارتلىتىش\":\"爆炸\",\"پەخەس\":\"防御\",\"پىلان\":\"计划\",\"رابىيە قادىر\":\"热比娅·卡德尔\",\"ساقچى\":\"警察\",\"تاجاۋۇز\":\"侵略\",\"تالىپ\":\"塔利班\",\"تەشكىلات\":\"组织\",\"تەييارلىق\":\"准备\",\"تىبەت\":\"西藏\",\"تىجارەت\":\"生意\",\"تىپ ئىسلام\":\"典型伊斯兰\",\"تۇتۇش\":\"逮捕\",\"تۈركىستان\":\"土耳其斯坦\",\"ئۇقتۇرۇش\":\"通知\",\"ئۇستاز\":\"师傅\",\"ئۇيغۇر قۇرۇلتىيى\":\"维吾尔代表大会\",\"ئۇيغۇر ماارىپ\":\"维吾尔教育\",\"ئۇيغۇر رادىوسى\":\"维吾尔广播\",\"ئۇيغۇرلارغا\":\"维吾尔人\",\"ئۇيغۇرلارنىڭ ئىشسىزلىق\":\"维吾尔失业人群\",\"ئۈرۈمچى\":\"乌鲁木齐\",\"ئۈرۈمچى ۋەقەسى\":\"乌鲁木齐事件\",\"ۋەتەن\":\"国家\",\"ۋەتەنداشلار\":\"爱国人士\",\"ۋەزىيەت\":\"形式\",\"شەھىد\":\"殉教者\",\"شېھىت\":\"圣战者\",\"شەرقى تۈركىستان\":\"东突\",\"شىنجاڭ تور\":\"新疆网\",\"ياشىسۇن\":\"万岁\",\"يىغىلىش\":\"聚会\",\"alaKE\":\"公文，公函\",\"azat\":\"解放\",\"azat#Kilix\":\"解放\",\"bExinqi#iyul#wEKEsi\":\"75事件\",\"bEyEt\":\"皈依\",\"demokratiyE\":\"民主\",\"dvxmEn\":\"敌人\",\"eHtiyat\":\"储备\",\"Emir\":\"国王\",\"Erkin#asiya#radiosi\":\"自由亚洲广播\",\"Erkinlik\":\"自由\",\"Ezaliri\":\"成员\",\"Gazat\":\"圣战\",\"Gulja#wEKEsi\":\"伊犁事件\",\"gunaHsiz\":\"无辜\",\"hain\":\"叛徒\",\"Haram\":\"不义的\",\"Hazidar\":\"孝顺\",\"hEtEr\":\"危险\",\"hEtErlik\":\"危险\",\"hitay\":\"汉人\",\"hitay#kommunist#HOkvmiti\":\"共产党政府\",\"hitay#kompartiyisi\":\"汉族共产党\",\"hitay#siyasEt\":\"汉人政权\",\"HOkvmEt\":\"政府\",\"inKilab\":\"革命\",\"islam#HErikiti\":\"伊斯兰运动\",\"islam#partiyisi\":\"伊斯兰政党\",\"ixEnqilik\":\"可信任的\",\"jasus\":\"奸细\",\"KanliK\":\"血腥\",\"KarxiliK\":\"暴力\",\"KarxiliK#HErikitini\":\"暴力活动\",\"KEHriman\":\"英勇\",\"Kerindax\":\"同胞\",\"KirGinqiliK\":\"屠杀\",\"kixlik#HoKuK\":\"人权\",\"kommunist\":\"共产党人\",\"kommunist#hitay#HOkvmiti\":\"共产党政府\",\"Kural\":\"枪\",\"KuralliK#basturux\":\"持械镇压\",\"Kurultay\":\"代表大会\",\"kvrEx\":\"战斗\",\"mEKsEt\":\"目的\",\"mEsliHEt\":\"策论\",\"millitimiz\":\"本民族\",\"milliy#zulum#siyasiti\":\"民主压迫政策\",\"munapiK\":\"败类\",\"murajiEt\":\"告示\",\"namayix\":\"游行\",\"nixan\":\"理想\",\"nizamnamE\":\"章程\",\"Oltvrvx\":\"杀害\",\"oyGan\":\"觉醒\",\"partiltix\":\"爆炸\",\"partlax\":\"爆炸\",\"partlitix\":\"爆炸\",\"pEhEs\":\"防御\",\"rabiyE#Kadir\":\"热比娅·卡德尔\",\"saKqi\":\"警察\",\"tajawuz\":\"侵略\",\"talip\":\"塔利班\",\"terrorluK#tExkilati\":\"恐怖组织\",\"terrorqi\":\"恐怖分子\",\"tExkilat\":\"组织\",\"tEyyarliK\":\"准备\",\"tibEt\":\"西藏\",\"tip#islam\":\"典型伊斯兰\",\"tutux\":\"逮捕\",\"tvrkistan\":\"土耳其斯坦\",\"uKturux\":\"通知\",\"uyGur\":\"维吾尔\",\"uyGur#Kurultiyi\":\"维吾尔代表大会\",\"uyGur#maarip\":\"维吾尔教育\",\"uyGur#radiosi\":\"维吾尔广播\",\"uyGurlarGa\":\"维吾尔人\",\"uyGurlarniN#ixsizliK\":\"维吾尔失业人群\",\"vrvmqi\":\"乌鲁木齐\",\"vrvmqi#wEKEsi\":\"乌鲁木齐事件\",\"wEtEn\":\"国家\",\"wEtEndaxlar\":\"爱国人士\",\"wEziyEt\":\"形式\",\"xEHid\":\"殉教者\",\"xeHit\":\"圣战者\",\"xErKi#tvrkistan\":\"东突\",\"xinjaN#tor\":\"新疆网\",\"yaxisun\":\"万岁\",\"yiGilix\":\"聚会\",\"islam\":\"由于境外网站经常变更，但是网站里的一些关键词不会变\",\"ئىسلام جۇمھۇرىيىتى\":\"ئىسلام جۇمھۇرىيىتى\"}\n",
    "li = [\"kanlik\",\"qanlik\",\"血腥\",\"yegilix\",\"yegilesh\",\"集会\",\"kerindash\",\"kerindax\",\"同胞\"]\n",
    "li += list(word_dic.keys())\n",
    "li += list(word_dic.values())\n",
    "\n",
    "def key_filter(x):\n",
    "    if x==\"\\\\N\":\n",
    "        return 0\n",
    "#     else:\n",
    "#         return 1\n",
    "    x = str(x)\n",
    "    k = 0\n",
    "    try:\n",
    "        for keyword in li:\n",
    "            if keyword in x:\n",
    "                k+=1\n",
    "        return k\n",
    "    except:\n",
    "        return 0\n",
    "    \n",
    "def switchtime(x):\n",
    "    if x == '\\\\N':\n",
    "        return 0\n",
    "    else:\n",
    "        timeArray = time.localtime(int(x))\n",
    "        return time.strftime(\"%Y-%m-%d %H:%M:%S\", timeArray)\n",
    "\n",
    "df['tmp'] = df['content'].apply(key_filter)\n",
    "df = df.loc[df.tmp>0,]\n",
    "df.drop(['tmp'], axis =1, inplace=True)\n",
    "df['time'] = df['capture_time'].apply(switchtime)\n",
    "df.drop(['capture_time','mainfile','file_md5'], axis =1, inplace=True)\n",
    "\n",
    "writer = pd.ExcelWriter(\"C:/Users/Administrator/Desktop/terrorim_v10.xlsx\", engine='xlsxwriter',options={'strings_to_urls':False})\n",
    "writer.book.strings_to_urls = False\n",
    "df.to_excel(writer, 'Sheet1')\n",
    "writer.save()\n",
    "print(1)"
   ]
  },
  {
   "cell_type": "code",
   "execution_count": 3,
   "metadata": {},
   "outputs": [
    {
     "name": "stderr",
     "output_type": "stream",
     "text": [
      "d:\\python35\\lib\\site-packages\\ipykernel_launcher.py:14: ParserWarning: Falling back to the 'python' engine because the 'c' engine does not support regex separators (separators > 1 char and different from '\\s+' are interpreted as regex); you can avoid this warning by specifying engine='python'.\n",
      "  \n"
     ]
    },
    {
     "name": "stdout",
     "output_type": "stream",
     "text": [
      "1\n"
     ]
    }
   ],
   "source": [
    "import pandas as pd\n",
    "import numpy as np\n",
    "import datetime as dt\n",
    "import time\n",
    "\n",
    "\"\"\"\n",
    "软件使用情况\n",
    "\"\"\"\n",
    "\n",
    "dic_chat = {'W031039881': 'twister', 'W031039956': 'DIDI', 'W031039942': 'ZELLO', 'W031039957': 'voxer', 'W031039952': 'line', 'W031039922': 'DROPBOX', 'W031039923': 'BBM', 'W031039943': 'OOVOO', 'W031039950': 'telegram', 'W031039898': 'hi', 'W031039966': 'talkbox', 'W031039971': 'COCO', 'W031039867': '快牙', 'W031030038': 'whatsapp'}\n",
    "# dic_vpn = {'W031219974': 'Asseco VPN', 'W031219959': 'Faceless VPN', 'W031219997': 'vpn unlimited', 'W031219966': 'VPN Blitz', 'W031219995': 'super vpn', 'W031219969': 'ItsHidden', 'W031219949': '极路由', 'W031219992': 'VPN Free', 'W031219952': 'Fqrouter', 'W031219984': 'GreenVPN', 'W031219951': 'vpnmaster', 'W031219981': '50VPN', 'W031219967': 'VPN Fire', 'W031219999': '其他VPN', 'W031219965': 'GoBrowse Pro', 'W031219953': '轻云', 'W031219961': 'VpnOneClick', 'W031219991': 'Enterprise VPN Services', 'W031219988': 'freevpn', 'W031219985': 'eyeVPN', 'W031219993': 'Hideninja VPN Free', 'W031219963': 'Budget VPN', 'W031210002': 'L2TP', 'W031219979': 'VPN Gate', 'W031219987': 'ark vpn', 'W031219986': '非凡VPN', 'W031219978': 'OpenVPN', 'W031219996': 'vpn dialogs', 'W031219989': 'VPN的主', 'W031219971': 'StrongVPN', 'W031219994': 'GroxNetwork', 'W031219964': 'ibVPN', 'W031219948': '天行VPN', 'W031219975': 'VPN Watcher', 'W031219960': 'Hotspot VPN', 'W031219972': 'VPN Shield', 'W031219977': 'VPN for Phone', 'W031219980': '易联', 'W031219983': 'Astrill VPN', 'W031219998': 'easyVPN', 'W031219982': 'Global VPN', 'W031219955': 'youproxy', 'W031219956': '红杏', 'W031219970': 'GoVPN', 'W031219954': 'pandafan', 'W031219958': 'Onavo Protect', 'W031219976': 'Smarter DNS', 'W031219950': 'Le VPN', 'W031210001': 'PPTP', 'W031219962': 'Seed4Me VPN', 'W031219947': 'Avast secureLine', 'W031219973': 'ASEE Token', 'W031219968': 'VPN in Touch', 'W031219990': 'IPSec'}\n",
    "\n",
    "file = pd.read_csv(\"C:/Users/Administrator/Desktop/terrorim_v12.csv\", sep='\\\\001', header=None, encoding='utf-8', names=['application','auth_account',\n",
    "                    'from_id','to_id','content','mainfile','file_md5','capture_time','username','groupnum','action'])\n",
    "df = pd.DataFrame(file)\n",
    "li = list(dic_chat.keys())\n",
    "\n",
    "def key_filter(x):\n",
    "    if x==\"\\\\N\":\n",
    "        return 0\n",
    "    if x in li:\n",
    "        return dic_chat[x]\n",
    "    else:\n",
    "        return 0\n",
    "    \n",
    "def switchtime(x):\n",
    "    if x == '\\\\N':\n",
    "        return 0\n",
    "    else:\n",
    "        timeArray = time.localtime(int(x))\n",
    "        return time.strftime(\"%Y-%m-%d %H:%M:%S\", timeArray)\n",
    "\n",
    "df['tmp'] = df['application'].apply(key_filter)\n",
    "df = df.loc[df.tmp!=0,]\n",
    "df['time'] = df['capture_time'].apply(switchtime)\n",
    "df.drop(['capture_time','mainfile','file_md5'], axis =1, inplace=True)\n",
    "\n",
    "writer = pd.ExcelWriter(\"C:/Users/Administrator/Desktop/terrorsoftwareim_v12.xlsx\", engine='xlsxwriter',options={'strings_to_urls':False})\n",
    "writer.book.strings_to_urls = False\n",
    "df.to_excel(writer, 'Sheet1')\n",
    "writer.save()\n",
    "print(1)"
   ]
  },
  {
   "cell_type": "code",
   "execution_count": 28,
   "metadata": {},
   "outputs": [
    {
     "name": "stderr",
     "output_type": "stream",
     "text": [
      "d:\\python35\\lib\\site-packages\\ipykernel_launcher.py:14: ParserWarning: Falling back to the 'python' engine because the 'c' engine does not support regex separators (separators > 1 char and different from '\\s+' are interpreted as regex); you can avoid this warning by specifying engine='python'.\n",
      "  \n"
     ]
    },
    {
     "name": "stdout",
     "output_type": "stream",
     "text": [
      "1\n"
     ]
    }
   ],
   "source": [
    "import pandas as pd\n",
    "import numpy as np\n",
    "import datetime as dt\n",
    "import time\n",
    "\n",
    "\"\"\"\n",
    "VPN使用情况\n",
    "\"\"\"\n",
    "\n",
    "dic_vpn = {'W031219974': 'Asseco VPN', 'W031219959': 'Faceless VPN', 'W031219997': 'vpn unlimited', 'W031219966': 'VPN Blitz', 'W031219995': 'super vpn', 'W031219969': 'ItsHidden', 'W031219949': '极路由', 'W031219992': 'VPN Free', 'W031219952': 'Fqrouter', 'W031219984': 'GreenVPN', 'W031219951': 'vpnmaster', 'W031219981': '50VPN', 'W031219967': 'VPN Fire', 'W031219999': '其他VPN', 'W031219965': 'GoBrowse Pro', 'W031219953': '轻云', 'W031219961': 'VpnOneClick', 'W031219991': 'Enterprise VPN Services', 'W031219988': 'freevpn', 'W031219985': 'eyeVPN', 'W031219993': 'Hideninja VPN Free', 'W031219963': 'Budget VPN', 'W031210002': 'L2TP', 'W031219979': 'VPN Gate', 'W031219987': 'ark vpn', 'W031219986': '非凡VPN', 'W031219978': 'OpenVPN', 'W031219996': 'vpn dialogs', 'W031219989': 'VPN的主', 'W031219971': 'StrongVPN', 'W031219994': 'GroxNetwork', 'W031219964': 'ibVPN', 'W031219948': '天行VPN', 'W031219975': 'VPN Watcher', 'W031219960': 'Hotspot VPN', 'W031219972': 'VPN Shield', 'W031219977': 'VPN for Phone', 'W031219980': '易联', 'W031219983': 'Astrill VPN', 'W031219998': 'easyVPN', 'W031219982': 'Global VPN', 'W031219955': 'youproxy', 'W031219956': '红杏', 'W031219970': 'GoVPN', 'W031219954': 'pandafan', 'W031219958': 'Onavo Protect', 'W031219976': 'Smarter DNS', 'W031219950': 'Le VPN', 'W031210001': 'PPTP', 'W031219962': 'Seed4Me VPN', 'W031219947': 'Avast secureLine', 'W031219973': 'ASEE Token', 'W031219968': 'VPN in Touch', 'W031219990': 'IPSec'}\n",
    "\n",
    "file = pd.read_csv(\"C:/Users/Administrator/Desktop/terrorvpn.csv\", sep='\\\\001', header=None, encoding='utf-8', names=['application','authtype',\n",
    "                    'authaccount','src_ip','dst_ip','src_port','dst_port','capture_time','data_source','username','auth_account','action','tooltype',\n",
    "                                'toolname','vpn_type'])\n",
    "df = pd.DataFrame(file)\n",
    "\n",
    "def key_filter(x):\n",
    "    li = list(dic_vpn.keys())\n",
    "    if x==\"\\\\N\":\n",
    "        return 0\n",
    "    if x in li:\n",
    "        return dic_vpn[x]\n",
    "    else:\n",
    "        return 0\n",
    "    \n",
    "def switchtime(x):\n",
    "    try:\n",
    "        timeArray = time.localtime(int(x))\n",
    "        return time.strftime(\"%Y-%m-%d %H:%M:%S\", timeArray)\n",
    "    except:\n",
    "        return 0\n",
    "    \n",
    "df['time'] = df['capture_time'].apply(switchtime)\n",
    "df['tmp'] = df['application'].apply(key_filter)\n",
    "df = df.loc[df.tmp!=0,]\n",
    "df.drop(['capture_time'], axis =1, inplace=True)\n",
    "\n",
    "writer = pd.ExcelWriter(\"C:/Users/Administrator/Desktop/terrorsoftwarevpn.xlsx\", engine='xlsxwriter',options={'strings_to_urls':False})\n",
    "writer.book.strings_to_urls = False\n",
    "df.to_excel(writer, 'Sheet1')\n",
    "writer.save()\n",
    "print(1)"
   ]
  },
  {
   "cell_type": "code",
   "execution_count": null,
   "metadata": {},
   "outputs": [],
   "source": []
  }
 ],
 "metadata": {
  "kernelspec": {
   "display_name": "Python 3",
   "language": "python",
   "name": "python3"
  },
  "language_info": {
   "codemirror_mode": {
    "name": "ipython",
    "version": 3
   },
   "file_extension": ".py",
   "mimetype": "text/x-python",
   "name": "python",
   "nbconvert_exporter": "python",
   "pygments_lexer": "ipython3",
   "version": "3.5.4"
  },
  "toc": {
   "base_numbering": 1,
   "nav_menu": {},
   "number_sections": true,
   "sideBar": true,
   "skip_h1_title": false,
   "title_cell": "Table of Contents",
   "title_sidebar": "Contents",
   "toc_cell": false,
   "toc_position": {},
   "toc_section_display": true,
   "toc_window_display": false
  }
 },
 "nbformat": 4,
 "nbformat_minor": 2
}
