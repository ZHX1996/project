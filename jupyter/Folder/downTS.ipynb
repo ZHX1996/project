{
 "cells": [
  {
   "cell_type": "code",
   "execution_count": null,
   "metadata": {},
   "outputs": [],
   "source": [
    "# head = 'https://bycdn0l.weilekangnet.com:59666/data3/56C12B14AEC7760B/0D0BF09ACD728266/480p/0out480p'\n",
    "# head = 'https://dadi-yun.com/20190515/7708_14c8ad7d/800k/hls/b39485a074b000'\n",
    "head = 'http://videocdn.dlyilian.com:8091/20190420/hd_pacopacomama-100315_502/1000kb/hls/w5ow35m1589'\n",
    "tail = '.ts'\n",
    "\n",
    "# 000 4098\n",
    "for i in range(4000, 4098):\n",
    "    s = \"%03d\" % i\n",
    "    print(head+s+tail)\n",
    "\n",
    "    # s = \"%03d\" % i\n",
    "    # print(head+s+tail)\n",
    "\n",
    "\n",
    "# ffmpeg -y -i E:\\\\2.ts -c:v libx264 -c:a copy -bsf:a aac_adtstoasc E:\\\\2.mp4"
   ]
  }
 ],
 "metadata": {
  "kernelspec": {
   "display_name": "Python 3",
   "language": "python",
   "name": "python3"
  },
  "language_info": {
   "codemirror_mode": {
    "name": "ipython",
    "version": 3
   },
   "file_extension": ".py",
   "mimetype": "text/x-python",
   "name": "python",
   "nbconvert_exporter": "python",
   "pygments_lexer": "ipython3",
   "version": "3.5.4"
  }
 },
 "nbformat": 4,
 "nbformat_minor": 2
}
