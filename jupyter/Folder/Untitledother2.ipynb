{
 "cells": [
  {
   "cell_type": "code",
   "execution_count": 12,
   "metadata": {},
   "outputs": [
    {
     "name": "stderr",
     "output_type": "stream",
     "text": [
      "d:\\python35\\lib\\site-packages\\ipykernel_launcher.py:5: ParserWarning: Falling back to the 'python' engine because the 'c' engine does not support regex separators (separators > 1 char and different from '\\s+' are interpreted as regex); you can avoid this warning by specifying engine='python'.\n",
      "  \"\"\"\n"
     ]
    },
    {
     "name": "stdout",
     "output_type": "stream",
     "text": [
      "1\n"
     ]
    }
   ],
   "source": [
    "#utf-8\n",
    "import pandas as pd\n",
    "import time\n",
    "\n",
    "file = pd.read_csv(\"C:/Users/Administrator/Desktop/class1groupchat.csv\", sep='\\\\001', header=None, encoding='utf-8', names=['application','authaccount','from_id','to_id','content','capture_time','username','password','groupnum','data_source','action'])\n",
    "df = pd.DataFrame(file)\n",
    "\n",
    "def del_othertype(x):\n",
    "    if x!=1 or x!=13:\n",
    "        return 0\n",
    "    else:\n",
    "        return 1\n",
    "\n",
    "def reverse_identity(x):\n",
    "    try:\n",
    "        origin = str(x)\n",
    "        newstr = origin[:6] + \"19\" + origin[6:]\n",
    "        w = [7, 9, 10, 5, 8, 4, 2, 1, 6, 3, 7, 9, 10, 5, 8, 4, 2]\n",
    "        last = [\"1\", \"0\", \"X\", \"9\", \"8\", \"7\", \"6\", \"5\", \"4\", \"3\", \"2\"]\n",
    "        ws = 0\n",
    "        for i in range(len(newstr)):\n",
    "            ws += int(newstr[i]) * w[i]\n",
    "        return newstr + last[ws%11]\n",
    "    except:\n",
    "        return 0\n",
    "\n",
    "def switchtime(x):\n",
    "    try:\n",
    "        timeArray = time.localtime(int(x))\n",
    "        return time.strftime(\"%Y-%m-%d %H:%M:%S\", timeArray)\n",
    "    except:\n",
    "        return 0\n",
    "    \n",
    "df['time'] = df['capture_time'].apply(switchtime)\n",
    "df['sfz'] = df['authaccount'].apply(reverse_identity)\n",
    "# df['action1'] = df['action'].apply(del_othertype)\n",
    "# df = df.loc[df.action1>0,]\n",
    "df.drop(['capture_time', 'authaccount'], axis = 1, inplace=True)\n",
    "\n",
    "writer = pd.ExcelWriter(\"C:/Users/Administrator/Desktop/class1groupchat.xlsx\", engine='xlsxwriter',options={'strings_to_urls':False})\n",
    "writer.book.strings_to_urls = False\n",
    "df.to_excel(writer, 'Sheet1')\n",
    "writer.save()\n",
    "print(1)"
   ]
  },
  {
   "cell_type": "code",
   "execution_count": 10,
   "metadata": {},
   "outputs": [
    {
     "name": "stdout",
     "output_type": "stream",
     "text": [
      "1\n"
     ]
    }
   ],
   "source": [
    "# utf-8\n",
    "\n",
    "file = pd.read_excel('C://Users/Administrator/Desktop/class2groupchat.xlsx',sheet_name='Sheet1', names=['application',\n",
    "                            'from_id','to_id','content','username','password','groupnum','data_source','action','time','sfz'])\n",
    "df = pd.DataFrame(file)\n",
    "\n",
    "keys = ['群','购','管理','黑']\n",
    "\n",
    "def key_filter(x):\n",
    "    try:\n",
    "        for i in keys:\n",
    "            if i in x:\n",
    "                return 1\n",
    "            else:\n",
    "                return 0\n",
    "    except:\n",
    "        return 0\n",
    "        \n",
    "df['k'] = df['content'].apply(key_filter)\n",
    "df = df.loc[df.k>0,]\n",
    "df.drop(['k'], axis = 1, inplace=True)\n",
    "\n",
    "writer = pd.ExcelWriter(\"C:/Users/Administrator/Desktop/class2groupchat1.xlsx\", engine='xlsxwriter',options={'strings_to_urls':False})\n",
    "writer.book.strings_to_urls = False\n",
    "df.to_excel(writer, 'Sheet1')\n",
    "writer.save()\n",
    "print(1)"
   ]
  },
  {
   "cell_type": "code",
   "execution_count": 18,
   "metadata": {},
   "outputs": [
    {
     "name": "stdout",
     "output_type": "stream",
     "text": [
      "235\n",
      "90\n"
     ]
    }
   ],
   "source": [
    "file = pd.read_excel('C://Users/Administrator/Desktop/class2groupchat1.xlsx',sheet_name='Sheet1', names=['application',\n",
    "                            'from_id','to_id','content','username','password','groupnum','data_source','action','time','sfz'])\n",
    "df = pd.DataFrame(file)\n",
    "\n",
    "# tmp1 = df['from_id'].tolist()\n",
    "# tmp2 = df['to_id'].tolist()\n",
    "# tmp1 += tmp2\n",
    "\n",
    "tmp1 = df['username'].tolist()\n",
    "\n",
    "file = pd.read_excel('C://Users/Administrator/Desktop/groupchat_tmp.xlsx',sheet_name='5and7', names=['from_id','to_id'])\n",
    "# file = pd.read_excel('C://Users/Administrator/Desktop/groupchat_subgroup2.xlsx',sheet_name='Sheet1', names=['application',\n",
    "#                             'authaccount','from_id','to_id','content','capture_time','username','groupnum','data_source','action'])\n",
    "df = pd.DataFrame(file)\n",
    "\n",
    "k1 = df['from_id'].tolist()\n",
    "k2 = df['to_id'].tolist()\n",
    "\n",
    "k1 += k2\n",
    "\n",
    "print(len(tmp1))\n",
    "print(len(set(tmp1)&set(k1)))"
   ]
  },
  {
   "cell_type": "code",
   "execution_count": 5,
   "metadata": {},
   "outputs": [
    {
     "name": "stdout",
     "output_type": "stream",
     "text": [
      "object\n",
      "1\n"
     ]
    }
   ],
   "source": [
    "import pandas as pd\n",
    "\n",
    "file = pd.read_excel('C://Users/Administrator/Desktop/class1groupchat.xlsx',sheet_name='Sheet1', names=['application',\n",
    "                            'from_id','to_id','content','username','password','groupnum','data_source','action','time','sfz'])\n",
    "df = pd.DataFrame(file)\n",
    "\n",
    "print(df['action'].dtype)\n",
    "def anti_other(x):\n",
    "    try:\n",
    "        if x == \"01\":\n",
    "            return 1\n",
    "        else:\n",
    "            return 0\n",
    "    except:\n",
    "        return 0\n",
    "    \n",
    "df['new'] = df['action'].apply(anti_other)\n",
    "df = df.loc[df.new>0,]\n",
    "df.drop(['new'], axis=1, inplace = True)\n",
    "\n",
    "writer = pd.ExcelWriter(\"C:/Users/Administrator/Desktop/class1groupchat1.xlsx\", engine='xlsxwriter',options={'strings_to_urls':False})\n",
    "writer.book.strings_to_urls = False\n",
    "df.to_excel(writer, 'Sheet1')\n",
    "writer.save()\n",
    "print(1)"
   ]
  },
  {
   "cell_type": "code",
   "execution_count": 24,
   "metadata": {},
   "outputs": [
    {
     "name": "stderr",
     "output_type": "stream",
     "text": [
      "d:\\python35\\lib\\site-packages\\ipykernel_launcher.py:28: SettingWithCopyWarning: \n",
      "A value is trying to be set on a copy of a slice from a DataFrame\n",
      "\n",
      "See the caveats in the documentation: http://pandas.pydata.org/pandas-docs/stable/indexing.html#indexing-view-versus-copy\n"
     ]
    },
    {
     "name": "stdout",
     "output_type": "stream",
     "text": [
      "1\n"
     ]
    },
    {
     "name": "stderr",
     "output_type": "stream",
     "text": [
      "d:\\python35\\lib\\site-packages\\ipykernel_launcher.py:29: SettingWithCopyWarning: \n",
      "A value is trying to be set on a copy of a slice from a DataFrame\n",
      "\n",
      "See the caveats in the documentation: http://pandas.pydata.org/pandas-docs/stable/indexing.html#indexing-view-versus-copy\n"
     ]
    }
   ],
   "source": [
    "import pandas as pd\n",
    "import numpy as np\n",
    "\n",
    "file = pd.read_excel('C://Users/Administrator/Desktop/网吧聊天内容.xlsx',sheet_name='二类最大子团体聊天内容', names=['from_id','to_id','authaccount',\n",
    "                                        'content','username','groupnum','action','time'])\n",
    "df = pd.DataFrame(file)\n",
    "df = df[['from_id','to_id','authaccount','username','time','action']]\n",
    "df = df.loc[df.action==1,]\n",
    "\n",
    "def generateType(from_id, to_id, username, authaccount):\n",
    "    k = 0\n",
    "    if username == from_id:\n",
    "        k+=1\n",
    "    if username == to_id:\n",
    "        k+=2\n",
    "    return k\n",
    "\n",
    "def generateQQ(from_id, to_id, username, authaccount):\n",
    "    if username == from_id:\n",
    "        return str(username) + '(发)'\n",
    "    if username == to_id:\n",
    "        return str(username) + '(收)'\n",
    "        \n",
    "df['type'] = df.apply(lambda x: generateType(x.from_id,x.to_id,x.username,x.authaccount), axis=1)\n",
    "df['QQ'] = df.apply(lambda x: generateQQ(x.from_id,x.to_id,x.username,x.authaccount), axis=1)\n",
    "df1 = df[['authaccount','type']]\n",
    "df2 = df[['authaccount','QQ']]\n",
    "df1.drop_duplicates(keep='first', inplace=True)\n",
    "df2.drop_duplicates(keep='first', inplace=True)\n",
    "df11 = df1.groupby(['authaccount'])['type'].sum()\n",
    "df22 = df2.groupby(by='authaccount').apply(lambda x: ','.join(x['QQ']))\n",
    "df11 = pd.DataFrame({'df11':df11})\n",
    "df22 = pd.DataFrame({'df22':df22})\n",
    "reg = df11.merge(df22, left_index=True, right_index=True, how='left')\n",
    "reg.reset_index(inplace=True)\n",
    "# df = pd.merge(df1,df2, how='outer')\n",
    "\n",
    "# df1 = df.groupby(['from_id','to_id','authaccount', 'username']).size().reset_index(name='次数')\n",
    "# df2 = df.groupby(['from_id','to_id','authaccount', 'username'])['time'].agg([np.min, np.max]).reset_index()\n",
    "# df3 = pd.merge(df1,df2,how='inner')\n",
    "\n",
    "writer = pd.ExcelWriter(\"C://Users/Administrator/Desktop/peoplelanding2.xlsx\")\n",
    "reg.to_excel(writer, 'Sheet1')\n",
    "# df22.to_excel(writer, 'Sheet2')\n",
    "# df.to_excel(writer, 'Sheet3')\n",
    "writer.save()\n",
    "\n",
    "print(1)"
   ]
  },
  {
   "cell_type": "code",
   "execution_count": 30,
   "metadata": {},
   "outputs": [
    {
     "name": "stdout",
     "output_type": "stream",
     "text": [
      "1\n"
     ]
    }
   ],
   "source": [
    "#utf-8\n",
    "import pandas as df\n",
    "import csv\n",
    "\n",
    "csvfile = open(\"C:/Users/Administrator/Desktop/emotion.csv\", \"w\", encoding=\"utf-8\", newline='')\n",
    "writer = csv.writer(csvfile)\n",
    "# writer.writerow(['label','content','source'])\n",
    "\n",
    "file = \"C:/Users/Administrator/Desktop/情感分析表数据/SourceData_hive.nb\"\n",
    "fo = open(file, \"r\", encoding='utf-8')\n",
    "for line in fo.readlines():\n",
    "    tmp = line.strip(\"\\n\").split(\"\\t\")\n",
    "    if len(tmp[1])<1300:  # 1300\n",
    "#         print(len(tmp[1]))\n",
    "        writer.writerow(tmp)\n",
    "    else:\n",
    "        pass\n",
    "csvfile.close()\n",
    "fo.close()\n",
    "print(1)"
   ]
  },
  {
   "cell_type": "code",
   "execution_count": 5,
   "metadata": {},
   "outputs": [
    {
     "name": "stdout",
     "output_type": "stream",
     "text": [
      "1\n"
     ]
    }
   ],
   "source": [
    "# 身份证\n",
    "import numpy as np\n",
    "import datetime as dt\n",
    "import pandas as pd\n",
    "\n",
    "def id15_18(id_card):\n",
    "    \"\"\"\n",
    "    将老版15位身份证号码转化为新版的18位身份证号码\n",
    "    逻辑：1-6位是地区号码——》保持不变\n",
    "          7-12位是生日yymmdd——》转为yyyymmdd格式——》转化为17位\n",
    "          添加最后一位校验码——》加权求和后关于11取余数为i——》根据校验码list，取校验码为list[i]\n",
    "          前17位+校验码——》获得18位身份证号码      \n",
    "    \"\"\"\n",
    "#     自己写的15转18， 反   18位转15位\n",
    "#     t = str(id_card)\n",
    "#     id_card = t[:6] + t[8:17]\n",
    "\n",
    "    id_card = str(id_card)\n",
    "    if len(id_card) != 15:\n",
    "        return id_card\n",
    "    year =int(id_card[6:8])\n",
    "    year_now = int(dt.datetime.now().strftime('%Y'))-2000\n",
    "    if year > year_now:\n",
    "        id_card_temp = id_card[0:6]+'19'+id_card[6:]   #补齐日期码\n",
    "    else:\n",
    "        id_card_temp = id_card[0:6]+'20'+id_card[6:]   #补齐日期码 \n",
    "    a =np.array(list(map(int, id_card_temp)))\n",
    "    b = np.array((7,9,10,5,8,4,2,1,6,3,7,9,10,5,8,4,2))\n",
    "    last_number_temp = np.dot(a,b)%11\n",
    "    check_code_list = (\"1\", \"0\", \"X\", \"9\", \"8\", \"7\", \"6\", \"5\", \"4\", \"3\", \"2\")\n",
    "    check_code = check_code_list[last_number_temp]\n",
    "    id_number =id_card_temp+ str(check_code)\n",
    "    return id_number\n",
    "\n",
    "# file = pd.read_excel('C://Users/Administrator/Desktop/peoplelanding2.xlsx',sheet_name='Sheet1', names=['sfz','type','df11','df22'])\n",
    "# df = pd.DataFrame(file)\n",
    "\n",
    "# df['tmp'] = df['sfz'].apply(id15_18)\n",
    "\n",
    "# writer = pd.ExcelWriter(\"C://Users/Administrator/Desktop/副本.xlsx\")\n",
    "# df.to_excel(writer, 'Sheet1')\n",
    "# writer.save()\n",
    "# print(1)"
   ]
  },
  {
   "cell_type": "code",
   "execution_count": null,
   "metadata": {},
   "outputs": [],
   "source": [
    "def switchtime(x):\n",
    "    try:\n",
    "        timeArray = time.localtime(int(x))\n",
    "        return time.strftime(\"%Y-%m-%d %H:%M:%S\", timeArray)\n",
    "    except:\n",
    "        return 0"
   ]
  },
  {
   "cell_type": "code",
   "execution_count": null,
   "metadata": {},
   "outputs": [],
   "source": [
    "def anti_class(x):\n",
    "    if type(x) != str:\n",
    "        return 1\n",
    "    if x == \"\\\\N\":\n",
    "        return 1\n",
    "    for i in reverseKey:\n",
    "        try:\n",
    "            if i in x:\n",
    "                return 1\n",
    "        except:\n",
    "            return 0\n",
    "    return 0\n",
    "\n",
    "def key_filter(x):\n",
    "    tmp = 0\n",
    "    for i in keys:\n",
    "        if i in x:\n",
    "            tmp += 1\n",
    "    if tmp>1:\n",
    "        return 1\n",
    "    else:\n",
    "        return 0\n",
    "    \n",
    "df['len_content']=df['content'].str.len()\n",
    "df = df.loc[df.len_content>2,]"
   ]
  },
  {
   "cell_type": "code",
   "execution_count": null,
   "metadata": {},
   "outputs": [],
   "source": [
    "def keyword_count(content):\n",
    "    words=list(jieba.cut(content,cut_all=True))\n",
    "    count_dict,key_list={},[]\n",
    "    for i in keyword:\n",
    "        a=words.count(i)\n",
    "        if a>0:\n",
    "            count_dict[i]=a\n",
    "            key_list.append(i+'('+str(a)+')')\n",
    "    return [len(count_dict),sum(count_dict.values()),';'.join(key_list)]\n",
    "\n",
    "df['result'] = df['content'].apply(keyword_count)\n",
    "df['word_types'] = df['result'].apply(lambda x:x[0])\n",
    "df['word_counts'] = df['result'].apply(lambda x:x[1])\n",
    "df['keywords'] = df['result'].apply(lambda x:x[2])\n",
    "df = df.sort_values(by=['word_types','word_counts'], ascending=False)\n",
    "df = df.loc[df.word_types>2,]"
   ]
  },
  {
   "cell_type": "code",
   "execution_count": null,
   "metadata": {},
   "outputs": [],
   "source": [
    "df1 = df.groupby(['apptype','appid','groupid', 'content']).size().reset_index(name='次数')\n",
    "df2 = df.groupby(['apptype','appid','groupid','content'])['realtime'].agg([np.min, np.max]).reset_index()\n",
    "df3 = pd.merge(df1,df2,how='inner')"
   ]
  },
  {
   "cell_type": "code",
   "execution_count": 9,
   "metadata": {},
   "outputs": [
    {
     "name": "stdout",
     "output_type": "stream",
     "text": [
      "10.10.153.6\n"
     ]
    }
   ],
   "source": [
    "def ipconvert(x):\n",
    "    x = int(x)\n",
    "    s = []\n",
    "    for i in range(4):\n",
    "        s.append(str(x%256))\n",
    "        x = int(x / 256)\n",
    "    return '.'.join(s[::-1])\n",
    "\n",
    "k = 168466694\n",
    "print(ipconvert(k))"
   ]
  },
  {
   "cell_type": "code",
   "execution_count": null,
   "metadata": {},
   "outputs": [],
   "source": []
  }
 ],
 "metadata": {
  "kernelspec": {
   "display_name": "Python 3",
   "language": "python",
   "name": "python3"
  },
  "language_info": {
   "codemirror_mode": {
    "name": "ipython",
    "version": 3
   },
   "file_extension": ".py",
   "mimetype": "text/x-python",
   "name": "python",
   "nbconvert_exporter": "python",
   "pygments_lexer": "ipython3",
   "version": "3.5.4"
  },
  "toc": {
   "base_numbering": 1,
   "nav_menu": {},
   "number_sections": true,
   "sideBar": true,
   "skip_h1_title": false,
   "title_cell": "Table of Contents",
   "title_sidebar": "Contents",
   "toc_cell": false,
   "toc_position": {},
   "toc_section_display": true,
   "toc_window_display": false
  }
 },
 "nbformat": 4,
 "nbformat_minor": 2
}
