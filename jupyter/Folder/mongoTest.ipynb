{
 "cells": [
  {
   "cell_type": "code",
   "execution_count": 12,
   "metadata": {},
   "outputs": [
    {
     "name": "stdout",
     "output_type": "stream",
     "text": [
      "󰉾我是\n",
      "(b'\\xf3\\xb0\\x89\\xbe\\xe6\\x88\\x91\\xe6\\x98\\xaf', 3)\n"
     ]
    }
   ],
   "source": [
    "import codecs\n",
    "import re\n",
    "\n",
    "look = codecs.lookup(\"utf-8\")\n",
    "str1 = '\\u2022\\xa9'\n",
    "str1 = '\\xF3\\xB0\\x89\\xBE\\xE7\\x83'\n",
    "str1 = '\\U000f027e我是'\n",
    "tmp = look.encode(str1)\n",
    "\n",
    "# tmp = re.sub(r'\\\\', '$', str1)\n",
    "print(str1)\n",
    "print(tmp)"
   ]
  },
  {
   "cell_type": "code",
   "execution_count": 3,
   "metadata": {},
   "outputs": [],
   "source": [
    "import pymysql\n",
    "import re\n",
    "\n",
    "conn = pymysql.connect(host='localhost', port=3306,user='root',password='123456',db='GoogleSearch', charset='utf8')\n",
    "cursor = conn.cursor()\n",
    "# sql = 'create table `test` (`age` int not null, `name` varchar(20))'\n",
    "# cursor.execute(sql)\n",
    "\n",
    "cursor.execute('show tables;')\n",
    "tables = [cursor.fetchall()]\n",
    "tables = re.findall('(\\'.*?\\')',str(tables))\n",
    "tables = [re.sub(\"'\",'',each) for each in tables]\n",
    "for tablename in tables:\n",
    "    sql = 'drop table `' + tablename + '`'\n",
    "    cursor.execute(sql)\n",
    "\n",
    "\n",
    "# cursor = conn.cursor(cursor=pymysql.cursors.DictCursor)\n",
    "# cursor.execute('select * from `test`')\n",
    "# info = cursor.fetchall()\n",
    "# print(info)\n",
    "    \n",
    "cursor.close()\n",
    "conn.close()"
   ]
  },
  {
   "cell_type": "code",
   "execution_count": null,
   "metadata": {},
   "outputs": [],
   "source": [
    "import pymongo\n",
    " \n",
    "myclient = pymongo.MongoClient(\"mongodb://localhost:27017/\")\n",
    "mydb = myclient[\"runoobdb\"]\n",
    "mycol = mydb[\"sites\"]\n",
    " \n",
    "mydict = { \"name\": \"RUNOOB\", \"alexa\": \"10000\", \"url\": \"https://www.runoob.com\" }\n",
    " \n",
    "x = mycol.insert_one(mydict) \n",
    "print(x)"
   ]
  },
  {
   "cell_type": "code",
   "execution_count": 89,
   "metadata": {},
   "outputs": [],
   "source": [
    "import pymongo\n",
    "import re\n",
    " \n",
    "myclient = pymongo.MongoClient(\"mongodb://localhost:27017/\")\n",
    "mydb = myclient[\"runoobdb\"]\n",
    "\n",
    "mycol = mydb['人权']\n",
    "\n",
    "# dic = {}\n",
    "# dic[\"维基\"] = {\"address\":\"www\"}\n",
    "# mycol = mydb['人权'].insert_one(dic)\n",
    "# reviews_collection.find({\"text\":{'$regex' : \".*atmosphere.*\"}})\n",
    "\n",
    "cursor = mycol.find({\"维基.address\":re.compile('www')})\n",
    "for dic in cursor:\n",
    "    key = [i for i in dic.keys()]\n",
    "    value = [j for j in dic.values()]\n",
    "    value[1]['m'] = 'n'\n",
    "    mycol.update_one({key[0]:value[0]}, {'$set':{key[1]:value[1]}})"
   ]
  },
  {
   "cell_type": "code",
   "execution_count": null,
   "metadata": {},
   "outputs": [],
   "source": [
    "# update({'address': item['address']},{\"$set\":{'content': item['content'], 'intro':item['intro']}}, True)\n",
    "import pymongo\n",
    "\n",
    "myclient = pymongo.MongoClient(\"mongodb://localhost:27017/\")\n",
    "mydb = myclient[\"runoobdb\"]\n",
    "mycol = mydb[\"sites\"]\n",
    "\n",
    "x = mycol.update_many({'alexa':\"10000\"}, {\"$set\":{'alexa':\"20000\"}}, True)\n",
    "print(x)"
   ]
  },
  {
   "cell_type": "code",
   "execution_count": null,
   "metadata": {},
   "outputs": [],
   "source": [
    "import pymongo\n",
    " \n",
    "myclient = pymongo.MongoClient(\"mongodb://localhost:27017/\")\n",
    "mydb = myclient[\"runoobdb\"]\n",
    "# mycol = mydb[\"sites\"]\n",
    "site = ['人权观察','救世军']\n",
    "for i in site:\n",
    "    mycol = mydb[i]\n",
    "#     mydict = { \"name\": \"RUNOOB\", \"alexa\": \"10000\", \"url\": \"https://www.runoob.com\" }\n",
    "    mydict = {\"title\":{\"address\":\"www\",\"intro\":\"woshi\"}}\n",
    "    x = mycol.insert_one(mydict) \n",
    "    print(x)"
   ]
  },
  {
   "cell_type": "code",
   "execution_count": 6,
   "metadata": {},
   "outputs": [
    {
     "name": "stdout",
     "output_type": "stream",
     "text": [
      "at\n",
      "er\n",
      "rw\n",
      "12   34\n",
      "12 34\n"
     ]
    }
   ],
   "source": [
    "import re\n",
    "\n",
    "str1 = \"at\\n\\n\\n  \\n  \\n  er \\n  rw\"\n",
    "str1 = str1.replace(\" \", \"\")\n",
    "str1 = re.sub(r'\\n+', '\\n', str1)\n",
    "print(str1)\n",
    "\n",
    "str2 = \"12   34\"\n",
    "print(str2)\n",
    "str2 = \" \".join(str2.split())\n",
    "print(str2)"
   ]
  },
  {
   "cell_type": "code",
   "execution_count": 2,
   "metadata": {},
   "outputs": [
    {
     "name": "stdout",
     "output_type": "stream",
     "text": [
      "<pymongo.results.InsertOneResult object at 0x0000016CEFD0E308>\n"
     ]
    }
   ],
   "source": [
    "import pymongo\n",
    "\n",
    "myclient = pymongo.MongoClient(\"mongodb://localhost:27017/\")\n",
    "mydb = myclient[\"runoobdb\"]\n",
    "mycol = mydb[\"sites\"]\n",
    "\n",
    "str1 = \"融冰\\u30fb架桥\\u30fb突围\"\n",
    "x = mycol.insert_one({'test': str1})\n",
    "print(x)"
   ]
  },
  {
   "cell_type": "code",
   "execution_count": 21,
   "metadata": {},
   "outputs": [
    {
     "name": "stdout",
     "output_type": "stream",
     "text": [
      "['1', '$23']\n"
     ]
    }
   ],
   "source": [
    "str1 = '.$.1.2..'\n",
    "import re\n",
    "\n",
    "title = ['.1.','.$23']\n",
    "\n",
    "title = [x.replace('.','') for x in title]\n",
    "print(title)"
   ]
  },
  {
   "cell_type": "code",
   "execution_count": 1,
   "metadata": {},
   "outputs": [
    {
     "name": "stdout",
     "output_type": "stream",
     "text": [
      "['person', 'bicycle', 'car', 'motorbike', 'aeroplane', 'bus', 'train', 'truck', 'boat', 'traffic light', 'fire hydrant', 'stop sign', 'parking meter', 'bench', 'bird', 'cat', 'dog', 'horse', 'sheep', 'cow', 'elephant', 'bear', 'zebra', 'giraffe', 'backpack', 'umbrella', 'handbag', 'tie', 'suitcase', 'frisbee', 'skis', 'snowboard', 'sports ball', 'kite', 'baseball bat', 'baseball glove', 'skateboard', 'surfboard', 'tennis racket', 'bottle', 'wine glass', 'cup', 'fork', 'knife', 'spoon', 'bowl', 'banana', 'apple', 'sandwich', 'orange', 'broccoli', 'carrot', 'hot dog', 'pizza', 'donut', 'cake', 'chair', 'sofa', 'pottedplant', 'bed', 'diningtable', 'toilet', 'tvmonitor', 'laptop', 'mouse', 'remote', 'keyboard', 'cell phone', 'microwave', 'oven', 'toaster', 'sink', 'refrigerator', 'book', 'clock', 'vase', 'scissors', 'teddy bear', 'hair drier', 'toothbrush']\n"
     ]
    }
   ],
   "source": [
    "f = open('C://Users/Administrator.SC-201905252025/Desktop/ip.txt', 'r', encoding='utf-8')\n",
    "lines = f.readlines()\n",
    "ip = [line.strip() for line in lines]\n",
    "print(ip)"
   ]
  },
  {
   "cell_type": "code",
   "execution_count": 5,
   "metadata": {},
   "outputs": [
    {
     "name": "stdout",
     "output_type": "stream",
     "text": [
      "邮箱：donation@msf.org.hk$电话：852-23388277$传真：852-23046081\n",
      "\n",
      "\n",
      "武装冲突援助$为受困于冲突或逃亡流徙的人提供援助和医疗服务。包括派出队伍设立手术室、提供基本医疗的诊所、公共卫生支援、营养项目、疫症控制和精神健康服务等；$自然灾害救助$救援队伍会进行手术，提供心理社会支援和营养支援，并分发援助物资；在有需要时进行预防工作，确保有安全的饮用水供应，并设立卫生系统，以及进行疫苗注射运动减低疫症爆发的风险；$流行病和疫病防治$与本地政府合作促使无国界医生在紧急灾难时能够更快速响应。在现有的医疗中心工作，或在有需要时建立新的架构，医治被疾病影响的人，并针对最脆弱的人群进行预防工作；$服务于边缘人群$为不能获得医疗服务的边缘人群，提供医疗、心理和社会支援。包括揭示病人获取医疗照顾所面对的困难，引起大众关注；\n",
      "\n",
      "\n",
      "1971年，一群法国医生及新闻工作者创立无国界医生，成立了全球首个与任何军方和政府都没有关联的人道组织，专门提供紧急医疗援助；$1988年，开始在中国工作，随后10年在全国超过20次大大小小的洪水丶地震丶雪灾及受台风中，为受影响的灾民提供紧急援助；$1994年，在香港成立办事处，透过提高大众对人道危机的关注丶招募志愿人员及筹款，支援前线的救援项目；$1999年，开展“病者有其药”运动，创造增加贫穷病人获得可负担的合适药物的机会；$2010年，海地大地震造成22.2万人死亡丶过百万人无家可归。无国界医生开展了40年历史以来，规模最大的紧急救援行动；\n",
      "\n",
      "\n",
      "1999年，获颁诺贝尔和平奖；\n",
      "\n",
      "\n",
      "北京$传真：010-$85326717$广州$地址：广州巿越秀区解放北路618-620号府前大厦A座1104-1105室$电话：20-83367085$传真：20-83367120$香港$地址：香港西环德辅道西410-418号太平洋广场22楼$电话：852-29594229$传真：852-23375442$邮箱：office@msf.org.hk$新浪微博：$http://weibo.com/msfhk$腾讯微博：$http://t.qq.com/MSF_HK\n",
      "\n",
      "\n"
     ]
    }
   ],
   "source": [
    "from lxml import etree\n",
    "\n",
    "f = 'C://Users/Administrator.SC-201905252025/Desktop/test.html'\n",
    "html = etree.parse(f, etree.HTMLParser())\n",
    "tmp = html.xpath('/html/body/div[4]/div[2]/div')\n",
    "for i in range(2, len(tmp)+1):\n",
    "    k = html.xpath('/html/body/div[4]/div[2]/div['+str(i)+']//text()')\n",
    "#     k = list(filter(None, [l.replace('\\r', '').replace('\\t', '').replace(' ','') for l in k ]))\n",
    "    k = list(filter(None, [l.strip() for l in k]))\n",
    "#     k = [l for l in k if l != '\\n']\n",
    "#     print(k)\n",
    "    m = ''\n",
    "#     if k[0] == '项目信息':\n",
    "#         try:\n",
    "#             for i in range(1, len(k), 2):\n",
    "#                 m += k[i]+':'+k[i+1]+'$'\n",
    "#         except:\n",
    "#             m = '$'.join(k[1:])\n",
    "#     else:\n",
    "#         m = '$'.join(k[1:])\n",
    "    m = '$'.join(k[1:])\n",
    "    print(m)\n",
    "    print('\\n')"
   ]
  },
  {
   "cell_type": "code",
   "execution_count": 14,
   "metadata": {},
   "outputs": [
    {
     "name": "stdout",
     "output_type": "stream",
     "text": [
      "['基本资料', '缩写名称：', 'MSF', '成立年份：', '1971', '注册地：']\n"
     ]
    }
   ],
   "source": [
    "from lxml import etree\n",
    "\n",
    "f = 'C://Users/Administrator.SC-201905252025/Desktop/test.html'\n",
    "html = etree.parse(f, etree.HTMLParser())\n",
    "\n",
    "# //*[@id=\"base-info\"]   缩写名称，成立年份，注册地，负责人\n",
    "# //*[@id=\"contact\"]   邮箱，网址，电话，地址\n",
    "dic = {'资金来源': 'sourceofFunds',\n",
    "        '大事记':'bigThing',\n",
    "        '所获奖项':'award',\n",
    "        '其他联系方式':'otherContact',\n",
    "        '捐款方式':'donation',\n",
    "        '项目信息':'project',\n",
    "        '缩写名称：': 'abbreviation',\n",
    "        '成立年份：': 'establishedYear',\n",
    "        '负责人：': 'responsible',\n",
    "        '注册地：': 'registration',\n",
    "        '邮箱：': 'email',\n",
    "        '网址：': 'url',\n",
    "        '电话：': 'phone',\n",
    "        '地址：': 'address',\n",
    "        '本地名称：': 'localName',\n",
    "        '图片链接': 'imgsrc',\n",
    "        '源链接': 'sourceUrl',\n",
    "        '关注领域': 'focusArea',\n",
    "        '中文名称': 'ChineseName',\n",
    "        '英文名称': 'EnglishName',\n",
    "        '关注群体': 'focusGroup',\n",
    "        '简介': 'introduction',\n",
    "        '口号': 'slogan'\n",
    "        }\n",
    "dic1 = {}\n",
    "tmp = html.xpath('//*[@id=\"base-info\"]//text()')\n",
    "print(tmp)\n",
    "# for i in range(1, len(tmp), 2):\n",
    "#     print(dic[tmp[i]])\n",
    "#     dic1[dic[tmp[i]]] = tmp[i+1]\n",
    "# print(dic1)"
   ]
  },
  {
   "cell_type": "code",
   "execution_count": 50,
   "metadata": {},
   "outputs": [
    {
     "name": "stdout",
     "output_type": "stream",
     "text": [
      "<!DOCTYPE html><html lang=\"zh-cn\"><head></head><body><meta\"utf-8\"/><meta name=\"viewport\"content=\"width=device-width, initial-scale=1\"/><meta name=\"viewport\"content=\"width=device-width, initial-scale=0.88, maximum-scale=1, user-scalable=no\"><title>提取成功 - 小幻HTTP代理</title><meta name=\"keywords\"content=\"ip提取，http代理，国内外代理，免费高匿名代理，免费ip提取网站，ip代理提取，免费ip代理,代理ip,ip代理,ip代理软件\"/><meta name=\"description\"content=\"小幻HTTP代理免费代理ip网实时免费为大家更新最新免费代理ip、http和https代理为主,常年免费提供代理ip、qq代理ip、http匿名代理、国内代理软件等加速服务，为用户提供最优质代理.\"/><link href=\"//apps.bdimg.com/libs/bootstrap/3.2.0/css/bootstrap.min.css\"rel=\"stylesheet\"/><style> body { padding-top:20px; font-family: Microsoft YaHei ! important; opacity:0.85; }.bs-callout{padding:20px;margin:20px 0;border:1px solid #eee;border-left-width:5px;border-radius:3px}.bs-callout h4{margin-top:0;margin-bottom:5px}.bs-callout p:last-child{margin-bottom:0}.bs-callout code{border-radius:3px}.bs-callout+.bs-callout{margin-top:-5px}.bs-callout-danger{border-left-color:#d9534f}.bs-callout-danger h4{color:#d9534f}.bs-callout-warning{border-left-color:#f0ad4e}.bs-callout-warning h4{color:#f0ad4e}.bs-callout-info{border-left-color:#5bc0de}.bs-callout-info h4{color:#5bc0de}.my { width: 25%; float: left; display: block; } </style><script src=\"//cdn.bootcss.com/jquery/2.2.4/jquery.js\"></script><script src=\"//cdn.bootcss.com/bootstrap/3.3.7/js/bootstrap.min.js\"></script><div class=\"col-md-12\"><nav class=\"navbar navbar-default\"><div class=\"container-fluid\"><div class=\"navbar-header\"><button type=\"button\"class=\"navbar-toggle collapsed\"data-toggle=\"collapse\"data-target=\"#bs-example-navbar-collapse-1\"aria-expanded=\"false\"><span class=\"sr-only\">Toggle navigation</span><span class=\"icon-bar\"></span><span class=\"icon-bar\"></span><span class=\"icon-bar\"></span></button><a class=\"navbar-brand\"href=\"/\">小幻HTTP代理</a></div><div class=\"collapse navbar-collapse\"id=\"bs-example-navbar-collapse-1\"><ul class=\"nav navbar-nav\"><li ><a href=\"/\">代理IP列表</a></li><li class=\"active\"><a href=\"/ti.html\">代理IP批量提取</a></li><li ><a href=\"/distribution.html\">代理IP实时分布</a></li><li ><a href=\"/check.html\">代理IP检测</a></li><li ><a href=\"/today.html\">今日代理</a></li></ul><ul class=\"nav navbar-nav navbar-right\"><li><a href=\"./Proxies.7z\">花刺下载</a></li></ul></div></div></nav><div class=\"alert alert-warning\"id=\"AD\"><a href=\"http://www.qydaili.com/\">旗云代理高效私密代理IP!每天上百万IP流水实时更新支持API方便实用。欢迎大家前来使用!!【点此立即获取】</a></div><div class=\"alert alert-danger\">免费提供代理IP，但请不要疯狂抓取，谢谢合作！</div><div class=\"alert alert-danger\">扫描服务器位于上海，访问国内国外网站检测，仅代表代理于当时当地可用，访问速度为国内服务器连接代理访问国内网站测试</div></div><meta http-equiv=\"refresh\"content=\"0; url=https://ip.ihuan.me/ti.html\"/>\n",
      "<!-- Power By 小幻专属优化代码，生成日期：2019-08-22 14:07:16 -->\n",
      "[]\n",
      "0\n"
     ]
    }
   ],
   "source": [
    "header = {'User-Agent': 'Mozilla/5.0 (Windows NT 10.0; WOW64) AppleWebKit/537.36 (KHTML, like Gecko) Chrome/65.0.0.1594 Safari/537.36',\n",
    "'Origin': 'https://ip.ihuan.me',\n",
    "'Referer': 'https://ip.ihuan.me/ti.html',\n",
    "'cookie': '__cfduid=d476b9665f490fdd3046f20ab1df23af71566353770; statistics=10fa2c6ef688a885b798647af59c5d8d'\n",
    "}\n",
    "\n",
    "FormData = {'num':'100',\n",
    "# 'type':'0',\n",
    "'post':'1',\n",
    "'sort':'1',\n",
    "'key':'7126ddcd792743fb62b07df899279d13'\n",
    "}\n",
    "\n",
    "import requests\n",
    "from lxml import etree\n",
    "import random\n",
    "\n",
    "# proxies = {'http': 'http://' + proxy, 'https': 'https://' + proxy}\n",
    "# r = requests.post('https://ip.ihuan.me/tqdl.html', headers = header, data=FormData, proxies=proxies)\n",
    "\n",
    "r = requests.post('https://ip.ihuan.me/tqdl.html', headers = header, data=FormData)\n",
    "print(r.text)\n",
    "tmp = etree.HTML(r.text)\n",
    "li = html.xpath('/html/body/div[2]//text()')\n",
    "li = li[1:]\n",
    "print(li)\n",
    "print(len(li))"
   ]
  },
  {
   "cell_type": "code",
   "execution_count": 112,
   "metadata": {},
   "outputs": [
    {
     "name": "stdout",
     "output_type": "stream",
     "text": [
      "['88.199.164.140:8080', '103.216.82.44:8080', '222.240.184.126:8086', '41.207.54.154:443', '42.115.88.12:37961', '187.44.1.167:8080', '118.174.232.181:8080', '182.53.197.87:32916', '176.197.237.102:55950', '197.157.219.25:8080', '103.117.213.76:34773', '36.67.93.220:80', '50.195.207.133:47593', '80.249.82.44:56849', '37.203.20.168:53281', '45.114.74.199:8080', '163.204.246.95:9999', '154.73.109.84:53281', '113.130.126.212:56646', '187.188.168.57:9991', '183.6.183.35:3128', '123.139.56.238:9999', '190.216.224.39:47160', '176.98.75.120:60026', '94.241.129.136:8080', '36.67.93.220:3128', '39.108.123.4:3128', '112.85.168.208:9999', '109.101.139.106:61139', '202.179.190.210:8080', '36.66.107.219:3128', '41.65.146.188:3128', '60.9.1.80:80', '27.203.246.236:8060', '183.146.29.15:8888', '183.146.29.239:8888', '112.12.91.25:8888', '183.146.29.58:8888', '185.238.239.16:8090', '50.236.148.254:39970', '110.49.127.87:8080', '45.70.63.90:43046', '221.2.155.35:8060', '202.51.124.214:8080', '117.191.11.104:8080', '177.85.200.254:53095', '185.132.179.115:1080', '223.27.194.66:63141', '188.27.137.163:30987', '91.235.175.111:3128', '193.188.254.67:53281', '45.64.86.17:36479', '202.62.73.113:83', '134.119.214.197:1080', '62.152.43.152:8080', '112.95.26.168:8118', '85.192.179.171:87', '216.169.73.65:40344', '103.225.196.32:3129', '49.247.131.121:80', '138.122.7.33:32192', '131.196.192.31:36213', '93.116.57.4:54838', '169.239.11.86:31241', '196.41.24.244:48914', '103.194.232.186:8080', '218.76.253.201:61310', '201.6.109.189:8080', '182.52.51.72:43910', '112.95.27.13:8118', '36.248.133.150:9999', '113.103.117.88:61234', '125.123.143.186:9000', '112.78.170.28:8080', '189.89.248.40:3128', '38.123.76.19:999', '51.15.238.98:3128', '187.190.237.144:9991', '181.115.38.146:8080', '185.120.39.249:8080', '178.150.100.39:34613', '182.253.82.156:34207', '194.44.236.48:39998', '1.169.129.89:53281', '181.129.42.179:46129', '202.57.54.153:36499', '125.25.45.167:56628', '119.40.99.101:8080', '23.94.78.139:8118', '182.52.51.48:35246']\n"
     ]
    }
   ],
   "source": [
    "f = open('C://Users/Administrator.SC-201905252025/Desktop/tmp.txt', 'r', encoding='utf-8')\n",
    "\n",
    "tmp = [line.split(\"\\t\")[0] for line in f.readlines()]\n",
    "print(tmp)"
   ]
  },
  {
   "cell_type": "code",
   "execution_count": 7,
   "metadata": {},
   "outputs": [
    {
     "name": "stdout",
     "output_type": "stream",
     "text": [
      "https://www.salvationarmy.org.hk/cn/about_us\n",
      "salvationarmy.org\n"
     ]
    }
   ],
   "source": [
    "res =  '/url?q=https://www.salvationarmy.org.hk/cn/about_us&sa=U&ved=2ahUKEwjXuMW416LlAhVIqZ4KHUD7Dp8QFjAAegQIARAB&usg=AOvVaw2_IWZuQk5duHOt7hzTrUER'\n",
    "\n",
    "import re\n",
    "\n",
    "pattern = re.compile(r'.*?\\?q=(.*?)&sa=.*?')\n",
    "m = pattern.match(res).group(1)\n",
    "print(m)\n",
    "\n",
    "tmp = 'https://www.salvationarmy.org.hk/cn/about_us'\n",
    "pattern1 = re.compile(r'.*?www\\.(.*)\\..*?')\n",
    "m = pattern1.match(tmp)\n",
    "print(m.group(1))"
   ]
  },
  {
   "cell_type": "code",
   "execution_count": 7,
   "metadata": {},
   "outputs": [
    {
     "name": "stdout",
     "output_type": "stream",
     "text": [
      "主要地址：400马里兰大道，SW华盛顿特区，20202电话号码：1-800-USA-LEARN（1-800-872-5327）\n"
     ]
    }
   ],
   "source": [
    "from googletrans import Translator\n",
    "\n",
    "translate = Translator()\n",
    "# result = translate.translate('照片')\n",
    "result = translate.translate('main address: 400 Maryland Ave., SW  Washington , DC  20202  phone number: 1-800-USA-LEARN (1-800-872-5327)', dest='zh-CN')\n",
    "print(result.text)\n"
   ]
  },
  {
   "cell_type": "code",
   "execution_count": null,
   "metadata": {},
   "outputs": [],
   "source": []
  }
 ],
 "metadata": {
  "kernelspec": {
   "display_name": "Python 3",
   "language": "python",
   "name": "python3"
  },
  "language_info": {
   "codemirror_mode": {
    "name": "ipython",
    "version": 3
   },
   "file_extension": ".py",
   "mimetype": "text/x-python",
   "name": "python",
   "nbconvert_exporter": "python",
   "pygments_lexer": "ipython3",
   "version": "3.5.4"
  },
  "toc": {
   "base_numbering": 1,
   "nav_menu": {},
   "number_sections": true,
   "sideBar": true,
   "skip_h1_title": false,
   "title_cell": "Table of Contents",
   "title_sidebar": "Contents",
   "toc_cell": false,
   "toc_position": {},
   "toc_section_display": true,
   "toc_window_display": false
  }
 },
 "nbformat": 4,
 "nbformat_minor": 2
}
