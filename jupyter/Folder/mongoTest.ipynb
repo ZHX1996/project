{
 "cells": [
  {
   "cell_type": "code",
   "execution_count": null,
   "metadata": {},
   "outputs": [],
   "source": [
    "import pymongo\n",
    " \n",
    "myclient = pymongo.MongoClient(\"mongodb://localhost:27017/\")\n",
    "mydb = myclient[\"runoobdb\"]\n",
    "mycol = mydb[\"sites\"]\n",
    " \n",
    "mydict = { \"name\": \"RUNOOB\", \"alexa\": \"10000\", \"url\": \"https://www.runoob.com\" }\n",
    " \n",
    "x = mycol.insert_one(mydict) \n",
    "print(x)"
   ]
  },
  {
   "cell_type": "code",
   "execution_count": 89,
   "metadata": {},
   "outputs": [],
   "source": [
    "import pymongo\n",
    "import re\n",
    " \n",
    "myclient = pymongo.MongoClient(\"mongodb://localhost:27017/\")\n",
    "mydb = myclient[\"runoobdb\"]\n",
    "\n",
    "mycol = mydb['人权']\n",
    "\n",
    "# dic = {}\n",
    "# dic[\"维基\"] = {\"address\":\"www\"}\n",
    "# mycol = mydb['人权'].insert_one(dic)\n",
    "# reviews_collection.find({\"text\":{'$regex' : \".*atmosphere.*\"}})\n",
    "\n",
    "cursor = mycol.find({\"维基.address\":re.compile('www')})\n",
    "for dic in cursor:\n",
    "    key = [i for i in dic.keys()]\n",
    "    value = [j for j in dic.values()]\n",
    "    value[1]['m'] = 'n'\n",
    "    mycol.update_one({key[0]:value[0]}, {'$set':{key[1]:value[1]}})"
   ]
  },
  {
   "cell_type": "code",
   "execution_count": null,
   "metadata": {},
   "outputs": [],
   "source": [
    "# update({'address': item['address']},{\"$set\":{'content': item['content'], 'intro':item['intro']}}, True)\n",
    "import pymongo\n",
    "\n",
    "myclient = pymongo.MongoClient(\"mongodb://localhost:27017/\")\n",
    "mydb = myclient[\"runoobdb\"]\n",
    "mycol = mydb[\"sites\"]\n",
    "\n",
    "x = mycol.update_many({'alexa':\"10000\"}, {\"$set\":{'alexa':\"20000\"}}, True)\n",
    "print(x)"
   ]
  },
  {
   "cell_type": "code",
   "execution_count": null,
   "metadata": {},
   "outputs": [],
   "source": [
    "import pymongo\n",
    " \n",
    "myclient = pymongo.MongoClient(\"mongodb://localhost:27017/\")\n",
    "mydb = myclient[\"runoobdb\"]\n",
    "# mycol = mydb[\"sites\"]\n",
    "site = ['人权观察','救世军']\n",
    "for i in site:\n",
    "    mycol = mydb[i]\n",
    "#     mydict = { \"name\": \"RUNOOB\", \"alexa\": \"10000\", \"url\": \"https://www.runoob.com\" }\n",
    "    mydict = {\"title\":{\"address\":\"www\",\"intro\":\"woshi\"}}\n",
    "    x = mycol.insert_one(mydict) \n",
    "    print(x)"
   ]
  },
  {
   "cell_type": "code",
   "execution_count": 1,
   "metadata": {},
   "outputs": [
    {
     "name": "stdout",
     "output_type": "stream",
     "text": [
      "融冰・架桥・突围\n"
     ]
    }
   ],
   "source": [
    "str = \"融冰\\u30fb架桥\\u30fb突围\"\n",
    "print(str)"
   ]
  },
  {
   "cell_type": "code",
   "execution_count": 2,
   "metadata": {},
   "outputs": [
    {
     "name": "stdout",
     "output_type": "stream",
     "text": [
      "<pymongo.results.InsertOneResult object at 0x0000016CEFD0E308>\n"
     ]
    }
   ],
   "source": [
    "import pymongo\n",
    "\n",
    "myclient = pymongo.MongoClient(\"mongodb://localhost:27017/\")\n",
    "mydb = myclient[\"runoobdb\"]\n",
    "mycol = mydb[\"sites\"]\n",
    "\n",
    "str1 = \"融冰\\u30fb架桥\\u30fb突围\"\n",
    "x = mycol.insert_one({'test': str1})\n",
    "print(x)"
   ]
  },
  {
   "cell_type": "code",
   "execution_count": 21,
   "metadata": {},
   "outputs": [
    {
     "name": "stdout",
     "output_type": "stream",
     "text": [
      "['1', '$23']\n"
     ]
    }
   ],
   "source": [
    "str1 = '.$.1.2..'\n",
    "import re\n",
    "\n",
    "title = ['.1.','.$23']\n",
    "\n",
    "title = [x.replace('.','') for x in title]\n",
    "print(title)"
   ]
  },
  {
   "cell_type": "code",
   "execution_count": 20,
   "metadata": {},
   "outputs": [
    {
     "name": "stdout",
     "output_type": "stream",
     "text": [
      "\n",
      "\n",
      "\n",
      "<![endif]-->\n",
      "\n"
     ]
    }
   ],
   "source": [
    "import re\n",
    "import html\n",
    "\n",
    "tmp = \"<!DOCTYPE html>\\n<!--STATUS OK-->\\n<html>\\n\\n\\n\\n<head>\\n<meta charset=\\\"UTF-8\\\">\\n<meta http-equiv=\\\"X-UA-Compatible\\\" content=\\\"IE=Edge\\\" />\\n<meta name=\\\"referrer\\\" content=\\\"always\\\" />\\n<meta name=\\\"description\\\" content=\\\"人权观察是1978年在美国纽约成立的一个非政府的国际组织，总部设在美国纽约，以调查、促进人权问题为主旨。...\\\">\\n<title>人权观察_百度百科</title>\\n<link rel=\\\"shortcut icon\\\" href=\\\"/favicon.ico\\\" type=\\\"image/x-icon\\\" />\\n<link rel=\\\"icon\\\" sizes=\\\"any\\\" mask href=\\\"//www.baidu.com/img/baidu.svg\\\">\\n\\n<meta name=\\\"keywords\\\" content=\\\"人权观察 人权观察组织简介 人权观察组织成立 人权观察组织义务 人权观察近况 人权观察出版 人权观察组织的比较 人权观察批评\\\">\\n<meta name=\\\"image\\\" content=\\\"https://bkssl.bdimg.com/cms/static/baike.png\\\">\\n<script type=\\\"text/javascript\\\">\\r\\n  // 配置 PD 监控。\\r\\n  window.alogObjectConfig = {\\r\\n    product: '103',\\r\\n    page: '103_1',\\r\\n    speed: {\\r\\n      sample: '0.008'\\r\\n    },\\r\\n    monkey: {\\r\\n      sample: '1',\\r\\n      hid: '1533'\\r\\n    },\\r\\n    exception: { \\r\\n      sample: '0.004'\\r\\n    },\\r\\n    feature: {\\r\\n      sample: '0.004'\\r\\n    },\\r\\n    csp: {\\r\\n      sample: '0.008',\\r\\n      'default-src': [\\r\\n        {match: '*.baidu.com,*.bdimg.com,localhost', target: 'Accept'},\\r\\n        {match: '*', target: 'Accept,Warn'}\\r\\n      ]\\r\\n    }\\r\\n  };\\r\\n\\r\\n  void function(a,b,c,d,e,f,g){a.alogObjectName=e,a[e]=a[e]||function(){(a[e].q=a[e].q||[]).push(arguments)},a[e].l=a[e].l||+new Date,d=\\\"https:\\\"===a.location.protocol?\\\"https://fex.bdstatic.com\\\"+d:\\\"http://fex.bdstatic.com\\\"+d;var h=!0;if(a.alogObjectConfig&&a.alogObjectConfig.sample){var i=Math.random();a.alogObjectConfig.rand=i,i>a.alogObjectConfig.sample&&(h=!1)}h&&(f=b.createElement(c),f.async=!0,f.src=d+\\\"?v=\\\"+~(new Date/864e5)+~(new Date/864e5),g=b.getElementsByTagName(c)[0],g.parentNode.insertBefore(f,g))}(window,document,\\\"script\\\",\\\"/hunter/alog/alog.min.js\\\",\\\"alog\\\"),void function(){function a(){}window.PDC={mark:function(a,b){alog(\\\"speed.set\\\",a,b||+new Date),alog.fire&&alog.fire(\\\"mark\\\")},init:function(a){alog(\\\"speed.set\\\",\\\"options\\\",a)},view_start:a,tti:a,page_ready:a}}();\\r\\n  void function(n){var o=!1;n.onerror=function(n,e,t,c){var i=!0;return!e&&/^script error/i.test(n)&&(o?i=!1:o=!0),i&&alog(\\\"exception.send\\\",\\\"exception\\\",{msg:n,js:e,ln:t,col:c}),!1},alog(\\\"exception.on\\\",\\\"catch\\\",function(n){alog(\\\"exception.send\\\",\\\"exception\\\",{msg:n.msg,js:n.path,ln:n.ln,method:n.method,flag:\\\"catch\\\"})})}(window);\\r\\n</script>\\n<meta name=\\\"csrf-token\\\" content=\\\"\\\">\\n<meta itemprop=\\\"dateUpdate\\\" content=\\\"2019-08-02 14:44:07\\\" />\\n\\n<!--[if lte IE 9]>\\n<script>\\r\\n    (function() {\\r\\n      var e = \\\"abbr,article,aside,audio,canvas,datalist,details,dialog,eventsource,figure,footer,header,hgroup,mark,menu,meter,nav,output,progress,section,time,video\\\".split(\\\",\\\"),\\r\\n        i = e.length;\\r\\n      while (i--) {\\r\\n        document.createElement(e[i]);\\r\\n      }\\r\\n\\r\\n      window.console = window.console || {};\\r\\n      var f = ['log', 'info', 'warning', 'error', 'clear'];\\r\\n      var l = f.length;\\r\\n      while(l--) {\\r\\n        window.console[f[l]] = function () {};\\r\\n      }\\r\\n    })();\\r\\n  </script>\\n<![endif]-->\\n\"\n",
    "# tmp = html.unescape(tmp)\n",
    "# tmp = re.sub(r'\"', \"'\", tmp)\n",
    "# tmp = re.sub(r'\\n', '', tmp)\n",
    "\n",
    "\n",
    "# tmp = re.sub(r'\\n', '', tmp)\n",
    "pattern = re.compile(r'<.*?</[\\w\\W]*?>', re.DOTALL)\n",
    "tmp = pattern.sub(r'', tmp)\n",
    "print(tmp)\n",
    "# rub = re.findall(r'<script.*?', tmp)\n",
    "# for r in rub:\n",
    "#     print(r)"
   ]
  },
  {
   "cell_type": "code",
   "execution_count": 64,
   "metadata": {},
   "outputs": [
    {
     "name": "stdout",
     "output_type": "stream",
     "text": [
      "['220.158.236.40:3128', '186.225.106.114:46312', '216.255.170.14:48678', '91.135.242.10:8080', '198.50.172.160:1080', '93.190.139.150:8080', '186.46.184.182:8080', '49.156.43.95:8080', '124.41.211.82:45024', '186.5.117.18:3128', '181.129.133.74:56827', '221.226.94.218:110', '181.129.141.210:41849', '129.205.201.27:46479', '46.229.67.198:47437', '182.253.193.210:32128', '189.89.248.40:3128', '123.206.103.161:1080', '195.211.160.88:44464', '187.163.36.54:35611', '160.19.246.180:56482', '81.1.213.36:8080', '46.101.1.221:80', '197.149.128.25:8080', '185.132.178.137:1080', '46.185.78.25:8080', '86.110.189.118:56710', '167.86.92.144:3128', '83.239.151.138:45494', '190.217.80.252:8080', '198.11.178.14:8080', '192.99.191.235:1080', '118.174.165.229:8080', '187.17.146.25:8080', '206.72.203.42:80', '58.16.7.37:52284', '202.143.121.245:8080', '18.202.26.136:3128', '112.12.91.20:8888', '191.102.82.91:9991', '103.13.231.113:8080', '80.28.243.202:52267', '197.255.152.43:48105', '82.100.4.63:44348', '103.196.233.199:8080', '185.132.178.203:1080', '201.182.97.90:3128', '181.133.180.2:60051', '110.164.58.106:8082', '202.79.25.246:37146', '49.128.181.13:8081', '183.247.152.98:53281', '102.129.72.18:8080', '41.33.22.186:80', '154.72.79.252:57768', '84.47.136.146:8080', '167.249.181.191:3128', '185.132.178.201:1080', '83.168.85.35:8090', '103.243.82.227:33727', '169.239.223.136:44267', '124.206.242.127:3128', '195.46.168.147:8080', '190.144.51.114:8080', '169.255.136.14:45743', '177.93.96.137:8080', '176.212.127.1:37071', '103.134.41.58:8080', '95.158.63.46:44405', '85.21.63.219:53281', '181.176.161.213:61840', '122.248.45.35:53281', '1.179.164.233:43244', '119.15.93.4:8080', '185.132.178.207:1080', '124.41.211.211:45557', '5.133.24.121:8888', '89.151.141.246:33712', '193.68.26.185:44682', '51.158.97.225:3128', '1.197.203.112:9999', '1.198.73.80:9999', '120.29.124.131:8080', '170.247.156.71:8080', '217.182.120.165:1080', '202.21.101.130:45093', '91.211.122.23:39784', '186.211.248.214:44385', '194.44.61.10:44066', '199.195.248.24:8080', '210.4.120.246:8080', '51.15.112.24:8080', '95.79.55.196:53281', '93.190.137.26:8080', '93.190.137.122:8080', '103.87.236.46:41183', '198.50.172.165:1080', '35.199.74.103:80', '41.180.47.42:8080', '202.61.49.52:44317']\n"
     ]
    }
   ],
   "source": [
    "f = open('C://Users/Administrator.SC-201905252025/Desktop/ip.txt', 'r', encoding='utf-8')\n",
    "lines = f.readlines()\n",
    "ip = [line.strip() for line in lines]\n",
    "print(ip)"
   ]
  },
  {
   "cell_type": "code",
   "execution_count": 94,
   "metadata": {},
   "outputs": [
    {
     "name": "stdout",
     "output_type": "stream",
     "text": [
      "社会捐助，政府补助。\n",
      "\n",
      "\n",
      "儿童服务$与当地基金会和基督教会合作，在海地建立教会学校，收容和教育超过2500名孤儿；$医疗救助$向社会筹集善款，招募医疗人才，组织跨国医疗旅行团到海地为儿童义诊；$海地重建计划$重点完成孤儿院、学校和社区建设项目，重建震后海地，力争在2020年前完成目标；\n",
      "\n",
      "\n",
      "2010 年，海地地震后，进行震后救援工作，为海地人民重建家园、修复学校、提供膳食、确保饮水质量等，致力于震后重建；$2012\r\n",
      "年，建立儿童教育学校和孤儿院，为儿童提供全方位的心理和生理教育；提供持续的支持经费，致力于儿童未来发展和潜力发挥；\n",
      "\n",
      "\n"
     ]
    }
   ],
   "source": [
    "from lxml import etree\n",
    "\n",
    "f = 'C://Users/Administrator.SC-201905252025/Desktop/test.html'\n",
    "html = etree.parse(f, etree.HTMLParser())\n",
    "tmp = html.xpath('/html/body/div[4]/div[2]/div')\n",
    "for i in range(2, len(tmp)+1):\n",
    "    k = html.xpath('/html/body/div[4]/div[2]/div['+str(i)+']//text()')\n",
    "#     k = list(filter(None, [l.replace('\\r', '').replace('\\t', '').replace(' ','') for l in k ]))\n",
    "    k = list(filter(None, [l.strip() for l in k]))\n",
    "#     k = [l for l in k if l != '\\n']\n",
    "#     print(k)\n",
    "    m = ''\n",
    "#     if k[0] == '项目信息':\n",
    "#         try:\n",
    "#             for i in range(1, len(k), 2):\n",
    "#                 m += k[i]+':'+k[i+1]+'$'\n",
    "#         except:\n",
    "#             m = '$'.join(k[1:])\n",
    "#     else:\n",
    "#         m = '$'.join(k[1:])\n",
    "    m = '$'.join(k[1:])\n",
    "    print(m)\n",
    "    print('\\n')"
   ]
  },
  {
   "cell_type": "code",
   "execution_count": 50,
   "metadata": {},
   "outputs": [
    {
     "name": "stdout",
     "output_type": "stream",
     "text": [
      "<!DOCTYPE html><html lang=\"zh-cn\"><head></head><body><meta\"utf-8\"/><meta name=\"viewport\"content=\"width=device-width, initial-scale=1\"/><meta name=\"viewport\"content=\"width=device-width, initial-scale=0.88, maximum-scale=1, user-scalable=no\"><title>提取成功 - 小幻HTTP代理</title><meta name=\"keywords\"content=\"ip提取，http代理，国内外代理，免费高匿名代理，免费ip提取网站，ip代理提取，免费ip代理,代理ip,ip代理,ip代理软件\"/><meta name=\"description\"content=\"小幻HTTP代理免费代理ip网实时免费为大家更新最新免费代理ip、http和https代理为主,常年免费提供代理ip、qq代理ip、http匿名代理、国内代理软件等加速服务，为用户提供最优质代理.\"/><link href=\"//apps.bdimg.com/libs/bootstrap/3.2.0/css/bootstrap.min.css\"rel=\"stylesheet\"/><style> body { padding-top:20px; font-family: Microsoft YaHei ! important; opacity:0.85; }.bs-callout{padding:20px;margin:20px 0;border:1px solid #eee;border-left-width:5px;border-radius:3px}.bs-callout h4{margin-top:0;margin-bottom:5px}.bs-callout p:last-child{margin-bottom:0}.bs-callout code{border-radius:3px}.bs-callout+.bs-callout{margin-top:-5px}.bs-callout-danger{border-left-color:#d9534f}.bs-callout-danger h4{color:#d9534f}.bs-callout-warning{border-left-color:#f0ad4e}.bs-callout-warning h4{color:#f0ad4e}.bs-callout-info{border-left-color:#5bc0de}.bs-callout-info h4{color:#5bc0de}.my { width: 25%; float: left; display: block; } </style><script src=\"//cdn.bootcss.com/jquery/2.2.4/jquery.js\"></script><script src=\"//cdn.bootcss.com/bootstrap/3.3.7/js/bootstrap.min.js\"></script><div class=\"col-md-12\"><nav class=\"navbar navbar-default\"><div class=\"container-fluid\"><div class=\"navbar-header\"><button type=\"button\"class=\"navbar-toggle collapsed\"data-toggle=\"collapse\"data-target=\"#bs-example-navbar-collapse-1\"aria-expanded=\"false\"><span class=\"sr-only\">Toggle navigation</span><span class=\"icon-bar\"></span><span class=\"icon-bar\"></span><span class=\"icon-bar\"></span></button><a class=\"navbar-brand\"href=\"/\">小幻HTTP代理</a></div><div class=\"collapse navbar-collapse\"id=\"bs-example-navbar-collapse-1\"><ul class=\"nav navbar-nav\"><li ><a href=\"/\">代理IP列表</a></li><li class=\"active\"><a href=\"/ti.html\">代理IP批量提取</a></li><li ><a href=\"/distribution.html\">代理IP实时分布</a></li><li ><a href=\"/check.html\">代理IP检测</a></li><li ><a href=\"/today.html\">今日代理</a></li></ul><ul class=\"nav navbar-nav navbar-right\"><li><a href=\"./Proxies.7z\">花刺下载</a></li></ul></div></div></nav><div class=\"alert alert-warning\"id=\"AD\"><a href=\"http://www.qydaili.com/\">旗云代理高效私密代理IP!每天上百万IP流水实时更新支持API方便实用。欢迎大家前来使用!!【点此立即获取】</a></div><div class=\"alert alert-danger\">免费提供代理IP，但请不要疯狂抓取，谢谢合作！</div><div class=\"alert alert-danger\">扫描服务器位于上海，访问国内国外网站检测，仅代表代理于当时当地可用，访问速度为国内服务器连接代理访问国内网站测试</div></div><meta http-equiv=\"refresh\"content=\"0; url=https://ip.ihuan.me/ti.html\"/>\n",
      "<!-- Power By 小幻专属优化代码，生成日期：2019-08-22 14:07:16 -->\n",
      "[]\n",
      "0\n"
     ]
    }
   ],
   "source": [
    "header = {'User-Agent': 'Mozilla/5.0 (Windows NT 10.0; WOW64) AppleWebKit/537.36 (KHTML, like Gecko) Chrome/65.0.0.1594 Safari/537.36',\n",
    "'Origin': 'https://ip.ihuan.me',\n",
    "'Referer': 'https://ip.ihuan.me/ti.html',\n",
    "'cookie': '__cfduid=d476b9665f490fdd3046f20ab1df23af71566353770; statistics=10fa2c6ef688a885b798647af59c5d8d'\n",
    "}\n",
    "\n",
    "FormData = {'num':'100',\n",
    "# 'type':'0',\n",
    "'post':'1',\n",
    "'sort':'1',\n",
    "'key':'7126ddcd792743fb62b07df899279d13'\n",
    "}\n",
    "\n",
    "import requests\n",
    "from lxml import etree\n",
    "import random\n",
    "\n",
    "# proxies = {'http': 'http://' + proxy, 'https': 'https://' + proxy}\n",
    "# r = requests.post('https://ip.ihuan.me/tqdl.html', headers = header, data=FormData, proxies=proxies)\n",
    "\n",
    "r = requests.post('https://ip.ihuan.me/tqdl.html', headers = header, data=FormData)\n",
    "print(r.text)\n",
    "tmp = etree.HTML(r.text)\n",
    "li = html.xpath('/html/body/div[2]//text()')\n",
    "li = li[1:]\n",
    "print(li)\n",
    "print(len(li))"
   ]
  },
  {
   "cell_type": "code",
   "execution_count": 87,
   "metadata": {},
   "outputs": [
    {
     "name": "stdout",
     "output_type": "stream",
     "text": [
      "['\\n123']\n"
     ]
    }
   ],
   "source": [
    "li = ['\\n123', '\\n']\n",
    "li.remove('\\n')\n",
    "print(li)"
   ]
  },
  {
   "cell_type": "code",
   "execution_count": null,
   "metadata": {},
   "outputs": [],
   "source": []
  }
 ],
 "metadata": {
  "kernelspec": {
   "display_name": "Python 3",
   "language": "python",
   "name": "python3"
  },
  "language_info": {
   "codemirror_mode": {
    "name": "ipython",
    "version": 3
   },
   "file_extension": ".py",
   "mimetype": "text/x-python",
   "name": "python",
   "nbconvert_exporter": "python",
   "pygments_lexer": "ipython3",
   "version": "3.5.4"
  },
  "toc": {
   "base_numbering": 1,
   "nav_menu": {},
   "number_sections": true,
   "sideBar": true,
   "skip_h1_title": false,
   "title_cell": "Table of Contents",
   "title_sidebar": "Contents",
   "toc_cell": false,
   "toc_position": {},
   "toc_section_display": true,
   "toc_window_display": false
  }
 },
 "nbformat": 4,
 "nbformat_minor": 2
}
