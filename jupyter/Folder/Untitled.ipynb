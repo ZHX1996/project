{
 "cells": [
  {
   "cell_type": "code",
   "execution_count": 47,
   "metadata": {},
   "outputs": [],
   "source": [
    "# coding:utf-8\n",
    "import pandas as pd\n",
    "import numpy as np\n",
    "from sklearn.ensemble import RandomForestRegressor\n",
    "from sklearn.metrics import mean_squared_error as mse\n",
    "from sklearn.grid_search import GridSearchCV\n",
    "\n",
    "filesname = 'C:\\\\Users\\\\Administrator\\\\Desktop\\\\zhengqi_train.txt'\n",
    "newFile = 'C:\\\\Users\\\\Administrator\\\\Desktop\\\\zhengqi_test.txt'\n",
    "files = pd.read_table(filesname)\n",
    "newData = pd.read_table(newFile)\n",
    "# print(files.shape, files.columns)\n",
    "trainData = files.iloc[:2001, 0:38]\n",
    "testData = files.iloc[2001:, 0:38]\n",
    "trainTarget = files.iloc[:2001, 38]\n",
    "testTarget = files.iloc[2001:, 38]\n",
    "\n",
    "allData = files.iloc[:, 0:38]\n",
    "allTarget = files.iloc[:, 38]\n",
    "\n",
    "# grid = GridSearchCV(estimator=RandomForestRegressor(criterion='mse', random_state=4), param_grid = {'n_estimators':list(range(8,30))})\n",
    "# grid.fit(trainData, trainTarget)\n",
    "# print(grid.best_params_)\n",
    "\n",
    "# RFR = RandomForestRegressor(criterion='mse', random_state=4, n_estimators=28)\n",
    "# RFR.fit(trainData, trainTarget)\n",
    "# print('R^2:', RFR.score(trainData, trainTarget))\n",
    "# predict = RFR.predict(testData)\n",
    "# err = mse(testTarget, predict)\n",
    "# print(err)\n",
    "\n",
    "RFR = RandomForestRegressor(criterion='mse', random_state=4, n_estimators=28)\n",
    "RFR.fit(allData, allTarget)\n",
    "predict = RFR.predict(newData)\n",
    "np.savetxt(\"C:\\\\Users\\\\Administrator\\\\Desktop\\\\predict.txt\", predict, fmt='%.3f')"
   ]
  },
  {
   "cell_type": "code",
   "execution_count": null,
   "metadata": {},
   "outputs": [],
   "source": []
  }
 ],
 "metadata": {
  "kernelspec": {
   "display_name": "Python 3",
   "language": "python",
   "name": "python3"
  },
  "language_info": {
   "codemirror_mode": {
    "name": "ipython",
    "version": 3
   },
   "file_extension": ".py",
   "mimetype": "text/x-python",
   "name": "python",
   "nbconvert_exporter": "python",
   "pygments_lexer": "ipython3",
   "version": "3.5.2"
  }
 },
 "nbformat": 4,
 "nbformat_minor": 2
}
