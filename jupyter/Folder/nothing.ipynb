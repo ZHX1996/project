{
 "cells": [
  {
   "cell_type": "code",
   "execution_count": 23,
   "metadata": {},
   "outputs": [
    {
     "name": "stdout",
     "output_type": "stream",
     "text": [
      "1\n"
     ]
    }
   ],
   "source": [
    "import csv\n",
    "\n",
    "group = []\n",
    "qq = []\n",
    "\n",
    "with open('C://Users/Administrator/Desktop/zdr.csv') as f:\n",
    "    f_rd = csv.reader(f)\n",
    "    for row in f_rd:\n",
    "        group.append(row[1])\n",
    "        qq.append(row[0])\n",
    "group = list(set(group))\n",
    "qq = list(set(qq))\n",
    "\n",
    "tmp = []\n",
    "with open('C://Users/Administrator/Desktop/qun_qq1.csv') as f:\n",
    "    f_rd = csv.reader(f)\n",
    "    for row in f_rd:\n",
    "        if row[1] in qq:\n",
    "            tmp.append((row[1], row[0]))\n",
    "\n",
    "tmp = list(set(tmp))\n",
    "with open('C://Users/Administrator/Desktop/qqtogroup.csv', 'w', newline='') as f:\n",
    "    f_wt = csv.writer(f)\n",
    "    f_wt.writerows(tmp)\n",
    "print(1)"
   ]
  },
  {
   "cell_type": "code",
   "execution_count": 1,
   "metadata": {},
   "outputs": [
    {
     "name": "stdout",
     "output_type": "stream",
     "text": [
      "1563724800.0\n",
      "<class 'str'>\n",
      "2019-06-19 00:00:00\n",
      "<class 'datetime.datetime'>\n",
      "2019-06-19 00:00:00\n"
     ]
    }
   ],
   "source": [
    "import time,datetime\n",
    "\n",
    "timeDataStr = \"2019-07-22 00:00:00\"\n",
    "time1 = datetime.datetime.strptime(timeDataStr,\"%Y-%m-%d %H:%M:%S\")\n",
    "secondsFrom1970 = time.mktime(time1.timetuple())\n",
    "print(secondsFrom1970)\n",
    "\n",
    "timeArray = time.localtime(1560873600)\n",
    "otherStyleTime = time.strftime(\"%Y-%m-%d %H:%M:%S\", timeArray)\n",
    "print(type(otherStyleTime))\n",
    "print(otherStyleTime)\n",
    "datetime1 = datetime.datetime.strptime(otherStyleTime, \"%Y-%m-%d %H:%M:%S\")\n",
    "print(type(datetime1))\n",
    "print(datetime1)"
   ]
  },
  {
   "cell_type": "code",
   "execution_count": 1,
   "metadata": {},
   "outputs": [
    {
     "name": "stdout",
     "output_type": "stream",
     "text": [
      "1\n"
     ]
    }
   ],
   "source": [
    "#utf-8\n",
    "import csv\n",
    "import openpyxl\n",
    "import re\n",
    "import time\n",
    "import pandas as pd\n",
    "import xlsxwriter\n",
    "\n",
    "file = pd.read_csvfile = pd.read_csv('C://Users/Administrator/Desktop/netizen.csv', sep='\\001', header=None, \n",
    "                    names=[\"account\", \"attribute_type\", \"attribute_value\", \"remark_name\",  \"last_time\"])\n",
    "df = pd.DataFrame(file)\n",
    "\n",
    "writer = pd.ExcelWriter(\"C://Users/Administrator/Desktop/netizen.xlsx\", engine='xlsxwriter')\n",
    "df.to_excel(writer, 'Sheet1')\n",
    "writer.save()\n",
    "print(1)"
   ]
  },
  {
   "cell_type": "code",
   "execution_count": 8,
   "metadata": {
    "scrolled": true
   },
   "outputs": [
    {
     "name": "stdout",
     "output_type": "stream",
     "text": [
      "1\n"
     ]
    }
   ],
   "source": [
    "#utf-8\n",
    "import csv\n",
    "import openpyxl\n",
    "import re\n",
    "import time\n",
    "import pandas as pd\n",
    "import xlsxwriter\n",
    "\n",
    "keys = [\"业主\",\"车主\",\"车辆\",\"储户\",\"信用卡\",\"社工\",\"股民\",\"名单\",\"数据\",\"名录\",\"目录\",\"资料\",\"航班\",\"高铁\",\"支付宝\",\"买家\",\"卖家\",\"银行卡\",\"短信\",\"通讯录\",\"联系人\",\"IMSI\",\"IMEI\",\"个人信息\",\"车档\",\"身份证\",\"户籍\",\"机主\",\"基站\"]\n",
    "\n",
    "keys1 = [\"四大件\",\"洗料\"]\n",
    "\n",
    "reverseKey = ['陌陌','手机屏幕','美国','日本','欧洲','企业支付宝','朋友圈','开户许可证','出门','永久黑','南非','耐抗','出售全新银行卡','辅助解封','验证码','校验码','注册','额度','短信通道','106','自己','资金周转',\n",
    "             '资金提现','福利','待遇','招聘','包吃住','体检报告','个人照片','复印件','片名','完成目录查找','游戏','卡.盟','企业系统','带圈','数据线','额度','服务器','绑卡',\n",
    "             '辅助','按揭','解封','花呗']\n",
    "\n",
    "reverseKey = reverseKey + ['106短信','代取','兼职','招聘','征信','买家','卖家','硬改','耐操','快捷免密','除了','点击','短信通道','布料','纯白','机器人','除非','群发']\n",
    "\n",
    "            \n",
    "file = pd.read_csvfile = pd.read_csv('C://Users/Administrator/Desktop/attach.csv', sep='\\001', header=None, \n",
    "                    names=[\"authid\", \"apptype\", \"fromid\", \"toid\", \"filename\", \"capturetime\", \"CERTIFICATENO_num\", \"name_num\", \"mobilephone_num\", \"bankaccount_num\"])\n",
    "df = pd.DataFrame(file)\n",
    "\n",
    "writer = pd.ExcelWriter(\"C://Users/Administrator/Desktop/attach.xlsx\", engine='xlsxwriter')\n",
    "df.to_excel(writer, 'Sheet1')\n",
    "writer.save()\n",
    "print(1)"
   ]
  },
  {
   "cell_type": "code",
   "execution_count": 56,
   "metadata": {
    "scrolled": true
   },
   "outputs": [
    {
     "name": "stdout",
     "output_type": "stream",
     "text": [
      "Index(['authaccount', 'clue_id', 'share_file', 'capture_time', 'hash',\n",
      "       'action'],\n",
      "      dtype='object')\n",
      "Index(['authaccount', 'clue_id', 'share_file', 'capture_time', 'action'], dtype='object')\n",
      "1\n"
     ]
    }
   ],
   "source": [
    "#utf-8\n",
    "import csv\n",
    "import openpyxl\n",
    "import re\n",
    "import time\n",
    "import pandas as pd\n",
    "\n",
    "keys = [\"业主\",\"车主\",\"车辆\",\"储户\",\"信用卡\",\"社工\",\"股民\",\"名单\",\"数据\",\"名录\",\"目录\",\"资料\",\"航班\",\"高铁\",\"支付宝\",\"买家\",\"卖家\",\"银行卡\",\"短信\",\"通讯录\",\"联系人\",\"IMSI\",\"IMEI\",\"个人信息\",\"车档\",\"身份证\",\"户籍\",\"机主\",\"基站\"]\n",
    "\n",
    "keys1 = [\"四大件\",\"洗料\"]\n",
    "\n",
    "            \n",
    "file = pd.read_csv('C://Users/Administrator/Desktop/webshare_v1.csv', sep='\\001', header=None, names=['authaccount','clue_id','share_file','capture_time','hash','action'])\n",
    "df = pd.DataFrame(file)\n",
    "\n",
    "def gdkey(x):\n",
    "    tmp = 0\n",
    "    for i in keys:\n",
    "        if i in x:\n",
    "            tmp += 1\n",
    "    for i in keys1:\n",
    "        if i in x:\n",
    "            tmp += 2\n",
    "    return tmp\n",
    "print(df.columns)\n",
    "df_1 = df.drop(['hash'], axis=1)\n",
    "print(df_1.columns)\n",
    "\n",
    "df_1['gdkey'] = df_1['share_file'].apply(gdkey)\n",
    "df_2 = df_1.loc[df_1.gdkey>1,]\n",
    "\n",
    "\n",
    "writer = pd.ExcelWriter(\"C://Users/Administrator/Desktop/webshare.xlsx\")\n",
    "df_2.to_excel(writer, 'Sheet1')\n",
    "writer.save()\n",
    "print(1)"
   ]
  },
  {
   "cell_type": "code",
   "execution_count": 62,
   "metadata": {},
   "outputs": [
    {
     "name": "stdout",
     "output_type": "stream",
     "text": [
      "1\n"
     ]
    }
   ],
   "source": [
    "#utf-8\n",
    "import csv\n",
    "import openpyxl\n",
    "import re\n",
    "import time\n",
    "import pandas as pd\n",
    "\n",
    "# reverseKey = ['随手拍生活','资料目录','考研','启星资料','自己公司资料','价值百万资料','工作资料','学习资料','培训','公考','廉租房','360云盘','乐优商城','移通学院',\n",
    "#              '单位资料','java','互联网行业资料','工作交接','工作2016','工作文档','考察资料','美甲资料','云同步盘','黄泽华','建筑资料','交接资料','开发相关','看书资料',\n",
    "#              '其它资料','专业资料','链家','马士兵','专业资料','平安银行','工厂文档','三峡']\n",
    "            \n",
    "# reverseKey = ['坐高铁','买家秀','卖家秀','手册','个人资料','360','学员资料','学习','电子','教程']\n",
    "reverseKey = ['资讯新闻','重磅喜讯','中国高铁','制造','设置','查看','支付宝','这','早上','在路口','高铁','港珠澳大桥','好消息','狗','工作人员','大象','车辆',\n",
    "             '车管所','奔驰','短信通知','短信提醒','奥迪','用户目录','资料存储','微云','谢香龙','我的资源','我的电脑','室内分布','同行资料','备份','平安','求职']\n",
    "    \n",
    "file = pd.read_excel('C://Users/Administrator/Desktop/webshare1.xlsx',sheet_name='Sheet1', names=['authaccount','clue_id','share_file','capture_time','action'])\n",
    "df = pd.DataFrame(file)\n",
    "\n",
    "def delnan(x):\n",
    "    if x == '\\\\N':\n",
    "        return 1\n",
    "    return 0\n",
    "\n",
    "def switchtime(x):\n",
    "    timeArray = time.localtime(int(x))\n",
    "    return time.strftime(\"%Y-%m-%d %H:%M:%S\", timeArray)\n",
    "\n",
    "def anti_class(x):\n",
    "    for i in reverseKey:\n",
    "        if i in x:\n",
    "            return 1\n",
    "    return 0\n",
    "\n",
    "# df['delnan'] = df['authaccount'].apply(delnan)\n",
    "# df = df.loc[df.delnan<1,]\n",
    "# df['time'] = df['capture_time'].apply(switchtime)\n",
    "\n",
    "df['anti_class'] = df['share_file'].apply(anti_class)\n",
    "df = df.loc[df.anti_class<1,]\n",
    "\n",
    "\n",
    "writer = pd.ExcelWriter(\"C://Users/Administrator/Desktop/webshare2.xlsx\")\n",
    "df.to_excel(writer, 'Sheet1')\n",
    "writer.save()\n",
    "print(1)"
   ]
  },
  {
   "cell_type": "code",
   "execution_count": 44,
   "metadata": {},
   "outputs": [
    {
     "name": "stdout",
     "output_type": "stream",
     "text": [
      "   num voc  次数\n",
      "0    1   a   2\n",
      "1    3   c   1\n",
      "   num voc amin amax\n",
      "0    1   a    1    2\n",
      "1    3   c    3    3\n",
      "   num voc  次数 amin amax\n",
      "0    1   a   2    1    2\n",
      "1    3   c   1    3    3\n"
     ]
    }
   ],
   "source": [
    "import pandas as pd\n",
    "import numpy as np\n",
    "\n",
    "DF = pd.DataFrame({'num':[1,1,3], 'voc':['a','a','c'], 'time':['1','2','3']})\n",
    "# print(DF.values)\n",
    "# for i in range(len(DF)):\n",
    "#     print(i)\n",
    "#     DF.drop([i],inplace=True)\n",
    "#     print(len(DF))\n",
    "\n",
    "# DF.loc[0,'num'] = '123'\n",
    "# print(DF.loc[0, 'num'])\n",
    "\n",
    "# k = DF['num'].value_counts()\n",
    "# print(k)\n",
    "\n",
    "df = DF.groupby(['num','voc']).size().reset_index(name='次数')\n",
    "print(df)\n",
    "df1 = DF.groupby(['num','voc'])['time'].agg([np.min, np.max]).reset_index()\n",
    "print(df1)\n",
    "df2 = pd.merge(df,df1,how='inner')\n",
    "print(df2)"
   ]
  },
  {
   "cell_type": "code",
   "execution_count": 48,
   "metadata": {},
   "outputs": [
    {
     "name": "stdout",
     "output_type": "stream",
     "text": [
      "1\n"
     ]
    }
   ],
   "source": [
    "#utf-8\n",
    "import csv\n",
    "import openpyxl\n",
    "import re\n",
    "import time\n",
    "import pandas as pd\n",
    "\n",
    "keys = [\"业主\",\"车主\",\"车辆\",\"储户\",\"信用卡\",\"社工\",\"股民\",\"名单\",\"数据\",\"名录\",\"目录\",\"资料\",\"航班\",\"高铁\",\"支付宝\",\"买家\",\"卖家\",\"银行卡\",\"短信\",\"通讯录\",\"联系人\",\"IMSI\",\"IMEI\",\"个人信息\",\"车档\",\"身份证\",\"户籍\",\"机主\",\"基站\"]\n",
    "\n",
    "keys1 = [\"四大件\",\"洗料\"]\n",
    "\n",
    "reverseKey = ['陌陌','手机屏幕','美国','日本','欧洲','企业支付宝','朋友圈','开户许可证','出门','永久黑','南非','耐抗','出售全新银行卡','辅助解封','验证码','校验码','注册','额度','短信通道','106','自己','资金周转',\n",
    "             '资金提现','福利','待遇','招聘','包吃住','体检报告','个人照片','复印件','片名','完成目录查找','游戏','卡.盟','企业系统','带圈','数据线','额度','服务器','绑卡',\n",
    "             '辅助','按揭','解封','花呗']\n",
    "\n",
    "reverseKey = reverseKey + ['106短信','代取','兼职','招聘','征信','买家','卖家','硬改','耐操','快捷免密','除了','点击','短信通道','布料','纯白','除非','群发']\n",
    "\n",
    "            \n",
    "file = pd.read_excel('C://Users/Administrator/Desktop/groupchat2.xlsx',sheet_name='Sheet1', names=['apptype','appid','groupid','content','realtime'])\n",
    "df = pd.DataFrame(file)\n",
    "\n",
    "def anti_class(x):\n",
    "    for i in reverseKey:\n",
    "        if i in x:\n",
    "            return 1\n",
    "    return 0\n",
    "\n",
    "df['anti_class'] = df['content'].apply(anti_class)\n",
    "df = df.loc[df.anti_class<1,]\n",
    "\n",
    "df1 = df.groupby(['apptype','appid','groupid', 'content']).size().reset_index(name='次数')\n",
    "df2 = df.groupby(['apptype','appid','groupid','content'])['realtime'].agg([np.min, np.max]).reset_index()\n",
    "df3 = pd.merge(df1,df2,how='inner')\n",
    "\n",
    "\n",
    "# li = []\n",
    "# for i in range(len(df)):\n",
    "#     for tmp in reverseKey:\n",
    "#         if tmp in df['content'].iloc[i]:\n",
    "#             li.append(i)\n",
    "# df.drop(li,inplace=True,errors='ignore')  \n",
    "\n",
    "writer = pd.ExcelWriter(\"C://Users/Administrator/Desktop/groupchat12.xlsx\")\n",
    "df3.to_excel(writer, 'Sheet1')\n",
    "writer.save()\n",
    "print(1)"
   ]
  },
  {
   "cell_type": "code",
   "execution_count": 3,
   "metadata": {},
   "outputs": [
    {
     "name": "stdout",
     "output_type": "stream",
     "text": [
      "1\n"
     ]
    }
   ],
   "source": [
    "#utf-8\n",
    "import csv\n",
    "import openpyxl\n",
    "import re\n",
    "import time\n",
    "import pandas as pd\n",
    "\n",
    "keys = [\"业主\",\"车主\",\"车辆\",\"储户\",\"信用卡\",\"社工\",\"股民\",\"名单\",\"数据\",\"名录\",\"目录\",\"资料\",\"航班\",\"高铁\",\"支付宝\",\"买家\",\"卖家\",\"银行卡\",\"短信\",\"通讯录\",\"联系人\",\"IMSI\",\"IMEI\",\"个人信息\",\"车档\",\"身份证\",\"户籍\",\"机主\",\"基站\"]\n",
    "\n",
    "keys1 = [\"四大件\",\"洗料\"]\n",
    "\n",
    "reverseKey = ['智慧短信','翰博','急','ceshi','名山街道','标题更新','此份为准','区域短信发展','割接通知','签字','短信心跳','公司','重庆农商','行业短信投诉','关于','总机服务',\n",
    "             '工资短信','会议室','升级','项目','报备','部门','模板','公众号','签名','系统网络','短信专线','同事','供应商','回复','建设银行','转发']\n",
    "            \n",
    "file = pd.read_csv('C://Users/Administrator/Desktop/hobbyhorse.csv', sep='\\001', header=None, names=['发送者','接收者','content','认证账号','数据源','行为','用户名','密码','时间'])\n",
    "df = pd.DataFrame(file)\n",
    "\n",
    "def delnan(x):\n",
    "    if x == '\\\\N':\n",
    "        return 1\n",
    "    return 0\n",
    "\n",
    "def switchtime(x):\n",
    "    timeArray = time.localtime(int(x))\n",
    "    return time.strftime(\"%Y-%m-%d %H:%M:%S\", timeArray)\n",
    "\n",
    "def anti_class(x):\n",
    "    for i in reverseKey:\n",
    "        if i in x:\n",
    "            return 1\n",
    "    return 0\n",
    "\n",
    "df['time'] = df['时间'].apply(switchtime)\n",
    "# df['anti_class'] = df['content'].apply(anti_class)\n",
    "# df = df.loc[df.anti_class<1,]\n",
    "\n",
    "# df1 = df.groupby(['apptype','appid','groupid', 'content']).size().reset_index(name='次数')\n",
    "# df2 = df.groupby(['apptype','appid','groupid','content'])['realtime'].agg([np.min, np.max]).reset_index()\n",
    "# df3 = pd.merge(df1,df2,how='inner')\n",
    "\n",
    "writer = pd.ExcelWriter(\"C://Users/Administrator/Desktop/hobbyhorse.xlsx\")\n",
    "df.to_excel(writer, 'Sheet1')\n",
    "writer.save()\n",
    "print(1)"
   ]
  },
  {
   "cell_type": "code",
   "execution_count": 15,
   "metadata": {},
   "outputs": [
    {
     "name": "stdout",
     "output_type": "stream",
     "text": [
      "1\n"
     ]
    }
   ],
   "source": [
    "#utf-8\n",
    "import csv\n",
    "import openpyxl\n",
    "import re\n",
    "import time\n",
    "import pandas as pd\n",
    "            \n",
    "file = pd.read_excel('C://Users/Administrator/Desktop/邮件附件.xls',sheet_name='sheet1', names=['认证账号','协议类型','发送账号','接收账号','文件名',\n",
    "                                                                '时间','身份证数','姓名数','手机数','银行卡数'])\n",
    "df = pd.DataFrame(file)\n",
    "\n",
    "def anti_class(x):\n",
    "    # chr   ord\n",
    "    k = x.split(chr(25))\n",
    "    return \";\".join(k)\n",
    "\n",
    "df['send'] = df['发送账号'].apply(anti_class)\n",
    "df['receive'] = df['接收账号'].apply(anti_class)\n",
    "\n",
    "writer = pd.ExcelWriter(\"C://Users/Administrator/Desktop/邮件附件2.xlsx\")\n",
    "df.to_excel(writer, 'Sheet1')\n",
    "writer.save()\n",
    "print(1)"
   ]
  },
  {
   "cell_type": "code",
   "execution_count": 1,
   "metadata": {},
   "outputs": [
    {
     "name": "stdout",
     "output_type": "stream",
     "text": [
      "1\n"
     ]
    }
   ],
   "source": [
    "#utf-8\n",
    "import csv\n",
    "import openpyxl\n",
    "import re\n",
    "import time\n",
    "import pandas as pd\n",
    "\n",
    "keys = [\"业主\",\"车主\",\"车辆\",\"储户\",\"信用卡\",\"社工\",\"股民\",\"名单\",\"数据\",\"名录\",\"目录\",\"资料\",\"航班\",\"高铁\",\"支付宝\",\"买家\",\"卖家\",\"银行卡\",\"短信\",\"通讯录\",\"联系人\",\"IMSI\",\"IMEI\",\"个人信息\",\"车档\",\"身份证\",\"户籍\",\"机主\",\"基站\"]\n",
    "\n",
    "keys1 = [\"四大件\",\"洗料\"]\n",
    "\n",
    "# reverseKey = ['智慧短信','翰博','急','ceshi','名山街道','标题更新','此份为准','区域短信发展','割接通知','签字','短信心跳','公司','重庆农商','行业短信投诉','关于','总机服务',\n",
    "#              '工资短信','会议室','升级','项目','报备','部门','模板','公众号','签名','系统网络','短信专线','同事','供应商','回复','建设银行','转发']\n",
    "\n",
    "# reverseKey = [\"学术\",'做任务','座位','座椅','作业','昨天','昨日','尊敬',\n",
    "#               '重庆渝北','农村商业','招商银行','无界数据','申请售后','光大银行',\n",
    "#               '申报资料','课程资料','研讨会','下单','演讲','报关','英业达','退运','账单']\n",
    "\n",
    "# reverseKey = ['进口','工资','核查使用量','出国','缺料','情况表','转关','移动','周报','出口','订车','派车','节目','焊接','达伟','答复','滚动','发货','收货',\n",
    "#              '管理办法','连中','对照表','补贴','仓库','参考','专项','分货','分布式','开票','导出','学院']\n",
    "\n",
    "# reverseKey = ['谭总','参会','检查结果','入职','福利','标准版','应聘','大数据','广告','更新','教务处','老师','培训','重要','远见','边花边赚','春招','抵用券',\n",
    "#              'JIRA','M','N','提醒','启信宝','民生','清关','请','任务类','市场营销','日历','日报','世茂','精品','市场营销','出货','分送','会议','出发','数据库',\n",
    "#              '课程','温馨','采购','流量']\n",
    "\n",
    "# reverseKey = ['最终','最后','组织','综','伴侣','自驾','资产与后勤','转换卡','转寄','评审','注塑部','主单号','捡视','周会','医工院','西站',\n",
    "#              '提交盒马','石桥广场','大学','润一','渝北中转','进度','联通','莱宝','员工子女','电信','中征','中银','中音','中信','学习',\n",
    "#              '事宜','支局','红包','兆益','招聘','招行信用卡','调阅','渣打','考试','高铁','工程','您','报告','格式','教程','悠悠鸟','要求','中学',\n",
    "#              '因此','异常','药友','学苑','学习','需准备','还款','充值','快线','保险','西南地产','通知','电子账单','税务']\n",
    "\n",
    "# reverseKey = ['长安','张','站点','早会','在职','在途','云南','月报','月度','员工','誉声','预','玉山','雨露','营业','引入','已读','医院','医药','一体化',\n",
    "#              '研','告警','集并','图书','旭','兴业','新增','新建','西南','西六区','西二区','物流','物联网','物料','武','午后','五四','五金','五六','无线基站',\n",
    "#              '巫','沃','送达','上传','纬创','维修','网易','为什么','网管','网大','投标','体系','体检','提交','提货','随机','随货','随车','苏州','送货',\n",
    "#              '司机','双清','兴业','试乘','食堂','石油','生产','深圳','社区','社保','上周','设变','设备','上海','数据分析','山西','陕西','遗失','损坏','全区',\n",
    "#              '趣味','长城','培美曲塞','女足','牛人必备','你的','值班','利耀','考勤','警告','金蛇','截止','捷星达','机械','机载','机关','机场','机构','火星',\n",
    "#              '华贸','恒生','合肥','寒假','根据','各位','填写','该车辆','天翼','模板','飞力达','房屋','法科达拉','召回','教代会','第一届','德阳','德效','代码',\n",
    "#              '大唐无双','大昶','大额度','春节','春蕾','初步的','教务','车辆信息','车辆核放','车辆行驶','车辆出勤','油耗','超值套餐','补发','数据运营','报表']\n",
    "\n",
    "reverseKey = [\"已检\",'产出','营运',\"英菲尼迪\",'印尼','导入',\"乡镇\",\"统计表\",'路透','度量','调拨','委托','微轿','网票','万州','外卖','外包','推送','退货','如何',\n",
    "             '如果','人员','冉','规划','购收车','申领','南极光','南岸','美国','免费','泸州','龙泉','六盘水','运营','接待','联想','开站','党员','今日','捷库',\n",
    "             '交通银行','交行','江津','集团','领导','核实','基建','汇报','回复','恢复','报销','华为','华夏','河北','数据线','合同','过控','广汽','广发','广博',\n",
    "             '未来','割接','高速','镜像','扩过','董事会','党','代表团','大暑','春','城二','城保','晨会','西永','汽油','租赁','安排','产险','产品','标书','先进',\n",
    "             '驱动','备案','北京','签约','调拨','电机','代理商']\n",
    "            \n",
    "# file = pd.read_csv('C://Users/Administrator/Desktop/mailtrans.csv', sep='\\001', header=None, names=['发送者','接收者','content','认证账号','数据源','行为','用户名','密码','时间'])\n",
    "file = pd.read_excel('C://Users/Administrator/Desktop/mailtrans6.xlsx', names=['发送者','接收者',\n",
    "                                                                               'content','认证账号','数据源',\n",
    "                                                                               '行为','用户名','密码','time','anti_class'])\n",
    "df = pd.DataFrame(file)\n",
    "\n",
    "def delnan(x):\n",
    "    if x == '\\\\N':\n",
    "        return 1\n",
    "    return 0\n",
    "\n",
    "def switchtime(x):\n",
    "    try:\n",
    "        timeArray = time.localtime(int(x))\n",
    "        return time.strftime(\"%Y-%m-%d %H:%M:%S\", timeArray)\n",
    "    except:\n",
    "        return 0\n",
    "\n",
    "def anti_class(x):\n",
    "    for i in reverseKey:\n",
    "        if i in x:\n",
    "            return 1\n",
    "    return 0\n",
    "\n",
    "def del_fivemonth(x):\n",
    "    if x < 1559318400:\n",
    "        return 0\n",
    "    return 1\n",
    "\n",
    "# df.dropna(axis=0, subset=['时间'], inplace=True)\n",
    "df['anti_class'] = df['content'].apply(anti_class)\n",
    "df = df.loc[df.anti_class<1,]\n",
    "# df['time'] = df['时间'].apply(switchtime)\n",
    "# df = df.loc[df.time!=0,]\n",
    "\n",
    "\n",
    "# df1 = df.groupby(['apptype','appid','groupid', 'content']).size().reset_index(name='次数')\n",
    "# df2 = df.groupby(['apptype','appid','groupid','content'])['realtime'].agg([np.min, np.max]).reset_index()\n",
    "# df3 = pd.merge(df1,df2,how='inner')\n",
    "\n",
    "writer = pd.ExcelWriter(\"C://Users/Administrator/Desktop/mailtrans7.xlsx\")\n",
    "df.to_excel(writer, 'Sheet1')\n",
    "writer.save()\n",
    "print(1)"
   ]
  }
 ],
 "metadata": {
  "kernelspec": {
   "display_name": "Python 3",
   "language": "python",
   "name": "python3"
  },
  "language_info": {
   "codemirror_mode": {
    "name": "ipython",
    "version": 3
   },
   "file_extension": ".py",
   "mimetype": "text/x-python",
   "name": "python",
   "nbconvert_exporter": "python",
   "pygments_lexer": "ipython3",
   "version": "3.5.2"
  },
  "toc": {
   "base_numbering": 1,
   "nav_menu": {},
   "number_sections": true,
   "sideBar": true,
   "skip_h1_title": false,
   "title_cell": "Table of Contents",
   "title_sidebar": "Contents",
   "toc_cell": false,
   "toc_position": {},
   "toc_section_display": true,
   "toc_window_display": false
  }
 },
 "nbformat": 4,
 "nbformat_minor": 2
}
