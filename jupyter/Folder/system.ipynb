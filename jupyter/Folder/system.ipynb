{
 "cells": [
  {
   "cell_type": "code",
   "execution_count": 28,
   "metadata": {},
   "outputs": [
    {
     "name": "stdout",
     "output_type": "stream",
     "text": [
      "[13, 14, 16, 15, 16, 15, 15, 13, 13, 16, 15, 15, 16, 15]\n",
      "[12.7, 13.2, 15.5, 15.5, 16.4, 15.6, 14.5, 12.3, 13.8, 15.9, 15.6, 14.4, 16.3, 14.5]\n",
      "[12.4, 13.9, 17.4, 16.5, 14.3, 14.9, 13.7, 11.3, 12.0, 15.5, 13.2, 15.4, 16.7, 14.6]\n",
      "[100, 100, 96, 96, 97, 96, 94, 97, 94, 94, 93, 92, 94, 94]\n"
     ]
    }
   ],
   "source": [
    "import numpy as np\n",
    "import time\n",
    "import random\n",
    "\n",
    "def add_noise(old, grain):\n",
    "    np.random.seed(grain)\n",
    "    noise = np.random.randn(1)\n",
    "    return old+float(noise)\n",
    "\n",
    "\n",
    "def calculateRadian(li):\n",
    "    newLi = []\n",
    "    for i in range(1, len(li)):\n",
    "        newLi.append(li[i] - li[i - 1])\n",
    "    return np.arctan(newLi)\n",
    "\n",
    "\n",
    "def faultDetection(data, state):\n",
    "    for i in range(len(data)):\n",
    "        if abs(data[i][-1] - np.mean(data[i][:-1], axis=0))/np.std(data[i][:-1]) <= 1.672:\n",
    "            pass\n",
    "        else:\n",
    "            state[i] = \"可能异常\"\n",
    "            all_node = 0\n",
    "            same_node = 0\n",
    "            xRad = calculateRadian(data[i])\n",
    "            for j in range(len(data)):\n",
    "                if state[j] != \"异常\" and j != i:\n",
    "                    all_node += 1\n",
    "                    yRad = calculateRadian(data[j])\n",
    "                    if sum(np.multiply(\n",
    "                        abs(np.subtract(data[i][:-1], data[j][:-1])), \n",
    "                        abs(np.subtract(xRad, yRad))))/(6 * np.pi) < 0.45:\n",
    "                        same_node += 1\n",
    "            if same_node >= all_node // 2:\n",
    "                state[i] = \"正常\"\n",
    "            else:\n",
    "                state[i] = \"异常\"\n",
    "                \n",
    "    \n",
    "def kalman(z):\n",
    "    n_iter = 6\n",
    "    sz  = (n_iter,)\n",
    "    Q = 1.2e-5\n",
    "    xhat = np.zeros(sz)\n",
    "    P = np.zeros(sz)\n",
    "    xhatminus = np.zeros(sz)\n",
    "    Pminus = np.zeros(sz)\n",
    "    K = np.zeros(sz)\n",
    "    R = 0.01**2\n",
    "    xhat[0] = 0.0\n",
    "    P[0] = 1.0\n",
    "\n",
    "    for k in range(1,n_iter):\n",
    "        xhatminus[k] = xhat[k-1]\n",
    "        Pminus[k] = P[k-1]+Q\n",
    "\n",
    "        K[k] = Pminus[k]/( Pminus[k]+R )\n",
    "        xhat[k] = xhatminus[k]+K[k]*(z[k]-xhatminus[k])\n",
    "        P[k] = (1-K[k])*Pminus[k]\n",
    "    return xhat\n",
    "\n",
    "\n",
    "def aggregation(data, state):\n",
    "    sum1 = 0\n",
    "    k = 0\n",
    "    temp = []\n",
    "    for i in range(100):\n",
    "        if state[i] == \"正常\":\n",
    "            k+=1\n",
    "            sum1 += data[i][-1]\n",
    "        temp.append(round(data[i][-1],1))\n",
    "    res1 = sum1/k + random.uniform(-0.7,0.7)\n",
    "    res2 = sum(temp)/100 + random.uniform(-2,2)\n",
    "    return round(res1, 1), round(res2, 1)\n",
    "\n",
    "\n",
    "data = [[] for i in range(100)]\n",
    "state = [\"正常\" for i in range(100)]\n",
    "tim = [\"\" for i in range(100)]\n",
    "NO = ['20360004', '21329398', '21473408', '21599529', '21830664', '22388726', '22590722', '22984164', '23175248', '23308449', '23972119', '24266825', '24287330', '24620681', '24676906', '25333974', '25379061', '25468725', '25522305', '25590000', '25947569', '25967291', '26023817', '26596206', '27075995', '27226888', '28148929', '28543072', '28668542', '30081132', '30084195', '30777286', '30964675', '31253066', '31305037', '31362643', '32166491', '32268719', '32591570', '33027121', '33461353', '33774549', '34262748', '34689046', '35175068', '35468716', '35495957', '35574594', '36254137', '36606485', '37036858', '37277975', '38011651', '38442116', '38578844', '38999977', '39169870', '39240082', '39273468', '39348717', '39723829', '39955610', '40111144', '40361312', '40822775', '40838881', '40961350', '40961355', '41861994', '42993807', '43014788', '43101753', '43397041', '43502376', '43662949', '44151860', '44274728', '44462556', '44528158', '44604979', '44729067', '45046347', '45099066', '45146503', '45284400', '45482843', '46035518', '46594765', '46677534', '46792120', '47311118', '47424310', '47822607', '48631696', '48675896', '48711427', '48777419', '49363356', '49532350', '49784492']\n",
    "res1, res2, err1, err2 = 0, 0, 0, 0\n",
    "\n",
    "n = 1234\n",
    "trueValue, after, before, participate = [],[],[],[]\n",
    "for _ in range(20):\n",
    "    temperature = random.randint(13, 16)\n",
    "    trueValue.append(temperature)\n",
    "#     temperature = 15.6\n",
    "    \n",
    "    for i in range(100):\n",
    "        m = random.randint(-5, 6)\n",
    "        tim[i] = time.strftime(\"%Y-%m-%d %H:%M:%S\", time.localtime(time.time() + m))\n",
    "        n+=1\n",
    "        if len(data[i])<7:\n",
    "            data[i].append(round(add_noise(temperature, n), 1))\n",
    "        else:\n",
    "            data[i].append(round(add_noise(temperature, n), 1))\n",
    "            data[i].pop(0)\n",
    "\n",
    "    if len(data[0]) > 6:\n",
    "        faultDetection(data, state)\n",
    "        res1, res2 = aggregation(data, state)\n",
    "    s = state.count(\"正常\")\n",
    "    after.append(res1)\n",
    "    before.append(res2)\n",
    "    participate.append(s)\n",
    "    \n",
    "#     time.sleep(2)\n",
    "print(trueValue[6:])\n",
    "print(after[6:])\n",
    "print(before[6:])\n",
    "print(participate[6:])"
   ]
  },
  {
   "cell_type": "code",
   "execution_count": 4,
   "metadata": {},
   "outputs": [
    {
     "name": "stdout",
     "output_type": "stream",
     "text": [
      "799 120\n",
      "798 133\n",
      "698 128\n",
      "696 156\n",
      "695 191\n",
      "689 209\n"
     ]
    }
   ],
   "source": [
    "def cal(n, k, mf, ft):\n",
    "    ret1 = n*k + n - ft\n",
    "    ret2 = mf*k + n - ft\n",
    "    print(ret1, ret2)\n",
    "\n",
    "if __name__ == \"__main__\":\n",
    "    cal(100, 7, 3, 1)\n",
    "    cal(100, 7, 5, 2)\n",
    "    cal(100, 6, 5, 2)\n",
    "    cal(100, 6, 10, 4)\n",
    "    cal(100, 6, 16, 5)\n",
    "    cal(100, 6, 20, 11)"
   ]
  },
  {
   "cell_type": "code",
   "execution_count": 3,
   "metadata": {},
   "outputs": [
    {
     "name": "stdout",
     "output_type": "stream",
     "text": [
      "[194, 190, 190, 180, 168, 160]\n"
     ]
    }
   ],
   "source": [
    "li = [97,95,95,90, 84,80]\n",
    "print(list(map(lambda x:x*2, li)))"
   ]
  }
 ],
 "metadata": {
  "kernelspec": {
   "display_name": "Python 3",
   "language": "python",
   "name": "python3"
  },
  "language_info": {
   "codemirror_mode": {
    "name": "ipython",
    "version": 3
   },
   "file_extension": ".py",
   "mimetype": "text/x-python",
   "name": "python",
   "nbconvert_exporter": "python",
   "pygments_lexer": "ipython3",
   "version": "3.5.4"
  }
 },
 "nbformat": 4,
 "nbformat_minor": 2
}
