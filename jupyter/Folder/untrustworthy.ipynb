{
 "cells": [
  {
   "cell_type": "code",
   "execution_count": 4,
   "metadata": {},
   "outputs": [
    {
     "name": "stdout",
     "output_type": "stream",
     "text": [
      "1\n"
     ]
    }
   ],
   "source": [
    "# utf-8\n",
    "import requests\n",
    "import pandas as pd\n",
    "import time\n",
    "\n",
    "def switchtime(x):\n",
    "    try:\n",
    "        timeArray = time.localtime(int(x))\n",
    "        return time.strftime(\"%Y-%m-%d %H:%M:%S\", timeArray)\n",
    "    except:\n",
    "        return 0\n",
    "\n",
    "def writetoEXcel(df, filename, sheetName):\n",
    "    writer = pd.ExcelWriter(filename, engine='openpyxl',mode='a', options={'strings_to_urls':False})\n",
    "    writer.book.strings_to_urls = False\n",
    "    df.to_excel(writer, sheetName, index=False)\n",
    "    writer.save()\n",
    "    print(1)\n",
    "    \n",
    "def GaoDeGeocode(a,b):\n",
    "    location = str(a) + ',' + str(b)\n",
    "    base_url = 'https://restapi.amap.com/v3/geocode/regeo?output=json&key=88060e2bd245f47e109ceeeaa185c650&location='\n",
    "    response = requests.get(base_url+location)\n",
    "    answer = response.json()\n",
    "    return answer['regeocode']['formatted_address']\n",
    "\n",
    "def location():\n",
    "    file = pd.read_excel('C:/Users/Administrator.SC-201905252025/Desktop/失信人网综.xlsx',sheet_name='location', \n",
    "                     names=['application','auth_account','capture_time','longitude','latitude'])\n",
    "    df = pd.DataFrame(file)\n",
    "    df.drop_duplicates(keep='first', inplace=True)\n",
    "    df['time'] = df['capture_time'].apply(switchtime)\n",
    "    df.drop(['capture_time'], axis=1, inplace=True)\n",
    "    df['address'] = df.apply(lambda row: GaoDeGeocode(row['longitude'], row['latitude']), axis=1)\n",
    "    writetoEXcel(df, \"C:/Users/Administrator.SC-201905252025/Desktop/网综.xlsx\", 'location')\n",
    "\n",
    "def engine():\n",
    "    file = pd.read_excel('C:/Users/Administrator.SC-201905252025/Desktop/失信人网综.xlsx',sheet_name='engine', \n",
    "                     names=['application','auth_account','capture_time','keyword','engine_type'])\n",
    "    df = pd.DataFrame(file)\n",
    "    df['time'] = df['capture_time'].apply(switchtime)\n",
    "    df.drop(['capture_time'], axis=1, inplace=True)\n",
    "    writetoEXcel(df, \"C:/Users/Administrator.SC-201905252025/Desktop/网综.xlsx\", 'engine')\n",
    "\n",
    "def goods():\n",
    "    file = pd.read_excel('C:/Users/Administrator.SC-201905252025/Desktop/失信人网综.xlsx',sheet_name='goods', \n",
    "                     names=['application','auth_account','capture_time'])\n",
    "    df = pd.DataFrame(file)\n",
    "    df['time'] = df['capture_time'].apply(switchtime)\n",
    "    df.drop(['capture_time'], axis=1, inplace=True)\n",
    "    writetoEXcel(df, \"C:/Users/Administrator.SC-201905252025/Desktop/网综.xlsx\", 'goods')\n",
    "    \n",
    "def im():\n",
    "    file = pd.read_excel('C:/Users/Administrator.SC-201905252025/Desktop/失信人网综.xlsx',sheet_name='IM', \n",
    "                     names=['application','auth_account','capture_time','username','groupnum','from_id',\n",
    "                           'to_id','content','action'])\n",
    "    df = pd.DataFrame(file)\n",
    "    df['time'] = df['capture_time'].apply(switchtime)\n",
    "    df.drop(['capture_time'], axis=1, inplace=True)\n",
    "    writetoEXcel(df, \"C:/Users/Administrator.SC-201905252025/Desktop/网综.xlsx\", 'IM')\n",
    "    \n",
    "def payment():\n",
    "    file = pd.read_excel('C:/Users/Administrator.SC-201905252025/Desktop/失信人网综.xlsx',sheet_name='payment', \n",
    "                     names=['application','auth_account','qq','capture_time','action','payaccount',\n",
    "                           'sellaccount','goodsname','buycount','money','paytime'])\n",
    "    df = pd.DataFrame(file)\n",
    "    df['timecapture'] = df['capture_time'].apply(switchtime)\n",
    "    df['timepay'] = df['paytime'].apply(switchtime)\n",
    "    df.drop(['capture_time','paytime'], axis=1, inplace=True)\n",
    "    writetoEXcel(df, \"C:/Users/Administrator.SC-201905252025/Desktop/网综.xlsx\", 'payment')\n",
    "\n",
    "if __name__ == '__main__':\n",
    "#     location()\n",
    "#     engine()\n",
    "#     goods()\n",
    "#     im()\n",
    "    payment()\n"
   ]
  },
  {
   "cell_type": "code",
   "execution_count": null,
   "metadata": {},
   "outputs": [],
   "source": []
  }
 ],
 "metadata": {
  "kernelspec": {
   "display_name": "Python 3",
   "language": "python",
   "name": "python3"
  },
  "language_info": {
   "codemirror_mode": {
    "name": "ipython",
    "version": 3
   },
   "file_extension": ".py",
   "mimetype": "text/x-python",
   "name": "python",
   "nbconvert_exporter": "python",
   "pygments_lexer": "ipython3",
   "version": "3.5.4"
  },
  "toc": {
   "base_numbering": 1,
   "nav_menu": {},
   "number_sections": true,
   "sideBar": true,
   "skip_h1_title": false,
   "title_cell": "Table of Contents",
   "title_sidebar": "Contents",
   "toc_cell": false,
   "toc_position": {},
   "toc_section_display": true,
   "toc_window_display": false
  }
 },
 "nbformat": 4,
 "nbformat_minor": 2
}
