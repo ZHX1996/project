{
 "cells": [
  {
   "cell_type": "code",
   "execution_count": 81,
   "metadata": {
    "scrolled": false
   },
   "outputs": [
    {
     "name": "stdout",
     "output_type": "stream",
     "text": [
      "[[ 29.07  27.19  24.71  25.84  25.33  27.47]\n",
      " [ 27.41  26.47  23.1   25.87  26.19  25.84]\n",
      " [ 30.03  27.17  25.2   23.76  24.67  23.54]\n",
      " ..., \n",
      " [ 29.49  26.58  25.29  24.13  25.08  25.4 ]\n",
      " [ 28.89  26.16  23.88  24.82  24.23  25.84]\n",
      " [ 27.55  26.69  25.37  22.41  25.45  25.41]]\n"
     ]
    }
   ],
   "source": [
    "import numpy as np\n",
    "import matplotlib.pyplot as plt\n",
    "\n",
    "np.random.seed(4)\n",
    "x = np.random.randint(101, size=(200))\n",
    "y = np.random.randint(101, size=(200))\n",
    "\n",
    "# li = list(map(lambda x:list(x), list(zip(x,y))))\n",
    "li = list(zip(x, y))\n",
    "\n",
    "# plt.scatter(x, y, c='k', marker='.')\n",
    "# plt.show()\n",
    "\n",
    "data = [28.6,26.5,24.8,24.9,25.5,25.8]\n",
    "temp = []\n",
    "k = 1234\n",
    "for i in data:\n",
    "    np.random.seed(k)\n",
    "    noise = np.random.randn(200)\n",
    "    temp.append(i + noise)\n",
    "    k += 1\n",
    "\n",
    "temp = np.array(temp)\n",
    "np.set_printoptions(precision=2)\n",
    "temp = temp.T\n",
    "\n",
    "faultNode = sorted(np.random.choice(200, 20))\n",
    "for i in faultNode:\n",
    "    temp[i][5] += 5\n",
    "print(temp)\n",
    "\n",
    "# dic = dict(zip(li, temp))\n",
    "# print(list(dic.keys()))\n",
    "\n",
    "    "
   ]
  },
  {
   "cell_type": "code",
   "execution_count": null,
   "metadata": {},
   "outputs": [],
   "source": []
  }
 ],
 "metadata": {
  "kernelspec": {
   "display_name": "Python 3",
   "language": "python",
   "name": "python3"
  },
  "language_info": {
   "codemirror_mode": {
    "name": "ipython",
    "version": 3
   },
   "file_extension": ".py",
   "mimetype": "text/x-python",
   "name": "python",
   "nbconvert_exporter": "python",
   "pygments_lexer": "ipython3",
   "version": "3.5.2"
  }
 },
 "nbformat": 4,
 "nbformat_minor": 2
}
