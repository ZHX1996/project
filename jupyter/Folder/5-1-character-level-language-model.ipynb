{
 "cells": [
  {
   "cell_type": "code",
   "execution_count": null,
   "metadata": {},
   "outputs": [],
   "source": [
    "import numpy as np\n",
    "import random\n",
    "\n",
    "def softmax(x):\n",
    "    e_x = np.exp(x)\n",
    "    return e_x / e_x.sum(axis=0)\n",
    "\n",
    "def smooth(loss, cur_loss):\n",
    "    return loss*0.999 + cur_loss*0.001\n",
    "\n",
    "def print_sample(sample_ix, ix_to_char):\n",
    "    txt = ''.join(ix_to_char[ix] for ix in sample_ix)\n",
    "    txt = txt[0].upper() + txt[1:]\n",
    "    print('%s' % (txt,), end='')\n",
    "    \n",
    "def get_initial_loss(vocab_size, seq_length):\n",
    "    return -np.log(1.0/vocab_size)*seq_length\n",
    "\n",
    "def initialize_params(n_a, n_x, n_y):\n",
    "    np.random.seed(1)\n",
    "    Wax = np.random.randn(n_a,n_x)*0.01\n",
    "    Waa = np.random.randn(n_a,n_a)*0.01\n",
    "    Wya = np.random.randn(n_y,n_a)*0.01\n",
    "    b = np.zeros((n_a,1))\n",
    "    by = np.zeros((n_y,1))\n",
    "    \n",
    "    params = {\"Wax\":Wax, \"Waa\":Waa, \"Wya\":Wya, \"b\":b, \"by\":by}\n",
    "    return params\n",
    "\n",
    "def rnn_step_backward(dy, gradients,params, x,a,a_prev):\n",
    "    gradients['dWya'] += np.dot(dy, a.T)\n",
    "    gradients['dby'] += dy\n",
    "    da = np.dot(params['Wya'].T, dy) + gradients['da_next']\n",
    "    daraw = (1-a*a)*da\n",
    "    gradients['db'] += daraw\n",
    "    gradients['dWax'] += np.dot(daraw, x.T)\n",
    "    gradients['dWaa'] += np.dot(daraw, a_prev.T)\n",
    "    gradients['da_next'] = np.dot(params['Waa'].T, daraw)\n",
    "    return gradients\n",
    "\n",
    "def update_params(params, gradients, lr):\n",
    "    params['Wax'] += -lr * gradients['dWax']\n",
    "    params['Waa'] += -lr * gradients['dWaa']\n",
    "    params['Wya'] += -lr * gradients['dWya']\n",
    "    params['b'] += -lr * gradients['db']\n",
    "    params['by'] += -lr * gradients['dby']\n",
    "    return params\n",
    "\n",
    "def rnn_forward(X,Y,a0,params,vocab_size=27):\n",
    "    x, a, y_hat = {},{},{}\n",
    "    "
   ]
  },
  {
   "cell_type": "code",
   "execution_count": null,
   "metadata": {},
   "outputs": [],
   "source": []
  }
 ],
 "metadata": {
  "kernelspec": {
   "display_name": "Python 3",
   "language": "python",
   "name": "python3"
  },
  "language_info": {
   "codemirror_mode": {
    "name": "ipython",
    "version": 3
   },
   "file_extension": ".py",
   "mimetype": "text/x-python",
   "name": "python",
   "nbconvert_exporter": "python",
   "pygments_lexer": "ipython3",
   "version": "3.5.4"
  },
  "toc": {
   "base_numbering": 1,
   "nav_menu": {},
   "number_sections": true,
   "sideBar": true,
   "skip_h1_title": false,
   "title_cell": "Table of Contents",
   "title_sidebar": "Contents",
   "toc_cell": false,
   "toc_position": {},
   "toc_section_display": true,
   "toc_window_display": false
  }
 },
 "nbformat": 4,
 "nbformat_minor": 2
}
