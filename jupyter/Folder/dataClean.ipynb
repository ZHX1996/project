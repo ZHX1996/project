{
 "cells": [
  {
   "cell_type": "code",
   "execution_count": null,
   "metadata": {},
   "outputs": [],
   "source": [
    "import numpy as np\n",
    "import pandas as pd\n",
    "import sklearn\n",
    "import jieba\n",
    "\n",
    "\"\"\"\n",
    "先把空值、无效值删除\n",
    "统计关键词出现次数，合计\n",
    "最前和最后分别作为正例和反例\n",
    "分词，向量化 训练随机森林分类\n",
    "得到每条内容的类别\n",
    "\"\"\"\n",
    "\n",
    "file = pd.read_excel(\"C:/Users/Administrator.SC-201905252025/Desktop/test/groupchat.xlsx\", sheet_name='Sheet1', names=['authaccount','from_id', 'to_id', 'content'])\n",
    "df = pd.DataFrame(file)\n",
    "\n",
    "keyword = [line.strip() for line in open(\"C:/Users/Administrator.SC-201905252025/Desktop/test/qg_keywords.txt\", 'r', encoding=\"UTF-8\").readlines()]\n",
    "\n",
    "jieba.load_userdict(\"C:/Users/Administrator.SC-201905252025/Desktop/test/qg_keywords.txt\")\n",
    "def keyword_count(content):\n",
    "    words=list(jieba.cut(content,cut_all=True))\n",
    "    count_dict,key_list={},[]\n",
    "    for i in keyword:\n",
    "        a=words.count(i)\n",
    "        if a>0:\n",
    "            count_dict[i]=a\n",
    "            key_list.append(i+'('+str(a)+')')\n",
    "    return sum(count_dict.values())\n",
    "\n",
    "df['key_count'] = df['content'].apply(keyword_count)\n",
    "df=df.sort_values(by=['key_count'])\n",
    "\n",
    "df_positive = df.loc[0:1000]\n",
    "df_positive['label'] = 1\n",
    "# df_negative = df.loc[-1000:]\n",
    "# df_negative['label'] = 0\n",
    "\n",
    "\n",
    "# cut_word_positive = jieba.cut(df_positive['content'])\n",
    "# cut_word_negative = jieba.cut(df_negative['content'])\n",
    "\n",
    "\n",
    "# model = sklearn.random_foreast()\n",
    "\n",
    "# df['label'] = model.predict(df['content'].to_list())\n",
    "# df = df.loc[df.label==1,]\n",
    "\n",
    "# writer = pd.ExcelWriter(\"C:/Users/Administrator.SC-201905252025/Desktop/test/positive.xlsx\", engine='xlsxwriter',options={'strings_to_urls':False})\n",
    "# writer.book.strings_to_urls = False\n",
    "# df_positive.to_excel(writer, 'Sheet1')\n",
    "# writer.save()\n",
    "# print(1)"
   ]
  },
  {
   "cell_type": "code",
   "execution_count": 36,
   "metadata": {},
   "outputs": [
    {
     "name": "stdout",
     "output_type": "stream",
     "text": [
      "1\n"
     ]
    }
   ],
   "source": [
    "import numpy as np\n",
    "import pandas as pd\n",
    "import sklearn\n",
    "from sklearn.feature_extraction.text import CountVectorizer,TfidfVectorizer\n",
    "import jieba\n",
    "import re\n",
    "from sklearn.cluster import KMeans\n",
    "# import matplotlib.pyplot as plt\n",
    "\n",
    "def read_file():\n",
    "    file = pd.read_excel(\"C:/Users/Administrator.SC-201905252025/Desktop/test/1.xlsx\", sheet_name='Sheet1', names=['authaccount','from_id', 'to_id', 'content'])\n",
    "    return pd.DataFrame(file)\n",
    "    \n",
    "    \n",
    "def cutword(sent):\n",
    "    line=re.sub(r'[a-zA-Z0-9]*','',sent)\n",
    "    wordList=jieba.lcut(line,cut_all=False)\n",
    "    return ' '.join([word for word in wordList if len(word)>1])\n",
    "\n",
    "def vectorize(df):\n",
    "    df['cutword'] = df['content'].apply(cutword)\n",
    "    wordList = df['cutword'].tolist()\n",
    "#     count_vect = CountVectorizer(min_df=1,analyzer='word')\n",
    "    count_vect = TfidfVectorizer(binary=False,decode_error='ignore')\n",
    "    word_vec = count_vect.fit_transform(wordList)\n",
    "    tmp = word_vec.todense().tolist()\n",
    "    df['vec'] = tmp\n",
    "    df.drop(['cutword'],axis=1,inplace=True)\n",
    "    return df\n",
    "\n",
    "def writeFile(df):\n",
    "    writer = pd.ExcelWriter(\"C:/Users/Administrator.SC-201905252025/Desktop/test/tmp.xlsx\", engine='xlsxwriter',options={'strings_to_urls':False})\n",
    "    writer.book.strings_to_urls = False\n",
    "    df.to_excel(writer, 'Sheet1')\n",
    "    writer.save()\n",
    "    print(1)\n",
    "    \n",
    "def classCluster(df, num):\n",
    "    km = KMeans(n_clusters=num, max_iter=300, n_init=40,init='k-means++',n_jobs=-1)\n",
    "    result = km.fit_predict(np.mat(df['vec'].tolist()))\n",
    "    result = result.tolist()\n",
    "    df['label'] = result\n",
    "    df.drop(['vec'], axis=1, inplace=True)\n",
    "    return df\n",
    "\n",
    "#     SSE = []\n",
    "#     for k in range(1,20):\n",
    "#         estimator = KMeans(n_clusters=k)\n",
    "#         estimator.fit(df['vec'].tolist())\n",
    "#         SSE.append(estimator.inertia_)\n",
    "#     print(SSE)\n",
    "#     return 0\n",
    "    \n",
    "if __name__ == \"__main__\":\n",
    "    df = read_file()\n",
    "    df = vectorize(df)\n",
    "    df = classCluster(df, 17)\n",
    "    writeFile(df)"
   ]
  },
  {
   "cell_type": "code",
   "execution_count": 34,
   "metadata": {},
   "outputs": [
    {
     "data": {
      "image/png": "[encoded data removed]",
      "text/plain": [
       "<Figure size 432x288 with 1 Axes>"
      ]
     },
     "metadata": {
      "needs_background": "light"
     },
     "output_type": "display_data"
    }
   ],
   "source": [
    "import matplotlib.pyplot as plt\n",
    "# import numpy as np\n",
    "\n",
    "Y = [4636.067675763558, 4130.637483895914, 3907.999139146372, 3773.7107185238456, 3847.2111149813563, 3695.9323579668517, 3526.786922513904, 3523.631616506411, 3493.0713577915126, 3469.4318018952986, 3399.3312856747625, 3367.0079590680743, 3349.8828871793457, 3362.5275079958637, 3252.648619236003, 3284.0522664325736, 3209.5297466827915, 3216.3241808316166, 3194.600974132139]\n",
    "x = range(1,20)\n",
    "plt.xlabel('x')\n",
    "plt.ylabel('y')\n",
    "plt.plot(x, Y, '*-')\n",
    "plt.show()"
   ]
  },
  {
   "cell_type": "code",
   "execution_count": null,
   "metadata": {},
   "outputs": [],
   "source": []
  }
 ],
 "metadata": {
  "kernelspec": {
   "display_name": "Python 3",
   "language": "python",
   "name": "python3"
  },
  "language_info": {
   "codemirror_mode": {
    "name": "ipython",
    "version": 3
   },
   "file_extension": ".py",
   "mimetype": "text/x-python",
   "name": "python",
   "nbconvert_exporter": "python",
   "pygments_lexer": "ipython3",
   "version": "3.5.4"
  },
  "toc": {
   "base_numbering": 1,
   "nav_menu": {},
   "number_sections": true,
   "sideBar": true,
   "skip_h1_title": false,
   "title_cell": "Table of Contents",
   "title_sidebar": "Contents",
   "toc_cell": false,
   "toc_position": {},
   "toc_section_display": true,
   "toc_window_display": false
  }
 },
 "nbformat": 4,
 "nbformat_minor": 2
}
