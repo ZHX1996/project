{
 "cells": [
  {
   "cell_type": "code",
   "execution_count": 6,
   "metadata": {},
   "outputs": [
    {
     "name": "stderr",
     "output_type": "stream",
     "text": [
      "d:\\python35\\lib\\site-packages\\ipykernel_launcher.py:72: SettingWithCopyWarning: \n",
      "A value is trying to be set on a copy of a slice from a DataFrame.\n",
      "Try using .loc[row_indexer,col_indexer] = value instead\n",
      "\n",
      "See the caveats in the documentation: http://pandas.pydata.org/pandas-docs/stable/indexing.html#indexing-view-versus-copy\n",
      "d:\\python35\\lib\\site-packages\\sklearn\\ensemble\\forest.py:245: FutureWarning: The default value of n_estimators will change from 10 in version 0.20 to 100 in 0.22.\n",
      "  \"10 in version 0.20 to 100 in 0.22.\", FutureWarning)\n"
     ]
    },
    {
     "name": "stdout",
     "output_type": "stream",
     "text": [
      "1\n"
     ]
    }
   ],
   "source": [
    "import numpy as np\n",
    "import pandas as pd\n",
    "from sklearn.neighbors import KNeighborsClassifier as KNNC\n",
    "from sklearn.feature_extraction.text import CountVectorizer,TfidfVectorizer,HashingVectorizer\n",
    "import jieba\n",
    "import re\n",
    "from sklearn.svm import SVC\n",
    "from sklearn.ensemble import RandomForestClassifier\n",
    "# from sklearn.model_selection import GridSearchCV\n",
    "# from sklearn import cross_validation, metrics\n",
    "\n",
    "\n",
    "file = pd.read_excel(\"C:/Users/Administrator.SC-201905252025/Desktop/small.xlsx\", \n",
    "                     sheet_name='Sheet1', names=['authaccount','from_id', 'to_id', 'content'],encoding='utf-8')\n",
    "df = pd.DataFrame(file)\n",
    "df['content'] = df['content'].astype(str)\n",
    "# k = df.shape[0]\n",
    "# df = df.iloc[0:k//74,:]\n",
    "\n",
    "keyword = [line.strip() for line in open(\"C:/Users/Administrator.SC-201905252025/Desktop/qg_keywords.txt\", 'r', encoding=\"UTF-8\").readlines()]\n",
    "# stopWord = [line.strip() for line in open(\"C:/Users/Administrator.SC-201905252025/Desktop/test/stopword.txt\",'r',encoding='utf-8').readlines()]\n",
    "\n",
    "jieba.load_userdict(\"C:/Users/Administrator.SC-201905252025/Desktop/qg_keywords.txt\")\n",
    "\n",
    "# def cutword(sent):\n",
    "# #     sent=re.sub(r'[a-zA-Z0-9]*','',sent)\n",
    "#     wordList=jieba.lcut(sent,cut_all=True)\n",
    "# #     tmp = [word for word in wordList if word not in stopWord and len(word)>1]\n",
    "#     words = list(set(wordList))\n",
    "#     return words\n",
    "\n",
    "def cutwordtostr(sent):\n",
    "#     sent=re.sub(r'[a-zA-Z0-9]*','',sent)\n",
    "    wordList=jieba.lcut(sent,cut_all=True)\n",
    "#     tmp = [word for word in wordList if word not in stopWord and len(word)>1]\n",
    "    words = list(set(wordList))\n",
    "    return [words,' '.join(words)]\n",
    "\n",
    "def key_count(words):\n",
    "#     words = cutword(sent)\n",
    "    count_dict,key_list={},[]\n",
    "    for i in keyword:\n",
    "        a=words.count(i)\n",
    "        if a>0:\n",
    "            count_dict[i]=a\n",
    "#             key_list.append(i+'('+str(a)+')')\n",
    "    return [len(count_dict),sum(count_dict.values())]\n",
    "\n",
    "def vectorize(df):\n",
    "#     count_vect = CountVectorizer(min_df=1,analyzer='word')\n",
    "    count_vect = TfidfVectorizer(binary=False,decode_error='ignore')\n",
    "#     count_vect = HashingVectorizer(n_features=30)\n",
    "    word_vec = count_vect.fit_transform(df['cutwordstr'])\n",
    "    df['vec'] = word_vec.todense().tolist()\n",
    "    return df\n",
    "#     return word_vec.todense()\n",
    "\n",
    "# df['cutword'] = df['content'].apply(cutword)\n",
    "df['result'] = df['content'].apply(cutwordtostr)\n",
    "df['cutword'] = df['result'].apply(lambda x:x[0])\n",
    "df['cutwordstr'] = df['result'].apply(lambda x:x[1])\n",
    "\n",
    "df['result'] = df['cutword'].apply(key_count)\n",
    "df['word_count'] = df['result'].apply(lambda x:x[0])\n",
    "df['key_count'] = df['result'].apply(lambda x:x[1])\n",
    "\n",
    "df.drop(['result'], axis=1, inplace=True)\n",
    "df = vectorize(df)\n",
    "df=df.sort_values(by=['key_count'])\n",
    "\n",
    "df_positive = df.loc[(df.key_count>2) & (df.word_count>1)]\n",
    "df_positive['label'] = 0\n",
    "df_negative = df.loc[df.key_count<2,].iloc[0:df_positive.shape[0]]\n",
    "df_negative['label'] = 1\n",
    "df_train = pd.concat([df_positive,df_negative])\n",
    "\n",
    "\n",
    "# KNN\n",
    "# model = KNNC(n_neighbors=5,n_jobs=-1,weights='uniform',algorithm='auto',leaf_size=1,metric='minkowski',p=2,metric_params=None)\n",
    "\n",
    "# SVC\n",
    "# model = SVC()\n",
    "\n",
    "# 随机森林\n",
    "model = RandomForestClassifier()\n",
    "\n",
    "model.fit(np.array(df_train['vec']).tolist(), np.array(df_train['label']))\n",
    "df['label'] = model.predict(np.array(df['vec']).tolist())\n",
    "\n",
    "\n",
    "df.drop(['key_count','word_count', 'cutword', 'cutwordstr','vec'], axis=1, inplace = True)\n",
    "\n",
    "\n",
    "writer = pd.ExcelWriter(\"C:/Users/Administrator.SC-201905252025/Desktop/rf1.xlsx\", engine='xlsxwriter',options={'strings_to_urls':False})\n",
    "writer.book.strings_to_urls = False\n",
    "df.to_excel(writer, 'Sheet1', index=False)\n",
    "writer.save()\n",
    "print(1)"
   ]
  },
  {
   "cell_type": "code",
   "execution_count": 2,
   "metadata": {},
   "outputs": [
    {
     "data": {
      "image/png": "[encoded data removed]",
      "text/plain": [
       "<Figure size 432x288 with 1 Axes>"
      ]
     },
     "metadata": {
      "needs_background": "light"
     },
     "output_type": "display_data"
    }
   ],
   "source": [
    "import matplotlib.pyplot as plt\n",
    "# import numpy as np\n",
    "\n",
    "def classCluster(df, num):\n",
    "    km = KMeans(n_clusters=num, max_iter=300, n_init=40,init='k-means++',n_jobs=-1)\n",
    "    result = km.fit_predict(np.mat(df['vec'].tolist()))\n",
    "    result = result.tolist()\n",
    "    df['label'] = result\n",
    "    df.drop(['vec'], axis=1, inplace=True)\n",
    "    return df\n",
    "\n",
    "#     SSE = []\n",
    "#     for k in range(1,20):\n",
    "#         estimator = KMeans(n_clusters=k)\n",
    "#         estimator.fit(df['vec'].tolist())\n",
    "#         SSE.append(estimator.inertia_)\n",
    "#     print(SSE)\n",
    "#     return 0\n",
    "\n",
    "Y = [4732.739779622297, 4211.482046705363, 4016.897811474795, 3999.976586479355, 3704.5390716951943, 3803.2547988284127, 3671.9133727458648, 3548.060168581349, 3472.911106259248, 3479.5827524936567, 3383.489112807599, 3386.412819489496, 3344.4548905091506, 3337.1134537250528, 3284.740983406511, 3269.453638544495, 3257.722748733844, 3189.831129397336, 3186.4612777661123]\n",
    "x = range(1,20)\n",
    "plt.xlabel('x')\n",
    "plt.ylabel('y')\n",
    "plt.plot(x, Y, '*-')\n",
    "plt.show()"
   ]
  },
  {
   "cell_type": "code",
   "execution_count": 2,
   "metadata": {},
   "outputs": [
    {
     "name": "stdout",
     "output_type": "stream",
     "text": [
      "   a  b  c  d\n",
      "1  2  5  8  2\n",
      "2  3  6  9  3\n"
     ]
    }
   ],
   "source": [
    "# 交叉验证 网格搜索\n",
    "from sklearn.grid_search import GridSearchCV    \n",
    "from sklearn.svm import SVC   \n",
    "\n",
    "model = SVC(kernel='rbf', probability=True)    \n",
    "param_grid = {'C': [1e-3, 1e-2, 1e-1, 1, 10, 100, 1000], 'gamma': [0.001, 0.0001]}    \n",
    "grid_search = GridSearchCV(model, param_grid, n_jobs = 8, verbose=1)    \n",
    "grid_search.fit(train_x, train_y)    \n",
    "best_parameters = grid_search.best_estimator_.get_params()    \n",
    "for para, val in list(best_parameters.items()):    \n",
    "    print(para, val)    \n",
    "model = SVC(kernel='rbf', C=best_parameters['C'], gamma=best_parameters['gamma'], probability=True)    \n",
    "model.fit(train_x, train_y)    \n",
    "return model"
   ]
  },
  {
   "cell_type": "code",
   "execution_count": null,
   "metadata": {},
   "outputs": [],
   "source": []
  }
 ],
 "metadata": {
  "kernelspec": {
   "display_name": "Python 3",
   "language": "python",
   "name": "python3"
  },
  "language_info": {
   "codemirror_mode": {
    "name": "ipython",
    "version": 3
   },
   "file_extension": ".py",
   "mimetype": "text/x-python",
   "name": "python",
   "nbconvert_exporter": "python",
   "pygments_lexer": "ipython3",
   "version": "3.5.4"
  },
  "toc": {
   "base_numbering": 1,
   "nav_menu": {},
   "number_sections": true,
   "sideBar": true,
   "skip_h1_title": false,
   "title_cell": "Table of Contents",
   "title_sidebar": "Contents",
   "toc_cell": false,
   "toc_position": {},
   "toc_section_display": true,
   "toc_window_display": false
  }
 },
 "nbformat": 4,
 "nbformat_minor": 2
}
