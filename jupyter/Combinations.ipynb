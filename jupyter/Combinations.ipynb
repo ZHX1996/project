{
 "cells": [
  {
   "cell_type": "code",
   "execution_count": 19,
   "metadata": {},
   "outputs": [
    {
     "name": "stdout",
     "output_type": "stream",
     "text": [
      "[[1, 2], [1, 3], [1, 4], [2, 3], [2, 4], [3, 4]]\n"
     ]
    }
   ],
   "source": [
    "import itertools\n",
    "def combine(n, k):\n",
    "    return list(itertools.combinations(range(1,n+1), k))\n",
    "\n",
    "# accepted\n",
    "def combine1(n, k):\n",
    "    if k == 0:\n",
    "        return [[]]\n",
    "    return [pre + [i] for i in range(k, n+1) for pre in combine1(i-1, k-1)]\n",
    "    \n",
    "def combine2(n, k):\n",
    "    ans = []\n",
    "    stack = []\n",
    "    x = 1\n",
    "    while True:\n",
    "        l = len(stack)\n",
    "        if l == k:\n",
    "            ans.append(stack[:])\n",
    "        if l == k or x > n - k +  + 1:\n",
    "            if not stack:\n",
    "                return ans\n",
    "            x = stack.pop() + 1\n",
    "        else:\n",
    "            stack.append(x)\n",
    "            x += 1\n",
    "    \n",
    "if __name__ == '__main__':\n",
    "    n = 4 \n",
    "    k = 2\n",
    "    print(combine1(n, k))"
   ]
  },
  {
   "cell_type": "code",
   "execution_count": null,
   "metadata": {},
   "outputs": [],
   "source": []
  }
 ],
 "metadata": {
  "kernelspec": {
   "display_name": "Python 3",
   "language": "python",
   "name": "python3"
  },
  "language_info": {
   "codemirror_mode": {
    "name": "ipython",
    "version": 3
   },
   "file_extension": ".py",
   "mimetype": "text/x-python",
   "name": "python",
   "nbconvert_exporter": "python",
   "pygments_lexer": "ipython3",
   "version": "3.5.2"
  }
 },
 "nbformat": 4,
 "nbformat_minor": 2
}
