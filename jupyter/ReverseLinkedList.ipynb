{
 "cells": [
  {
   "cell_type": "code",
   "execution_count": 2,
   "metadata": {},
   "outputs": [
    {
     "name": "stdout",
     "output_type": "stream",
     "text": [
      "[9, 8, 7, 6, 5, 4, 3, 2, 1]\n"
     ]
    }
   ],
   "source": [
    "class Node(object):\n",
    "    def __init__(self, data=None, next=None):\n",
    "        self.data = data\n",
    "        self.next = next\n",
    "\n",
    "link = Node(1, Node(2, Node(3, Node(4, Node(5, Node(6, Node(7, Node(8, Node(9)))))))))\n",
    "\n",
    "def rev(link):\n",
    "    pre = link\n",
    "    cur = link.next\n",
    "    pre.next = None\n",
    "    while cur:\n",
    "        temp = cur.next\n",
    "        cur.next = pre\n",
    "        pre = cur\n",
    "        cur = temp\n",
    "    ret = []\n",
    "    while pre:\n",
    "        ret.append(pre.data)\n",
    "        pre = pre.next\n",
    "    return ret\n",
    "\n",
    "if __name__ == '__main__':\n",
    "    print(rev(link))"
   ]
  },
  {
   "cell_type": "code",
   "execution_count": 5,
   "metadata": {},
   "outputs": [
    {
     "name": "stdout",
     "output_type": "stream",
     "text": [
      "1\n",
      "4\n",
      "3\n",
      "2\n",
      "5\n"
     ]
    }
   ],
   "source": [
    "class ListNode:\n",
    "    def __init__(self, x):\n",
    "        self.val = x\n",
    "        self.next = None\n",
    "\n",
    "class Solution:\n",
    "    def reverseBetween(self, head, m, n):\n",
    "        if m == n:\n",
    "            return head\n",
    "        \n",
    "        dummyNode = ListNode(0)\n",
    "        dummyNode.next = head\n",
    "        pre = dummyNode\n",
    "        \n",
    "        for i in range(m-1):\n",
    "            pre = pre.next\n",
    "        \n",
    "        reverse = None\n",
    "        cur = pre.next\n",
    "        for i in range(n-m+1):\n",
    "            next = cur.next\n",
    "            cur.next = reverse\n",
    "            reverse = cur\n",
    "            cur = next\n",
    "        \n",
    "        pre.next.next = cur\n",
    "        pre.next = reverse\n",
    "        \n",
    "#         return dummyNode.next\n",
    "        while dummyNode.next:\n",
    "            print(dummyNode.next.val)\n",
    "            dummyNode = dummyNode.next\n",
    "            \n",
    "        \n",
    "        \n",
    "if __name__ == '__main__':\n",
    "    idx = ListNode(1)\n",
    "    n = idx\n",
    "    n.next = ListNode(2)\n",
    "    n = n.next\n",
    "    n.next = ListNode(3)\n",
    "    n = n.next\n",
    "    n.next = ListNode(4)\n",
    "    n = n.next\n",
    "    n.next = ListNode(5)\n",
    "    Solution().reverseBetween(idx, 2, 4)\n",
    "    "
   ]
  }
 ],
 "metadata": {
  "kernelspec": {
   "display_name": "Python 3",
   "language": "python",
   "name": "python3"
  },
  "language_info": {
   "codemirror_mode": {
    "name": "ipython",
    "version": 3
   },
   "file_extension": ".py",
   "mimetype": "text/x-python",
   "name": "python",
   "nbconvert_exporter": "python",
   "pygments_lexer": "ipython3",
   "version": "3.5.2"
  }
 },
 "nbformat": 4,
 "nbformat_minor": 2
}
