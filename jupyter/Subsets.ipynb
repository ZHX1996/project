{
 "cells": [
  {
   "cell_type": "code",
   "execution_count": 2,
   "metadata": {},
   "outputs": [
    {
     "name": "stdout",
     "output_type": "stream",
     "text": [
      "[[], [1], [2], [1, 2], [2, 2], [1, 2, 2]]\n"
     ]
    }
   ],
   "source": [
    "# dfs recursive\n",
    "def subsets(nums):\n",
    "    res = []\n",
    "    dfs(sorted(nums), 0, [], res)\n",
    "    return res\n",
    "\n",
    "def dfs(nums, index, path, res):\n",
    "    res.append(path)\n",
    "    for i in range(index, len(nums)):\n",
    "        \n",
    "        if i>index and nums[i] == nums[i-1]:\n",
    "            continue   # 去重\n",
    "            \n",
    "        dfs(nums, i+1, path+[nums[i]], res)\n",
    "        \n",
    "def subsets1(nums):\n",
    "    res = [[]]\n",
    "    for num in sorted(nums):\n",
    "        res += [item + [num] for item in res]\n",
    "#         print(res)\n",
    "    return res\n",
    "\n",
    "def subsets2(nums):\n",
    "    res = [[]]\n",
    "    nums.sort()\n",
    "    for i in range(len(nums)):\n",
    "        # 如果重复，则上一次加的不用再加，直接从上一次新加的开始\n",
    "        if i==0 or nums[i]!=nums[i-1]:\n",
    "            l = len(res)\n",
    "        for j in range(len(res)-l, len(res)):\n",
    "            res.append(res[j]+[nums[i]])\n",
    "    return res\n",
    "            \n",
    "if __name__ == '__main__':\n",
    "    nums = [1,2,2]\n",
    "    print(subsets2(nums))"
   ]
  },
  {
   "cell_type": "code",
   "execution_count": null,
   "metadata": {},
   "outputs": [],
   "source": [
    "i = 1\n",
    "j = 2\n",
    "ret = []\n",
    "ret += [[i]+[j]]\n",
    "print(ret)"
   ]
  },
  {
   "cell_type": "code",
   "execution_count": null,
   "metadata": {},
   "outputs": [],
   "source": []
  }
 ],
 "metadata": {
  "kernelspec": {
   "display_name": "Python 3",
   "language": "python",
   "name": "python3"
  },
  "language_info": {
   "codemirror_mode": {
    "name": "ipython",
    "version": 3
   },
   "file_extension": ".py",
   "mimetype": "text/x-python",
   "name": "python",
   "nbconvert_exporter": "python",
   "pygments_lexer": "ipython3",
   "version": "3.5.2"
  }
 },
 "nbformat": 4,
 "nbformat_minor": 2
}
