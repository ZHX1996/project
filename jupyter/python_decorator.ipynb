{
 "cells": [
  {
   "cell_type": "code",
   "execution_count": 30,
   "metadata": {},
   "outputs": [
    {
     "name": "stdout",
     "output_type": "stream",
     "text": [
      "begin\n",
      "123\n",
      "end\n",
      "123\n",
      "-------\n",
      "123\n"
     ]
    }
   ],
   "source": [
    "# 直接装饰，发现新函数只在第一次被调用， 且原函数多调用一次\n",
    "def dec(add):\n",
    "    print('begin')\n",
    "    add()\n",
    "    print('end')\n",
    "    return add\n",
    "\n",
    "@dec\n",
    "def add():\n",
    "    print('123')\n",
    "\n",
    "if __name__ == '__main__':\n",
    "    add()\n",
    "    print('-------')\n",
    "    add()"
   ]
  },
  {
   "cell_type": "code",
   "execution_count": 32,
   "metadata": {},
   "outputs": [
    {
     "name": "stdout",
     "output_type": "stream",
     "text": [
      "begin\n",
      "7\n",
      "end\n",
      "-------\n",
      "error\n"
     ]
    }
   ],
   "source": [
    "# 使用内嵌包装函数确保每次新函数都被调用\n",
    "# 内嵌包装函数的形参和返回值与原函数相同， 装饰函数返回内嵌包装函数\n",
    "def dec(add):\n",
    "    def wrapper(a, b):\n",
    "        if a<0 or a>100 or b<0 or b>100:\n",
    "            print('error')\n",
    "        else:\n",
    "            print('begin')\n",
    "            print(add(a, b))\n",
    "            print('end')\n",
    "    return wrapper\n",
    "\n",
    "@dec\n",
    "def add(a, b):\n",
    "    return a+b\n",
    "\n",
    "if __name__ == '__main__':\n",
    "    add(3, 4)\n",
    "    print('-------')\n",
    "    add(-1, 2)"
   ]
  },
  {
   "cell_type": "code",
   "execution_count": 37,
   "metadata": {},
   "outputs": [
    {
     "name": "stdout",
     "output_type": "stream",
     "text": [
      "begin\n",
      "3\n",
      "end\n",
      "-------\n",
      "begin\n",
      "6\n",
      "end\n"
     ]
    }
   ],
   "source": [
    "# 对参数不确定的函数进行装饰\n",
    "def dec(func):\n",
    "    def wrapper(*args, **kwargs):\n",
    "        print('begin')\n",
    "        print(func(*args, **kwargs))\n",
    "        print('end')\n",
    "    return wrapper\n",
    "\n",
    "@dec\n",
    "def func1(a, b):\n",
    "    return a+b\n",
    "\n",
    "@dec \n",
    "def func2(a, b, c):\n",
    "    return a+b+c\n",
    "\n",
    "if __name__ == '__main__':\n",
    "    func1(1,2)\n",
    "    print('-------')\n",
    "    func2(1,2,3)"
   ]
  },
  {
   "cell_type": "code",
   "execution_count": 51,
   "metadata": {},
   "outputs": [
    {
     "name": "stdout",
     "output_type": "stream",
     "text": [
      "before func1 called [module1]\n",
      "123\n",
      "after func1 called [module1]\n",
      "----------------------------------\n",
      "before func2 called [module2]\n",
      "233\n",
      "after func2 called [module2]\n"
     ]
    }
   ],
   "source": [
    "# 让装饰器带参数\n",
    "# 在外层多了一层包装\n",
    "def dec(arg):\n",
    "    def _dec(func):\n",
    "        def wrapper():\n",
    "            print('before %s called [%s]' % (func.__name__, arg))\n",
    "            print(func())\n",
    "            print('after {0} called [{1}]'.format(func.__name__, arg))\n",
    "        return wrapper\n",
    "    return _dec\n",
    "\n",
    "@dec('module1')\n",
    "def func1():\n",
    "    return '123'\n",
    "\n",
    "@dec('module2')\n",
    "def func2():\n",
    "    return '233'\n",
    "    \n",
    "if __name__ == '__main__':\n",
    "    func1()\n",
    "    print('-----------------'*2)\n",
    "    func2()"
   ]
  },
  {
   "cell_type": "code",
   "execution_count": 58,
   "metadata": {},
   "outputs": [
    {
     "name": "stdout",
     "output_type": "stream",
     "text": [
      "before myfunc called [<class '__main__.locker'>]\n",
      "locker.acquire() called\n",
      "myfunc() called\n",
      "locker.release() called\n",
      "------------------------------------------------\n",
      "before myfunc called [<class '__main__.locker'>]\n",
      "locker.acquire() called\n",
      "myfunc() called\n",
      "locker.release() called\n"
     ]
    }
   ],
   "source": [
    "# 让装饰器带类参数\n",
    "class locker:\n",
    "    def __init__(self):\n",
    "        print('locker.__init__() should not be called')\n",
    "        \n",
    "    @staticmethod\n",
    "    def acquire():\n",
    "        print('locker.acquire() called')\n",
    "        \n",
    "    @staticmethod\n",
    "    def release():\n",
    "        print('locker.release() called')\n",
    "        \n",
    "def dec(cls):\n",
    "    # cls必须实现acquire和release静态方法(不实现好像也行)\n",
    "    def _dec(func):\n",
    "        def wrapper():\n",
    "            print('before {0} called [{1}]'.format(func.__name__, cls))\n",
    "            cls.acquire()\n",
    "            try:\n",
    "                return func()\n",
    "            finally:\n",
    "                cls.release()\n",
    "#             func()\n",
    "        return wrapper\n",
    "    return _dec\n",
    "\n",
    "@dec(locker)\n",
    "def myfunc():\n",
    "    print('myfunc() called')\n",
    "    \n",
    "if __name__ == '__main__':\n",
    "    myfunc()\n",
    "    print('------------------------'*2)\n",
    "    myfunc()"
   ]
  },
  {
   "cell_type": "code",
   "execution_count": null,
   "metadata": {},
   "outputs": [],
   "source": []
  }
 ],
 "metadata": {
  "kernelspec": {
   "display_name": "Python 3",
   "language": "python",
   "name": "python3"
  },
  "language_info": {
   "codemirror_mode": {
    "name": "ipython",
    "version": 3
   },
   "file_extension": ".py",
   "mimetype": "text/x-python",
   "name": "python",
   "nbconvert_exporter": "python",
   "pygments_lexer": "ipython3",
   "version": "3.5.2"
  }
 },
 "nbformat": 4,
 "nbformat_minor": 2
}
