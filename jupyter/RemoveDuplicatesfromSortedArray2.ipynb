{
 "cells": [
  {
   "cell_type": "code",
   "execution_count": 26,
   "metadata": {},
   "outputs": [
    {
     "name": "stdout",
     "output_type": "stream",
     "text": [
      "(0, [])\n"
     ]
    }
   ],
   "source": [
    "def removeDuplicate(nums):\n",
    "    s = {}\n",
    "    ret = 0\n",
    "    new = []\n",
    "    for num in nums:\n",
    "        s[num] = 0\n",
    "    for num in nums:\n",
    "        s[num] += 1\n",
    "\n",
    "    for key, value in s.items():\n",
    "        if value < 3:\n",
    "            ret += value\n",
    "            for i in range(value):\n",
    "                new.append(key)\n",
    "        if value >= 3:\n",
    "            ret += 2\n",
    "            for i in range(2):\n",
    "                new.append(key)\n",
    "    return ret, new\n",
    "    \n",
    "        \n",
    "if __name__ == '__main__':\n",
    "    nums = []\n",
    "    print(removeDuplicate(nums))"
   ]
  },
  {
   "cell_type": "code",
   "execution_count": null,
   "metadata": {},
   "outputs": [],
   "source": []
  }
 ],
 "metadata": {
  "kernelspec": {
   "display_name": "Python 3",
   "language": "python",
   "name": "python3"
  },
  "language_info": {
   "codemirror_mode": {
    "name": "ipython",
    "version": 3
   },
   "file_extension": ".py",
   "mimetype": "text/x-python",
   "name": "python",
   "nbconvert_exporter": "python",
   "pygments_lexer": "ipython3",
   "version": "3.5.2"
  }
 },
 "nbformat": 4,
 "nbformat_minor": 2
}
