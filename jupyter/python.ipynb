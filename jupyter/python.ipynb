{
 "cells": [
  {
   "cell_type": "code",
   "execution_count": 2,
   "metadata": {},
   "outputs": [
    {
     "name": "stdout",
     "output_type": "stream",
     "text": [
      "('the animals is play with the cat', 1)\n"
     ]
    }
   ],
   "source": [
    "import re\n",
    "p = re.compile('dog|cat')\n",
    "a = 'the dog is play with the cat'\n",
    "print(p.subn('animals', a, count=1))"
   ]
  },
  {
   "cell_type": "code",
   "execution_count": 4,
   "metadata": {},
   "outputs": [
    {
     "name": "stdout",
     "output_type": "stream",
     "text": [
      "(0, 5)\n",
      "None\n",
      "(0, 5)\n",
      "(2, 7)\n"
     ]
    }
   ],
   "source": [
    "import re\n",
    "print(re.match('super', 'superstar').span())\n",
    "print(re.match('super', 'unsuperstar'))\n",
    "print(re.search('super', 'superstar').span())\n",
    "print(re.search('super', 'unsuperstar').span())"
   ]
  },
  {
   "cell_type": "code",
   "execution_count": 31,
   "metadata": {},
   "outputs": [
    {
     "name": "stdout",
     "output_type": "stream",
     "text": [
      "2\n",
      "0.05213994293080637\n",
      "1\n",
      "4.20417156914762\n"
     ]
    }
   ],
   "source": [
    "import random\n",
    "\n",
    "a = random.randint(1,3)\n",
    "b = random.random()\n",
    "c = random.randrange(1,10,2)\n",
    "d = random.uniform(1,5)\n",
    "print(a)\n",
    "print(b)\n",
    "print(c)\n",
    "print(d)"
   ]
  },
  {
   "cell_type": "code",
   "execution_count": 9,
   "metadata": {},
   "outputs": [
    {
     "name": "stdout",
     "output_type": "stream",
     "text": [
      "begin\n",
      "2\n",
      "end\n"
     ]
    }
   ],
   "source": [
    "import time\n",
    "import functools\n",
    "\n",
    "def s(s1):\n",
    "    @functools.wraps(s1)\n",
    "    def wrapper():\n",
    "        print('begin')\n",
    "        s1()\n",
    "        print('end')\n",
    "#         starttime = time.time()\n",
    "#         s1()\n",
    "#         endtime = time.time()\n",
    "#         print('time is %d ms' % (endtime - starttime))\n",
    "    return wrapper\n",
    "    \n",
    "@s\n",
    "def s1():\n",
    "    print('2')\n",
    "\n",
    "if __name__ == '__main__':\n",
    "    s1()"
   ]
  },
  {
   "cell_type": "code",
   "execution_count": 46,
   "metadata": {},
   "outputs": [
    {
     "name": "stdout",
     "output_type": "stream",
     "text": [
      "[1, 2, 3, 4, ['a', 'b', 'c'], 5]\n",
      "[1, 2, 3, 4, ['a', 'b', 'c']]\n",
      "[1, 2, 3, 4, ['a', 'b']]\n"
     ]
    }
   ],
   "source": [
    "import copy\n",
    "\n",
    "a = [1, 2, 3, 4, ['a', 'b']]\n",
    "b = copy.copy(a) #拷贝最外围对象本身，内部元素只拷贝一个引用\n",
    "c = copy.deepcopy(a) #外围和内部元素都拷贝对象本身\n",
    "a.append(5)\n",
    "a[4].append('c')\n",
    "print(a)\n",
    "print(b)\n",
    "print(c)"
   ]
  },
  {
   "cell_type": "code",
   "execution_count": 3,
   "metadata": {},
   "outputs": [
    {
     "name": "stdout",
     "output_type": "stream",
     "text": [
      "dog cat\n"
     ]
    }
   ],
   "source": [
    "animals = ['dog', 'cat']\n",
    "result = ' '.join(animals)\n",
    "print(result)"
   ]
  },
  {
   "cell_type": "code",
   "execution_count": 12,
   "metadata": {},
   "outputs": [
    {
     "name": "stdout",
     "output_type": "stream",
     "text": [
      "a\n",
      "b\n"
     ]
    }
   ],
   "source": [
    "D = {'a':1, 'b':2}\n",
    "for k, v in D.items():\n",
    "    print(k)"
   ]
  },
  {
   "cell_type": "code",
   "execution_count": 5,
   "metadata": {},
   "outputs": [
    {
     "name": "stdout",
     "output_type": "stream",
     "text": [
      "2\n",
      "4\n",
      "2\n"
     ]
    }
   ],
   "source": [
    "def fib(n):\n",
    "    a, b = 0, 1\n",
    "    for _ in range(n):\n",
    "        a, b = b, a+b\n",
    "    print(a)\n",
    "   \n",
    "def abnormalFib(n):\n",
    "    if n < 2:\n",
    "        return n\n",
    "    else:\n",
    "        return 2 * abnormalFib(n-1)\n",
    "\n",
    "def jumpFloor(number):\n",
    "    if number < 2:\n",
    "        return number\n",
    "    return jumpFloor(number-1)+jumpFloor(number-2)\n",
    "        \n",
    "    \n",
    "if __name__ == '__main__':\n",
    "    n = 3\n",
    "    fib(n)\n",
    "    print(abnormalFib(n))\n",
    "    print(jumpFloor(n))\n",
    "    "
   ]
  },
  {
   "cell_type": "code",
   "execution_count": 18,
   "metadata": {},
   "outputs": [
    {
     "name": "stdout",
     "output_type": "stream",
     "text": [
      "[1, 4, 9]\n"
     ]
    }
   ],
   "source": [
    "fun = lambda x:x**2\n",
    "print(list(map(fun, [1,2,3])))"
   ]
  },
  {
   "cell_type": "code",
   "execution_count": 27,
   "metadata": {},
   "outputs": [
    {
     "name": "stdout",
     "output_type": "stream",
     "text": [
      "[1, 2, 3, 4, 5, 6]\n",
      "[1, 2, 3, 4, 5, 6]\n",
      "[1, 2, 3, 4, 5, 6]\n"
     ]
    }
   ],
   "source": [
    "s = [1,2,3,3,4,5,5,6]\n",
    "\n",
    "print(list(set(s)))\n",
    "\n",
    "dic = {}\n",
    "dic = dic.fromkeys(s)\n",
    "print(list(dic.keys()))\n",
    "\n",
    "new = []\n",
    "[new.append(i) for i in s if i not in new]\n",
    "print(new)"
   ]
  },
  {
   "cell_type": "code",
   "execution_count": 31,
   "metadata": {},
   "outputs": [
    {
     "name": "stdout",
     "output_type": "stream",
     "text": [
      "0\n",
      "this is a dog\n",
      "this is a string\n"
     ]
    }
   ],
   "source": [
    "word = 'this is a string'\n",
    "print(word.find('this'))\n",
    "print(word.replace('string', 'dog'))\n",
    "print(word)"
   ]
  },
  {
   "cell_type": "code",
   "execution_count": 34,
   "metadata": {},
   "outputs": [
    {
     "data": {
      "text/plain": [
       "True"
      ]
     },
     "execution_count": 34,
     "metadata": {},
     "output_type": "execute_result"
    }
   ],
   "source": [
    "import  webbrowser\n",
    "\n",
    "webbrowser.open(\"https://www.baidu.com\", new = 1)"
   ]
  },
  {
   "cell_type": "code",
   "execution_count": 38,
   "metadata": {},
   "outputs": [
    {
     "name": "stdout",
     "output_type": "stream",
     "text": [
      "['a', 'is', 'string', 'This']\n",
      "1\n"
     ]
    }
   ],
   "source": [
    "words = ['This', 'is', 'a', 'string']\n",
    "words.sort(key=lambda x:x.lower())\n",
    "print(words)\n",
    "print(words.index('is'))"
   ]
  },
  {
   "cell_type": "code",
   "execution_count": 41,
   "metadata": {},
   "outputs": [
    {
     "name": "stdout",
     "output_type": "stream",
     "text": [
      "enter a number: 12\n",
      "large\n"
     ]
    }
   ],
   "source": [
    "num = input('enter a number: ')\n",
    "if int(num) > 10:\n",
    "    print('large')\n",
    "else:\n",
    "    print('small')"
   ]
  },
  {
   "cell_type": "code",
   "execution_count": 46,
   "metadata": {},
   "outputs": [
    {
     "name": "stdout",
     "output_type": "stream",
     "text": [
      "[4, 5, 2]\n",
      "3\n",
      "[3, 5, 4, 2, 1]\n"
     ]
    }
   ],
   "source": [
    "import  random\n",
    "\n",
    "l = [1,2,3,4,5]\n",
    "print(random.sample(l,3))\n",
    "print(random.choice(l))\n",
    "random.shuffle(l)\n",
    "print(l)"
   ]
  },
  {
   "cell_type": "code",
   "execution_count": 49,
   "metadata": {},
   "outputs": [
    {
     "name": "stdout",
     "output_type": "stream",
     "text": [
      "[['cd', 'ab'], ['ef', 'ac']]\n"
     ]
    }
   ],
   "source": [
    "def sortList(l, model, idx):\n",
    "    if model == 'DESC':\n",
    "        l.sort(key = lambda x:x[idx], reverse = True)\n",
    "    else:\n",
    "        l.sort(key = lambda x:x[idx])\n",
    "    return l\n",
    "\n",
    "if __name__ == '__main__':\n",
    "    l = [['cd', 'ab'], ['ef', 'ac']]\n",
    "    print(sortList(l, 'ASC', 1))"
   ]
  },
  {
   "cell_type": "code",
   "execution_count": 51,
   "metadata": {},
   "outputs": [
    {
     "name": "stdout",
     "output_type": "stream",
     "text": [
      "1\n",
      "2\n",
      "2\n",
      "2\n",
      "2\n",
      "1\n",
      "1\n"
     ]
    }
   ],
   "source": [
    "l = [1,2,3,2,3,4,5]\n",
    "for i in l:\n",
    "    print(l.count(i))"
   ]
  },
  {
   "cell_type": "code",
   "execution_count": 6,
   "metadata": {},
   "outputs": [
    {
     "name": "stdout",
     "output_type": "stream",
     "text": [
      "{1: 1, 2: 2, 3: 3}\n",
      "0 1\n",
      "1 2\n",
      "2 3\n"
     ]
    }
   ],
   "source": [
    "key = {1,2,3}\n",
    "value = {1,2,3}\n",
    "dic = {key:value for key,value in zip(key, value)}\n",
    "print(dic)\n",
    "for key,value in enumerate(key):\n",
    "    print(key, value)"
   ]
  },
  {
   "cell_type": "code",
   "execution_count": 7,
   "metadata": {},
   "outputs": [
    {
     "name": "stdout",
     "output_type": "stream",
     "text": [
      "{'_Solution__superprivate': 'hello', '_semiprivate': 'world'}\n"
     ]
    }
   ],
   "source": [
    "class Solution:\n",
    "    def __init__(self):\n",
    "        self.__superprivate = 'hello'\n",
    "        self._semiprivate = 'world'\n",
    "        \n",
    "hi = Solution()\n",
    "# print(_Solution__superprivate)\n",
    "print(hi.__dict__)"
   ]
  },
  {
   "cell_type": "code",
   "execution_count": 2,
   "metadata": {},
   "outputs": [
    {
     "name": "stdout",
     "output_type": "stream",
     "text": [
      "hi there is 1\n",
      "hi there is (1, 2, 3)\n",
      "hi there is (1, 2, 3)\n",
      "hi there is (1, 2, 3) (1, 2, 3)\n"
     ]
    },
    {
     "ename": "TypeError",
     "evalue": "not all arguments converted during string formatting",
     "output_type": "error",
     "traceback": [
      "\u001b[1;31m---------------------------------------------------------------------------\u001b[0m",
      "\u001b[1;31mTypeError\u001b[0m                                 Traceback (most recent call last)",
      "\u001b[1;32m<ipython-input-2-c06a157bf31e>\u001b[0m in \u001b[0;36m<module>\u001b[1;34m()\u001b[0m\n\u001b[0;32m      5\u001b[0m \u001b[0mprint\u001b[0m\u001b[1;33m(\u001b[0m\u001b[1;34m'hi there is {0}'\u001b[0m\u001b[1;33m.\u001b[0m\u001b[0mformat\u001b[0m\u001b[1;33m(\u001b[0m\u001b[0mname\u001b[0m\u001b[1;33m)\u001b[0m\u001b[1;33m)\u001b[0m\u001b[1;33m\u001b[0m\u001b[0m\n\u001b[0;32m      6\u001b[0m \u001b[0mprint\u001b[0m\u001b[1;33m(\u001b[0m\u001b[1;34m'hi there is {0} {1}'\u001b[0m\u001b[1;33m.\u001b[0m\u001b[0mformat\u001b[0m\u001b[1;33m(\u001b[0m\u001b[0mname\u001b[0m\u001b[1;33m,\u001b[0m \u001b[0mname\u001b[0m\u001b[1;33m)\u001b[0m\u001b[1;33m)\u001b[0m\u001b[1;33m\u001b[0m\u001b[0m\n\u001b[1;32m----> 7\u001b[1;33m \u001b[0mprint\u001b[0m\u001b[1;33m(\u001b[0m\u001b[1;34m'hi there is %s'\u001b[0m \u001b[1;33m%\u001b[0m \u001b[0mname\u001b[0m\u001b[1;33m)\u001b[0m\u001b[1;33m\u001b[0m\u001b[0m\n\u001b[0m",
      "\u001b[1;31mTypeError\u001b[0m: not all arguments converted during string formatting"
     ]
    }
   ],
   "source": [
    "# %参数是元组会出错，除了改成单元素的数组\n",
    "name = 1\n",
    "print('hi there is %s' % name)\n",
    "name = (1,2,3)\n",
    "print('hi there is %s' % (name,)) # 提供一个单元素的数组，而不是参数\n",
    "print('hi there is {0}'.format(name))\n",
    "print('hi there is {0} {1}'.format(name, name))\n",
    "print('hi there is %s' % name)"
   ]
  },
  {
   "cell_type": "code",
   "execution_count": 20,
   "metadata": {},
   "outputs": [
    {
     "name": "stdout",
     "output_type": "stream",
     "text": [
      "generator:\n",
      "0\n",
      "1\n",
      "4\n",
      "Iterator:\n",
      "0\n",
      "1\n",
      "4\n",
      "0\n",
      "1\n",
      "4\n"
     ]
    }
   ],
   "source": [
    "print('generator:')\n",
    "mygenerator = (x*x for x in range(3))\n",
    "for i in mygenerator:\n",
    "    print(i)\n",
    "for i in mygenerator:  # 生成器只能使用一次\n",
    "    print(i)\n",
    "    \n",
    "print('Iterator:')   \n",
    "myiterator = [x*x for x in range(3)]\n",
    "for i in myiterator:\n",
    "    print(i)\n",
    "for i in myiterator:\n",
    "    print(i)"
   ]
  },
  {
   "cell_type": "code",
   "execution_count": 22,
   "metadata": {},
   "outputs": [
    {
     "name": "stdout",
     "output_type": "stream",
     "text": [
      "<class '__main__.Solution'>\n",
      "<class '__main__.Solution'>\n"
     ]
    }
   ],
   "source": [
    "class Solution:\n",
    "    pass\n",
    "\n",
    "a = Solution()\n",
    "print(type(a))\n",
    "print(a.__class__)"
   ]
  },
  {
   "cell_type": "code",
   "execution_count": 5,
   "metadata": {},
   "outputs": [
    {
     "name": "stdout",
     "output_type": "stream",
     "text": [
      "二进制 位运算\n",
      "基本算法与数据结构\n",
      "git, markdown\n",
      "关系型数据库（RDMS）设计\n",
      "统计学基本方法\n",
      "\n",
      "NLP\n",
      "日志收集与分析\n",
      "Spark/Hadoop\n",
      "Elasticsearch\n",
      "机器学习\n",
      "Docker\n",
      "Linux\n",
      "\n",
      "5大算法 计算机网络 机器学习 数理统计 位运算 二进制\n",
      "\n",
      "有1000瓶水，其中一瓶有毒药，已知一只小白鼠喝过毒药后一天之内会死亡，现在给你一天时间，求最少需要多少只小白鼠才能判断出哪瓶是毒药。第一题很简单，二进制思想，答案是10。第二题是在第一题的基础上，把时间从一天改为两天。稍微思考一下也不是很困难，三进制的思想，答案是7只\n",
      "\n",
      "hadoop的mapreduce, hbase, hive->spark\n",
      "\n",
      "项目：前端 Ajax channels\n",
      "Linux基本操作\n",
      "matplotlib绘图\n",
      "ML的一些算法原理\n"
     ]
    }
   ],
   "source": [
    "with open('C:\\\\Users\\\\Administrator\\\\Desktop\\\\1.txt', 'r') as f:\n",
    "    for line in f.readlines():\n",
    "        line = line.strip()\n",
    "        print(line)"
   ]
  },
  {
   "cell_type": "code",
   "execution_count": 19,
   "metadata": {},
   "outputs": [
    {
     "name": "stdout",
     "output_type": "stream",
     "text": [
      "D\n",
      "B\n",
      "C\n",
      "A\n",
      "(<class '__main__.D'>, <class '__main__.B'>, <class '__main__.C'>, <class '__main__.A'>, <class 'object'>)\n"
     ]
    }
   ],
   "source": [
    "class A():\n",
    "    def output(self):\n",
    "        print('A')\n",
    "\n",
    "class B(A):\n",
    "    def output(self):\n",
    "        print('B')\n",
    "#         A.output(self)\n",
    "        super(B, self).output()\n",
    "#         super().output()\n",
    "    \n",
    "class C(A):\n",
    "    def output(self):\n",
    "        print('C')\n",
    "#         A.output(self)\n",
    "        super(C, self).output()\n",
    "    \n",
    "class D(B, C):\n",
    "    def output(self):\n",
    "        print('D')\n",
    "#         B.output(self)\n",
    "#         C.output(self)\n",
    "        super(D, self).output()\n",
    "    \n",
    "if __name__ == '__main__':\n",
    "    d = D()\n",
    "    d.output()\n",
    "    print(D.__mro__)"
   ]
  },
  {
   "cell_type": "code",
   "execution_count": 35,
   "metadata": {},
   "outputs": [
    {
     "name": "stdout",
     "output_type": "stream",
     "text": [
      "0\n",
      "1\n",
      "2\n",
      "3\n",
      "4\n"
     ]
    }
   ],
   "source": [
    "def countTo(n):\n",
    "    for i in range(n):\n",
    "        yield i\n",
    "        \n",
    "countTo_five = lambda: countTo(5)\n",
    "\n",
    "# for number in countTo_five():\n",
    "#     print(number)\n",
    "a = countTo(5)\n",
    "for i in range(5):\n",
    "    print(next(a))"
   ]
  },
  {
   "cell_type": "code",
   "execution_count": 2,
   "metadata": {},
   "outputs": [
    {
     "name": "stdout",
     "output_type": "stream",
     "text": [
      "2\n",
      "2\n",
      "1\n",
      "1\n"
     ]
    }
   ],
   "source": [
    "l = [1,1,2,3]\n",
    "for i in l:\n",
    "    print(l.count(i))"
   ]
  },
  {
   "cell_type": "code",
   "execution_count": 8,
   "metadata": {},
   "outputs": [
    {
     "name": "stdout",
     "output_type": "stream",
     "text": [
      "2\n",
      "2\n",
      "3\n",
      "(0.5, 2.0)\n",
      "3.333\n"
     ]
    }
   ],
   "source": [
    "import math\n",
    "print(int(5/2))\n",
    "print(5//2)\n",
    "print(math.ceil(5/2))\n",
    "print(math.modf(5/2))\n",
    "print(round(10/3, 3))"
   ]
  },
  {
   "cell_type": "code",
   "execution_count": null,
   "metadata": {},
   "outputs": [],
   "source": []
  }
 ],
 "metadata": {
  "kernelspec": {
   "display_name": "Python 3",
   "language": "python",
   "name": "python3"
  },
  "language_info": {
   "codemirror_mode": {
    "name": "ipython",
    "version": 3
   },
   "file_extension": ".py",
   "mimetype": "text/x-python",
   "name": "python",
   "nbconvert_exporter": "python",
   "pygments_lexer": "ipython3",
   "version": "3.5.2"
  }
 },
 "nbformat": 4,
 "nbformat_minor": 2
}
