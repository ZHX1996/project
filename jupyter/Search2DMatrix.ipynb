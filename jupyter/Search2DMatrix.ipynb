{
 "cells": [
  {
   "cell_type": "code",
   "execution_count": 62,
   "metadata": {},
   "outputs": [
    {
     "name": "stdout",
     "output_type": "stream",
     "text": [
      "True\n"
     ]
    }
   ],
   "source": [
    "def searchMatrix(matrix, target):\n",
    "    if not matrix or target is None:\n",
    "        return False\n",
    "    m, n = len(matrix), len(matrix[0])\n",
    "    if m == 0 or n == 0:\n",
    "        return False\n",
    "    \n",
    "    for i in range(m):\n",
    "        if target == matrix[i][0]:\n",
    "            return True\n",
    "        if target < matrix[i][0]:\n",
    "            break\n",
    "#     print(i)\n",
    "#     print(m-1)\n",
    "#     # target在最后一行时不用减\n",
    "#     if i < m-1:\n",
    "#         i -= 1\n",
    "\n",
    "    for j in range(n):\n",
    "#         print(matrix[i][j])\n",
    "        if target == matrix[i-1][j]:\n",
    "            return True\n",
    "        # 当target在最后一行和倒数第二行时，i都等于m-1，所以直接判断是否在最后一行\n",
    "        if target == matrix[m-1][j]:\n",
    "            return True\n",
    "    return False\n",
    "    \n",
    "    \n",
    "if __name__ == '__main__':\n",
    "    matrix = [[1,3,5,7], [10,11,16,20], [23,30,34,50]]\n",
    "    matrix1 = [[1], [3]]\n",
    "    target = 11\n",
    "    print(searchMatrix(matrix, target))"
   ]
  },
  {
   "cell_type": "code",
   "execution_count": null,
   "metadata": {},
   "outputs": [],
   "source": []
  }
 ],
 "metadata": {
  "kernelspec": {
   "display_name": "Python 3",
   "language": "python",
   "name": "python3"
  },
  "language_info": {
   "codemirror_mode": {
    "name": "ipython",
    "version": 3
   },
   "file_extension": ".py",
   "mimetype": "text/x-python",
   "name": "python",
   "nbconvert_exporter": "python",
   "pygments_lexer": "ipython3",
   "version": "3.5.2"
  }
 },
 "nbformat": 4,
 "nbformat_minor": 2
}
