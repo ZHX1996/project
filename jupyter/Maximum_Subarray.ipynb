{
 "cells": [
  {
   "cell_type": "code",
   "execution_count": 3,
   "metadata": {},
   "outputs": [
    {
     "name": "stdout",
     "output_type": "stream",
     "text": [
      "6\n"
     ]
    }
   ],
   "source": [
    "def find(s):\n",
    "    k = len(s)\n",
    "    ret = s[0]\n",
    "    ar = ret\n",
    "    for i in range(k):\n",
    "        for j in range(k-i):\n",
    "            if sum(s[i:i+j]) > ret:\n",
    "                ar = s[i:i+j]\n",
    "                ret = sum(s[i:i+j])\n",
    "    return ret\n",
    "\n",
    "if __name__ == '__main__':\n",
    "    s = [-2, 1, -3, 4, -1, 2, 1, -5, 4]\n",
    "    print(find(s))\n",
    "    "
   ]
  },
  {
   "cell_type": "code",
   "execution_count": 2,
   "metadata": {},
   "outputs": [
    {
     "name": "stdout",
     "output_type": "stream",
     "text": [
      "6\n"
     ]
    }
   ],
   "source": [
    "def maxim(s):\n",
    "    if not s:\n",
    "        return 0\n",
    "    \n",
    "    curSum = s[0]\n",
    "    maxSum = s[0]\n",
    "    for i in s[1:]:\n",
    "        curSum = max(curSum+i, i)\n",
    "        maxSum = max(curSum, maxSum)\n",
    "    return maxSum\n",
    "\n",
    "if __name__ == '__main__':\n",
    "    s = [-2, 1, -3, 4, -1, 2, 1, -5, 4]\n",
    "    print(maxim(s))"
   ]
  },
  {
   "cell_type": "code",
   "execution_count": null,
   "metadata": {},
   "outputs": [],
   "source": []
  }
 ],
 "metadata": {
  "kernelspec": {
   "display_name": "Python 3",
   "language": "python",
   "name": "python3"
  },
  "language_info": {
   "codemirror_mode": {
    "name": "ipython",
    "version": 3
   },
   "file_extension": ".py",
   "mimetype": "text/x-python",
   "name": "python",
   "nbconvert_exporter": "python",
   "pygments_lexer": "ipython3",
   "version": "3.5.2"
  }
 },
 "nbformat": 4,
 "nbformat_minor": 2
}
