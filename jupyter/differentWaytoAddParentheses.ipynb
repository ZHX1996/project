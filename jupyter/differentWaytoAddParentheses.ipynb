{
 "cells": [
  {
   "cell_type": "code",
   "execution_count": 31,
   "metadata": {},
   "outputs": [
    {
     "name": "stdout",
     "output_type": "stream",
     "text": [
      "[-34, -10, -14, -10, 10]\n"
     ]
    }
   ],
   "source": [
    "import re\n",
    "import operator\n",
    "def diffWaysToCompute(input):\n",
    "    return [a+b if c=='+' else a-b if c=='-' else a*b\n",
    "           for i, c in enumerate(input) if c in '+-*'\n",
    "           for a in diffWaysToCompute(input[:i])\n",
    "           for b in diffWaysToCompute(input[i+1:])] or [int(input)]\n",
    "\n",
    "#     tokens = re.split('(\\D)', input)\n",
    "#     nums = map(int, tokens[::2])\n",
    "#     ops = map({'+': operator.add, '-': operator.sub, '*': operator.mul}.get, tokens[1::2])\n",
    "#     print(tokens)\n",
    "#     for i in nums:\n",
    "#         print(i)\n",
    "#     for i in ops:\n",
    "#         print(i)\n",
    "\n",
    "\n",
    "if __name__ == '__main__':\n",
    "    input = '2*3-4*5'\n",
    "    print(diffWaysToCompute(input))"
   ]
  },
  {
   "cell_type": "code",
   "execution_count": 3,
   "metadata": {},
   "outputs": [
    {
     "name": "stdout",
     "output_type": "stream",
     "text": [
      "0 1\n",
      "1 -\n",
      "2 1\n",
      "3 -\n",
      "4 1\n"
     ]
    }
   ],
   "source": [
    "for i, c in enumerate('1-1-1'):\n",
    "    print(i, c)"
   ]
  },
  {
   "cell_type": "code",
   "execution_count": 30,
   "metadata": {},
   "outputs": [
    {
     "name": "stdout",
     "output_type": "stream",
     "text": [
      "['2', '3', '4', '5']\n",
      "[1, 3, 5]\n"
     ]
    }
   ],
   "source": [
    "l = ['2', '*', '3', '-', '4', '*', '5']\n",
    "print(l[::2])\n",
    "s = [1,2,3,4,5]\n",
    "print(s[::2])"
   ]
  },
  {
   "cell_type": "code",
   "execution_count": null,
   "metadata": {},
   "outputs": [],
   "source": []
  }
 ],
 "metadata": {
  "kernelspec": {
   "display_name": "Python 3",
   "language": "python",
   "name": "python3"
  },
  "language_info": {
   "codemirror_mode": {
    "name": "ipython",
    "version": 3
   },
   "file_extension": ".py",
   "mimetype": "text/x-python",
   "name": "python",
   "nbconvert_exporter": "python",
   "pygments_lexer": "ipython3",
   "version": "3.5.2"
  }
 },
 "nbformat": 4,
 "nbformat_minor": 2
}
