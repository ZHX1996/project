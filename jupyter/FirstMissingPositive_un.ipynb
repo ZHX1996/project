{
 "cells": [
  {
   "cell_type": "code",
   "execution_count": 5,
   "metadata": {},
   "outputs": [
    {
     "name": "stdout",
     "output_type": "stream",
     "text": [
      "2\n"
     ]
    }
   ],
   "source": [
    "def Missing(nums):\n",
    "    L = len(nums)\n",
    "    i = 0\n",
    "    while i < L:\n",
    "        current = nums[i]\n",
    "        if current <= 0 or current > L or nums[current-1]==current:\n",
    "            i+=1\n",
    "        else:\n",
    "            nums[current-1], nums[i] = nums[i], nums[current-1]\n",
    "    for m in range(len(nums)):\n",
    "        if nums[m] != m+1:\n",
    "            return m+1\n",
    "    return L+1\n",
    "        \n",
    "\n",
    "if __name__ == '__main__':\n",
    "    nums = [3,4,-1,1]\n",
    "    print(Missing(nums))"
   ]
  },
  {
   "cell_type": "code",
   "execution_count": null,
   "metadata": {},
   "outputs": [],
   "source": []
  }
 ],
 "metadata": {
  "kernelspec": {
   "display_name": "Python 3",
   "language": "python",
   "name": "python3"
  },
  "language_info": {
   "codemirror_mode": {
    "name": "ipython",
    "version": 3
   },
   "file_extension": ".py",
   "mimetype": "text/x-python",
   "name": "python",
   "nbconvert_exporter": "python",
   "pygments_lexer": "ipython3",
   "version": "3.5.2"
  }
 },
 "nbformat": 4,
 "nbformat_minor": 2
}
