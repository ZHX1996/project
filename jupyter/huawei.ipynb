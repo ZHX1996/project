{
 "cells": [
  {
   "cell_type": "code",
   "execution_count": 30,
   "metadata": {},
   "outputs": [
    {
     "name": "stdout",
     "output_type": "stream",
     "text": [
      "['2', 'e', 'f', 'g', 'h']\n",
      "{'h': 4, 'f': 2, '2': 2, 'e': 3, 'g': 2}\n"
     ]
    }
   ],
   "source": [
    "def solu(s):\n",
    "#     ret = [s[0]]\n",
    "#     cache = [0]\n",
    "#     while True:\n",
    "#         if len(cache) >= len(s)-1:\n",
    "#             break\n",
    "#         for i, j in enumerate(s):\n",
    "#             if j != ret[-1] and i not in cache:\n",
    "#                 ret.append(j)\n",
    "#                 cache.append(i)\n",
    "#     for i in range(len(s)):\n",
    "#         if i not in cache:\n",
    "#             ret.append(s[i])\n",
    "#     return ret\n",
    "    li = []\n",
    "    for i in s:\n",
    "        li.append(i)\n",
    "    dic0 = list(set(li))\n",
    "    dic0.sort()\n",
    "    \n",
    "    \n",
    "    for i in s:\n",
    "        dic1[i]+=1\n",
    "    \n",
    "    print(dic1)\n",
    "    \n",
    "if __name__ == '__main__':\n",
    "    s = 'eeeffgg22hhhh'\n",
    "    solu(s)"
   ]
  },
  {
   "cell_type": "code",
   "execution_count": null,
   "metadata": {},
   "outputs": [],
   "source": []
  }
 ],
 "metadata": {
  "kernelspec": {
   "display_name": "Python 3",
   "language": "python",
   "name": "python3"
  },
  "language_info": {
   "codemirror_mode": {
    "name": "ipython",
    "version": 3
   },
   "file_extension": ".py",
   "mimetype": "text/x-python",
   "name": "python",
   "nbconvert_exporter": "python",
   "pygments_lexer": "ipython3",
   "version": "3.5.2"
  }
 },
 "nbformat": 4,
 "nbformat_minor": 2
}
