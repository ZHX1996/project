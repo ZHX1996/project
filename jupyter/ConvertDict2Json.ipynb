{
 "cells": [
  {
   "cell_type": "code",
   "execution_count": 14,
   "metadata": {},
   "outputs": [
    {
     "name": "stdout",
     "output_type": "stream",
     "text": [
      "{\"user\": [{\"id\": 1, \"number\": 10}, {\"id\": 2, \"number\": 10}, {\"id\": 3, \"number\": 10}, {\"id\": 4, \"number\": 10}, {\"id\": 5, \"number\": 10}, {\"id\": 6, \"number\": 10}, {\"id\": 7, \"number\": 10}, {\"id\": 8, \"number\": 10}, {\"id\": 9, \"number\": 10}, {\"id\": 10, \"number\": 10}]}\n"
     ]
    }
   ],
   "source": [
    "import json\n",
    "\n",
    "def convert(dic):\n",
    "    ret = {}\n",
    "    li = []\n",
    "    for key, value in dic.items():\n",
    "        ret['id'] = key\n",
    "        ret['number'] = value\n",
    "        li.append(ret)\n",
    "        ret = {}\n",
    "    ret['user'] = li\n",
    "    return json.dumps(ret)\n",
    "    \n",
    "    \n",
    "if __name__ == '__main__':\n",
    "    dic = {1: 10, 2: 10, 3: 10, 4: 10, 5: 10, 6: 10, 7: 10, 8: 10, 9: 10, 10: 10}\n",
    "    print(convert(dic))\n",
    "        "
   ]
  },
  {
   "cell_type": "code",
   "execution_count": null,
   "metadata": {},
   "outputs": [],
   "source": []
  }
 ],
 "metadata": {
  "kernelspec": {
   "display_name": "Python 3",
   "language": "python",
   "name": "python3"
  },
  "language_info": {
   "codemirror_mode": {
    "name": "ipython",
    "version": 3
   },
   "file_extension": ".py",
   "mimetype": "text/x-python",
   "name": "python",
   "nbconvert_exporter": "python",
   "pygments_lexer": "ipython3",
   "version": "3.5.2"
  }
 },
 "nbformat": 4,
 "nbformat_minor": 2
}
