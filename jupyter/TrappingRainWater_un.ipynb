{
 "cells": [
  {
   "cell_type": "code",
   "execution_count": 12,
   "metadata": {},
   "outputs": [
    {
     "name": "stdout",
     "output_type": "stream",
     "text": [
      "6\n"
     ]
    }
   ],
   "source": [
    "def trapping(l):\n",
    "    ans = 0\n",
    "    size = len(l)\n",
    "    left_max = [None]*(size)\n",
    "    right_max = [None]*(size)\n",
    "    left_max[0] = l[0]\n",
    "    for i in range(1,size-1):\n",
    "        left_max[i] = max(l[i], left_max[i-1])\n",
    "    right_max[size-1] = l[size-1]\n",
    "    for i in range(size-2, 0, -1):\n",
    "        right_max[i] = max(l[i], right_max[i+1])\n",
    "    for i in range(1, size-1):\n",
    "        ans += min(left_max[i], right_max[i]) - l[i]\n",
    "    return ans\n",
    "\n",
    "def trapping01(l):\n",
    "    \n",
    "    \n",
    "if __name__ == '__main__':\n",
    "    l = [0,1,0,2,1,0,1,3,2,1,2,1]\n",
    "    print(trapping(l))"
   ]
  },
  {
   "cell_type": "code",
   "execution_count": null,
   "metadata": {},
   "outputs": [],
   "source": []
  }
 ],
 "metadata": {
  "kernelspec": {
   "display_name": "Python 3",
   "language": "python",
   "name": "python3"
  },
  "language_info": {
   "codemirror_mode": {
    "name": "ipython",
    "version": 3
   },
   "file_extension": ".py",
   "mimetype": "text/x-python",
   "name": "python",
   "nbconvert_exporter": "python",
   "pygments_lexer": "ipython3",
   "version": "3.5.2"
  }
 },
 "nbformat": 4,
 "nbformat_minor": 2
}
