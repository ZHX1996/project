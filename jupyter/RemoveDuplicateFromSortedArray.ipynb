{
 "cells": [
  {
   "cell_type": "code",
   "execution_count": 2,
   "metadata": {},
   "outputs": [
    {
     "name": "stdout",
     "output_type": "stream",
     "text": [
      "[1, 2, 3]\n"
     ]
    }
   ],
   "source": [
    "def RemoveDuplicate(l):\n",
    "    i=0\n",
    "    while i < len(l)-1:\n",
    "        if l[i] == l[i+1]:\n",
    "#             del l[i]\n",
    "            l.pop(i)\n",
    "        else:\n",
    "            i+=1\n",
    "    print(l)\n",
    "\n",
    "if __name__ == '__main__':\n",
    "    l = [1,1,2,3]\n",
    "    RemoveDuplicate(l)"
   ]
  },
  {
   "cell_type": "code",
   "execution_count": 6,
   "metadata": {},
   "outputs": [
    {
     "name": "stdout",
     "output_type": "stream",
     "text": [
      "[1, 2, 3]\n",
      "[1, 2, 3]\n"
     ]
    }
   ],
   "source": [
    "l = [1,1,2,3]\n",
    "print(list(set(l)))\n",
    "\n",
    "d = {}\n",
    "d = d.fromkeys(l)\n",
    "print(list(d.keys()))"
   ]
  },
  {
   "cell_type": "code",
   "execution_count": null,
   "metadata": {},
   "outputs": [],
   "source": []
  }
 ],
 "metadata": {
  "kernelspec": {
   "display_name": "Python 3",
   "language": "python",
   "name": "python3"
  },
  "language_info": {
   "codemirror_mode": {
    "name": "ipython",
    "version": 3
   },
   "file_extension": ".py",
   "mimetype": "text/x-python",
   "name": "python",
   "nbconvert_exporter": "python",
   "pygments_lexer": "ipython3",
   "version": "3.5.2"
  }
 },
 "nbformat": 4,
 "nbformat_minor": 2
}
